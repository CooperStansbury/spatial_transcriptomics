{
 "cells": [
  {
   "cell_type": "code",
   "execution_count": 1,
   "id": "794224bf-cf84-4863-aa6b-7b73c85ada6c",
   "metadata": {},
   "outputs": [
    {
     "name": "stderr",
     "output_type": "stream",
     "text": [
      "2023-03-31 14:34:47.610022: I tensorflow/core/platform/cpu_feature_guard.cc:193] This TensorFlow binary is optimized with oneAPI Deep Neural Network Library (oneDNN) to use the following CPU instructions in performance-critical operations:  AVX2 AVX512F FMA\n",
      "To enable them in other operations, rebuild TensorFlow with the appropriate compiler flags.\n",
      "2023-03-31 14:34:47.741369: W tensorflow/stream_executor/platform/default/dso_loader.cc:64] Could not load dynamic library 'libcudart.so.11.0'; dlerror: libcudart.so.11.0: cannot open shared object file: No such file or directory; LD_LIBRARY_PATH: /opt/slurm/lib64:\n",
      "2023-03-31 14:34:47.741390: I tensorflow/stream_executor/cuda/cudart_stub.cc:29] Ignore above cudart dlerror if you do not have a GPU set up on your machine.\n",
      "2023-03-31 14:34:47.767595: E tensorflow/stream_executor/cuda/cuda_blas.cc:2981] Unable to register cuBLAS factory: Attempting to register factory for plugin cuBLAS when one has already been registered\n",
      "2023-03-31 14:34:50.602405: W tensorflow/stream_executor/platform/default/dso_loader.cc:64] Could not load dynamic library 'libnvinfer.so.7'; dlerror: libnvinfer.so.7: cannot open shared object file: No such file or directory; LD_LIBRARY_PATH: /opt/slurm/lib64:\n",
      "2023-03-31 14:34:50.602885: W tensorflow/stream_executor/platform/default/dso_loader.cc:64] Could not load dynamic library 'libnvinfer_plugin.so.7'; dlerror: libnvinfer_plugin.so.7: cannot open shared object file: No such file or directory; LD_LIBRARY_PATH: /opt/slurm/lib64:\n",
      "2023-03-31 14:34:50.602893: W tensorflow/compiler/tf2tensorrt/utils/py_utils.cc:38] TF-TRT Warning: Cannot dlopen some TensorRT libraries. If you would like to use Nvidia GPU with TensorRT, please make sure the missing libraries mentioned above are installed properly.\n"
     ]
    },
    {
     "data": {
      "text/plain": [
       "<module 'utils' from '/home/cstansbu/git_repositories/spatial_transcriptomics/clustering/clustering/../utils.py'>"
      ]
     },
     "execution_count": 1,
     "metadata": {},
     "output_type": "execute_result"
    }
   ],
   "source": [
    "import os\n",
    "import pandas as pd\n",
    "import numpy as np\n",
    "import matplotlib \n",
    "import matplotlib.pyplot as plt\n",
    "import seaborn as sns\n",
    "from textwrap import wrap\n",
    "import scipy\n",
    "from mpl_toolkits.axes_grid1.axes_divider import make_axes_locatable\n",
    "from sklearn import metrics\n",
    "import itertools\n",
    "from sklearn.decomposition import PCA\n",
    "from sklearn.preprocessing import MinMaxScaler\n",
    "from scipy.sparse import csgraph\n",
    "import umap\n",
    "from sklearn import linear_model\n",
    "from collections import Counter\n",
    "import sklearn\n",
    "import scipy.stats as sps\n",
    "from scipy.spatial.distance import cdist\n",
    "from importlib import reload\n",
    "import mygene\n",
    "import sys\n",
    "import gget\n",
    "\n",
    "# locals\n",
    "sys.path.append(\"../\")\n",
    "import utils as ut\n",
    "reload(ut)"
   ]
  },
  {
   "cell_type": "code",
   "execution_count": 2,
   "id": "7b462dc9-acc6-4f35-aafe-8c186af99a6a",
   "metadata": {},
   "outputs": [
    {
     "name": "stdout",
     "output_type": "stream",
     "text": [
      "ND...\n",
      "HFD8...\n"
     ]
    },
    {
     "name": "stderr",
     "output_type": "stream",
     "text": [
      "IOStream.flush timed out\n"
     ]
    },
    {
     "name": "stdout",
     "output_type": "stream",
     "text": [
      "HFD14...\n"
     ]
    },
    {
     "name": "stderr",
     "output_type": "stream",
     "text": [
      "IOStream.flush timed out\n"
     ]
    },
    {
     "name": "stdout",
     "output_type": "stream",
     "text": [
      "done\n"
     ]
    }
   ],
   "source": [
    "cardDir =  \"/nfs/turbo/umms-indikar/shared/projects/spatial_transcriptomics/data/CARDInputs/\"\n",
    "xyPath =  \"/nfs/turbo/umms-indikar/shared/projects/spatial_transcriptomics/data/combinedEmbedding.csv\"\n",
    "xy = pd.read_csv(xyPath)\n",
    "cTypes = sorted(list(xy['cellTypes'].unique()))\n",
    "xy['metaTypes'] = xy['cellTypes']\n",
    "\n",
    "macTypes = [\n",
    "    \"Mac1\",\n",
    "    \"Mac2\",\n",
    "    \"Mac3\", \n",
    "    \"Mac4\",\n",
    "    \"Mac5\",\n",
    "]\n",
    "\n",
    "genes = [\n",
    "    \"CD9\",\n",
    "    \"ITGAX\",\n",
    "    \"MRC1\",\n",
    "    \"LGALS3\",\n",
    "    \"MMP12\",\n",
    "    \"TREM2\",\n",
    "]\n",
    "\n",
    "\n",
    "keys = ['ND', 'HFD8', 'HFD14']\n",
    "\n",
    "df = []\n",
    "rna = {}\n",
    "\n",
    "for key in keys:\n",
    "    print(f\"{key}...\")\n",
    "    labelPath = f\"{cardDir}{key}_macrophage_clusters.csv\"\n",
    "    lf = pd.read_csv(labelPath)\n",
    "    lf = lf[lf['cellType'].isin(macTypes)]\n",
    "    \n",
    "    lf = pd.merge(lf, xy[['x', 'y', 'cellId', 'colors', 'metaTypes']], \n",
    "                  how='left',\n",
    "                  left_on='cellId',\n",
    "                  right_on='cellId')\n",
    "    \n",
    "    df.append(lf)\n",
    "    \n",
    "    rnaPath = f\"{cardDir}{key}_macrophage_rna.csv\"\n",
    "    rf = pd.read_csv(rnaPath)\n",
    "    rf = rf.T\n",
    "\n",
    "    \n",
    "    new_header = rf.iloc[0] \n",
    "    rf = rf[1:] \n",
    "    rf.columns = new_header \n",
    "    rf.index.names = ['cellId']\n",
    "    rf = rf[rf.index.isin(lf['cellId'].to_list())]\n",
    "    rf = rf[genes]\n",
    "    \n",
    "    rf = ut.normalize(rf, 1e6)\n",
    "    \n",
    "    rna[key] = rf\n",
    "    \n",
    "\n",
    "df = pd.concat(df)\n",
    "print('done')"
   ]
  },
  {
   "cell_type": "code",
   "execution_count": 3,
   "id": "77989185-5991-45d5-9db0-868931845bea",
   "metadata": {},
   "outputs": [
    {
     "data": {
      "text/html": [
       "<div>\n",
       "<style scoped>\n",
       "    .dataframe tbody tr th:only-of-type {\n",
       "        vertical-align: middle;\n",
       "    }\n",
       "\n",
       "    .dataframe tbody tr th {\n",
       "        vertical-align: top;\n",
       "    }\n",
       "\n",
       "    .dataframe thead th {\n",
       "        text-align: right;\n",
       "    }\n",
       "</style>\n",
       "<table border=\"1\" class=\"dataframe\">\n",
       "  <thead>\n",
       "    <tr style=\"text-align: right;\">\n",
       "      <th></th>\n",
       "      <th>cellId</th>\n",
       "      <th>cellType</th>\n",
       "      <th>sampleInfo</th>\n",
       "      <th>x</th>\n",
       "      <th>y</th>\n",
       "      <th>colors</th>\n",
       "      <th>metaTypes</th>\n",
       "    </tr>\n",
       "  </thead>\n",
       "  <tbody>\n",
       "    <tr>\n",
       "      <th>0</th>\n",
       "      <td>AAAGAACGTCTACAGT.1_ND</td>\n",
       "      <td>Mac1</td>\n",
       "      <td>ND</td>\n",
       "      <td>NaN</td>\n",
       "      <td>NaN</td>\n",
       "      <td>NaN</td>\n",
       "      <td>NaN</td>\n",
       "    </tr>\n",
       "    <tr>\n",
       "      <th>1</th>\n",
       "      <td>AAAGAACTCCTCGCAT.1_ND</td>\n",
       "      <td>Mac1</td>\n",
       "      <td>ND</td>\n",
       "      <td>NaN</td>\n",
       "      <td>NaN</td>\n",
       "      <td>NaN</td>\n",
       "      <td>NaN</td>\n",
       "    </tr>\n",
       "    <tr>\n",
       "      <th>2</th>\n",
       "      <td>AAAGGGCGTTAGGGTG.1_ND</td>\n",
       "      <td>Mac3</td>\n",
       "      <td>ND</td>\n",
       "      <td>NaN</td>\n",
       "      <td>NaN</td>\n",
       "      <td>NaN</td>\n",
       "      <td>NaN</td>\n",
       "    </tr>\n",
       "    <tr>\n",
       "      <th>3</th>\n",
       "      <td>AACAAAGCACCGGCTA.1_ND</td>\n",
       "      <td>Mac3</td>\n",
       "      <td>ND</td>\n",
       "      <td>NaN</td>\n",
       "      <td>NaN</td>\n",
       "      <td>NaN</td>\n",
       "      <td>NaN</td>\n",
       "    </tr>\n",
       "    <tr>\n",
       "      <th>4</th>\n",
       "      <td>AACAAAGGTTCACGAT.1_ND</td>\n",
       "      <td>Mac1</td>\n",
       "      <td>ND</td>\n",
       "      <td>NaN</td>\n",
       "      <td>NaN</td>\n",
       "      <td>NaN</td>\n",
       "      <td>NaN</td>\n",
       "    </tr>\n",
       "  </tbody>\n",
       "</table>\n",
       "</div>"
      ],
      "text/plain": [
       "                  cellId cellType sampleInfo   x   y colors metaTypes\n",
       "0  AAAGAACGTCTACAGT.1_ND     Mac1         ND NaN NaN    NaN       NaN\n",
       "1  AAAGAACTCCTCGCAT.1_ND     Mac1         ND NaN NaN    NaN       NaN\n",
       "2  AAAGGGCGTTAGGGTG.1_ND     Mac3         ND NaN NaN    NaN       NaN\n",
       "3  AACAAAGCACCGGCTA.1_ND     Mac3         ND NaN NaN    NaN       NaN\n",
       "4  AACAAAGGTTCACGAT.1_ND     Mac1         ND NaN NaN    NaN       NaN"
      ]
     },
     "execution_count": 3,
     "metadata": {},
     "output_type": "execute_result"
    }
   ],
   "source": [
    "macTypes = [\n",
    "    \"Mac1\",\n",
    "    \"Mac2\",\n",
    "    \"Mac3\", \n",
    "    \"Mac4\",\n",
    "    \"Mac5\",\n",
    "]\n",
    "\n",
    "pdf = df[df['cellType'].isin(macTypes)]\n",
    "pdf.head()"
   ]
  },
  {
   "cell_type": "code",
   "execution_count": 12,
   "id": "639751d1-9578-4fc4-8f13-1061f36dc955",
   "metadata": {},
   "outputs": [
    {
     "data": {
      "image/png": "[encoded data removed]",
      "text/plain": [
       "<Figure size 600x360 with 1 Axes>"
      ]
     },
     "metadata": {},
     "output_type": "display_data"
    }
   ],
   "source": [
    "gx = pdf.groupby(['cellType', 'sampleInfo'])['cellId'].count().reset_index(drop=False)\n",
    "gx.columns = ['cellType', 'key', 'count']\n",
    "gx = gx.sort_values(by=['key', 'cellType'], ascending=[False, True])\n",
    "\n",
    "keyMap = {\n",
    "    'ND' : 'ND',\n",
    "    'HFD8' : '8w',\n",
    "    'HFD14' : '14w',\n",
    "}\n",
    "\n",
    "gx['keyName'] = gx['key'].map(keyMap)\n",
    "\n",
    "colors = [\n",
    "    '#9835e4',\n",
    "    '#e48035',\n",
    "    '#8e0152',\n",
    "    '#9acd61',\n",
    "    '#276419',\n",
    "]\n",
    "\n",
    "\n",
    "plt.rcParams['figure.dpi'] = 300\n",
    "plt.rcParams['figure.figsize'] = 2, 1.2\n",
    "plt.rcParams['figure.facecolor'] = \"w\"\n",
    "\n",
    "sns.barplot(data=gx, \n",
    "            x='keyName',\n",
    "            y='count',\n",
    "            ec='k',\n",
    "            hue='cellType',\n",
    "            palette=colors)\n",
    "\n",
    "plt.xlabel(\"\")\n",
    "plt.ylabel(\"n Cells\")\n",
    "sns.despine()\n",
    "\n",
    "plt.gca().legend().remove()\n",
    "\n",
    "# sns.move_legend(plt.gca(),\n",
    "#                 title=\"\",\n",
    "#                 loc='upper right',\n",
    "#                 frameon=False,\n",
    "#                 bbox_to_anchor=(1.7, 1.05))\n"
   ]
  },
  {
   "cell_type": "code",
   "execution_count": 5,
   "id": "ca82bf91-23dc-4ba4-9ddf-46ee076c0cfc",
   "metadata": {},
   "outputs": [
    {
     "ename": "SyntaxError",
     "evalue": "'break' outside loop (668683560.py, line 1)",
     "output_type": "error",
     "traceback": [
      "\u001b[0;36m  File \u001b[0;32m\"/tmp/ipykernel_4129119/668683560.py\"\u001b[0;36m, line \u001b[0;32m1\u001b[0m\n\u001b[0;31m    break\u001b[0m\n\u001b[0m    ^\u001b[0m\n\u001b[0;31mSyntaxError\u001b[0m\u001b[0;31m:\u001b[0m 'break' outside loop\n"
     ]
    }
   ],
   "source": [
    "break"
   ]
  },
  {
   "cell_type": "code",
   "execution_count": null,
   "id": "e58c6a23-3b1d-4f9c-986b-67674e801f80",
   "metadata": {},
   "outputs": [],
   "source": [
    "res = []\n",
    "\n",
    "\n",
    "for key in keys:\n",
    "    rf = rna[key].reset_index(drop=False)\n",
    "    rf['key'] = key\n",
    "    rf = pd.merge(rf, df[['cellId', 'cellType']],\n",
    "                  how='left', \n",
    "                  left_on='cellId', \n",
    "                  right_on=['cellId'])\n",
    "    res.append(rf)\n",
    "    \n",
    "res = pd.concat(res)\n",
    "res = pd.melt(res, id_vars=['key', 'cellId', 'cellType'],\n",
    "              value_vars=genes,\n",
    "              var_name='gene')\n",
    "\n",
    "res['logex'] = np.log1p(res['value'].fillna(0).astype(float))\n",
    "res['geneName'] = res['gene'].apply(lambda x: str(x).lower().capitalize())\n",
    "\n",
    "plt.rcParams['figure.dpi'] = 300\n",
    "plt.rcParams['figure.figsize'] = 3.5, 1.5\n",
    "plt.rcParams['figure.facecolor'] = \"w\"\n",
    "\n",
    "sns.barplot(data=res, \n",
    "              x='geneName',\n",
    "              y='logex',\n",
    "              dodge=True,\n",
    "              ec='k',\n",
    "              ci=None,\n",
    "              # showfliers=False,\n",
    "              zorder=3,\n",
    "              hue='cellType',\n",
    "              palette=colors)\n",
    "\n",
    "plt.xlabel(\"\")\n",
    "plt.ylabel(\"Expression (log)\")\n",
    "sns.despine()\n",
    "plt.grid(True, zorder=1)\n",
    "\n",
    "plt.gca().legend().remove()\n",
    "plt.xticks(rotation=90)\n",
    "\n",
    "# sns.move_legend(plt.gca(),\n",
    "#                 title=\"\",\n",
    "#                 loc='upper right',\n",
    "#                 frameon=False,\n",
    "#                 bbox_to_anchor=(1.7, 1.05))\n"
   ]
  },
  {
   "cell_type": "code",
   "execution_count": null,
   "id": "5eae4227-eb4f-4071-9ec0-dc1a9ab9921d",
   "metadata": {},
   "outputs": [],
   "source": []
  }
 ],
 "metadata": {
  "kernelspec": {
   "display_name": "Python 3 (ipykernel)",
   "language": "python",
   "name": "python3"
  },
  "language_info": {
   "codemirror_mode": {
    "name": "ipython",
    "version": 3
   },
   "file_extension": ".py",
   "mimetype": "text/x-python",
   "name": "python",
   "nbconvert_exporter": "python",
   "pygments_lexer": "ipython3",
   "version": "3.9.7"
  }
 },
 "nbformat": 4,
 "nbformat_minor": 5
}
