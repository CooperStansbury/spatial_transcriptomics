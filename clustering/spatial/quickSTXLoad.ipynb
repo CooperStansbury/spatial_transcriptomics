{
 "cells": [
  {
   "cell_type": "code",
   "execution_count": 1,
   "id": "97cdc744-8133-4fdc-b0b5-edeb92d9b885",
   "metadata": {},
   "outputs": [
    {
     "data": {
      "text/plain": [
       "<module 'utils' from '/home/cstansbu/git_repositories/spatial_transcriptomics/clustering/spatial/../utils.py'>"
      ]
     },
     "execution_count": 1,
     "metadata": {},
     "output_type": "execute_result"
    }
   ],
   "source": [
    "import pandas as pd \n",
    "import numpy as np\n",
    "import matplotlib.pyplot as plt\n",
    "import seaborn as sns\n",
    "import matplotlib as mpl\n",
    "import scipy\n",
    "import scipy.stats\n",
    "import matplotlib\n",
    "from scipy import interpolate\n",
    "import os\n",
    "import itertools\n",
    "from textwrap import wrap\n",
    "from mpl_toolkits.axes_grid1.anchored_artists import AnchoredSizeBar\n",
    "from sklearn.preprocessing import MultiLabelBinarizer\n",
    "import matplotlib.font_manager as fm\n",
    "import scipy.stats\n",
    "import networkx as nx\n",
    "from sklearn.decomposition import PCA\n",
    "from sklearn import metrics\n",
    "from mpl_toolkits.axes_grid1.axes_divider import make_axes_locatable\n",
    "from sklearn.neighbors import NearestNeighbors\n",
    "from sklearn.neighbors import radius_neighbors_graph\n",
    "import matplotlib.patches as mpatches\n",
    "import sklearn.neighbors\n",
    "from scipy.spatial import distance\n",
    "from skimage.filters import unsharp_mask\n",
    "from skimage.color import rgb2gray\n",
    "from mpl_toolkits.axes_grid1 import ImageGrid\n",
    "from collections import Counter\n",
    "import skimage\n",
    "from Bio import SeqIO\n",
    "from Bio.KEGG import REST\n",
    "from Bio.KEGG.KGML import KGML_parser\n",
    "import io\n",
    "import numpy as np\n",
    "import gget\n",
    "import matplotlib.pyplot as plt\n",
    "from skimage import data, segmentation, feature, future\n",
    "from sklearn.ensemble import RandomForestClassifier\n",
    "from functools import partial\n",
    "import sys\n",
    "\n",
    "from mpl_toolkits.mplot3d import Axes3D\n",
    "sys.path.append(\"../\")\n",
    "import utils as ut\n",
    "from importlib import reload\n",
    "reload(ut)\n"
   ]
  },
  {
   "cell_type": "code",
   "execution_count": 11,
   "id": "43a2135b-ad95-48f3-8ee0-15b1d7ce62f4",
   "metadata": {},
   "outputs": [
    {
     "name": "stdout",
     "output_type": "stream",
     "text": [
      "done\n"
     ]
    }
   ],
   "source": [
    "sptDir =  \"/nfs/turbo/umms-indikar/shared/projects/spatial_transcriptomics/data/CARDInputs/\"\n",
    "\n",
    "spotIds = []\n",
    "\n",
    "for f in os.listdir(sptDir):\n",
    "    if \"spt\" in f and \"global\" in f:\n",
    "        fullPath = f\"{sptDir}{f}\"\n",
    "        key = f.split(\"_\")[0]\n",
    "        sdf = pd.read_csv(fullPath)\n",
    "        sdf = sdf.rename(columns={'Unnamed: 0' : 'gene'})\n",
    "        sdf = sdf.set_index('gene')\n",
    "        sdf = sdf.T\n",
    "        spotIds += sdf.index.to_list()\n",
    "    \n",
    "print('done')"
   ]
  },
  {
   "cell_type": "code",
   "execution_count": 18,
   "id": "148cadd1-42dc-4f42-b385-4fe8ba6c189d",
   "metadata": {},
   "outputs": [
    {
     "data": {
      "text/html": [
       "<div>\n",
       "<style scoped>\n",
       "    .dataframe tbody tr th:only-of-type {\n",
       "        vertical-align: middle;\n",
       "    }\n",
       "\n",
       "    .dataframe tbody tr th {\n",
       "        vertical-align: top;\n",
       "    }\n",
       "\n",
       "    .dataframe thead th {\n",
       "        text-align: right;\n",
       "    }\n",
       "</style>\n",
       "<table border=\"1\" class=\"dataframe\">\n",
       "  <thead>\n",
       "    <tr style=\"text-align: right;\">\n",
       "      <th></th>\n",
       "      <th>id</th>\n",
       "      <th>key</th>\n",
       "      <th>barcode</th>\n",
       "    </tr>\n",
       "  </thead>\n",
       "  <tbody>\n",
       "    <tr>\n",
       "      <th>0</th>\n",
       "      <td>AAACAAGTATCTCCCA.1_HFD8</td>\n",
       "      <td>HFD8</td>\n",
       "      <td>AAACAAGTATCTCCCA.1</td>\n",
       "    </tr>\n",
       "    <tr>\n",
       "      <th>1</th>\n",
       "      <td>AAACACCAATAACTGC.1_HFD8</td>\n",
       "      <td>HFD8</td>\n",
       "      <td>AAACACCAATAACTGC.1</td>\n",
       "    </tr>\n",
       "    <tr>\n",
       "      <th>2</th>\n",
       "      <td>AAACAGCTTTCAGAAG.1_HFD8</td>\n",
       "      <td>HFD8</td>\n",
       "      <td>AAACAGCTTTCAGAAG.1</td>\n",
       "    </tr>\n",
       "    <tr>\n",
       "      <th>3</th>\n",
       "      <td>AAACAGGGTCTATATT.1_HFD8</td>\n",
       "      <td>HFD8</td>\n",
       "      <td>AAACAGGGTCTATATT.1</td>\n",
       "    </tr>\n",
       "    <tr>\n",
       "      <th>4</th>\n",
       "      <td>AAACAGTGTTCCTGGG.1_HFD8</td>\n",
       "      <td>HFD8</td>\n",
       "      <td>AAACAGTGTTCCTGGG.1</td>\n",
       "    </tr>\n",
       "  </tbody>\n",
       "</table>\n",
       "</div>"
      ],
      "text/plain": [
       "                        id   key             barcode\n",
       "0  AAACAAGTATCTCCCA.1_HFD8  HFD8  AAACAAGTATCTCCCA.1\n",
       "1  AAACACCAATAACTGC.1_HFD8  HFD8  AAACACCAATAACTGC.1\n",
       "2  AAACAGCTTTCAGAAG.1_HFD8  HFD8  AAACAGCTTTCAGAAG.1\n",
       "3  AAACAGGGTCTATATT.1_HFD8  HFD8  AAACAGGGTCTATATT.1\n",
       "4  AAACAGTGTTCCTGGG.1_HFD8  HFD8  AAACAGTGTTCCTGGG.1"
      ]
     },
     "execution_count": 18,
     "metadata": {},
     "output_type": "execute_result"
    }
   ],
   "source": [
    "idf = pd.DataFrame(spotIds, columns=['id'])\n",
    "idf['key'] = idf['id'].apply(lambda x: str(x).split(\"_\")[1])\n",
    "idf['barcode'] = idf['id'].apply(lambda x: str(x).split(\"_\")[0])\n",
    "\n",
    "idf.to_csv(\"./spotIds.csv\", index=False)\n",
    "idf.head()"
   ]
  },
  {
   "cell_type": "code",
   "execution_count": null,
   "id": "c3d85e95-1662-4968-8dc5-dcee173a9f82",
   "metadata": {},
   "outputs": [],
   "source": [
    "break"
   ]
  },
  {
   "cell_type": "code",
   "execution_count": null,
   "id": "e8db1d03-1bd9-4cda-8abb-cc36a44ccfa7",
   "metadata": {},
   "outputs": [],
   "source": []
  },
  {
   "cell_type": "code",
   "execution_count": null,
   "id": "a3f1f3b8-38a9-4e13-9d66-2deb65a30999",
   "metadata": {},
   "outputs": [],
   "source": []
  },
  {
   "cell_type": "code",
   "execution_count": 3,
   "id": "ff5412f9-21f0-4b5a-8da5-5dea07355dbe",
   "metadata": {},
   "outputs": [
    {
     "name": "stdout",
     "output_type": "stream",
     "text": [
      "cdf.shape=(7424, 4)\n",
      "key\n",
      "HFD8     3394\n",
      "ND       2036\n",
      "HFD14    1994\n",
      "Name: count, dtype: int64\n",
      "\n"
     ]
    },
    {
     "data": {
      "text/html": [
       "<div>\n",
       "<style scoped>\n",
       "    .dataframe tbody tr th:only-of-type {\n",
       "        vertical-align: middle;\n",
       "    }\n",
       "\n",
       "    .dataframe tbody tr th {\n",
       "        vertical-align: top;\n",
       "    }\n",
       "\n",
       "    .dataframe thead th {\n",
       "        text-align: right;\n",
       "    }\n",
       "</style>\n",
       "<table border=\"1\" class=\"dataframe\">\n",
       "  <thead>\n",
       "    <tr style=\"text-align: right;\">\n",
       "      <th></th>\n",
       "      <th>spotId</th>\n",
       "      <th>x</th>\n",
       "      <th>y</th>\n",
       "      <th>key</th>\n",
       "    </tr>\n",
       "  </thead>\n",
       "  <tbody>\n",
       "    <tr>\n",
       "      <th>0</th>\n",
       "      <td>AAACAAGTATCTCCCA.1_HFD8</td>\n",
       "      <td>1244.795278</td>\n",
       "      <td>1189.669724</td>\n",
       "      <td>HFD8</td>\n",
       "    </tr>\n",
       "    <tr>\n",
       "      <th>1</th>\n",
       "      <td>AAACACCAATAACTGC.1_HFD8</td>\n",
       "      <td>405.548324</td>\n",
       "      <td>1349.579809</td>\n",
       "      <td>HFD8</td>\n",
       "    </tr>\n",
       "    <tr>\n",
       "      <th>2</th>\n",
       "      <td>AAACAGCTTTCAGAAG.1_HFD8</td>\n",
       "      <td>303.880251</td>\n",
       "      <td>1068.178931</td>\n",
       "      <td>HFD8</td>\n",
       "    </tr>\n",
       "    <tr>\n",
       "      <th>3</th>\n",
       "      <td>AAACAGGGTCTATATT.1_HFD8</td>\n",
       "      <td>344.496391</td>\n",
       "      <td>1138.478061</td>\n",
       "      <td>HFD8</td>\n",
       "    </tr>\n",
       "    <tr>\n",
       "      <th>4</th>\n",
       "      <td>AAACAGTGTTCCTGGG.1_HFD8</td>\n",
       "      <td>648.734268</td>\n",
       "      <td>1595.524585</td>\n",
       "      <td>HFD8</td>\n",
       "    </tr>\n",
       "  </tbody>\n",
       "</table>\n",
       "</div>"
      ],
      "text/plain": [
       "                    spotId            x            y   key\n",
       "0  AAACAAGTATCTCCCA.1_HFD8  1244.795278  1189.669724  HFD8\n",
       "1  AAACACCAATAACTGC.1_HFD8   405.548324  1349.579809  HFD8\n",
       "2  AAACAGCTTTCAGAAG.1_HFD8   303.880251  1068.178931  HFD8\n",
       "3  AAACAGGGTCTATATT.1_HFD8   344.496391  1138.478061  HFD8\n",
       "4  AAACAGTGTTCCTGGG.1_HFD8   648.734268  1595.524585  HFD8"
      ]
     },
     "execution_count": 3,
     "metadata": {},
     "output_type": "execute_result"
    }
   ],
   "source": [
    "coordDir = \"/nfs/turbo/umms-indikar/shared/projects/spatial_transcriptomics/data/CARDInputs/\"\n",
    "\n",
    "dfList = []\n",
    "\n",
    "for f in os.listdir(coordDir):\n",
    "    if \"coord\" in f and \"global\" in f:\n",
    "        fullPath = f\"{coordDir}{f}\"\n",
    "        key = f.split(\"_\")[0]\n",
    "        cdf = pd.read_csv(fullPath)\n",
    "        cdf = cdf.rename(columns={'Unnamed: 0' : 'spotId'})\n",
    "        cdf['key'] = key\n",
    "        dfList.append(cdf)\n",
    "\n",
    "cdf = pd.concat(dfList, ignore_index=True)\n",
    "print(f\"{cdf.shape=}\")\n",
    "print(cdf['key'].value_counts())\n",
    "print()\n",
    "cdf.head()"
   ]
  },
  {
   "cell_type": "code",
   "execution_count": 5,
   "id": "8b4d7b0a-e517-4bfa-9ed5-25d3869d093d",
   "metadata": {},
   "outputs": [
    {
     "data": {
      "text/plain": [
       "key\n",
       "HFD8     3394\n",
       "ND       2036\n",
       "HFD14    1994\n",
       "Name: count, dtype: int64"
      ]
     },
     "execution_count": 5,
     "metadata": {},
     "output_type": "execute_result"
    }
   ],
   "source": [
    "cdf['key'].value_counts()"
   ]
  },
  {
   "cell_type": "code",
   "execution_count": 8,
   "id": "15f91894-d012-41a5-a64a-d93722353095",
   "metadata": {},
   "outputs": [
    {
     "name": "stdout",
     "output_type": "stream",
     "text": [
      "gene                   XKR4  GM1992  GM37381  RP1  SOX17  GM37323  MRPL15   \n",
      "AAACAAGTATCTCCCA.1_ND   0.0     0.0      0.0  0.0    0.0      0.0     0.0  \\\n",
      "AAACAGCTTTCAGAAG.1_ND   0.0     0.0      0.0  0.0    0.0      0.0     0.0   \n",
      "AAACAGGGTCTATATT.1_ND   0.0     0.0      0.0  0.0    0.0      0.0     0.0   \n",
      "AAACATTTCCCGGATT.1_ND   0.0     0.0      0.0  0.0    0.0      0.0     0.0   \n",
      "AAACCCGAACGAAATC.1_ND   0.0     0.0      0.0  0.0    0.0      0.0     0.0   \n",
      "\n",
      "gene                   LYPLA1  GM37988  TCEA1  ...  AC125149.1  AC125149.2   \n",
      "AAACAAGTATCTCCCA.1_ND     0.0      0.0    0.0  ...         0.0         0.0  \\\n",
      "AAACAGCTTTCAGAAG.1_ND     0.0      0.0    0.0  ...         0.0         0.0   \n",
      "AAACAGGGTCTATATT.1_ND     0.0      0.0    0.0  ...         0.0         0.0   \n",
      "AAACATTTCCCGGATT.1_ND     0.0      0.0    0.0  ...         0.0         0.0   \n",
      "AAACCCGAACGAAATC.1_ND     0.0      0.0    0.0  ...         0.0         0.0   \n",
      "\n",
      "gene                   AC125149.4  AC234645.1  AC168977.2  AC168977.1   \n",
      "AAACAAGTATCTCCCA.1_ND         0.0         0.0         0.0         0.0  \\\n",
      "AAACAGCTTTCAGAAG.1_ND         0.0         0.0         0.0         0.0   \n",
      "AAACAGGGTCTATATT.1_ND         0.0         0.0         0.0         0.0   \n",
      "AAACATTTCCCGGATT.1_ND         0.0         0.0         0.0         0.0   \n",
      "AAACCCGAACGAAATC.1_ND         0.0         0.0         0.0         0.0   \n",
      "\n",
      "gene                   AC149090.1  CAAA01118383.1  VMN2R122  CAAA01147332.1  \n",
      "AAACAAGTATCTCCCA.1_ND         0.0             0.0       0.0             0.0  \n",
      "AAACAGCTTTCAGAAG.1_ND         0.0             0.0       0.0             0.0  \n",
      "AAACAGGGTCTATATT.1_ND         0.0             0.0       0.0             0.0  \n",
      "AAACATTTCCCGGATT.1_ND         0.0             0.0       0.0             0.0  \n",
      "AAACCCGAACGAAATC.1_ND         0.0             0.0       0.0             0.0  \n",
      "\n",
      "[5 rows x 31053 columns]\n"
     ]
    }
   ],
   "source": [
    "spotIds = []\n",
    "\n",
    "for key in keys:\n",
    "\n",
    "    sdf = spt[key]\n",
    "\n",
    "    print(sdf.head())\n",
    "    break"
   ]
  },
  {
   "cell_type": "code",
   "execution_count": null,
   "id": "7f144169-c5bd-48f9-9f44-a81afc10bb4f",
   "metadata": {},
   "outputs": [],
   "source": []
  }
 ],
 "metadata": {
  "kernelspec": {
   "display_name": "Python 3 (ipykernel)",
   "language": "python",
   "name": "python3"
  },
  "language_info": {
   "codemirror_mode": {
    "name": "ipython",
    "version": 3
   },
   "file_extension": ".py",
   "mimetype": "text/x-python",
   "name": "python",
   "nbconvert_exporter": "python",
   "pygments_lexer": "ipython3",
   "version": "3.9.7"
  }
 },
 "nbformat": 4,
 "nbformat_minor": 5
}
