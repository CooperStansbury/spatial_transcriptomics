{
 "cells": [
  {
   "cell_type": "code",
   "execution_count": 1,
   "id": "cc7be27f-675e-4560-b2d4-9a81ffc1c2d0",
   "metadata": {},
   "outputs": [
    {
     "name": "stderr",
     "output_type": "stream",
     "text": [
      "Warning message:\n",
      "“replacing previous import ‘RcppML::nmf’ by ‘NMF::nmf’ when loading ‘CARD’”\n"
     ]
    }
   ],
   "source": [
    "suppressMessages(library(\"CARD\", quietly = T))\n",
    "suppressMessages(library(\"ggplot2\", quietly = T))\n",
    "suppressMessages(library(\"reshape2\", quietly = T))\n",
    "suppressMessages(library(\"gtools\", quietly = T))\n",
    "suppressMessages(library(\"scatterpie\", quietly = T))\n",
    "suppressMessages(library(\"glue\", quietly = T))"
   ]
  },
  {
   "cell_type": "code",
   "execution_count": 2,
   "id": "a26f0ed8-6fd5-4f05-ae04-d3c3bf6bebfe",
   "metadata": {},
   "outputs": [],
   "source": [
    "# devtools::install_github('xuranw/MuSiC')"
   ]
  },
  {
   "cell_type": "code",
   "execution_count": 3,
   "id": "04101789-c2bd-4b61-8cee-0debd59c04b2",
   "metadata": {},
   "outputs": [
    {
     "data": {
      "text/html": [
       "<style>\n",
       ".list-inline {list-style: none; margin:0; padding: 0}\n",
       ".list-inline>li {display: inline-block}\n",
       ".list-inline>li:not(:last-child)::after {content: \"\\00b7\"; padding: 0 .5ex}\n",
       "</style>\n",
       "<ol class=list-inline><li>31053</li><li>1994</li></ol>\n"
      ],
      "text/latex": [
       "\\begin{enumerate*}\n",
       "\\item 31053\n",
       "\\item 1994\n",
       "\\end{enumerate*}\n"
      ],
      "text/markdown": [
       "1. 31053\n",
       "2. 1994\n",
       "\n",
       "\n"
      ],
      "text/plain": [
       "[1] 31053  1994"
      ]
     },
     "metadata": {},
     "output_type": "display_data"
    },
    {
     "data": {
      "text/html": [
       "<style>\n",
       ".list-inline {list-style: none; margin:0; padding: 0}\n",
       ".list-inline>li {display: inline-block}\n",
       ".list-inline>li:not(:last-child)::after {content: \"\\00b7\"; padding: 0 .5ex}\n",
       "</style>\n",
       "<ol class=list-inline><li>1994</li><li>2</li></ol>\n"
      ],
      "text/latex": [
       "\\begin{enumerate*}\n",
       "\\item 1994\n",
       "\\item 2\n",
       "\\end{enumerate*}\n"
      ],
      "text/markdown": [
       "1. 1994\n",
       "2. 2\n",
       "\n",
       "\n"
      ],
      "text/plain": [
       "[1] 1994    2"
      ]
     },
     "metadata": {},
     "output_type": "display_data"
    },
    {
     "data": {
      "text/html": [
       "<style>\n",
       ".list-inline {list-style: none; margin:0; padding: 0}\n",
       ".list-inline>li {display: inline-block}\n",
       ".list-inline>li:not(:last-child)::after {content: \"\\00b7\"; padding: 0 .5ex}\n",
       "</style>\n",
       "<ol class=list-inline><li>31053</li><li>6436</li></ol>\n"
      ],
      "text/latex": [
       "\\begin{enumerate*}\n",
       "\\item 31053\n",
       "\\item 6436\n",
       "\\end{enumerate*}\n"
      ],
      "text/markdown": [
       "1. 31053\n",
       "2. 6436\n",
       "\n",
       "\n"
      ],
      "text/plain": [
       "[1] 31053  6436"
      ]
     },
     "metadata": {},
     "output_type": "display_data"
    },
    {
     "data": {
      "text/html": [
       "<style>\n",
       ".list-inline {list-style: none; margin:0; padding: 0}\n",
       ".list-inline>li {display: inline-block}\n",
       ".list-inline>li:not(:last-child)::after {content: \"\\00b7\"; padding: 0 .5ex}\n",
       "</style>\n",
       "<ol class=list-inline><li>6436</li><li>3</li></ol>\n"
      ],
      "text/latex": [
       "\\begin{enumerate*}\n",
       "\\item 6436\n",
       "\\item 3\n",
       "\\end{enumerate*}\n"
      ],
      "text/markdown": [
       "1. 6436\n",
       "2. 3\n",
       "\n",
       "\n"
      ],
      "text/plain": [
       "[1] 6436    3"
      ]
     },
     "metadata": {},
     "output_type": "display_data"
    }
   ],
   "source": [
    "# load spatial data\n",
    "key = \"HFD14\"\n",
    "# subId = \"macrophage_\"\n",
    "subId = \"\"\n",
    "inputDir = \"/nfs/turbo/umms-indikar/shared/projects/spatial_transcriptomics/data/CARDInputs/\"\n",
    "\n",
    "sptPath = glue(\"{inputDir}{key}_{subId}spt.csv\")\n",
    "spt.df <- read.csv(sptPath)\n",
    "rownames(spt.df) <- spt.df[,1]\n",
    "spt.df <- spt.df[,-1]\n",
    "spt <- as.matrix(spt.df)\n",
    "dim(spt)\n",
    "\n",
    "# load spatial coordinates\n",
    "xyPath = glue(\"{inputDir}{key}_{subId}coords.csv\")\n",
    "xy.df <- read.csv(xyPath)\n",
    "rownames(xy.df) <- xy.df[,1]\n",
    "xy.df <- xy.df[,-1]\n",
    "dim(xy.df)\n",
    "\n",
    "# load the rna seq data\n",
    "rnaPath = glue(\"{inputDir}{key}_{subId}rna.csv\")\n",
    "rna.df <- read.csv(rnaPath)\n",
    "rownames(rna.df) <- rna.df[,1]\n",
    "rna.df <- rna.df[,-1]\n",
    "rna <- as.matrix(rna.df)\n",
    "dim(rna)\n",
    "\n",
    "# load the annotations\n",
    "metaPath = glue(\"{inputDir}{key}_{subId}clusters.csv\")\n",
    "meta.df <- read.csv(metaPath)\n",
    "rownames(meta.df) <- meta.df$cellId\n",
    "dim(meta.df)"
   ]
  },
  {
   "cell_type": "code",
   "execution_count": 4,
   "id": "8dfbedd2-e37f-4f64-af2e-ce37e1f55113",
   "metadata": {},
   "outputs": [
    {
     "name": "stdout",
     "output_type": "stream",
     "text": [
      "## QC on scRNASeq dataset! ...\n",
      "## QC on spatially-resolved dataset! ...\n"
     ]
    }
   ],
   "source": [
    "CARD_obj = createCARDObject(\n",
    "\tsc_count = rna,\n",
    "\tsc_meta = meta.df,\n",
    "\tspatial_count = spt,\n",
    "\tspatial_location = xy.df,\n",
    "\tct.varname = \"cellType\",\n",
    "\tct.select = unique(meta.df$cellType),\n",
    "\tsample.varname = \"sampleInfo\",\n",
    "\tminCountGene = 10,\n",
    "\tminCountSpot = 5)"
   ]
  },
  {
   "cell_type": "code",
   "execution_count": 5,
   "id": "daf4da26-34bf-4930-910a-a8d85459305d",
   "metadata": {},
   "outputs": [
    {
     "name": "stdout",
     "output_type": "stream",
     "text": [
      "## create reference matrix from scRNASeq...\n",
      "## Select Informative Genes! ...\n",
      "## Deconvolution Starts! ...\n",
      "## Deconvolution Finish! ...\n"
     ]
    }
   ],
   "source": [
    "CARD_obj = suppressMessages(CARD_deconvolution(CARD_object = CARD_obj))"
   ]
  },
  {
   "cell_type": "code",
   "execution_count": 6,
   "id": "2282b4fb-da66-404b-90df-db2e5f310686",
   "metadata": {},
   "outputs": [
    {
     "data": {
      "text/html": [
       "<style>\n",
       ".list-inline {list-style: none; margin:0; padding: 0}\n",
       ".list-inline>li {display: inline-block}\n",
       ".list-inline>li:not(:last-child)::after {content: \"\\00b7\"; padding: 0 .5ex}\n",
       "</style>\n",
       "<ol class=list-inline><li>1993</li><li>7</li></ol>\n"
      ],
      "text/latex": [
       "\\begin{enumerate*}\n",
       "\\item 1993\n",
       "\\item 7\n",
       "\\end{enumerate*}\n"
      ],
      "text/markdown": [
       "1. 1993\n",
       "2. 7\n",
       "\n",
       "\n"
      ],
      "text/plain": [
       "[1] 1993    7"
      ]
     },
     "metadata": {},
     "output_type": "display_data"
    },
    {
     "data": {
      "text/html": [
       "<table class=\"dataframe\">\n",
       "<caption>A data.frame: 6 × 7</caption>\n",
       "<thead>\n",
       "\t<tr><th></th><th scope=col>Macrophages</th><th scope=col>Monocytes</th><th scope=col>T cells</th><th scope=col>NK cells</th><th scope=col>Dendritic cells</th><th scope=col>Stromal cells</th><th scope=col>B cells</th></tr>\n",
       "\t<tr><th></th><th scope=col>&lt;dbl&gt;</th><th scope=col>&lt;dbl&gt;</th><th scope=col>&lt;dbl&gt;</th><th scope=col>&lt;dbl&gt;</th><th scope=col>&lt;dbl&gt;</th><th scope=col>&lt;dbl&gt;</th><th scope=col>&lt;dbl&gt;</th></tr>\n",
       "</thead>\n",
       "<tbody>\n",
       "\t<tr><th scope=row>AAACATTTCCCGGATT.1</th><td>0.2731794</td><td>0.09297937</td><td>0.05971767</td><td>0.05473114</td><td>0.08580361</td><td>0.26020602</td><td>0.1733828</td></tr>\n",
       "\t<tr><th scope=row>AAACCGGGTAGGTACC.1</th><td>0.5378256</td><td>0.17202652</td><td>0.03699356</td><td>0.01969402</td><td>0.08386505</td><td>0.04261869</td><td>0.1069765</td></tr>\n",
       "\t<tr><th scope=row>AAACCGTTCGTCCAGG.1</th><td>0.2387206</td><td>0.22716739</td><td>0.06307571</td><td>0.11102764</td><td>0.08693683</td><td>0.13237798</td><td>0.1406939</td></tr>\n",
       "\t<tr><th scope=row>AAACCTAAGCAGCCGG.1</th><td>0.1449351</td><td>0.15959771</td><td>0.12979579</td><td>0.21748579</td><td>0.10740280</td><td>0.07754814</td><td>0.1632347</td></tr>\n",
       "\t<tr><th scope=row>AAACCTCATGAAGTTG.1</th><td>0.3204282</td><td>0.19211547</td><td>0.06054496</td><td>0.11135548</td><td>0.04950561</td><td>0.10841726</td><td>0.1576330</td></tr>\n",
       "\t<tr><th scope=row>AAACGGGCGTACGGGT.1</th><td>0.0703626</td><td>0.13902683</td><td>0.09680582</td><td>0.04934261</td><td>0.02241969</td><td>0.42272818</td><td>0.1993143</td></tr>\n",
       "</tbody>\n",
       "</table>\n"
      ],
      "text/latex": [
       "A data.frame: 6 × 7\n",
       "\\begin{tabular}{r|lllllll}\n",
       "  & Macrophages & Monocytes & T cells & NK cells & Dendritic cells & Stromal cells & B cells\\\\\n",
       "  & <dbl> & <dbl> & <dbl> & <dbl> & <dbl> & <dbl> & <dbl>\\\\\n",
       "\\hline\n",
       "\tAAACATTTCCCGGATT.1 & 0.2731794 & 0.09297937 & 0.05971767 & 0.05473114 & 0.08580361 & 0.26020602 & 0.1733828\\\\\n",
       "\tAAACCGGGTAGGTACC.1 & 0.5378256 & 0.17202652 & 0.03699356 & 0.01969402 & 0.08386505 & 0.04261869 & 0.1069765\\\\\n",
       "\tAAACCGTTCGTCCAGG.1 & 0.2387206 & 0.22716739 & 0.06307571 & 0.11102764 & 0.08693683 & 0.13237798 & 0.1406939\\\\\n",
       "\tAAACCTAAGCAGCCGG.1 & 0.1449351 & 0.15959771 & 0.12979579 & 0.21748579 & 0.10740280 & 0.07754814 & 0.1632347\\\\\n",
       "\tAAACCTCATGAAGTTG.1 & 0.3204282 & 0.19211547 & 0.06054496 & 0.11135548 & 0.04950561 & 0.10841726 & 0.1576330\\\\\n",
       "\tAAACGGGCGTACGGGT.1 & 0.0703626 & 0.13902683 & 0.09680582 & 0.04934261 & 0.02241969 & 0.42272818 & 0.1993143\\\\\n",
       "\\end{tabular}\n"
      ],
      "text/markdown": [
       "\n",
       "A data.frame: 6 × 7\n",
       "\n",
       "| <!--/--> | Macrophages &lt;dbl&gt; | Monocytes &lt;dbl&gt; | T cells &lt;dbl&gt; | NK cells &lt;dbl&gt; | Dendritic cells &lt;dbl&gt; | Stromal cells &lt;dbl&gt; | B cells &lt;dbl&gt; |\n",
       "|---|---|---|---|---|---|---|---|\n",
       "| AAACATTTCCCGGATT.1 | 0.2731794 | 0.09297937 | 0.05971767 | 0.05473114 | 0.08580361 | 0.26020602 | 0.1733828 |\n",
       "| AAACCGGGTAGGTACC.1 | 0.5378256 | 0.17202652 | 0.03699356 | 0.01969402 | 0.08386505 | 0.04261869 | 0.1069765 |\n",
       "| AAACCGTTCGTCCAGG.1 | 0.2387206 | 0.22716739 | 0.06307571 | 0.11102764 | 0.08693683 | 0.13237798 | 0.1406939 |\n",
       "| AAACCTAAGCAGCCGG.1 | 0.1449351 | 0.15959771 | 0.12979579 | 0.21748579 | 0.10740280 | 0.07754814 | 0.1632347 |\n",
       "| AAACCTCATGAAGTTG.1 | 0.3204282 | 0.19211547 | 0.06054496 | 0.11135548 | 0.04950561 | 0.10841726 | 0.1576330 |\n",
       "| AAACGGGCGTACGGGT.1 | 0.0703626 | 0.13902683 | 0.09680582 | 0.04934261 | 0.02241969 | 0.42272818 | 0.1993143 |\n",
       "\n"
      ],
      "text/plain": [
       "                   Macrophages Monocytes  T cells    NK cells   Dendritic cells\n",
       "AAACATTTCCCGGATT.1 0.2731794   0.09297937 0.05971767 0.05473114 0.08580361     \n",
       "AAACCGGGTAGGTACC.1 0.5378256   0.17202652 0.03699356 0.01969402 0.08386505     \n",
       "AAACCGTTCGTCCAGG.1 0.2387206   0.22716739 0.06307571 0.11102764 0.08693683     \n",
       "AAACCTAAGCAGCCGG.1 0.1449351   0.15959771 0.12979579 0.21748579 0.10740280     \n",
       "AAACCTCATGAAGTTG.1 0.3204282   0.19211547 0.06054496 0.11135548 0.04950561     \n",
       "AAACGGGCGTACGGGT.1 0.0703626   0.13902683 0.09680582 0.04934261 0.02241969     \n",
       "                   Stromal cells B cells  \n",
       "AAACATTTCCCGGATT.1 0.26020602    0.1733828\n",
       "AAACCGGGTAGGTACC.1 0.04261869    0.1069765\n",
       "AAACCGTTCGTCCAGG.1 0.13237798    0.1406939\n",
       "AAACCTAAGCAGCCGG.1 0.07754814    0.1632347\n",
       "AAACCTCATGAAGTTG.1 0.10841726    0.1576330\n",
       "AAACGGGCGTACGGGT.1 0.42272818    0.1993143"
      ]
     },
     "metadata": {},
     "output_type": "display_data"
    }
   ],
   "source": [
    "props.df <- as.data.frame(CARD_obj@Proportion_CARD)\n",
    "\n",
    "outDir = \"/nfs/turbo/umms-indikar/shared/projects/spatial_transcriptomics/data/CARDOuputs/\"\n",
    "outpath = glue(\"{outDir}{key}_{subId}CARD.csv\")\n",
    "\n",
    "write.csv(props.df, \n",
    "          outpath, \n",
    "          row.names=TRUE)\n",
    "\n",
    "dim(props.df)\n",
    "\n",
    "head(props.df)"
   ]
  },
  {
   "cell_type": "code",
   "execution_count": 7,
   "id": "677ca92b-32f2-455c-ba46-b692ebbb3245",
   "metadata": {},
   "outputs": [],
   "source": [
    "# # pieViz <- function(proportion, spatial_location){\n",
    "# #     res_CARD = as.data.frame(proportion)\n",
    "# #     res_CARD = res_CARD[,mixedsort(colnames(res_CARD))]\n",
    "# #     location = as.data.frame(spatial_location) \n",
    "# #     colors = colorRampPalette(c(\"Blue\", \"Red\"))(ncol(res_CARD))\n",
    "# #     data = cbind(res_CARD,location)\n",
    "# #     ct.select = colnames(res_CARD)\n",
    "# #     p = ggplot() + \n",
    "# #         geom_scatterpie(aes(x=x, y=y, r = 1), \n",
    "# #                         data=data,\n",
    "# #                         cols=ct.select,color=NA) + \n",
    "# #         coord_fixed(ratio = 1) + \n",
    "# #         scale_fill_manual(values = colors) \n",
    "# #     return(p)\n",
    "    \n",
    "# # }\n",
    "\n",
    "# p <- CARD.visualize.pie(proportion = CARD_obj@Proportion_CARD,\n",
    "#                         spatial_location = CARD_obj@spatial_location)\n",
    "                   \n",
    "# ggsave(\"cardFigures/mixtures.png\",\n",
    "#        width = 50, \n",
    "#        height = 50, \n",
    "#        units = \"cm\")\n",
    "\n",
    "# print('done')"
   ]
  },
  {
   "cell_type": "code",
   "execution_count": 8,
   "id": "ca8cb70e-6ca9-4ebc-852d-34386be53a99",
   "metadata": {},
   "outputs": [
    {
     "name": "stdout",
     "output_type": "stream",
     "text": [
      "[1] \"done\"\n"
     ]
    }
   ],
   "source": [
    "visCells <- function(proportion, spatial_location, ct.visualize, colors, NumCols, pntSize){\n",
    "    res_CARD = as.data.frame(proportion)\n",
    "    res_CARD = res_CARD[,order(colnames(res_CARD))]\n",
    "    location = as.data.frame(spatial_location)\n",
    "    if(sum(rownames(res_CARD)==rownames(location))!= nrow(res_CARD)){\n",
    "    stop(\"The rownames of proportion data does not match with the rownames of spatial location data\")\n",
    "    }\n",
    "    ct.select = ct.visualize\n",
    "    res_CARD = res_CARD[,ct.select]\n",
    "    res_CARD_scale = as.data.frame(apply(res_CARD,2,function(x){\n",
    "    (x - min(x)) / (max(x) - min(x))\n",
    "    } ))\n",
    "    res_CARD_scale$x = as.numeric(location$x)\n",
    "    res_CARD_scale$y = as.numeric(location$y)\n",
    "    mData = melt(res_CARD_scale,id.vars = c(\"x\",\"y\"))\n",
    "    colnames(mData)[3] <- \"Cell_Type\"\n",
    "    b = c(0,1)\n",
    "    \n",
    "    p = ggplot(mData, aes(x, y))  +\n",
    "    geom_point(aes(colour = value), size = pntSize) +\n",
    "    scale_color_gradientn(colours = colors) + \n",
    "    scale_y_reverse() +\n",
    "    facet_wrap(~Cell_Type,ncol = NumCols)+ \n",
    "    coord_fixed()+\n",
    "    theme(axis.text = element_blank(),\n",
    "          axis.ticks = element_blank(),\n",
    "          axis.title = element_blank(),\n",
    "          panel.background = element_blank(),\n",
    "          plot.background = element_blank(),\n",
    "          panel.grid.major = element_blank(), \n",
    "          panel.grid.minor = element_blank(),\n",
    "         )\n",
    "    return(p)\n",
    "}\n",
    "\n",
    "p <- visCells(CARD_obj@Proportion_CARD,\n",
    "         CARD_obj@spatial_location,\n",
    "         unique(meta.df$cellType),\n",
    "         c(\"lightblue\",\"lightyellow\",\"red\"),\n",
    "         4, \n",
    "         0.1)\n",
    "\n",
    "figDir = \"cardFigures/\"\n",
    "outpath = glue(\"{figDir}{key}_{subId}spots.png\")\n",
    "ggsave(outpath,\n",
    "       width = 20, \n",
    "       height = 20, \n",
    "       units = \"cm\")\n",
    "\n",
    "print('done')"
   ]
  },
  {
   "cell_type": "code",
   "execution_count": 9,
   "id": "aa63bbc2-ea51-494c-8e14-b8bd2300e837",
   "metadata": {},
   "outputs": [
    {
     "name": "stdout",
     "output_type": "stream",
     "text": [
      "## The rownames of locations are matched ...\n",
      "## Make grids on new spatial locations ...\n",
      "[1] \"done\"\n"
     ]
    }
   ],
   "source": [
    "CARD_obj = CARD.imputation(CARD_obj,\n",
    "                           NumGrids = 5000,\n",
    "                           ineibor = 5,\n",
    "                           exclude = NULL)\n",
    "\n",
    "location_imputation = cbind.data.frame(x=as.numeric(sapply(strsplit(rownames(CARD_obj@refined_prop),split=\"x\"),\"[\",1)),\n",
    "                                       y=as.numeric(sapply(strsplit(rownames(CARD_obj@refined_prop),split=\"x\"),\"[\",2)))\n",
    "\n",
    "rownames(location_imputation) = rownames(CARD_obj@refined_prop)\n",
    "\n",
    "p <-visCells(\n",
    "\tCARD_obj@refined_prop,                         \n",
    "\tlocation_imputation,            \n",
    "\tunique(meta.df$cellType),                    \n",
    "\tc(\"lightblue\",\"lightyellow\",\"red\"),    \n",
    "\tNumCols = 4,\n",
    "    pntSize = 0.1)     \n",
    "\n",
    "outpath = glue(\"{figDir}{key}_{subId}imputed.png\")\n",
    "ggsave(outpath,\n",
    "       width = 20, \n",
    "       height = 20, \n",
    "       units = \"cm\")\n",
    "\n",
    "print('done')"
   ]
  },
  {
   "cell_type": "code",
   "execution_count": 10,
   "id": "2a3dceba-024c-462e-97ce-dad57e23dc0a",
   "metadata": {},
   "outputs": [
    {
     "data": {
      "text/html": [
       "<table class=\"dataframe\">\n",
       "<caption>A data.frame: 6 × 7</caption>\n",
       "<thead>\n",
       "\t<tr><th></th><th scope=col>Macrophages</th><th scope=col>Monocytes</th><th scope=col>T cells</th><th scope=col>NK cells</th><th scope=col>Dendritic cells</th><th scope=col>Stromal cells</th><th scope=col>B cells</th></tr>\n",
       "\t<tr><th></th><th scope=col>&lt;dbl&gt;</th><th scope=col>&lt;dbl&gt;</th><th scope=col>&lt;dbl&gt;</th><th scope=col>&lt;dbl&gt;</th><th scope=col>&lt;dbl&gt;</th><th scope=col>&lt;dbl&gt;</th><th scope=col>&lt;dbl&gt;</th></tr>\n",
       "</thead>\n",
       "<tbody>\n",
       "\t<tr><th scope=row>332x480</th><td>0.2486352</td><td>0.1507260</td><td>0.08011425</td><td>0.1122454</td><td>0.1071986</td><td>0.1311844</td><td>0.1698962</td></tr>\n",
       "\t<tr><th scope=row>332x496</th><td>0.2485500</td><td>0.1507917</td><td>0.08009989</td><td>0.1122954</td><td>0.1072461</td><td>0.1311785</td><td>0.1698384</td></tr>\n",
       "\t<tr><th scope=row>332x512</th><td>0.2486252</td><td>0.1509313</td><td>0.08005441</td><td>0.1124390</td><td>0.1073759</td><td>0.1309960</td><td>0.1695782</td></tr>\n",
       "\t<tr><th scope=row>348x512</th><td>0.2487715</td><td>0.1511788</td><td>0.07998653</td><td>0.1123467</td><td>0.1072129</td><td>0.1308608</td><td>0.1696428</td></tr>\n",
       "\t<tr><th scope=row>380x512</th><td>0.2479566</td><td>0.1511926</td><td>0.08018962</td><td>0.1125122</td><td>0.1073505</td><td>0.1310148</td><td>0.1697838</td></tr>\n",
       "\t<tr><th scope=row>396x512</th><td>0.2483143</td><td>0.1512283</td><td>0.08011157</td><td>0.1122250</td><td>0.1072370</td><td>0.1311332</td><td>0.1697506</td></tr>\n",
       "</tbody>\n",
       "</table>\n"
      ],
      "text/latex": [
       "A data.frame: 6 × 7\n",
       "\\begin{tabular}{r|lllllll}\n",
       "  & Macrophages & Monocytes & T cells & NK cells & Dendritic cells & Stromal cells & B cells\\\\\n",
       "  & <dbl> & <dbl> & <dbl> & <dbl> & <dbl> & <dbl> & <dbl>\\\\\n",
       "\\hline\n",
       "\t332x480 & 0.2486352 & 0.1507260 & 0.08011425 & 0.1122454 & 0.1071986 & 0.1311844 & 0.1698962\\\\\n",
       "\t332x496 & 0.2485500 & 0.1507917 & 0.08009989 & 0.1122954 & 0.1072461 & 0.1311785 & 0.1698384\\\\\n",
       "\t332x512 & 0.2486252 & 0.1509313 & 0.08005441 & 0.1124390 & 0.1073759 & 0.1309960 & 0.1695782\\\\\n",
       "\t348x512 & 0.2487715 & 0.1511788 & 0.07998653 & 0.1123467 & 0.1072129 & 0.1308608 & 0.1696428\\\\\n",
       "\t380x512 & 0.2479566 & 0.1511926 & 0.08018962 & 0.1125122 & 0.1073505 & 0.1310148 & 0.1697838\\\\\n",
       "\t396x512 & 0.2483143 & 0.1512283 & 0.08011157 & 0.1122250 & 0.1072370 & 0.1311332 & 0.1697506\\\\\n",
       "\\end{tabular}\n"
      ],
      "text/markdown": [
       "\n",
       "A data.frame: 6 × 7\n",
       "\n",
       "| <!--/--> | Macrophages &lt;dbl&gt; | Monocytes &lt;dbl&gt; | T cells &lt;dbl&gt; | NK cells &lt;dbl&gt; | Dendritic cells &lt;dbl&gt; | Stromal cells &lt;dbl&gt; | B cells &lt;dbl&gt; |\n",
       "|---|---|---|---|---|---|---|---|\n",
       "| 332x480 | 0.2486352 | 0.1507260 | 0.08011425 | 0.1122454 | 0.1071986 | 0.1311844 | 0.1698962 |\n",
       "| 332x496 | 0.2485500 | 0.1507917 | 0.08009989 | 0.1122954 | 0.1072461 | 0.1311785 | 0.1698384 |\n",
       "| 332x512 | 0.2486252 | 0.1509313 | 0.08005441 | 0.1124390 | 0.1073759 | 0.1309960 | 0.1695782 |\n",
       "| 348x512 | 0.2487715 | 0.1511788 | 0.07998653 | 0.1123467 | 0.1072129 | 0.1308608 | 0.1696428 |\n",
       "| 380x512 | 0.2479566 | 0.1511926 | 0.08018962 | 0.1125122 | 0.1073505 | 0.1310148 | 0.1697838 |\n",
       "| 396x512 | 0.2483143 | 0.1512283 | 0.08011157 | 0.1122250 | 0.1072370 | 0.1311332 | 0.1697506 |\n",
       "\n"
      ],
      "text/plain": [
       "        Macrophages Monocytes T cells    NK cells  Dendritic cells\n",
       "332x480 0.2486352   0.1507260 0.08011425 0.1122454 0.1071986      \n",
       "332x496 0.2485500   0.1507917 0.08009989 0.1122954 0.1072461      \n",
       "332x512 0.2486252   0.1509313 0.08005441 0.1124390 0.1073759      \n",
       "348x512 0.2487715   0.1511788 0.07998653 0.1123467 0.1072129      \n",
       "380x512 0.2479566   0.1511926 0.08018962 0.1125122 0.1073505      \n",
       "396x512 0.2483143   0.1512283 0.08011157 0.1122250 0.1072370      \n",
       "        Stromal cells B cells  \n",
       "332x480 0.1311844     0.1698962\n",
       "332x496 0.1311785     0.1698384\n",
       "332x512 0.1309960     0.1695782\n",
       "348x512 0.1308608     0.1696428\n",
       "380x512 0.1310148     0.1697838\n",
       "396x512 0.1311332     0.1697506"
      ]
     },
     "metadata": {},
     "output_type": "display_data"
    },
    {
     "data": {
      "text/html": [
       "<table class=\"dataframe\">\n",
       "<caption>A data.frame: 6 × 2</caption>\n",
       "<thead>\n",
       "\t<tr><th></th><th scope=col>x</th><th scope=col>y</th></tr>\n",
       "\t<tr><th></th><th scope=col>&lt;dbl&gt;</th><th scope=col>&lt;dbl&gt;</th></tr>\n",
       "</thead>\n",
       "<tbody>\n",
       "\t<tr><th scope=row>332x480</th><td>332</td><td>480</td></tr>\n",
       "\t<tr><th scope=row>332x496</th><td>332</td><td>496</td></tr>\n",
       "\t<tr><th scope=row>332x512</th><td>332</td><td>512</td></tr>\n",
       "\t<tr><th scope=row>348x512</th><td>348</td><td>512</td></tr>\n",
       "\t<tr><th scope=row>380x512</th><td>380</td><td>512</td></tr>\n",
       "\t<tr><th scope=row>396x512</th><td>396</td><td>512</td></tr>\n",
       "</tbody>\n",
       "</table>\n"
      ],
      "text/latex": [
       "A data.frame: 6 × 2\n",
       "\\begin{tabular}{r|ll}\n",
       "  & x & y\\\\\n",
       "  & <dbl> & <dbl>\\\\\n",
       "\\hline\n",
       "\t332x480 & 332 & 480\\\\\n",
       "\t332x496 & 332 & 496\\\\\n",
       "\t332x512 & 332 & 512\\\\\n",
       "\t348x512 & 348 & 512\\\\\n",
       "\t380x512 & 380 & 512\\\\\n",
       "\t396x512 & 396 & 512\\\\\n",
       "\\end{tabular}\n"
      ],
      "text/markdown": [
       "\n",
       "A data.frame: 6 × 2\n",
       "\n",
       "| <!--/--> | x &lt;dbl&gt; | y &lt;dbl&gt; |\n",
       "|---|---|---|\n",
       "| 332x480 | 332 | 480 |\n",
       "| 332x496 | 332 | 496 |\n",
       "| 332x512 | 332 | 512 |\n",
       "| 348x512 | 348 | 512 |\n",
       "| 380x512 | 380 | 512 |\n",
       "| 396x512 | 396 | 512 |\n",
       "\n"
      ],
      "text/plain": [
       "        x   y  \n",
       "332x480 332 480\n",
       "332x496 332 496\n",
       "332x512 332 512\n",
       "348x512 348 512\n",
       "380x512 380 512\n",
       "396x512 396 512"
      ]
     },
     "metadata": {},
     "output_type": "display_data"
    }
   ],
   "source": [
    "df <- as.data.frame(CARD_obj@refined_prop)\n",
    "head(df)\n",
    "\n",
    "head(location_imputation)"
   ]
  },
  {
   "cell_type": "code",
   "execution_count": 11,
   "id": "45a0920f-576c-4022-923b-82e6af663ea7",
   "metadata": {},
   "outputs": [
    {
     "data": {
      "text/html": [
       "<style>\n",
       ".list-inline {list-style: none; margin:0; padding: 0}\n",
       ".list-inline>li {display: inline-block}\n",
       ".list-inline>li:not(:last-child)::after {content: \"\\00b7\"; padding: 0 .5ex}\n",
       "</style>\n",
       "<ol class=list-inline><li>2637</li><li>7</li></ol>\n"
      ],
      "text/latex": [
       "\\begin{enumerate*}\n",
       "\\item 2637\n",
       "\\item 7\n",
       "\\end{enumerate*}\n"
      ],
      "text/markdown": [
       "1. 2637\n",
       "2. 7\n",
       "\n",
       "\n"
      ],
      "text/plain": [
       "[1] 2637    7"
      ]
     },
     "metadata": {},
     "output_type": "display_data"
    },
    {
     "data": {
      "text/html": [
       "<table class=\"dataframe\">\n",
       "<caption>A data.frame: 6 × 7</caption>\n",
       "<thead>\n",
       "\t<tr><th></th><th scope=col>Macrophages</th><th scope=col>Monocytes</th><th scope=col>T cells</th><th scope=col>NK cells</th><th scope=col>Dendritic cells</th><th scope=col>Stromal cells</th><th scope=col>B cells</th></tr>\n",
       "\t<tr><th></th><th scope=col>&lt;dbl&gt;</th><th scope=col>&lt;dbl&gt;</th><th scope=col>&lt;dbl&gt;</th><th scope=col>&lt;dbl&gt;</th><th scope=col>&lt;dbl&gt;</th><th scope=col>&lt;dbl&gt;</th><th scope=col>&lt;dbl&gt;</th></tr>\n",
       "</thead>\n",
       "<tbody>\n",
       "\t<tr><th scope=row>332x480</th><td>0.2486352</td><td>0.1507260</td><td>0.08011425</td><td>0.1122454</td><td>0.1071986</td><td>0.1311844</td><td>0.1698962</td></tr>\n",
       "\t<tr><th scope=row>332x496</th><td>0.2485500</td><td>0.1507917</td><td>0.08009989</td><td>0.1122954</td><td>0.1072461</td><td>0.1311785</td><td>0.1698384</td></tr>\n",
       "\t<tr><th scope=row>332x512</th><td>0.2486252</td><td>0.1509313</td><td>0.08005441</td><td>0.1124390</td><td>0.1073759</td><td>0.1309960</td><td>0.1695782</td></tr>\n",
       "\t<tr><th scope=row>348x512</th><td>0.2487715</td><td>0.1511788</td><td>0.07998653</td><td>0.1123467</td><td>0.1072129</td><td>0.1308608</td><td>0.1696428</td></tr>\n",
       "\t<tr><th scope=row>380x512</th><td>0.2479566</td><td>0.1511926</td><td>0.08018962</td><td>0.1125122</td><td>0.1073505</td><td>0.1310148</td><td>0.1697838</td></tr>\n",
       "\t<tr><th scope=row>396x512</th><td>0.2483143</td><td>0.1512283</td><td>0.08011157</td><td>0.1122250</td><td>0.1072370</td><td>0.1311332</td><td>0.1697506</td></tr>\n",
       "</tbody>\n",
       "</table>\n"
      ],
      "text/latex": [
       "A data.frame: 6 × 7\n",
       "\\begin{tabular}{r|lllllll}\n",
       "  & Macrophages & Monocytes & T cells & NK cells & Dendritic cells & Stromal cells & B cells\\\\\n",
       "  & <dbl> & <dbl> & <dbl> & <dbl> & <dbl> & <dbl> & <dbl>\\\\\n",
       "\\hline\n",
       "\t332x480 & 0.2486352 & 0.1507260 & 0.08011425 & 0.1122454 & 0.1071986 & 0.1311844 & 0.1698962\\\\\n",
       "\t332x496 & 0.2485500 & 0.1507917 & 0.08009989 & 0.1122954 & 0.1072461 & 0.1311785 & 0.1698384\\\\\n",
       "\t332x512 & 0.2486252 & 0.1509313 & 0.08005441 & 0.1124390 & 0.1073759 & 0.1309960 & 0.1695782\\\\\n",
       "\t348x512 & 0.2487715 & 0.1511788 & 0.07998653 & 0.1123467 & 0.1072129 & 0.1308608 & 0.1696428\\\\\n",
       "\t380x512 & 0.2479566 & 0.1511926 & 0.08018962 & 0.1125122 & 0.1073505 & 0.1310148 & 0.1697838\\\\\n",
       "\t396x512 & 0.2483143 & 0.1512283 & 0.08011157 & 0.1122250 & 0.1072370 & 0.1311332 & 0.1697506\\\\\n",
       "\\end{tabular}\n"
      ],
      "text/markdown": [
       "\n",
       "A data.frame: 6 × 7\n",
       "\n",
       "| <!--/--> | Macrophages &lt;dbl&gt; | Monocytes &lt;dbl&gt; | T cells &lt;dbl&gt; | NK cells &lt;dbl&gt; | Dendritic cells &lt;dbl&gt; | Stromal cells &lt;dbl&gt; | B cells &lt;dbl&gt; |\n",
       "|---|---|---|---|---|---|---|---|\n",
       "| 332x480 | 0.2486352 | 0.1507260 | 0.08011425 | 0.1122454 | 0.1071986 | 0.1311844 | 0.1698962 |\n",
       "| 332x496 | 0.2485500 | 0.1507917 | 0.08009989 | 0.1122954 | 0.1072461 | 0.1311785 | 0.1698384 |\n",
       "| 332x512 | 0.2486252 | 0.1509313 | 0.08005441 | 0.1124390 | 0.1073759 | 0.1309960 | 0.1695782 |\n",
       "| 348x512 | 0.2487715 | 0.1511788 | 0.07998653 | 0.1123467 | 0.1072129 | 0.1308608 | 0.1696428 |\n",
       "| 380x512 | 0.2479566 | 0.1511926 | 0.08018962 | 0.1125122 | 0.1073505 | 0.1310148 | 0.1697838 |\n",
       "| 396x512 | 0.2483143 | 0.1512283 | 0.08011157 | 0.1122250 | 0.1072370 | 0.1311332 | 0.1697506 |\n",
       "\n"
      ],
      "text/plain": [
       "        Macrophages Monocytes T cells    NK cells  Dendritic cells\n",
       "332x480 0.2486352   0.1507260 0.08011425 0.1122454 0.1071986      \n",
       "332x496 0.2485500   0.1507917 0.08009989 0.1122954 0.1072461      \n",
       "332x512 0.2486252   0.1509313 0.08005441 0.1124390 0.1073759      \n",
       "348x512 0.2487715   0.1511788 0.07998653 0.1123467 0.1072129      \n",
       "380x512 0.2479566   0.1511926 0.08018962 0.1125122 0.1073505      \n",
       "396x512 0.2483143   0.1512283 0.08011157 0.1122250 0.1072370      \n",
       "        Stromal cells B cells  \n",
       "332x480 0.1311844     0.1698962\n",
       "332x496 0.1311785     0.1698384\n",
       "332x512 0.1309960     0.1695782\n",
       "348x512 0.1308608     0.1696428\n",
       "380x512 0.1310148     0.1697838\n",
       "396x512 0.1311332     0.1697506"
      ]
     },
     "metadata": {},
     "output_type": "display_data"
    }
   ],
   "source": [
    "# save the high res file\n",
    "# head(location_imputation)\n",
    "\n",
    "props.df.refined <- as.data.frame(CARD_obj@refined_prop)\n",
    "\n",
    "outDir = \"/nfs/turbo/umms-indikar/shared/projects/spatial_transcriptomics/data/CARDOuputs/\"\n",
    "outpath = glue(\"{outDir}{key}_{subId}CARD_refined.csv\")\n",
    "\n",
    "write.csv(props.df, \n",
    "          outpath, \n",
    "          row.names=TRUE)\n",
    "\n",
    "dim(props.df.refined)\n",
    "head(props.df.refined)"
   ]
  },
  {
   "cell_type": "code",
   "execution_count": 12,
   "id": "f54fec6a-1af9-4095-adcd-6e986de764c6",
   "metadata": {},
   "outputs": [],
   "source": [
    "# pp <- CARD.visualize.gene(\n",
    "# \tspatial_expression = CARD_obj@refined_expression,\n",
    "# \tspatial_location = location_imputation,\n",
    "# \tgene.visualize = c(\"LPL\", \"RPL4\"),\n",
    "# \tcolors = NULL,\n",
    "# \tNumCols = 2)\n",
    "\n",
    "# ggsave(\"cardFigures/genes.png\",\n",
    "#        width = 20, \n",
    "#        height = 20, \n",
    "#        units = \"cm\")\n",
    "\n",
    "# print('done')"
   ]
  },
  {
   "cell_type": "code",
   "execution_count": 13,
   "id": "c57afcc3-480f-4e9d-9357-11bbeab239db",
   "metadata": {},
   "outputs": [],
   "source": [
    "# exp.df <- as.data.frame(rowSums(spt))\n",
    "# exp.df$names <- rownames(exp.df)\n",
    "# exp.df.sorted <- exp.df[order(exp.df$rowSums, decreasing = TRUE),]\n",
    "# head(exp.df.sorted, 20)"
   ]
  },
  {
   "cell_type": "code",
   "execution_count": 14,
   "id": "efe90ae8-3cc6-4732-9c58-46908c9126e7",
   "metadata": {},
   "outputs": [],
   "source": [
    "# ## select the cell type that we are interested\n",
    "# ct.visualize = unique(meta.df$cellType)\n",
    "\n",
    "# ## visualize the spatial distribution of the cell type proportion\n",
    "# p <- CARD.visualize.prop(\n",
    "# \tproportion = CARD_obj@Proportion_CARD,        \n",
    "# \tspatial_location = CARD_obj@spatial_location, \n",
    "# \tct.visualize = ct.visualize,\n",
    "#     colors = c(\"lightblue\",\"lightyellow\",\"red\"),\n",
    "#     NumCols=4\n",
    "# )\n",
    "\n",
    "# ggsave(\"test.png\", width = 20, height = 20, units = \"cm\")\n",
    "\n",
    "\n",
    "\n",
    "# # print(p2)"
   ]
  }
 ],
 "metadata": {
  "kernelspec": {
   "display_name": "R",
   "language": "R",
   "name": "ir"
  },
  "language_info": {
   "codemirror_mode": "r",
   "file_extension": ".r",
   "mimetype": "text/x-r-source",
   "name": "R",
   "pygments_lexer": "r",
   "version": "4.2.2"
  }
 },
 "nbformat": 4,
 "nbformat_minor": 5
}
