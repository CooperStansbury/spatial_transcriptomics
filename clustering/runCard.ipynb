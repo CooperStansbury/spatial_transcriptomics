{
 "cells": [
  {
   "cell_type": "code",
   "execution_count": 1,
   "id": "cc7be27f-675e-4560-b2d4-9a81ffc1c2d0",
   "metadata": {},
   "outputs": [
    {
     "name": "stderr",
     "output_type": "stream",
     "text": [
      "Warning message:\n",
      "“replacing previous import ‘RcppML::nmf’ by ‘NMF::nmf’ when loading ‘CARD’”\n"
     ]
    }
   ],
   "source": [
    "suppressMessages(library(\"CARD\", quietly = T))\n",
    "suppressMessages(library(\"ggplot2\", quietly = T))\n",
    "suppressMessages(library(\"reshape2\", quietly = T))\n",
    "suppressMessages(library(\"gtools\", quietly = T))\n",
    "suppressMessages(library(\"scatterpie\", quietly = T))\n",
    "suppressMessages(library(\"glue\", quietly = T))"
   ]
  },
  {
   "cell_type": "code",
   "execution_count": 2,
   "id": "a26f0ed8-6fd5-4f05-ae04-d3c3bf6bebfe",
   "metadata": {},
   "outputs": [],
   "source": [
    "# devtools::install_github('xuranw/MuSiC')"
   ]
  },
  {
   "cell_type": "code",
   "execution_count": 3,
   "id": "04101789-c2bd-4b61-8cee-0debd59c04b2",
   "metadata": {},
   "outputs": [
    {
     "data": {
      "text/html": [
       "<style>\n",
       ".list-inline {list-style: none; margin:0; padding: 0}\n",
       ".list-inline>li {display: inline-block}\n",
       ".list-inline>li:not(:last-child)::after {content: \"\\00b7\"; padding: 0 .5ex}\n",
       "</style>\n",
       "<ol class=list-inline><li>31053</li><li>1994</li></ol>\n"
      ],
      "text/latex": [
       "\\begin{enumerate*}\n",
       "\\item 31053\n",
       "\\item 1994\n",
       "\\end{enumerate*}\n"
      ],
      "text/markdown": [
       "1. 31053\n",
       "2. 1994\n",
       "\n",
       "\n"
      ],
      "text/plain": [
       "[1] 31053  1994"
      ]
     },
     "metadata": {},
     "output_type": "display_data"
    },
    {
     "data": {
      "text/html": [
       "<style>\n",
       ".list-inline {list-style: none; margin:0; padding: 0}\n",
       ".list-inline>li {display: inline-block}\n",
       ".list-inline>li:not(:last-child)::after {content: \"\\00b7\"; padding: 0 .5ex}\n",
       "</style>\n",
       "<ol class=list-inline><li>1994</li><li>2</li></ol>\n"
      ],
      "text/latex": [
       "\\begin{enumerate*}\n",
       "\\item 1994\n",
       "\\item 2\n",
       "\\end{enumerate*}\n"
      ],
      "text/markdown": [
       "1. 1994\n",
       "2. 2\n",
       "\n",
       "\n"
      ],
      "text/plain": [
       "[1] 1994    2"
      ]
     },
     "metadata": {},
     "output_type": "display_data"
    },
    {
     "data": {
      "text/html": [
       "<style>\n",
       ".list-inline {list-style: none; margin:0; padding: 0}\n",
       ".list-inline>li {display: inline-block}\n",
       ".list-inline>li:not(:last-child)::after {content: \"\\00b7\"; padding: 0 .5ex}\n",
       "</style>\n",
       "<ol class=list-inline><li>31053</li><li>6436</li></ol>\n"
      ],
      "text/latex": [
       "\\begin{enumerate*}\n",
       "\\item 31053\n",
       "\\item 6436\n",
       "\\end{enumerate*}\n"
      ],
      "text/markdown": [
       "1. 31053\n",
       "2. 6436\n",
       "\n",
       "\n"
      ],
      "text/plain": [
       "[1] 31053  6436"
      ]
     },
     "metadata": {},
     "output_type": "display_data"
    },
    {
     "data": {
      "text/html": [
       "<style>\n",
       ".list-inline {list-style: none; margin:0; padding: 0}\n",
       ".list-inline>li {display: inline-block}\n",
       ".list-inline>li:not(:last-child)::after {content: \"\\00b7\"; padding: 0 .5ex}\n",
       "</style>\n",
       "<ol class=list-inline><li>6436</li><li>3</li></ol>\n"
      ],
      "text/latex": [
       "\\begin{enumerate*}\n",
       "\\item 6436\n",
       "\\item 3\n",
       "\\end{enumerate*}\n"
      ],
      "text/markdown": [
       "1. 6436\n",
       "2. 3\n",
       "\n",
       "\n"
      ],
      "text/plain": [
       "[1] 6436    3"
      ]
     },
     "metadata": {},
     "output_type": "display_data"
    }
   ],
   "source": [
    "# load spatial data\n",
    "key = \"HFD14\"\n",
    "subId = \"macrophage_\"\n",
    "# subId = \"\"\n",
    "inputDir = \"/nfs/turbo/umms-indikar/shared/projects/spatial_transcriptomics/data/CARDInputs/\"\n",
    "\n",
    "sptPath = glue(\"{inputDir}{key}_{subId}spt.csv\")\n",
    "spt.df <- read.csv(sptPath)\n",
    "rownames(spt.df) <- spt.df[,1]\n",
    "spt.df <- spt.df[,-1]\n",
    "spt <- as.matrix(spt.df)\n",
    "dim(spt)\n",
    "\n",
    "# load spatial coordinates\n",
    "xyPath = glue(\"{inputDir}{key}_{subId}coords.csv\")\n",
    "xy.df <- read.csv(xyPath)\n",
    "rownames(xy.df) <- xy.df[,1]\n",
    "xy.df <- xy.df[,-1]\n",
    "dim(xy.df)\n",
    "\n",
    "# load the rna seq data\n",
    "rnaPath = glue(\"{inputDir}{key}_{subId}rna.csv\")\n",
    "rna.df <- read.csv(rnaPath)\n",
    "rownames(rna.df) <- rna.df[,1]\n",
    "rna.df <- rna.df[,-1]\n",
    "rna <- as.matrix(rna.df)\n",
    "dim(rna)\n",
    "\n",
    "# load the annotations\n",
    "metaPath = glue(\"{inputDir}{key}_{subId}clusters.csv\")\n",
    "meta.df <- read.csv(metaPath)\n",
    "rownames(meta.df) <- meta.df$cellId\n",
    "dim(meta.df)"
   ]
  },
  {
   "cell_type": "code",
   "execution_count": 4,
   "id": "8dfbedd2-e37f-4f64-af2e-ce37e1f55113",
   "metadata": {},
   "outputs": [
    {
     "name": "stdout",
     "output_type": "stream",
     "text": [
      "## QC on scRNASeq dataset! ...\n",
      "## QC on spatially-resolved dataset! ...\n"
     ]
    }
   ],
   "source": [
    "CARD_obj = createCARDObject(\n",
    "\tsc_count = rna,\n",
    "\tsc_meta = meta.df,\n",
    "\tspatial_count = spt,\n",
    "\tspatial_location = xy.df,\n",
    "\tct.varname = \"cellType\",\n",
    "\tct.select = unique(meta.df$cellType),\n",
    "\tsample.varname = \"sampleInfo\",\n",
    "\tminCountGene = 20,\n",
    "\tminCountSpot = 5)"
   ]
  },
  {
   "cell_type": "code",
   "execution_count": 5,
   "id": "daf4da26-34bf-4930-910a-a8d85459305d",
   "metadata": {},
   "outputs": [
    {
     "name": "stdout",
     "output_type": "stream",
     "text": [
      "## create reference matrix from scRNASeq...\n",
      "## Select Informative Genes! ...\n",
      "## Deconvolution Starts! ...\n",
      "## Deconvolution Finish! ...\n"
     ]
    }
   ],
   "source": [
    "CARD_obj = suppressMessages(CARD_deconvolution(CARD_object = CARD_obj))"
   ]
  },
  {
   "cell_type": "code",
   "execution_count": 6,
   "id": "2282b4fb-da66-404b-90df-db2e5f310686",
   "metadata": {},
   "outputs": [
    {
     "data": {
      "text/html": [
       "<style>\n",
       ".list-inline {list-style: none; margin:0; padding: 0}\n",
       ".list-inline>li {display: inline-block}\n",
       ".list-inline>li:not(:last-child)::after {content: \"\\00b7\"; padding: 0 .5ex}\n",
       "</style>\n",
       "<ol class=list-inline><li>1991</li><li>11</li></ol>\n"
      ],
      "text/latex": [
       "\\begin{enumerate*}\n",
       "\\item 1991\n",
       "\\item 11\n",
       "\\end{enumerate*}\n"
      ],
      "text/markdown": [
       "1. 1991\n",
       "2. 11\n",
       "\n",
       "\n"
      ],
      "text/plain": [
       "[1] 1991   11"
      ]
     },
     "metadata": {},
     "output_type": "display_data"
    },
    {
     "data": {
      "text/html": [
       "<table class=\"dataframe\">\n",
       "<caption>A data.frame: 6 × 11</caption>\n",
       "<thead>\n",
       "\t<tr><th></th><th scope=col>M2</th><th scope=col>M1</th><th scope=col>Monocytes</th><th scope=col>T cells</th><th scope=col>M5</th><th scope=col>NK cells</th><th scope=col>Dendritic cells</th><th scope=col>Stromal cells</th><th scope=col>B cells</th><th scope=col>M4</th><th scope=col>M3</th></tr>\n",
       "\t<tr><th></th><th scope=col>&lt;dbl&gt;</th><th scope=col>&lt;dbl&gt;</th><th scope=col>&lt;dbl&gt;</th><th scope=col>&lt;dbl&gt;</th><th scope=col>&lt;dbl&gt;</th><th scope=col>&lt;dbl&gt;</th><th scope=col>&lt;dbl&gt;</th><th scope=col>&lt;dbl&gt;</th><th scope=col>&lt;dbl&gt;</th><th scope=col>&lt;dbl&gt;</th><th scope=col>&lt;dbl&gt;</th></tr>\n",
       "</thead>\n",
       "<tbody>\n",
       "\t<tr><th scope=row>AAACATTTCCCGGATT.1</th><td>0.03642540</td><td>0.25133895</td><td>0.06975495</td><td>0.026716252</td><td>0.014474067</td><td>0.024719757</td><td>0.055228746</td><td>0.40783756</td><td>0.06265205</td><td>0.01884796</td><td>0.032004315</td></tr>\n",
       "\t<tr><th scope=row>AAACCGGGTAGGTACC.1</th><td>0.08062658</td><td>0.58662310</td><td>0.12289673</td><td>0.006747509</td><td>0.007289972</td><td>0.001327306</td><td>0.023560875</td><td>0.09139413</td><td>0.01233849</td><td>0.02859301</td><td>0.038602290</td></tr>\n",
       "\t<tr><th scope=row>AAACCGTTCGTCCAGG.1</th><td>0.01581330</td><td>0.22899183</td><td>0.16583649</td><td>0.036051874</td><td>0.003334284</td><td>0.119806615</td><td>0.066582466</td><td>0.19961083</td><td>0.05404725</td><td>0.04250378</td><td>0.067421276</td></tr>\n",
       "\t<tr><th scope=row>AAACCTAAGCAGCCGG.1</th><td>0.01439056</td><td>0.18963856</td><td>0.17036426</td><td>0.092808081</td><td>0.005847792</td><td>0.145929785</td><td>0.032867037</td><td>0.18243907</td><td>0.08822633</td><td>0.02832671</td><td>0.049161825</td></tr>\n",
       "\t<tr><th scope=row>AAACCTCATGAAGTTG.1</th><td>0.06188912</td><td>0.26647808</td><td>0.10882667</td><td>0.034574570</td><td>0.044545315</td><td>0.104600520</td><td>0.040395652</td><td>0.16166471</td><td>0.06359788</td><td>0.05689028</td><td>0.056537213</td></tr>\n",
       "\t<tr><th scope=row>AAACGGGCGTACGGGT.1</th><td>0.02541731</td><td>0.02487756</td><td>0.05831213</td><td>0.041947123</td><td>0.040203159</td><td>0.006926108</td><td>0.002005388</td><td>0.73596646</td><td>0.03726648</td><td>0.02211053</td><td>0.004967763</td></tr>\n",
       "</tbody>\n",
       "</table>\n"
      ],
      "text/latex": [
       "A data.frame: 6 × 11\n",
       "\\begin{tabular}{r|lllllllllll}\n",
       "  & M2 & M1 & Monocytes & T cells & M5 & NK cells & Dendritic cells & Stromal cells & B cells & M4 & M3\\\\\n",
       "  & <dbl> & <dbl> & <dbl> & <dbl> & <dbl> & <dbl> & <dbl> & <dbl> & <dbl> & <dbl> & <dbl>\\\\\n",
       "\\hline\n",
       "\tAAACATTTCCCGGATT.1 & 0.03642540 & 0.25133895 & 0.06975495 & 0.026716252 & 0.014474067 & 0.024719757 & 0.055228746 & 0.40783756 & 0.06265205 & 0.01884796 & 0.032004315\\\\\n",
       "\tAAACCGGGTAGGTACC.1 & 0.08062658 & 0.58662310 & 0.12289673 & 0.006747509 & 0.007289972 & 0.001327306 & 0.023560875 & 0.09139413 & 0.01233849 & 0.02859301 & 0.038602290\\\\\n",
       "\tAAACCGTTCGTCCAGG.1 & 0.01581330 & 0.22899183 & 0.16583649 & 0.036051874 & 0.003334284 & 0.119806615 & 0.066582466 & 0.19961083 & 0.05404725 & 0.04250378 & 0.067421276\\\\\n",
       "\tAAACCTAAGCAGCCGG.1 & 0.01439056 & 0.18963856 & 0.17036426 & 0.092808081 & 0.005847792 & 0.145929785 & 0.032867037 & 0.18243907 & 0.08822633 & 0.02832671 & 0.049161825\\\\\n",
       "\tAAACCTCATGAAGTTG.1 & 0.06188912 & 0.26647808 & 0.10882667 & 0.034574570 & 0.044545315 & 0.104600520 & 0.040395652 & 0.16166471 & 0.06359788 & 0.05689028 & 0.056537213\\\\\n",
       "\tAAACGGGCGTACGGGT.1 & 0.02541731 & 0.02487756 & 0.05831213 & 0.041947123 & 0.040203159 & 0.006926108 & 0.002005388 & 0.73596646 & 0.03726648 & 0.02211053 & 0.004967763\\\\\n",
       "\\end{tabular}\n"
      ],
      "text/markdown": [
       "\n",
       "A data.frame: 6 × 11\n",
       "\n",
       "| <!--/--> | M2 &lt;dbl&gt; | M1 &lt;dbl&gt; | Monocytes &lt;dbl&gt; | T cells &lt;dbl&gt; | M5 &lt;dbl&gt; | NK cells &lt;dbl&gt; | Dendritic cells &lt;dbl&gt; | Stromal cells &lt;dbl&gt; | B cells &lt;dbl&gt; | M4 &lt;dbl&gt; | M3 &lt;dbl&gt; |\n",
       "|---|---|---|---|---|---|---|---|---|---|---|---|\n",
       "| AAACATTTCCCGGATT.1 | 0.03642540 | 0.25133895 | 0.06975495 | 0.026716252 | 0.014474067 | 0.024719757 | 0.055228746 | 0.40783756 | 0.06265205 | 0.01884796 | 0.032004315 |\n",
       "| AAACCGGGTAGGTACC.1 | 0.08062658 | 0.58662310 | 0.12289673 | 0.006747509 | 0.007289972 | 0.001327306 | 0.023560875 | 0.09139413 | 0.01233849 | 0.02859301 | 0.038602290 |\n",
       "| AAACCGTTCGTCCAGG.1 | 0.01581330 | 0.22899183 | 0.16583649 | 0.036051874 | 0.003334284 | 0.119806615 | 0.066582466 | 0.19961083 | 0.05404725 | 0.04250378 | 0.067421276 |\n",
       "| AAACCTAAGCAGCCGG.1 | 0.01439056 | 0.18963856 | 0.17036426 | 0.092808081 | 0.005847792 | 0.145929785 | 0.032867037 | 0.18243907 | 0.08822633 | 0.02832671 | 0.049161825 |\n",
       "| AAACCTCATGAAGTTG.1 | 0.06188912 | 0.26647808 | 0.10882667 | 0.034574570 | 0.044545315 | 0.104600520 | 0.040395652 | 0.16166471 | 0.06359788 | 0.05689028 | 0.056537213 |\n",
       "| AAACGGGCGTACGGGT.1 | 0.02541731 | 0.02487756 | 0.05831213 | 0.041947123 | 0.040203159 | 0.006926108 | 0.002005388 | 0.73596646 | 0.03726648 | 0.02211053 | 0.004967763 |\n",
       "\n"
      ],
      "text/plain": [
       "                   M2         M1         Monocytes  T cells     M5         \n",
       "AAACATTTCCCGGATT.1 0.03642540 0.25133895 0.06975495 0.026716252 0.014474067\n",
       "AAACCGGGTAGGTACC.1 0.08062658 0.58662310 0.12289673 0.006747509 0.007289972\n",
       "AAACCGTTCGTCCAGG.1 0.01581330 0.22899183 0.16583649 0.036051874 0.003334284\n",
       "AAACCTAAGCAGCCGG.1 0.01439056 0.18963856 0.17036426 0.092808081 0.005847792\n",
       "AAACCTCATGAAGTTG.1 0.06188912 0.26647808 0.10882667 0.034574570 0.044545315\n",
       "AAACGGGCGTACGGGT.1 0.02541731 0.02487756 0.05831213 0.041947123 0.040203159\n",
       "                   NK cells    Dendritic cells Stromal cells B cells   \n",
       "AAACATTTCCCGGATT.1 0.024719757 0.055228746     0.40783756    0.06265205\n",
       "AAACCGGGTAGGTACC.1 0.001327306 0.023560875     0.09139413    0.01233849\n",
       "AAACCGTTCGTCCAGG.1 0.119806615 0.066582466     0.19961083    0.05404725\n",
       "AAACCTAAGCAGCCGG.1 0.145929785 0.032867037     0.18243907    0.08822633\n",
       "AAACCTCATGAAGTTG.1 0.104600520 0.040395652     0.16166471    0.06359788\n",
       "AAACGGGCGTACGGGT.1 0.006926108 0.002005388     0.73596646    0.03726648\n",
       "                   M4         M3         \n",
       "AAACATTTCCCGGATT.1 0.01884796 0.032004315\n",
       "AAACCGGGTAGGTACC.1 0.02859301 0.038602290\n",
       "AAACCGTTCGTCCAGG.1 0.04250378 0.067421276\n",
       "AAACCTAAGCAGCCGG.1 0.02832671 0.049161825\n",
       "AAACCTCATGAAGTTG.1 0.05689028 0.056537213\n",
       "AAACGGGCGTACGGGT.1 0.02211053 0.004967763"
      ]
     },
     "metadata": {},
     "output_type": "display_data"
    }
   ],
   "source": [
    "props.df <- as.data.frame(CARD_obj@Proportion_CARD)\n",
    "\n",
    "outDir = \"/nfs/turbo/umms-indikar/shared/projects/spatial_transcriptomics/data/CARDOuputs/\"\n",
    "outpath = glue(\"{outDir}{key}_{subId}CARD.csv\")\n",
    "\n",
    "write.csv(props.df, \n",
    "          outpath, \n",
    "          row.names=TRUE)\n",
    "\n",
    "dim(props.df)\n",
    "\n",
    "head(props.df)"
   ]
  },
  {
   "cell_type": "code",
   "execution_count": 7,
   "id": "677ca92b-32f2-455c-ba46-b692ebbb3245",
   "metadata": {},
   "outputs": [],
   "source": [
    "# # pieViz <- function(proportion, spatial_location){\n",
    "# #     res_CARD = as.data.frame(proportion)\n",
    "# #     res_CARD = res_CARD[,mixedsort(colnames(res_CARD))]\n",
    "# #     location = as.data.frame(spatial_location) \n",
    "# #     colors = colorRampPalette(c(\"Blue\", \"Red\"))(ncol(res_CARD))\n",
    "# #     data = cbind(res_CARD,location)\n",
    "# #     ct.select = colnames(res_CARD)\n",
    "# #     p = ggplot() + \n",
    "# #         geom_scatterpie(aes(x=x, y=y, r = 1), \n",
    "# #                         data=data,\n",
    "# #                         cols=ct.select,color=NA) + \n",
    "# #         coord_fixed(ratio = 1) + \n",
    "# #         scale_fill_manual(values = colors) \n",
    "# #     return(p)\n",
    "    \n",
    "# # }\n",
    "\n",
    "# p <- CARD.visualize.pie(proportion = CARD_obj@Proportion_CARD,\n",
    "#                         spatial_location = CARD_obj@spatial_location)\n",
    "                   \n",
    "# ggsave(\"cardFigures/mixtures.png\",\n",
    "#        width = 50, \n",
    "#        height = 50, \n",
    "#        units = \"cm\")\n",
    "\n",
    "# print('done')"
   ]
  },
  {
   "cell_type": "code",
   "execution_count": 8,
   "id": "ca8cb70e-6ca9-4ebc-852d-34386be53a99",
   "metadata": {},
   "outputs": [
    {
     "name": "stdout",
     "output_type": "stream",
     "text": [
      "[1] \"done\"\n"
     ]
    }
   ],
   "source": [
    "visCells <- function(proportion, spatial_location, ct.visualize, colors, NumCols, pntSize){\n",
    "    res_CARD = as.data.frame(proportion)\n",
    "    res_CARD = res_CARD[,order(colnames(res_CARD))]\n",
    "    location = as.data.frame(spatial_location)\n",
    "    if(sum(rownames(res_CARD)==rownames(location))!= nrow(res_CARD)){\n",
    "    stop(\"The rownames of proportion data does not match with the rownames of spatial location data\")\n",
    "    }\n",
    "    ct.select = ct.visualize\n",
    "    res_CARD = res_CARD[,ct.select]\n",
    "    res_CARD_scale = as.data.frame(apply(res_CARD,2,function(x){\n",
    "    (x - min(x)) / (max(x) - min(x))\n",
    "    } ))\n",
    "    res_CARD_scale$x = as.numeric(location$x)\n",
    "    res_CARD_scale$y = as.numeric(location$y)\n",
    "    mData = melt(res_CARD_scale,id.vars = c(\"x\",\"y\"))\n",
    "    colnames(mData)[3] <- \"Cell_Type\"\n",
    "    b = c(0,1)\n",
    "    \n",
    "    p = ggplot(mData, aes(x, y))  +\n",
    "    geom_point(aes(colour = value), size = pntSize) +\n",
    "    scale_color_gradientn(colours = colors) + \n",
    "    scale_y_reverse() +\n",
    "    facet_wrap(~Cell_Type,ncol = NumCols)+ \n",
    "    coord_fixed()+\n",
    "    theme(axis.text = element_blank(),\n",
    "          axis.ticks = element_blank(),\n",
    "          axis.title = element_blank(),\n",
    "          panel.background = element_blank(),\n",
    "          plot.background = element_blank(),\n",
    "          panel.grid.major = element_blank(), \n",
    "          panel.grid.minor = element_blank(),\n",
    "         )\n",
    "    return(p)\n",
    "}\n",
    "\n",
    "p <- visCells(CARD_obj@Proportion_CARD,\n",
    "         CARD_obj@spatial_location,\n",
    "         unique(meta.df$cellType),\n",
    "         c(\"lightblue\",\"lightyellow\",\"red\"),\n",
    "         4, \n",
    "         0.1)\n",
    "\n",
    "figDir = \"cardFigures/\"\n",
    "outpath = glue(\"{figDir}{key}_{subId}spots.png\")\n",
    "ggsave(outpath,\n",
    "       width = 20, \n",
    "       height = 20, \n",
    "       units = \"cm\")\n",
    "\n",
    "print('done')"
   ]
  },
  {
   "cell_type": "code",
   "execution_count": 9,
   "id": "aa63bbc2-ea51-494c-8e14-b8bd2300e837",
   "metadata": {},
   "outputs": [
    {
     "name": "stdout",
     "output_type": "stream",
     "text": [
      "## The rownames of locations are matched ...\n",
      "## Make grids on new spatial locations ...\n",
      "[1] \"done\"\n"
     ]
    }
   ],
   "source": [
    "CARD_obj = CARD.imputation(CARD_obj,\n",
    "                           NumGrids = 10000,\n",
    "                           ineibor = 9,\n",
    "                           exclude = NULL)\n",
    "\n",
    "location_imputation = cbind.data.frame(x=as.numeric(sapply(strsplit(rownames(CARD_obj@refined_prop),split=\"x\"),\"[\",1)),\n",
    "                                       y=as.numeric(sapply(strsplit(rownames(CARD_obj@refined_prop),split=\"x\"),\"[\",2)))\n",
    "\n",
    "rownames(location_imputation) = rownames(CARD_obj@refined_prop)\n",
    "\n",
    "p <-visCells(\n",
    "\tCARD_obj@refined_prop,                         \n",
    "\tlocation_imputation,            \n",
    "\tunique(meta.df$cellType),                    \n",
    "\tc(\"lightblue\",\"lightyellow\",\"red\"),    \n",
    "\tNumCols = 4,\n",
    "    pntSize = 0.1)     \n",
    "\n",
    "outpath = glue(\"{figDir}{key}_{subId}imputed.png\")\n",
    "ggsave(outpath,\n",
    "       width = 20, \n",
    "       height = 20, \n",
    "       units = \"cm\")\n",
    "\n",
    "print('done')"
   ]
  },
  {
   "cell_type": "code",
   "execution_count": 10,
   "id": "2a3dceba-024c-462e-97ce-dad57e23dc0a",
   "metadata": {},
   "outputs": [
    {
     "data": {
      "text/html": [
       "<table class=\"dataframe\">\n",
       "<caption>A data.frame: 6 × 11</caption>\n",
       "<thead>\n",
       "\t<tr><th></th><th scope=col>M2</th><th scope=col>M1</th><th scope=col>Monocytes</th><th scope=col>T cells</th><th scope=col>M5</th><th scope=col>NK cells</th><th scope=col>Dendritic cells</th><th scope=col>Stromal cells</th><th scope=col>B cells</th><th scope=col>M4</th><th scope=col>M3</th></tr>\n",
       "\t<tr><th></th><th scope=col>&lt;dbl&gt;</th><th scope=col>&lt;dbl&gt;</th><th scope=col>&lt;dbl&gt;</th><th scope=col>&lt;dbl&gt;</th><th scope=col>&lt;dbl&gt;</th><th scope=col>&lt;dbl&gt;</th><th scope=col>&lt;dbl&gt;</th><th scope=col>&lt;dbl&gt;</th><th scope=col>&lt;dbl&gt;</th><th scope=col>&lt;dbl&gt;</th><th scope=col>&lt;dbl&gt;</th></tr>\n",
       "</thead>\n",
       "<tbody>\n",
       "\t<tr><th scope=row>331x476</th><td>0.04808219</td><td>0.2125914</td><td>0.1084684</td><td>0.04448411</td><td>0.03515460</td><td>0.08570093</td><td>0.07932952</td><td>0.1966562</td><td>0.06772388</td><td>0.05082444</td><td>0.07098441</td></tr>\n",
       "\t<tr><th scope=row>331x487</th><td>0.04805414</td><td>0.2126062</td><td>0.1084928</td><td>0.04448327</td><td>0.03500898</td><td>0.08576047</td><td>0.07938642</td><td>0.1966851</td><td>0.06770905</td><td>0.05080409</td><td>0.07100952</td></tr>\n",
       "\t<tr><th scope=row>320x498</th><td>0.04806115</td><td>0.2126148</td><td>0.1084869</td><td>0.04448304</td><td>0.03503581</td><td>0.08574718</td><td>0.07937389</td><td>0.1966730</td><td>0.06771177</td><td>0.05080774</td><td>0.07100476</td></tr>\n",
       "\t<tr><th scope=row>331x498</th><td>0.04802734</td><td>0.2128199</td><td>0.1085192</td><td>0.04447537</td><td>0.03471464</td><td>0.08584306</td><td>0.07946831</td><td>0.1966340</td><td>0.06767883</td><td>0.05076130</td><td>0.07105801</td></tr>\n",
       "\t<tr><th scope=row>342x498</th><td>0.04799812</td><td>0.2126186</td><td>0.1085416</td><td>0.04448215</td><td>0.03473121</td><td>0.08587720</td><td>0.07949777</td><td>0.1967497</td><td>0.06768071</td><td>0.05076546</td><td>0.07105752</td></tr>\n",
       "\t<tr><th scope=row>320x509</th><td>0.04803144</td><td>0.2128487</td><td>0.1085161</td><td>0.04447440</td><td>0.03471189</td><td>0.08583834</td><td>0.07946426</td><td>0.1966176</td><td>0.06767851</td><td>0.05076066</td><td>0.07105813</td></tr>\n",
       "</tbody>\n",
       "</table>\n"
      ],
      "text/latex": [
       "A data.frame: 6 × 11\n",
       "\\begin{tabular}{r|lllllllllll}\n",
       "  & M2 & M1 & Monocytes & T cells & M5 & NK cells & Dendritic cells & Stromal cells & B cells & M4 & M3\\\\\n",
       "  & <dbl> & <dbl> & <dbl> & <dbl> & <dbl> & <dbl> & <dbl> & <dbl> & <dbl> & <dbl> & <dbl>\\\\\n",
       "\\hline\n",
       "\t331x476 & 0.04808219 & 0.2125914 & 0.1084684 & 0.04448411 & 0.03515460 & 0.08570093 & 0.07932952 & 0.1966562 & 0.06772388 & 0.05082444 & 0.07098441\\\\\n",
       "\t331x487 & 0.04805414 & 0.2126062 & 0.1084928 & 0.04448327 & 0.03500898 & 0.08576047 & 0.07938642 & 0.1966851 & 0.06770905 & 0.05080409 & 0.07100952\\\\\n",
       "\t320x498 & 0.04806115 & 0.2126148 & 0.1084869 & 0.04448304 & 0.03503581 & 0.08574718 & 0.07937389 & 0.1966730 & 0.06771177 & 0.05080774 & 0.07100476\\\\\n",
       "\t331x498 & 0.04802734 & 0.2128199 & 0.1085192 & 0.04447537 & 0.03471464 & 0.08584306 & 0.07946831 & 0.1966340 & 0.06767883 & 0.05076130 & 0.07105801\\\\\n",
       "\t342x498 & 0.04799812 & 0.2126186 & 0.1085416 & 0.04448215 & 0.03473121 & 0.08587720 & 0.07949777 & 0.1967497 & 0.06768071 & 0.05076546 & 0.07105752\\\\\n",
       "\t320x509 & 0.04803144 & 0.2128487 & 0.1085161 & 0.04447440 & 0.03471189 & 0.08583834 & 0.07946426 & 0.1966176 & 0.06767851 & 0.05076066 & 0.07105813\\\\\n",
       "\\end{tabular}\n"
      ],
      "text/markdown": [
       "\n",
       "A data.frame: 6 × 11\n",
       "\n",
       "| <!--/--> | M2 &lt;dbl&gt; | M1 &lt;dbl&gt; | Monocytes &lt;dbl&gt; | T cells &lt;dbl&gt; | M5 &lt;dbl&gt; | NK cells &lt;dbl&gt; | Dendritic cells &lt;dbl&gt; | Stromal cells &lt;dbl&gt; | B cells &lt;dbl&gt; | M4 &lt;dbl&gt; | M3 &lt;dbl&gt; |\n",
       "|---|---|---|---|---|---|---|---|---|---|---|---|\n",
       "| 331x476 | 0.04808219 | 0.2125914 | 0.1084684 | 0.04448411 | 0.03515460 | 0.08570093 | 0.07932952 | 0.1966562 | 0.06772388 | 0.05082444 | 0.07098441 |\n",
       "| 331x487 | 0.04805414 | 0.2126062 | 0.1084928 | 0.04448327 | 0.03500898 | 0.08576047 | 0.07938642 | 0.1966851 | 0.06770905 | 0.05080409 | 0.07100952 |\n",
       "| 320x498 | 0.04806115 | 0.2126148 | 0.1084869 | 0.04448304 | 0.03503581 | 0.08574718 | 0.07937389 | 0.1966730 | 0.06771177 | 0.05080774 | 0.07100476 |\n",
       "| 331x498 | 0.04802734 | 0.2128199 | 0.1085192 | 0.04447537 | 0.03471464 | 0.08584306 | 0.07946831 | 0.1966340 | 0.06767883 | 0.05076130 | 0.07105801 |\n",
       "| 342x498 | 0.04799812 | 0.2126186 | 0.1085416 | 0.04448215 | 0.03473121 | 0.08587720 | 0.07949777 | 0.1967497 | 0.06768071 | 0.05076546 | 0.07105752 |\n",
       "| 320x509 | 0.04803144 | 0.2128487 | 0.1085161 | 0.04447440 | 0.03471189 | 0.08583834 | 0.07946426 | 0.1966176 | 0.06767851 | 0.05076066 | 0.07105813 |\n",
       "\n"
      ],
      "text/plain": [
       "        M2         M1        Monocytes T cells    M5         NK cells  \n",
       "331x476 0.04808219 0.2125914 0.1084684 0.04448411 0.03515460 0.08570093\n",
       "331x487 0.04805414 0.2126062 0.1084928 0.04448327 0.03500898 0.08576047\n",
       "320x498 0.04806115 0.2126148 0.1084869 0.04448304 0.03503581 0.08574718\n",
       "331x498 0.04802734 0.2128199 0.1085192 0.04447537 0.03471464 0.08584306\n",
       "342x498 0.04799812 0.2126186 0.1085416 0.04448215 0.03473121 0.08587720\n",
       "320x509 0.04803144 0.2128487 0.1085161 0.04447440 0.03471189 0.08583834\n",
       "        Dendritic cells Stromal cells B cells    M4         M3        \n",
       "331x476 0.07932952      0.1966562     0.06772388 0.05082444 0.07098441\n",
       "331x487 0.07938642      0.1966851     0.06770905 0.05080409 0.07100952\n",
       "320x498 0.07937389      0.1966730     0.06771177 0.05080774 0.07100476\n",
       "331x498 0.07946831      0.1966340     0.06767883 0.05076130 0.07105801\n",
       "342x498 0.07949777      0.1967497     0.06768071 0.05076546 0.07105752\n",
       "320x509 0.07946426      0.1966176     0.06767851 0.05076066 0.07105813"
      ]
     },
     "metadata": {},
     "output_type": "display_data"
    },
    {
     "data": {
      "text/html": [
       "<table class=\"dataframe\">\n",
       "<caption>A data.frame: 6 × 2</caption>\n",
       "<thead>\n",
       "\t<tr><th></th><th scope=col>x</th><th scope=col>y</th></tr>\n",
       "\t<tr><th></th><th scope=col>&lt;dbl&gt;</th><th scope=col>&lt;dbl&gt;</th></tr>\n",
       "</thead>\n",
       "<tbody>\n",
       "\t<tr><th scope=row>331x476</th><td>331</td><td>476</td></tr>\n",
       "\t<tr><th scope=row>331x487</th><td>331</td><td>487</td></tr>\n",
       "\t<tr><th scope=row>320x498</th><td>320</td><td>498</td></tr>\n",
       "\t<tr><th scope=row>331x498</th><td>331</td><td>498</td></tr>\n",
       "\t<tr><th scope=row>342x498</th><td>342</td><td>498</td></tr>\n",
       "\t<tr><th scope=row>320x509</th><td>320</td><td>509</td></tr>\n",
       "</tbody>\n",
       "</table>\n"
      ],
      "text/latex": [
       "A data.frame: 6 × 2\n",
       "\\begin{tabular}{r|ll}\n",
       "  & x & y\\\\\n",
       "  & <dbl> & <dbl>\\\\\n",
       "\\hline\n",
       "\t331x476 & 331 & 476\\\\\n",
       "\t331x487 & 331 & 487\\\\\n",
       "\t320x498 & 320 & 498\\\\\n",
       "\t331x498 & 331 & 498\\\\\n",
       "\t342x498 & 342 & 498\\\\\n",
       "\t320x509 & 320 & 509\\\\\n",
       "\\end{tabular}\n"
      ],
      "text/markdown": [
       "\n",
       "A data.frame: 6 × 2\n",
       "\n",
       "| <!--/--> | x &lt;dbl&gt; | y &lt;dbl&gt; |\n",
       "|---|---|---|\n",
       "| 331x476 | 331 | 476 |\n",
       "| 331x487 | 331 | 487 |\n",
       "| 320x498 | 320 | 498 |\n",
       "| 331x498 | 331 | 498 |\n",
       "| 342x498 | 342 | 498 |\n",
       "| 320x509 | 320 | 509 |\n",
       "\n"
      ],
      "text/plain": [
       "        x   y  \n",
       "331x476 331 476\n",
       "331x487 331 487\n",
       "320x498 320 498\n",
       "331x498 331 498\n",
       "342x498 342 498\n",
       "320x509 320 509"
      ]
     },
     "metadata": {},
     "output_type": "display_data"
    }
   ],
   "source": [
    "df <- as.data.frame(CARD_obj@refined_prop)\n",
    "head(df)\n",
    "\n",
    "head(location_imputation)"
   ]
  },
  {
   "cell_type": "code",
   "execution_count": 11,
   "id": "45a0920f-576c-4022-923b-82e6af663ea7",
   "metadata": {},
   "outputs": [
    {
     "data": {
      "text/html": [
       "<style>\n",
       ".list-inline {list-style: none; margin:0; padding: 0}\n",
       ".list-inline>li {display: inline-block}\n",
       ".list-inline>li:not(:last-child)::after {content: \"\\00b7\"; padding: 0 .5ex}\n",
       "</style>\n",
       "<ol class=list-inline><li>5571</li><li>11</li></ol>\n"
      ],
      "text/latex": [
       "\\begin{enumerate*}\n",
       "\\item 5571\n",
       "\\item 11\n",
       "\\end{enumerate*}\n"
      ],
      "text/markdown": [
       "1. 5571\n",
       "2. 11\n",
       "\n",
       "\n"
      ],
      "text/plain": [
       "[1] 5571   11"
      ]
     },
     "metadata": {},
     "output_type": "display_data"
    },
    {
     "data": {
      "text/html": [
       "<table class=\"dataframe\">\n",
       "<caption>A data.frame: 6 × 11</caption>\n",
       "<thead>\n",
       "\t<tr><th></th><th scope=col>M2</th><th scope=col>M1</th><th scope=col>Monocytes</th><th scope=col>T cells</th><th scope=col>M5</th><th scope=col>NK cells</th><th scope=col>Dendritic cells</th><th scope=col>Stromal cells</th><th scope=col>B cells</th><th scope=col>M4</th><th scope=col>M3</th></tr>\n",
       "\t<tr><th></th><th scope=col>&lt;dbl&gt;</th><th scope=col>&lt;dbl&gt;</th><th scope=col>&lt;dbl&gt;</th><th scope=col>&lt;dbl&gt;</th><th scope=col>&lt;dbl&gt;</th><th scope=col>&lt;dbl&gt;</th><th scope=col>&lt;dbl&gt;</th><th scope=col>&lt;dbl&gt;</th><th scope=col>&lt;dbl&gt;</th><th scope=col>&lt;dbl&gt;</th><th scope=col>&lt;dbl&gt;</th></tr>\n",
       "</thead>\n",
       "<tbody>\n",
       "\t<tr><th scope=row>331x476</th><td>0.04808219</td><td>0.2125914</td><td>0.1084684</td><td>0.04448411</td><td>0.03515460</td><td>0.08570093</td><td>0.07932952</td><td>0.1966562</td><td>0.06772388</td><td>0.05082444</td><td>0.07098441</td></tr>\n",
       "\t<tr><th scope=row>331x487</th><td>0.04805414</td><td>0.2126062</td><td>0.1084928</td><td>0.04448327</td><td>0.03500898</td><td>0.08576047</td><td>0.07938642</td><td>0.1966851</td><td>0.06770905</td><td>0.05080409</td><td>0.07100952</td></tr>\n",
       "\t<tr><th scope=row>320x498</th><td>0.04806115</td><td>0.2126148</td><td>0.1084869</td><td>0.04448304</td><td>0.03503581</td><td>0.08574718</td><td>0.07937389</td><td>0.1966730</td><td>0.06771177</td><td>0.05080774</td><td>0.07100476</td></tr>\n",
       "\t<tr><th scope=row>331x498</th><td>0.04802734</td><td>0.2128199</td><td>0.1085192</td><td>0.04447537</td><td>0.03471464</td><td>0.08584306</td><td>0.07946831</td><td>0.1966340</td><td>0.06767883</td><td>0.05076130</td><td>0.07105801</td></tr>\n",
       "\t<tr><th scope=row>342x498</th><td>0.04799812</td><td>0.2126186</td><td>0.1085416</td><td>0.04448215</td><td>0.03473121</td><td>0.08587720</td><td>0.07949777</td><td>0.1967497</td><td>0.06768071</td><td>0.05076546</td><td>0.07105752</td></tr>\n",
       "\t<tr><th scope=row>320x509</th><td>0.04803144</td><td>0.2128487</td><td>0.1085161</td><td>0.04447440</td><td>0.03471189</td><td>0.08583834</td><td>0.07946426</td><td>0.1966176</td><td>0.06767851</td><td>0.05076066</td><td>0.07105813</td></tr>\n",
       "</tbody>\n",
       "</table>\n"
      ],
      "text/latex": [
       "A data.frame: 6 × 11\n",
       "\\begin{tabular}{r|lllllllllll}\n",
       "  & M2 & M1 & Monocytes & T cells & M5 & NK cells & Dendritic cells & Stromal cells & B cells & M4 & M3\\\\\n",
       "  & <dbl> & <dbl> & <dbl> & <dbl> & <dbl> & <dbl> & <dbl> & <dbl> & <dbl> & <dbl> & <dbl>\\\\\n",
       "\\hline\n",
       "\t331x476 & 0.04808219 & 0.2125914 & 0.1084684 & 0.04448411 & 0.03515460 & 0.08570093 & 0.07932952 & 0.1966562 & 0.06772388 & 0.05082444 & 0.07098441\\\\\n",
       "\t331x487 & 0.04805414 & 0.2126062 & 0.1084928 & 0.04448327 & 0.03500898 & 0.08576047 & 0.07938642 & 0.1966851 & 0.06770905 & 0.05080409 & 0.07100952\\\\\n",
       "\t320x498 & 0.04806115 & 0.2126148 & 0.1084869 & 0.04448304 & 0.03503581 & 0.08574718 & 0.07937389 & 0.1966730 & 0.06771177 & 0.05080774 & 0.07100476\\\\\n",
       "\t331x498 & 0.04802734 & 0.2128199 & 0.1085192 & 0.04447537 & 0.03471464 & 0.08584306 & 0.07946831 & 0.1966340 & 0.06767883 & 0.05076130 & 0.07105801\\\\\n",
       "\t342x498 & 0.04799812 & 0.2126186 & 0.1085416 & 0.04448215 & 0.03473121 & 0.08587720 & 0.07949777 & 0.1967497 & 0.06768071 & 0.05076546 & 0.07105752\\\\\n",
       "\t320x509 & 0.04803144 & 0.2128487 & 0.1085161 & 0.04447440 & 0.03471189 & 0.08583834 & 0.07946426 & 0.1966176 & 0.06767851 & 0.05076066 & 0.07105813\\\\\n",
       "\\end{tabular}\n"
      ],
      "text/markdown": [
       "\n",
       "A data.frame: 6 × 11\n",
       "\n",
       "| <!--/--> | M2 &lt;dbl&gt; | M1 &lt;dbl&gt; | Monocytes &lt;dbl&gt; | T cells &lt;dbl&gt; | M5 &lt;dbl&gt; | NK cells &lt;dbl&gt; | Dendritic cells &lt;dbl&gt; | Stromal cells &lt;dbl&gt; | B cells &lt;dbl&gt; | M4 &lt;dbl&gt; | M3 &lt;dbl&gt; |\n",
       "|---|---|---|---|---|---|---|---|---|---|---|---|\n",
       "| 331x476 | 0.04808219 | 0.2125914 | 0.1084684 | 0.04448411 | 0.03515460 | 0.08570093 | 0.07932952 | 0.1966562 | 0.06772388 | 0.05082444 | 0.07098441 |\n",
       "| 331x487 | 0.04805414 | 0.2126062 | 0.1084928 | 0.04448327 | 0.03500898 | 0.08576047 | 0.07938642 | 0.1966851 | 0.06770905 | 0.05080409 | 0.07100952 |\n",
       "| 320x498 | 0.04806115 | 0.2126148 | 0.1084869 | 0.04448304 | 0.03503581 | 0.08574718 | 0.07937389 | 0.1966730 | 0.06771177 | 0.05080774 | 0.07100476 |\n",
       "| 331x498 | 0.04802734 | 0.2128199 | 0.1085192 | 0.04447537 | 0.03471464 | 0.08584306 | 0.07946831 | 0.1966340 | 0.06767883 | 0.05076130 | 0.07105801 |\n",
       "| 342x498 | 0.04799812 | 0.2126186 | 0.1085416 | 0.04448215 | 0.03473121 | 0.08587720 | 0.07949777 | 0.1967497 | 0.06768071 | 0.05076546 | 0.07105752 |\n",
       "| 320x509 | 0.04803144 | 0.2128487 | 0.1085161 | 0.04447440 | 0.03471189 | 0.08583834 | 0.07946426 | 0.1966176 | 0.06767851 | 0.05076066 | 0.07105813 |\n",
       "\n"
      ],
      "text/plain": [
       "        M2         M1        Monocytes T cells    M5         NK cells  \n",
       "331x476 0.04808219 0.2125914 0.1084684 0.04448411 0.03515460 0.08570093\n",
       "331x487 0.04805414 0.2126062 0.1084928 0.04448327 0.03500898 0.08576047\n",
       "320x498 0.04806115 0.2126148 0.1084869 0.04448304 0.03503581 0.08574718\n",
       "331x498 0.04802734 0.2128199 0.1085192 0.04447537 0.03471464 0.08584306\n",
       "342x498 0.04799812 0.2126186 0.1085416 0.04448215 0.03473121 0.08587720\n",
       "320x509 0.04803144 0.2128487 0.1085161 0.04447440 0.03471189 0.08583834\n",
       "        Dendritic cells Stromal cells B cells    M4         M3        \n",
       "331x476 0.07932952      0.1966562     0.06772388 0.05082444 0.07098441\n",
       "331x487 0.07938642      0.1966851     0.06770905 0.05080409 0.07100952\n",
       "320x498 0.07937389      0.1966730     0.06771177 0.05080774 0.07100476\n",
       "331x498 0.07946831      0.1966340     0.06767883 0.05076130 0.07105801\n",
       "342x498 0.07949777      0.1967497     0.06768071 0.05076546 0.07105752\n",
       "320x509 0.07946426      0.1966176     0.06767851 0.05076066 0.07105813"
      ]
     },
     "metadata": {},
     "output_type": "display_data"
    }
   ],
   "source": [
    "# save the high res file\n",
    "# head(location_imputation)\n",
    "\n",
    "props.df.refined <- as.data.frame(CARD_obj@refined_prop)\n",
    "\n",
    "outDir = \"/nfs/turbo/umms-indikar/shared/projects/spatial_transcriptomics/data/CARDOuputs/\"\n",
    "outpath = glue(\"{outDir}{key}_{subId}CARD_refined.csv\")\n",
    "\n",
    "write.csv(props.df, \n",
    "          outpath, \n",
    "          row.names=TRUE)\n",
    "\n",
    "dim(props.df.refined)\n",
    "head(props.df.refined)"
   ]
  },
  {
   "cell_type": "code",
   "execution_count": 12,
   "id": "f54fec6a-1af9-4095-adcd-6e986de764c6",
   "metadata": {},
   "outputs": [],
   "source": [
    "# pp <- CARD.visualize.gene(\n",
    "# \tspatial_expression = CARD_obj@refined_expression,\n",
    "# \tspatial_location = location_imputation,\n",
    "# \tgene.visualize = c(\"LPL\", \"RPL4\"),\n",
    "# \tcolors = NULL,\n",
    "# \tNumCols = 2)\n",
    "\n",
    "# ggsave(\"cardFigures/genes.png\",\n",
    "#        width = 20, \n",
    "#        height = 20, \n",
    "#        units = \"cm\")\n",
    "\n",
    "# print('done')"
   ]
  },
  {
   "cell_type": "code",
   "execution_count": 13,
   "id": "c57afcc3-480f-4e9d-9357-11bbeab239db",
   "metadata": {},
   "outputs": [],
   "source": [
    "# exp.df <- as.data.frame(rowSums(spt))\n",
    "# exp.df$names <- rownames(exp.df)\n",
    "# exp.df.sorted <- exp.df[order(exp.df$rowSums, decreasing = TRUE),]\n",
    "# head(exp.df.sorted, 20)"
   ]
  },
  {
   "cell_type": "code",
   "execution_count": 14,
   "id": "efe90ae8-3cc6-4732-9c58-46908c9126e7",
   "metadata": {},
   "outputs": [],
   "source": [
    "# ## select the cell type that we are interested\n",
    "# ct.visualize = unique(meta.df$cellType)\n",
    "\n",
    "# ## visualize the spatial distribution of the cell type proportion\n",
    "# p <- CARD.visualize.prop(\n",
    "# \tproportion = CARD_obj@Proportion_CARD,        \n",
    "# \tspatial_location = CARD_obj@spatial_location, \n",
    "# \tct.visualize = ct.visualize,\n",
    "#     colors = c(\"lightblue\",\"lightyellow\",\"red\"),\n",
    "#     NumCols=4\n",
    "# )\n",
    "\n",
    "# ggsave(\"test.png\", width = 20, height = 20, units = \"cm\")\n",
    "\n",
    "\n",
    "\n",
    "# # print(p2)"
   ]
  }
 ],
 "metadata": {
  "kernelspec": {
   "display_name": "R",
   "language": "R",
   "name": "ir"
  },
  "language_info": {
   "codemirror_mode": "r",
   "file_extension": ".r",
   "mimetype": "text/x-r-source",
   "name": "R",
   "pygments_lexer": "r",
   "version": "4.2.2"
  }
 },
 "nbformat": 4,
 "nbformat_minor": 5
}
