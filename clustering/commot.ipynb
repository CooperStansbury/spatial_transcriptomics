{
 "cells": [
  {
   "cell_type": "code",
   "execution_count": 1,
   "id": "a4b86061-54b8-4c73-9f57-f4f6292ad63d",
   "metadata": {},
   "outputs": [
    {
     "ename": "ModuleNotFoundError",
     "evalue": "No module named 'commot'",
     "output_type": "error",
     "traceback": [
      "\u001b[0;31m---------------------------------------------------------------------------\u001b[0m",
      "\u001b[0;31mModuleNotFoundError\u001b[0m                       Traceback (most recent call last)",
      "\u001b[0;32m/tmp/ipykernel_3804198/3408865264.py\u001b[0m in \u001b[0;36m<module>\u001b[0;34m\u001b[0m\n\u001b[1;32m      5\u001b[0m \u001b[0;32mimport\u001b[0m \u001b[0mos\u001b[0m\u001b[0;34m\u001b[0m\u001b[0;34m\u001b[0m\u001b[0m\n\u001b[1;32m      6\u001b[0m \u001b[0;32mimport\u001b[0m \u001b[0mscanpy\u001b[0m \u001b[0;32mas\u001b[0m \u001b[0msc\u001b[0m\u001b[0;34m\u001b[0m\u001b[0;34m\u001b[0m\u001b[0m\n\u001b[0;32m----> 7\u001b[0;31m \u001b[0;32mimport\u001b[0m \u001b[0mcommot\u001b[0m \u001b[0;32mas\u001b[0m \u001b[0mct\u001b[0m\u001b[0;34m\u001b[0m\u001b[0;34m\u001b[0m\u001b[0m\n\u001b[0m",
      "\u001b[0;31mModuleNotFoundError\u001b[0m: No module named 'commot'"
     ]
    }
   ],
   "source": [
    "import pandas as pd\n",
    "import matplotlib.pyplot as plt\n",
    "import seaborn as sns\n",
    "import numpy as np\n",
    "import os\n",
    "import scanpy as sc\n",
    "import commot as ct"
   ]
  },
  {
   "cell_type": "code",
   "execution_count": null,
   "id": "fa18da3d-c5c9-4bff-83a1-c52316dc57db",
   "metadata": {},
   "outputs": [],
   "source": [
    "dirPath = \"/nfs/turbo/umms-indikar/shared/projects/spatial_transcriptomics/data/SPT/\"\n",
    "\n",
    "adata = {}\n",
    "\n",
    "for f in os.listdir(dirPath):\n",
    "    \n",
    "    if not f == \"all\":\n",
    "        key = f\n",
    "        mtxPath = f\"{dirPath}{f}/outs/\"\n",
    "        data = sc.read_visium(mtxPath)\n",
    "        data.var_names_make_unique()\n",
    "        data.var_names = [x.upper() for x in data.var_names]\n",
    "        \n",
    "        sc.pp.normalize_total(data, inplace=True)\n",
    "        sc.pp.log1p(data)\n",
    "        \n",
    "        adata[key] = data\n",
    "    \n",
    "adata.keys()"
   ]
  },
  {
   "cell_type": "code",
   "execution_count": null,
   "id": "c261e346-aa59-4770-8af1-e077a3b78f26",
   "metadata": {},
   "outputs": [],
   "source": [
    "LR=np.array([['Tgfb1', 'Tgfbr1_Tgfbr2', 'Tgfb_pathway'],['Tgfb2', 'Tgfbr1_Tgfbr2', 'Tgfb_pathway'],['Tgfb3', 'Tgfbr1_Tgfbr2', 'Tgfb_pathway']],dtype=str)\n",
    "df_ligrec = pd.DataFrame(data=LR)\n",
    "df_ligrec"
   ]
  },
  {
   "cell_type": "code",
   "execution_count": null,
   "id": "4247cccf-5f59-4bda-b182-83084d9fcec9",
   "metadata": {},
   "outputs": [],
   "source": []
  }
 ],
 "metadata": {
  "kernelspec": {
   "display_name": "Python 3 (ipykernel)",
   "language": "python",
   "name": "python3"
  },
  "language_info": {
   "codemirror_mode": {
    "name": "ipython",
    "version": 3
   },
   "file_extension": ".py",
   "mimetype": "text/x-python",
   "name": "python",
   "nbconvert_exporter": "python",
   "pygments_lexer": "ipython3",
   "version": "3.9.7"
  }
 },
 "nbformat": 4,
 "nbformat_minor": 5
}
