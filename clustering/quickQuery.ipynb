{
 "cells": [
  {
   "cell_type": "code",
   "execution_count": 1,
   "id": "11ec700f-8694-44a1-8b2b-bb4e85d89368",
   "metadata": {},
   "outputs": [
    {
     "name": "stderr",
     "output_type": "stream",
     "text": [
      "2022-11-21 13:35:36.586907: I tensorflow/core/platform/cpu_feature_guard.cc:193] This TensorFlow binary is optimized with oneAPI Deep Neural Network Library (oneDNN) to use the following CPU instructions in performance-critical operations:  AVX2 AVX512F FMA\n",
      "To enable them in other operations, rebuild TensorFlow with the appropriate compiler flags.\n",
      "2022-11-21 13:35:36.703602: W tensorflow/stream_executor/platform/default/dso_loader.cc:64] Could not load dynamic library 'libcudart.so.11.0'; dlerror: libcudart.so.11.0: cannot open shared object file: No such file or directory; LD_LIBRARY_PATH: /opt/slurm/lib64:\n",
      "2022-11-21 13:35:36.703625: I tensorflow/stream_executor/cuda/cudart_stub.cc:29] Ignore above cudart dlerror if you do not have a GPU set up on your machine.\n",
      "2022-11-21 13:35:36.729394: E tensorflow/stream_executor/cuda/cuda_blas.cc:2981] Unable to register cuBLAS factory: Attempting to register factory for plugin cuBLAS when one has already been registered\n",
      "2022-11-21 13:35:37.684931: W tensorflow/stream_executor/platform/default/dso_loader.cc:64] Could not load dynamic library 'libnvinfer.so.7'; dlerror: libnvinfer.so.7: cannot open shared object file: No such file or directory; LD_LIBRARY_PATH: /opt/slurm/lib64:\n",
      "2022-11-21 13:35:37.685019: W tensorflow/stream_executor/platform/default/dso_loader.cc:64] Could not load dynamic library 'libnvinfer_plugin.so.7'; dlerror: libnvinfer_plugin.so.7: cannot open shared object file: No such file or directory; LD_LIBRARY_PATH: /opt/slurm/lib64:\n",
      "2022-11-21 13:35:37.685025: W tensorflow/compiler/tf2tensorrt/utils/py_utils.cc:38] TF-TRT Warning: Cannot dlopen some TensorRT libraries. If you would like to use Nvidia GPU with TensorRT, please make sure the missing libraries mentioned above are installed properly.\n"
     ]
    },
    {
     "data": {
      "text/plain": [
       "<module 'utils' from '/home/cstansbu/git_repositories/spatial_transcriptomics/clustering/utils.py'>"
      ]
     },
     "execution_count": 1,
     "metadata": {},
     "output_type": "execute_result"
    }
   ],
   "source": [
    "import os\n",
    "import pandas as pd\n",
    "import numpy as np\n",
    "import matplotlib \n",
    "import matplotlib.pyplot as plt\n",
    "import seaborn as sns\n",
    "import scanpy as sc\n",
    "from sklearn import metrics\n",
    "import tabulate\n",
    "import itertools\n",
    "import umap\n",
    "from importlib import reload\n",
    "from scipy import stats\n",
    "import matplotlib.image as mpimg\n",
    "import goatools\n",
    "from goatools.anno.gaf_reader import GafReader\n",
    "import Bio.UniProt.GOA as GOA\n",
    "import gget\n",
    "\n",
    "# locals\n",
    "import utils as ut\n",
    "reload(ut)"
   ]
  },
  {
   "cell_type": "code",
   "execution_count": 15,
   "id": "7c651e12-f122-45f9-87af-7bf537260d4e",
   "metadata": {},
   "outputs": [
    {
     "name": "stderr",
     "output_type": "stream",
     "text": [
      "Mon Nov 21 13:48:46 2022 INFO Performing Enichr analysis using database GO_Biological_Process_2021. \n",
      "    Please note that there might a more appropriate database for your application. \n",
      "    Go to https://maayanlab.cloud/Enrichr/#libraries for a full list of supported databases.\n",
      "    \n"
     ]
    },
    {
     "data": {
      "text/html": [
       "<div>\n",
       "<style scoped>\n",
       "    .dataframe tbody tr th:only-of-type {\n",
       "        vertical-align: middle;\n",
       "    }\n",
       "\n",
       "    .dataframe tbody tr th {\n",
       "        vertical-align: top;\n",
       "    }\n",
       "\n",
       "    .dataframe thead th {\n",
       "        text-align: right;\n",
       "    }\n",
       "</style>\n",
       "<table border=\"1\" class=\"dataframe\">\n",
       "  <thead>\n",
       "    <tr style=\"text-align: right;\">\n",
       "      <th></th>\n",
       "      <th>path_name</th>\n",
       "      <th>p_val</th>\n",
       "      <th>overlapping_genes</th>\n",
       "    </tr>\n",
       "  </thead>\n",
       "  <tbody>\n",
       "    <tr>\n",
       "      <th>0</th>\n",
       "      <td>cell junction disassembly (GO:0150146)</td>\n",
       "      <td>1.798505e-09</td>\n",
       "      <td>[C1QB, C1QA, C1QC]</td>\n",
       "    </tr>\n",
       "    <tr>\n",
       "      <th>1</th>\n",
       "      <td>synapse pruning (GO:0098883)</td>\n",
       "      <td>7.547971e-09</td>\n",
       "      <td>[C1QB, C1QA, C1QC]</td>\n",
       "    </tr>\n",
       "    <tr>\n",
       "      <th>2</th>\n",
       "      <td>complement activation, classical pathway (GO:0006958)</td>\n",
       "      <td>7.547971e-09</td>\n",
       "      <td>[C1QB, C1QA, C1QC]</td>\n",
       "    </tr>\n",
       "    <tr>\n",
       "      <th>3</th>\n",
       "      <td>humoral immune response mediated by circulating immunoglobulin (GO:0002455)</td>\n",
       "      <td>1.481876e-08</td>\n",
       "      <td>[C1QB, C1QA, C1QC]</td>\n",
       "    </tr>\n",
       "    <tr>\n",
       "      <th>4</th>\n",
       "      <td>regulation of complement activation (GO:0030449)</td>\n",
       "      <td>1.742468e-06</td>\n",
       "      <td>[C1QB, C1QA, C1QC]</td>\n",
       "    </tr>\n",
       "    <tr>\n",
       "      <th>5</th>\n",
       "      <td>regulation of immune effector process (GO:0002697)</td>\n",
       "      <td>2.080968e-06</td>\n",
       "      <td>[C1QB, C1QA, C1QC]</td>\n",
       "    </tr>\n",
       "    <tr>\n",
       "      <th>6</th>\n",
       "      <td>regulation of humoral immune response (GO:0002920)</td>\n",
       "      <td>2.202800e-06</td>\n",
       "      <td>[C1QB, C1QA, C1QC]</td>\n",
       "    </tr>\n",
       "    <tr>\n",
       "      <th>7</th>\n",
       "      <td>chemokine-mediated signaling pathway (GO:0070098)</td>\n",
       "      <td>2.460474e-06</td>\n",
       "      <td>[CCL8, CCL4, PF4]</td>\n",
       "    </tr>\n",
       "    <tr>\n",
       "      <th>8</th>\n",
       "      <td>cellular response to chemokine (GO:1990869)</td>\n",
       "      <td>3.034240e-06</td>\n",
       "      <td>[CCL8, CCL4, PF4]</td>\n",
       "    </tr>\n",
       "    <tr>\n",
       "      <th>9</th>\n",
       "      <td>neutrophil chemotaxis (GO:0030593)</td>\n",
       "      <td>4.841002e-06</td>\n",
       "      <td>[CCL8, CCL4, PF4]</td>\n",
       "    </tr>\n",
       "  </tbody>\n",
       "</table>\n",
       "</div>"
      ],
      "text/plain": [
       "                                                                     path_name         p_val   overlapping_genes\n",
       "0                                       cell junction disassembly (GO:0150146)  1.798505e-09  [C1QB, C1QA, C1QC]\n",
       "1                                                 synapse pruning (GO:0098883)  7.547971e-09  [C1QB, C1QA, C1QC]\n",
       "2                        complement activation, classical pathway (GO:0006958)  7.547971e-09  [C1QB, C1QA, C1QC]\n",
       "3  humoral immune response mediated by circulating immunoglobulin (GO:0002455)  1.481876e-08  [C1QB, C1QA, C1QC]\n",
       "4                             regulation of complement activation (GO:0030449)  1.742468e-06  [C1QB, C1QA, C1QC]\n",
       "5                           regulation of immune effector process (GO:0002697)  2.080968e-06  [C1QB, C1QA, C1QC]\n",
       "6                           regulation of humoral immune response (GO:0002920)  2.202800e-06  [C1QB, C1QA, C1QC]\n",
       "7                            chemokine-mediated signaling pathway (GO:0070098)  2.460474e-06   [CCL8, CCL4, PF4]\n",
       "8                                  cellular response to chemokine (GO:1990869)  3.034240e-06   [CCL8, CCL4, PF4]\n",
       "9                                           neutrophil chemotaxis (GO:0030593)  4.841002e-06   [CCL8, CCL4, PF4]"
      ]
     },
     "execution_count": 15,
     "metadata": {},
     "output_type": "execute_result"
    }
   ],
   "source": [
    "query = ['LSP1', 'ATF3', 'CCL4', 'C1QA', 'C1QC', 'APOE', 'C1QB', 'PF4', 'CCL8', 'HSPA1A']\n",
    "# db = 'WikiPathways_2019_Mouse'\n",
    "# db = 'KEGG_2019_Mouse'\n",
    "db = 'ontology'\n",
    "ef = gget.enrichr(query, database=db)\n",
    "\n",
    "pd.set_option('display.max_colwidth', 200)\n",
    "\n",
    "\n",
    "ef[['path_name', 'p_val', 'overlapping_genes']].head(10)"
   ]
  },
  {
   "cell_type": "code",
   "execution_count": null,
   "id": "a4cf9faf-dc95-4df3-ab0e-e01d5eeaa5e1",
   "metadata": {},
   "outputs": [],
   "source": []
  }
 ],
 "metadata": {
  "kernelspec": {
   "display_name": "Python 3 (ipykernel)",
   "language": "python",
   "name": "python3"
  },
  "language_info": {
   "codemirror_mode": {
    "name": "ipython",
    "version": 3
   },
   "file_extension": ".py",
   "mimetype": "text/x-python",
   "name": "python",
   "nbconvert_exporter": "python",
   "pygments_lexer": "ipython3",
   "version": "3.9.7"
  }
 },
 "nbformat": 4,
 "nbformat_minor": 5
}
