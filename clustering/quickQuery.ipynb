{
 "cells": [
  {
   "cell_type": "code",
   "execution_count": 1,
   "id": "11ec700f-8694-44a1-8b2b-bb4e85d89368",
   "metadata": {},
   "outputs": [
    {
     "name": "stderr",
     "output_type": "stream",
     "text": [
      "2022-12-21 10:08:50.711431: I tensorflow/core/platform/cpu_feature_guard.cc:193] This TensorFlow binary is optimized with oneAPI Deep Neural Network Library (oneDNN) to use the following CPU instructions in performance-critical operations:  AVX2 AVX512F FMA\n",
      "To enable them in other operations, rebuild TensorFlow with the appropriate compiler flags.\n",
      "2022-12-21 10:08:50.825848: W tensorflow/stream_executor/platform/default/dso_loader.cc:64] Could not load dynamic library 'libcudart.so.11.0'; dlerror: libcudart.so.11.0: cannot open shared object file: No such file or directory; LD_LIBRARY_PATH: /opt/slurm/lib64:\n",
      "2022-12-21 10:08:50.825869: I tensorflow/stream_executor/cuda/cudart_stub.cc:29] Ignore above cudart dlerror if you do not have a GPU set up on your machine.\n",
      "2022-12-21 10:08:50.851703: E tensorflow/stream_executor/cuda/cuda_blas.cc:2981] Unable to register cuBLAS factory: Attempting to register factory for plugin cuBLAS when one has already been registered\n",
      "2022-12-21 10:08:52.195530: W tensorflow/stream_executor/platform/default/dso_loader.cc:64] Could not load dynamic library 'libnvinfer.so.7'; dlerror: libnvinfer.so.7: cannot open shared object file: No such file or directory; LD_LIBRARY_PATH: /opt/slurm/lib64:\n",
      "2022-12-21 10:08:52.195919: W tensorflow/stream_executor/platform/default/dso_loader.cc:64] Could not load dynamic library 'libnvinfer_plugin.so.7'; dlerror: libnvinfer_plugin.so.7: cannot open shared object file: No such file or directory; LD_LIBRARY_PATH: /opt/slurm/lib64:\n",
      "2022-12-21 10:08:52.195926: W tensorflow/compiler/tf2tensorrt/utils/py_utils.cc:38] TF-TRT Warning: Cannot dlopen some TensorRT libraries. If you would like to use Nvidia GPU with TensorRT, please make sure the missing libraries mentioned above are installed properly.\n"
     ]
    },
    {
     "data": {
      "text/plain": [
       "<module 'utils' from '/home/cstansbu/git_repositories/spatial_transcriptomics/clustering/utils.py'>"
      ]
     },
     "execution_count": 1,
     "metadata": {},
     "output_type": "execute_result"
    }
   ],
   "source": [
    "import os\n",
    "import pandas as pd\n",
    "import numpy as np\n",
    "import matplotlib \n",
    "import matplotlib.pyplot as plt\n",
    "import seaborn as sns\n",
    "import scanpy as sc\n",
    "from sklearn import metrics\n",
    "import tabulate\n",
    "import itertools\n",
    "import umap\n",
    "from importlib import reload\n",
    "from scipy import stats\n",
    "import matplotlib.image as mpimg\n",
    "import goatools\n",
    "from goatools.anno.gaf_reader import GafReader\n",
    "import Bio.UniProt.GOA as GOA\n",
    "import gget\n",
    "\n",
    "# locals\n",
    "import utils as ut\n",
    "reload(ut)"
   ]
  },
  {
   "cell_type": "code",
   "execution_count": 4,
   "id": "7c651e12-f122-45f9-87af-7bf537260d4e",
   "metadata": {},
   "outputs": [
    {
     "name": "stderr",
     "output_type": "stream",
     "text": [
      "Wed Dec 21 10:09:36 2022 INFO Performing Enichr analysis using database PanglaoDB_Augmented_2021. \n",
      "    Please note that there might a more appropriate database for your application. \n",
      "    Go to https://maayanlab.cloud/Enrichr/#libraries for a full list of supported databases.\n",
      "    \n"
     ]
    },
    {
     "data": {
      "text/html": [
       "<div>\n",
       "<style scoped>\n",
       "    .dataframe tbody tr th:only-of-type {\n",
       "        vertical-align: middle;\n",
       "    }\n",
       "\n",
       "    .dataframe tbody tr th {\n",
       "        vertical-align: top;\n",
       "    }\n",
       "\n",
       "    .dataframe thead th {\n",
       "        text-align: right;\n",
       "    }\n",
       "</style>\n",
       "<table border=\"1\" class=\"dataframe\">\n",
       "  <thead>\n",
       "    <tr style=\"text-align: right;\">\n",
       "      <th></th>\n",
       "      <th>path_name</th>\n",
       "      <th>p_val</th>\n",
       "      <th>overlapping_genes</th>\n",
       "    </tr>\n",
       "  </thead>\n",
       "  <tbody>\n",
       "    <tr>\n",
       "      <th>0</th>\n",
       "      <td>Kupffer Cells</td>\n",
       "      <td>4.362463e-11</td>\n",
       "      <td>[C1QB, CSF1R, C1QA, LY86, APOBR, CTSS, C1QC]</td>\n",
       "    </tr>\n",
       "    <tr>\n",
       "      <th>1</th>\n",
       "      <td>Microglia</td>\n",
       "      <td>1.194536e-10</td>\n",
       "      <td>[C1QB, CSF1R, C1QA, LY86, APOBR, CTSS, PF4]</td>\n",
       "    </tr>\n",
       "    <tr>\n",
       "      <th>2</th>\n",
       "      <td>Macrophages</td>\n",
       "      <td>7.176768e-10</td>\n",
       "      <td>[CSF1R, CD74, SELENOP, LY86, APOBR, RAB7B, CTSS]</td>\n",
       "    </tr>\n",
       "    <tr>\n",
       "      <th>3</th>\n",
       "      <td>Spermatozoa</td>\n",
       "      <td>7.851895e-10</td>\n",
       "      <td>[C1QB, CSF1R, C1QA, CD74, CTSS, C1QC]</td>\n",
       "    </tr>\n",
       "    <tr>\n",
       "      <th>4</th>\n",
       "      <td>Langerhans Cells</td>\n",
       "      <td>1.728002e-09</td>\n",
       "      <td>[CSF1R, C1QA, CD74, LY86, APOBR, CTSS]</td>\n",
       "    </tr>\n",
       "    <tr>\n",
       "      <th>5</th>\n",
       "      <td>Osteoclasts</td>\n",
       "      <td>2.564373e-07</td>\n",
       "      <td>[C1QB, CSF1R, C1QA, C1QC, CTSB]</td>\n",
       "    </tr>\n",
       "    <tr>\n",
       "      <th>6</th>\n",
       "      <td>Dendritic Cells</td>\n",
       "      <td>1.273307e-06</td>\n",
       "      <td>[CD74, LY86, APOBR, RAB7B, CTSS]</td>\n",
       "    </tr>\n",
       "    <tr>\n",
       "      <th>7</th>\n",
       "      <td>Red Pulp Macrophages</td>\n",
       "      <td>3.921006e-06</td>\n",
       "      <td>[CSF1R, C1QA, LY86, CTSS]</td>\n",
       "    </tr>\n",
       "    <tr>\n",
       "      <th>8</th>\n",
       "      <td>Satellite Glial Cells</td>\n",
       "      <td>4.520450e-06</td>\n",
       "      <td>[C1QB, CSF1R, C1QA, C1QC]</td>\n",
       "    </tr>\n",
       "    <tr>\n",
       "      <th>9</th>\n",
       "      <td>Alveolar Macrophages</td>\n",
       "      <td>6.114816e-06</td>\n",
       "      <td>[CSF1R, LY86, APOBR, CTSS]</td>\n",
       "    </tr>\n",
       "  </tbody>\n",
       "</table>\n",
       "</div>"
      ],
      "text/plain": [
       "               path_name         p_val  \\\n",
       "0          Kupffer Cells  4.362463e-11   \n",
       "1              Microglia  1.194536e-10   \n",
       "2            Macrophages  7.176768e-10   \n",
       "3            Spermatozoa  7.851895e-10   \n",
       "4       Langerhans Cells  1.728002e-09   \n",
       "5            Osteoclasts  2.564373e-07   \n",
       "6        Dendritic Cells  1.273307e-06   \n",
       "7   Red Pulp Macrophages  3.921006e-06   \n",
       "8  Satellite Glial Cells  4.520450e-06   \n",
       "9   Alveolar Macrophages  6.114816e-06   \n",
       "\n",
       "                                  overlapping_genes  \n",
       "0      [C1QB, CSF1R, C1QA, LY86, APOBR, CTSS, C1QC]  \n",
       "1       [C1QB, CSF1R, C1QA, LY86, APOBR, CTSS, PF4]  \n",
       "2  [CSF1R, CD74, SELENOP, LY86, APOBR, RAB7B, CTSS]  \n",
       "3             [C1QB, CSF1R, C1QA, CD74, CTSS, C1QC]  \n",
       "4            [CSF1R, C1QA, CD74, LY86, APOBR, CTSS]  \n",
       "5                   [C1QB, CSF1R, C1QA, C1QC, CTSB]  \n",
       "6                  [CD74, LY86, APOBR, RAB7B, CTSS]  \n",
       "7                         [CSF1R, C1QA, LY86, CTSS]  \n",
       "8                         [C1QB, CSF1R, C1QA, C1QC]  \n",
       "9                        [CSF1R, LY86, APOBR, CTSS]  "
      ]
     },
     "execution_count": 4,
     "metadata": {},
     "output_type": "execute_result"
    }
   ],
   "source": [
    "query = ['H2-EB1', 'SELENOP', 'C1QB', 'C1QA', 'CSF1R', 'CCDC152', 'RETNLA', 'CD209F', 'WFDC17', 'C1QC', 'CTSB', 'H2-AB1', 'CD74', 'CTSS', 'CCL6', 'RAB7B', 'PF4', 'LY86', 'SAMHD1', 'APOBR']\n",
    "# db = 'WikiPathways_2019_Mouse'\n",
    "# db = 'KEGG_2019_Mouse'\n",
    "# db = 'ontology'\n",
    "db = 'celltypes'\n",
    "ef = gget.enrichr(query, database=db)\n",
    "\n",
    "pd.set_option('display.max_colwidth', 200)\n",
    "\n",
    "\n",
    "ef[['path_name', 'p_val', 'overlapping_genes']].head(10)"
   ]
  },
  {
   "cell_type": "code",
   "execution_count": 3,
   "id": "a4cf9faf-dc95-4df3-ab0e-e01d5eeaa5e1",
   "metadata": {},
   "outputs": [
    {
     "data": {
      "text/plain": [
       "\u001b[0;31mSignature:\u001b[0m\n",
       "\u001b[0mgget\u001b[0m\u001b[0;34m.\u001b[0m\u001b[0menrichr\u001b[0m\u001b[0;34m(\u001b[0m\u001b[0;34m\u001b[0m\n",
       "\u001b[0;34m\u001b[0m    \u001b[0mgenes\u001b[0m\u001b[0;34m,\u001b[0m\u001b[0;34m\u001b[0m\n",
       "\u001b[0;34m\u001b[0m    \u001b[0mdatabase\u001b[0m\u001b[0;34m,\u001b[0m\u001b[0;34m\u001b[0m\n",
       "\u001b[0;34m\u001b[0m    \u001b[0mensembl\u001b[0m\u001b[0;34m=\u001b[0m\u001b[0;32mFalse\u001b[0m\u001b[0;34m,\u001b[0m\u001b[0;34m\u001b[0m\n",
       "\u001b[0;34m\u001b[0m    \u001b[0mplot\u001b[0m\u001b[0;34m=\u001b[0m\u001b[0;32mFalse\u001b[0m\u001b[0;34m,\u001b[0m\u001b[0;34m\u001b[0m\n",
       "\u001b[0;34m\u001b[0m    \u001b[0mfigsize\u001b[0m\u001b[0;34m=\u001b[0m\u001b[0;34m(\u001b[0m\u001b[0;36m10\u001b[0m\u001b[0;34m,\u001b[0m \u001b[0;36m10\u001b[0m\u001b[0;34m)\u001b[0m\u001b[0;34m,\u001b[0m\u001b[0;34m\u001b[0m\n",
       "\u001b[0;34m\u001b[0m    \u001b[0max\u001b[0m\u001b[0;34m=\u001b[0m\u001b[0;32mNone\u001b[0m\u001b[0;34m,\u001b[0m\u001b[0;34m\u001b[0m\n",
       "\u001b[0;34m\u001b[0m    \u001b[0mjson\u001b[0m\u001b[0;34m=\u001b[0m\u001b[0;32mFalse\u001b[0m\u001b[0;34m,\u001b[0m\u001b[0;34m\u001b[0m\n",
       "\u001b[0;34m\u001b[0m    \u001b[0msave\u001b[0m\u001b[0;34m=\u001b[0m\u001b[0;32mFalse\u001b[0m\u001b[0;34m,\u001b[0m\u001b[0;34m\u001b[0m\n",
       "\u001b[0;34m\u001b[0m\u001b[0;34m)\u001b[0m\u001b[0;34m\u001b[0m\u001b[0;34m\u001b[0m\u001b[0m\n",
       "\u001b[0;31mDocstring:\u001b[0m\n",
       "Perform an enrichment analysis on a list of genes using Enrichr (https://maayanlab.cloud/Enrichr/).\n",
       "\n",
       "Args:\n",
       "- genes       List of Entrez gene symbols to perform enrichment analysis on, passed as a list of strings, e.g. ['PHF14', 'RBM3', 'MSL1', 'PHF21A'].\n",
       "              Set 'ensembl = True' to input a list of Ensembl gene IDs, e.g. ['ENSG00000106443', 'ENSG00000102317', 'ENSG00000188895'].\n",
       "- database    Database to use as reference for the enrichment analysis.\n",
       "              Supported shortcuts (and their default database):\n",
       "              'pathway' (KEGG_2021_Human)\n",
       "              'transcription' (ChEA_2016)\n",
       "              'ontology' (GO_Biological_Process_2021)\n",
       "              'diseases_drugs' (GWAS_Catalog_2019)\n",
       "              'celltypes' (PanglaoDB_Augmented_2021)\n",
       "              'kinase_interactions' (KEA_2015)\n",
       "              or any database listed under Gene-set Library at: https://maayanlab.cloud/Enrichr/#libraries\n",
       "- ensembl     Define as 'True' if 'genes' is a list of Ensembl gene IDs. (Default: False)\n",
       "- plot        True/False whether to provide a graphical overview of the first 15 results. (Default: False)\n",
       "- figsize     (width, height) of plot in inches. (Default: (10,10))\n",
       "- ax          Pass a matplotlib axes object for further customization of the plot. (Default: None)\n",
       "- json        If True, returns results in json format instead of data frame. (Default: False)\n",
       "- save        True/False whether to save the results in the local directory. (Default: False)\n",
       "\n",
       "Returns a data frame with the Enrichr results.\n",
       "\u001b[0;31mFile:\u001b[0m      ~/.local/lib/python3.9/site-packages/gget/gget_enrichr.py\n",
       "\u001b[0;31mType:\u001b[0m      function\n"
      ]
     },
     "metadata": {},
     "output_type": "display_data"
    }
   ],
   "source": [
    "?gget.enrichr"
   ]
  },
  {
   "cell_type": "code",
   "execution_count": null,
   "id": "6596f0ea-db4f-476a-8dd1-1a5b725370f2",
   "metadata": {},
   "outputs": [],
   "source": []
  }
 ],
 "metadata": {
  "kernelspec": {
   "display_name": "Python 3 (ipykernel)",
   "language": "python",
   "name": "python3"
  },
  "language_info": {
   "codemirror_mode": {
    "name": "ipython",
    "version": 3
   },
   "file_extension": ".py",
   "mimetype": "text/x-python",
   "name": "python",
   "nbconvert_exporter": "python",
   "pygments_lexer": "ipython3",
   "version": "3.9.7"
  }
 },
 "nbformat": 4,
 "nbformat_minor": 5
}
