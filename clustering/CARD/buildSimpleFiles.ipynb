{
 "cells": [
  {
   "cell_type": "code",
   "execution_count": 1,
   "id": "06f3c223-d25d-49da-92ea-ab3c1964b282",
   "metadata": {},
   "outputs": [
    {
     "name": "stderr",
     "output_type": "stream",
     "text": [
      "2022-12-20 10:18:05.866688: I tensorflow/core/platform/cpu_feature_guard.cc:193] This TensorFlow binary is optimized with oneAPI Deep Neural Network Library (oneDNN) to use the following CPU instructions in performance-critical operations:  AVX2 AVX512F FMA\n",
      "To enable them in other operations, rebuild TensorFlow with the appropriate compiler flags.\n",
      "2022-12-20 10:18:05.976344: W tensorflow/stream_executor/platform/default/dso_loader.cc:64] Could not load dynamic library 'libcudart.so.11.0'; dlerror: libcudart.so.11.0: cannot open shared object file: No such file or directory; LD_LIBRARY_PATH: /opt/slurm/lib64:\n",
      "2022-12-20 10:18:05.976360: I tensorflow/stream_executor/cuda/cudart_stub.cc:29] Ignore above cudart dlerror if you do not have a GPU set up on your machine.\n",
      "2022-12-20 10:18:06.002196: E tensorflow/stream_executor/cuda/cuda_blas.cc:2981] Unable to register cuBLAS factory: Attempting to register factory for plugin cuBLAS when one has already been registered\n",
      "2022-12-20 10:18:06.868476: W tensorflow/stream_executor/platform/default/dso_loader.cc:64] Could not load dynamic library 'libnvinfer.so.7'; dlerror: libnvinfer.so.7: cannot open shared object file: No such file or directory; LD_LIBRARY_PATH: /opt/slurm/lib64:\n",
      "2022-12-20 10:18:06.868560: W tensorflow/stream_executor/platform/default/dso_loader.cc:64] Could not load dynamic library 'libnvinfer_plugin.so.7'; dlerror: libnvinfer_plugin.so.7: cannot open shared object file: No such file or directory; LD_LIBRARY_PATH: /opt/slurm/lib64:\n",
      "2022-12-20 10:18:06.868567: W tensorflow/compiler/tf2tensorrt/utils/py_utils.cc:38] TF-TRT Warning: Cannot dlopen some TensorRT libraries. If you would like to use Nvidia GPU with TensorRT, please make sure the missing libraries mentioned above are installed properly.\n"
     ]
    }
   ],
   "source": [
    "import os\n",
    "import pandas as pd\n",
    "import numpy as np\n",
    "import matplotlib \n",
    "import matplotlib.pyplot as plt\n",
    "import seaborn as sns\n",
    "import scanpy as sc\n",
    "import squidpy as sq\n",
    "from sklearn import metrics\n",
    "from sklearn.neighbors import NearestNeighbors\n",
    "import tabulate\n",
    "import itertools\n",
    "from mpl_toolkits import mplot3d\n",
    "import matplotlib.patches as mpatches\n",
    "import umap\n",
    "from importlib import reload\n",
    "from scipy import stats\n",
    "import matplotlib.image as mpimg\n",
    "import gget\n",
    "\n",
    "# locals\n",
    "import utils as ut\n",
    "reload(ut)\n",
    "\n",
    "sc.settings.verbosity = 3"
   ]
  },
  {
   "cell_type": "code",
   "execution_count": 2,
   "id": "80b471a9-4699-4c6e-8618-7fe3732d2ee2",
   "metadata": {},
   "outputs": [
    {
     "name": "stdout",
     "output_type": "stream",
     "text": [
      "(427882, 7)\n",
      "['Macrophages' 'B cells' 'Monocytes' 'NK cells' 'Dendritic cells'\n",
      " 'T cells' 'Stromal cells']\n"
     ]
    },
    {
     "data": {
      "text/html": [
       "<div>\n",
       "<style scoped>\n",
       "    .dataframe tbody tr th:only-of-type {\n",
       "        vertical-align: middle;\n",
       "    }\n",
       "\n",
       "    .dataframe tbody tr th {\n",
       "        vertical-align: top;\n",
       "    }\n",
       "\n",
       "    .dataframe thead th {\n",
       "        text-align: right;\n",
       "    }\n",
       "</style>\n",
       "<table border=\"1\" class=\"dataframe\">\n",
       "  <thead>\n",
       "    <tr style=\"text-align: right;\">\n",
       "      <th></th>\n",
       "      <th>gene</th>\n",
       "      <th>scores</th>\n",
       "      <th>pvals</th>\n",
       "      <th>logfoldchanges</th>\n",
       "      <th>clusterId</th>\n",
       "      <th>key</th>\n",
       "      <th>cellType</th>\n",
       "    </tr>\n",
       "  </thead>\n",
       "  <tbody>\n",
       "    <tr>\n",
       "      <th>0</th>\n",
       "      <td>H2-EB1</td>\n",
       "      <td>36.343353</td>\n",
       "      <td>4.575346e-181</td>\n",
       "      <td>3.564091</td>\n",
       "      <td>1</td>\n",
       "      <td>ND</td>\n",
       "      <td>Macrophages</td>\n",
       "    </tr>\n",
       "    <tr>\n",
       "      <th>1</th>\n",
       "      <td>H2-AA</td>\n",
       "      <td>35.311523</td>\n",
       "      <td>4.761517e-183</td>\n",
       "      <td>3.430534</td>\n",
       "      <td>1</td>\n",
       "      <td>ND</td>\n",
       "      <td>Macrophages</td>\n",
       "    </tr>\n",
       "    <tr>\n",
       "      <th>2</th>\n",
       "      <td>H2-AB1</td>\n",
       "      <td>34.411163</td>\n",
       "      <td>2.815112e-177</td>\n",
       "      <td>3.234597</td>\n",
       "      <td>1</td>\n",
       "      <td>ND</td>\n",
       "      <td>Macrophages</td>\n",
       "    </tr>\n",
       "    <tr>\n",
       "      <th>3</th>\n",
       "      <td>CD74</td>\n",
       "      <td>33.910587</td>\n",
       "      <td>2.451588e-177</td>\n",
       "      <td>3.302062</td>\n",
       "      <td>1</td>\n",
       "      <td>ND</td>\n",
       "      <td>Macrophages</td>\n",
       "    </tr>\n",
       "    <tr>\n",
       "      <th>4</th>\n",
       "      <td>H2-DMA</td>\n",
       "      <td>31.695400</td>\n",
       "      <td>2.991793e-123</td>\n",
       "      <td>2.667091</td>\n",
       "      <td>1</td>\n",
       "      <td>ND</td>\n",
       "      <td>Macrophages</td>\n",
       "    </tr>\n",
       "  </tbody>\n",
       "</table>\n",
       "</div>"
      ],
      "text/plain": [
       "     gene     scores          pvals  logfoldchanges  clusterId key  \\\n",
       "0  H2-EB1  36.343353  4.575346e-181        3.564091          1  ND   \n",
       "1   H2-AA  35.311523  4.761517e-183        3.430534          1  ND   \n",
       "2  H2-AB1  34.411163  2.815112e-177        3.234597          1  ND   \n",
       "3    CD74  33.910587  2.451588e-177        3.302062          1  ND   \n",
       "4  H2-DMA  31.695400  2.991793e-123        2.667091          1  ND   \n",
       "\n",
       "      cellType  \n",
       "0  Macrophages  \n",
       "1  Macrophages  \n",
       "2  Macrophages  \n",
       "3  Macrophages  \n",
       "4  Macrophages  "
      ]
     },
     "execution_count": 2,
     "metadata": {},
     "output_type": "execute_result"
    }
   ],
   "source": [
    "clusterPath = \"/nfs/turbo/umms-indikar/shared/projects/spatial_transcriptomics/data/scanpy/clusters.csv\"\n",
    "cf = pd.read_parquet(clusterPath)\n",
    "print(cf.shape)\n",
    "print(cf['cellType'].unique())\n",
    "cf.head()"
   ]
  },
  {
   "cell_type": "code",
   "execution_count": 3,
   "id": "332a9137-6b25-462f-8c7b-45b07a21f575",
   "metadata": {},
   "outputs": [
    {
     "name": "stdout",
     "output_type": "stream",
     "text": [
      "reading /nfs/turbo/umms-indikar/shared/projects/spatial_transcriptomics/data/SPT/HFD14/outs/filtered_feature_bc_matrix.h5\n",
      " (0:00:00)\n",
      "reading /nfs/turbo/umms-indikar/shared/projects/spatial_transcriptomics/data/SPT/ND/outs/filtered_feature_bc_matrix.h5\n",
      " (0:00:00)\n",
      "reading /nfs/turbo/umms-indikar/shared/projects/spatial_transcriptomics/data/SPT/HFD8/outs/filtered_feature_bc_matrix.h5\n",
      " (0:00:00)\n"
     ]
    },
    {
     "data": {
      "text/plain": [
       "dict_keys(['HFD14', 'ND', 'HFD8'])"
      ]
     },
     "execution_count": 3,
     "metadata": {},
     "output_type": "execute_result"
    }
   ],
   "source": [
    "dirPath = \"/nfs/turbo/umms-indikar/shared/projects/spatial_transcriptomics/data/SPT/\"\n",
    "\n",
    "min_counts = 10\n",
    "\n",
    "adata = {}\n",
    "\n",
    "for f in os.listdir(dirPath):\n",
    "    \n",
    "    if not f == \"all\":\n",
    "        key = f\n",
    "        mtxPath = f\"{dirPath}{f}/outs/\"\n",
    "        data = sc.read_visium(mtxPath)\n",
    "        data.var_names_make_unique()\n",
    "        data.var_names = [x.upper() for x in data.var_names]\n",
    "        \n",
    "        \"\"\" filter the SPT data\"\"\"\n",
    "        # sc.pp.filter_cells(data, min_counts=min_counts)\n",
    "        # sc.pp.normalize_total(data, target_sum=1e4) # Normalize each cell by total counts over all genes\n",
    "        # sc.pp.log1p(data) # Logarithmize data via `X = \\log(X + 1)`,\n",
    "        # sc.pp.scale(data) # unit variance and zero mean\n",
    "        \n",
    "        adata[key] = data\n",
    "    \n",
    "adata.keys()"
   ]
  },
  {
   "cell_type": "code",
   "execution_count": 4,
   "id": "f73e65d2-fa1e-4886-82f3-c0b0ed18ccb2",
   "metadata": {},
   "outputs": [
    {
     "name": "stdout",
     "output_type": "stream",
     "text": [
      "done\n"
     ]
    }
   ],
   "source": [
    "dirPath = \"/nfs/turbo/umms-indikar/shared/projects/spatial_transcriptomics/data/scanpy/\"\n",
    "\n",
    "rna = {}\n",
    "\n",
    "for f in os.listdir(dirPath):\n",
    "    \n",
    "    if f.endswith('.h5ad'):\n",
    "        key = f.split(\".\")[0]\n",
    "        fullPath = f\"{dirPath}{f}\"\n",
    "        data = sc.read(fullPath)\n",
    "        rna[key] = data\n",
    "    \n",
    "print(\"done\")"
   ]
  },
  {
   "cell_type": "code",
   "execution_count": 5,
   "id": "15509be2-dea2-4725-894b-0816792066a5",
   "metadata": {},
   "outputs": [
    {
     "name": "stdout",
     "output_type": "stream",
     "text": [
      "... reading from cache file cache/nfs-turbo-umms-indikar-shared-projects-spatial_transcriptomics-data-scRNAseq-HFD14-matrix.h5ad\n",
      "... reading from cache file cache/nfs-turbo-umms-indikar-shared-projects-spatial_transcriptomics-data-scRNAseq-ND-matrix.h5ad\n",
      "... reading from cache file cache/nfs-turbo-umms-indikar-shared-projects-spatial_transcriptomics-data-scRNAseq-HFD8-matrix.h5ad\n",
      "done\n"
     ]
    }
   ],
   "source": [
    "dirPath = \"/nfs/turbo/umms-indikar/shared/projects/spatial_transcriptomics/data/scRNAseq/\"\n",
    "\n",
    "raw = {}\n",
    "\n",
    "for f in os.listdir(dirPath):\n",
    "    \n",
    "    if not f == \"all\":\n",
    "        key = f\n",
    "        mtxPath = f\"{dirPath}{f}\"\n",
    "        data = sc.read_10x_mtx(mtxPath, cache=True)\n",
    "        data.var_names = [x.upper() for x in data.var_names] # uppercase gene names\n",
    "        raw[key] = data\n",
    "    \n",
    "print(\"done\")"
   ]
  },
  {
   "cell_type": "code",
   "execution_count": 6,
   "id": "b3d62400-24f9-488c-81b0-50323b33d38e",
   "metadata": {},
   "outputs": [
    {
     "name": "stdout",
     "output_type": "stream",
     "text": [
      "done\n"
     ]
    }
   ],
   "source": [
    "# load cluster assignments\n",
    "cdf = pd.read_csv(\"clusterAssignments.csv\")\n",
    "cid = {}\n",
    "\n",
    "for key in cdf['key'].unique():\n",
    "    t = cdf[cdf['key'] == key]\n",
    "    cid[key] = t\n",
    "    \n",
    "print('done')"
   ]
  },
  {
   "cell_type": "code",
   "execution_count": 7,
   "id": "2fdc29a7-5343-4045-b1ad-781a204f6613",
   "metadata": {},
   "outputs": [],
   "source": [
    "def getImage(data):\n",
    "    \"\"\"A function to get image from the spatial data \"\"\"\n",
    "    from scanpy.pl._tools import scatterplots as spt    \n",
    "    sptData = data.uns['spatial']\n",
    "    \n",
    "    libraryId = list(sptData.keys())[0]\n",
    "    sptData = sptData[libraryId]\n",
    "    \n",
    "    # get params\n",
    "    img = sptData['images']['hires']\n",
    "    scale_factor = sptData['scalefactors']['tissue_hires_scalef']\n",
    "    return img, scale_factor"
   ]
  },
  {
   "cell_type": "code",
   "execution_count": 9,
   "id": "efdd4422-c142-4919-b8a9-9b844a0f03ba",
   "metadata": {},
   "outputs": [
    {
     "name": "stdout",
     "output_type": "stream",
     "text": [
      "ND (1414, 31053) (2036, 31053) (2036, 2)\n",
      "done ND\n",
      "HFD8 (6558, 31053) (3394, 31053) (3394, 2)\n",
      "done HFD8\n",
      "HFD14 (7146, 31053) (1994, 31053) (1994, 2)\n",
      "done HFD14\n"
     ]
    }
   ],
   "source": [
    "keys = ['ND', 'HFD8', 'HFD14']\n",
    "\n",
    "outdir = \"/nfs/turbo/umms-indikar/shared/projects/spatial_transcriptomics/data/cleanData/\"\n",
    "\n",
    "clusters = []\n",
    "rnas = []\n",
    "spts = []\n",
    "\n",
    "for key in keys:\n",
    "    spt = adata[key]\n",
    "    scr = rna[key]\n",
    "    rawRna = raw[key]\n",
    "    \n",
    "    _, sf = getImage(spt)\n",
    "    \n",
    "    # get coordinates\n",
    "    coords = pd.DataFrame(spt.obsm['spatial'])\n",
    "    coords.columns = ['x', 'y']\n",
    "    coords['x'] = coords['x'] * sf\n",
    "    coords['y'] = coords['y'] * sf\n",
    "    \n",
    "    # get the run key\n",
    "    allKeys = list(scr.obs.keys() )\n",
    "    allKeys.remove('n_genes')\n",
    "    runKey = allKeys[0]\n",
    "    clusterIds = scr.obs[runKey].astype(int) + 1  # note that these are zero-indexed!\n",
    "    clusterIds = pd.DataFrame(clusterIds)\n",
    "    clusterIds = clusterIds.reset_index(drop=False)\n",
    "    clusterIds.columns = ['cellId', 'clusterId']\n",
    "    \n",
    "    clusterAssignments = cid[key][['clusterId', 'cellType']]\n",
    "    \n",
    "    clusterIds = pd.merge(clusterIds, \n",
    "                          clusterAssignments,\n",
    "                          how='left',\n",
    "                          left_on='clusterId',\n",
    "                          right_on='clusterId')\n",
    "    \n",
    "    src = rawRna.to_df()\n",
    "    spt = spt.to_df()\n",
    "    \n",
    "    coords.index = spt.index\n",
    "    \n",
    "    print(key, src.shape, spt.shape, coords.shape)\n",
    "    \n",
    "    outpath = f\"{outdir}{key}_clusters.pq\"\n",
    "    clusterIds.to_parquet(outpath, index=False)\n",
    "    \n",
    "    outpath = f\"{outdir}{key}_coords.pq\"\n",
    "    coords.to_parquet(outpath, index=True)\n",
    "    \n",
    "    outpath = f\"{outdir}{key}_rna.pq\"\n",
    "    src.to_parquet(outpath, index=True)\n",
    "    \n",
    "    outpath = f\"{outdir}{key}_spt.pq\"\n",
    "    spt.to_parquet(outpath, index=True)\n",
    "    \n",
    "print('done')"
   ]
  },
  {
   "cell_type": "code",
   "execution_count": null,
   "id": "44315c15-ac5e-4974-9184-3f5248a6dcc8",
   "metadata": {},
   "outputs": [],
   "source": []
  },
  {
   "cell_type": "code",
   "execution_count": null,
   "id": "74583ab1-55fc-4479-b8f3-c1eba6daffb6",
   "metadata": {},
   "outputs": [],
   "source": []
  },
  {
   "cell_type": "code",
   "execution_count": null,
   "id": "69cf6adc-10e4-4257-b086-7a65501b1d94",
   "metadata": {},
   "outputs": [],
   "source": []
  },
  {
   "cell_type": "code",
   "execution_count": null,
   "id": "6a6031ba-3164-4203-9c9e-f6fc62faff65",
   "metadata": {},
   "outputs": [],
   "source": []
  }
 ],
 "metadata": {
  "kernelspec": {
   "display_name": "Python 3 (ipykernel)",
   "language": "python",
   "name": "python3"
  },
  "language_info": {
   "codemirror_mode": {
    "name": "ipython",
    "version": 3
   },
   "file_extension": ".py",
   "mimetype": "text/x-python",
   "name": "python",
   "nbconvert_exporter": "python",
   "pygments_lexer": "ipython3",
   "version": "3.9.7"
  }
 },
 "nbformat": 4,
 "nbformat_minor": 5
}
