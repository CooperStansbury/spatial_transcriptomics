{
 "cells": [
  {
   "cell_type": "code",
   "execution_count": 1,
   "id": "cc7be27f-675e-4560-b2d4-9a81ffc1c2d0",
   "metadata": {},
   "outputs": [
    {
     "name": "stderr",
     "output_type": "stream",
     "text": [
      "Warning message:\n",
      "“replacing previous import ‘RcppML::nmf’ by ‘NMF::nmf’ when loading ‘CARD’”\n"
     ]
    }
   ],
   "source": [
    "suppressMessages(library(\"CARD\", quietly = T))\n",
    "suppressMessages(library(\"ggplot2\", quietly = T))\n",
    "suppressMessages(library(\"reshape2\", quietly = T))\n",
    "suppressMessages(library(\"gtools\", quietly = T))\n",
    "suppressMessages(library(\"scatterpie\", quietly = T))\n",
    "suppressMessages(library(\"glue\", quietly = T))"
   ]
  },
  {
   "cell_type": "code",
   "execution_count": 2,
   "id": "a26f0ed8-6fd5-4f05-ae04-d3c3bf6bebfe",
   "metadata": {},
   "outputs": [],
   "source": [
    "# devtools::install_github('xuranw/MuSiC')"
   ]
  },
  {
   "cell_type": "code",
   "execution_count": 15,
   "id": "04101789-c2bd-4b61-8cee-0debd59c04b2",
   "metadata": {},
   "outputs": [
    {
     "data": {
      "text/html": [
       "<style>\n",
       ".list-inline {list-style: none; margin:0; padding: 0}\n",
       ".list-inline>li {display: inline-block}\n",
       ".list-inline>li:not(:last-child)::after {content: \"\\00b7\"; padding: 0 .5ex}\n",
       "</style>\n",
       "<ol class=list-inline><li>31053</li><li>2036</li></ol>\n"
      ],
      "text/latex": [
       "\\begin{enumerate*}\n",
       "\\item 31053\n",
       "\\item 2036\n",
       "\\end{enumerate*}\n"
      ],
      "text/markdown": [
       "1. 31053\n",
       "2. 2036\n",
       "\n",
       "\n"
      ],
      "text/plain": [
       "[1] 31053  2036"
      ]
     },
     "metadata": {},
     "output_type": "display_data"
    },
    {
     "data": {
      "text/html": [
       "<style>\n",
       ".list-inline {list-style: none; margin:0; padding: 0}\n",
       ".list-inline>li {display: inline-block}\n",
       ".list-inline>li:not(:last-child)::after {content: \"\\00b7\"; padding: 0 .5ex}\n",
       "</style>\n",
       "<ol class=list-inline><li>2036</li><li>2</li></ol>\n"
      ],
      "text/latex": [
       "\\begin{enumerate*}\n",
       "\\item 2036\n",
       "\\item 2\n",
       "\\end{enumerate*}\n"
      ],
      "text/markdown": [
       "1. 2036\n",
       "2. 2\n",
       "\n",
       "\n"
      ],
      "text/plain": [
       "[1] 2036    2"
      ]
     },
     "metadata": {},
     "output_type": "display_data"
    },
    {
     "data": {
      "text/html": [
       "<style>\n",
       ".list-inline {list-style: none; margin:0; padding: 0}\n",
       ".list-inline>li {display: inline-block}\n",
       ".list-inline>li:not(:last-child)::after {content: \"\\00b7\"; padding: 0 .5ex}\n",
       "</style>\n",
       "<ol class=list-inline><li>31053</li><li>13820</li></ol>\n"
      ],
      "text/latex": [
       "\\begin{enumerate*}\n",
       "\\item 31053\n",
       "\\item 13820\n",
       "\\end{enumerate*}\n"
      ],
      "text/markdown": [
       "1. 31053\n",
       "2. 13820\n",
       "\n",
       "\n"
      ],
      "text/plain": [
       "[1] 31053 13820"
      ]
     },
     "metadata": {},
     "output_type": "display_data"
    },
    {
     "data": {
      "text/html": [
       "<style>\n",
       ".list-inline {list-style: none; margin:0; padding: 0}\n",
       ".list-inline>li {display: inline-block}\n",
       ".list-inline>li:not(:last-child)::after {content: \"\\00b7\"; padding: 0 .5ex}\n",
       "</style>\n",
       "<ol class=list-inline><li>13820</li><li>4</li></ol>\n"
      ],
      "text/latex": [
       "\\begin{enumerate*}\n",
       "\\item 13820\n",
       "\\item 4\n",
       "\\end{enumerate*}\n"
      ],
      "text/markdown": [
       "1. 13820\n",
       "2. 4\n",
       "\n",
       "\n"
      ],
      "text/plain": [
       "[1] 13820     4"
      ]
     },
     "metadata": {},
     "output_type": "display_data"
    }
   ],
   "source": [
    "# load spatial data\n",
    "key = \"ND\"\n",
    "subId = \"global_\"\n",
    "# subId = \"\"\n",
    "inputDir = \"/nfs/turbo/umms-indikar/shared/projects/spatial_transcriptomics/data/CARDInputs/\"\n",
    "\n",
    "sptPath = glue(\"{inputDir}{key}_{subId}spt.csv\")\n",
    "spt.df <- read.csv(sptPath)\n",
    "rownames(spt.df) <- spt.df[,1]\n",
    "spt.df <- spt.df[,-1]\n",
    "spt <- as.matrix(spt.df)\n",
    "dim(spt)\n",
    "\n",
    "# load spatial coordinates\n",
    "xyPath = glue(\"{inputDir}{key}_{subId}coords.csv\")\n",
    "xy.df <- read.csv(xyPath)\n",
    "rownames(xy.df) <- xy.df[,1]\n",
    "xy.df <- xy.df[,-1]\n",
    "dim(xy.df)\n",
    "\n",
    "# load the rna seq data\n",
    "rnaPath = glue(\"{inputDir}_{subId}rna.csv\")\n",
    "rna.df <- read.csv(rnaPath)\n",
    "rownames(rna.df) <- rna.df[,1]\n",
    "rna.df <- rna.df[,-1]\n",
    "rna <- as.matrix(rna.df)\n",
    "dim(rna)\n",
    "\n",
    "# load the annotations\n",
    "metaPath = glue(\"{inputDir}_{subId}clusters.csv\")\n",
    "meta.df <- read.csv(metaPath)\n",
    "rownames(meta.df) <- meta.df$cellId\n",
    "dim(meta.df)"
   ]
  },
  {
   "cell_type": "code",
   "execution_count": 16,
   "id": "8dfbedd2-e37f-4f64-af2e-ce37e1f55113",
   "metadata": {},
   "outputs": [
    {
     "name": "stdout",
     "output_type": "stream",
     "text": [
      "## QC on scRNASeq dataset! ...\n",
      "## QC on spatially-resolved dataset! ...\n"
     ]
    }
   ],
   "source": [
    "CARD_obj = createCARDObject(\n",
    "\tsc_count = rna,\n",
    "\tsc_meta = meta.df,\n",
    "\tspatial_count = spt,\n",
    "\tspatial_location = xy.df,\n",
    "\tct.varname = \"cellType\",\n",
    "\tct.select = unique(meta.df$cellType),\n",
    "\tsample.varname = \"sampleInfo\",\n",
    "\tminCountGene = 10,\n",
    "\tminCountSpot = 20)"
   ]
  },
  {
   "cell_type": "code",
   "execution_count": 17,
   "id": "daf4da26-34bf-4930-910a-a8d85459305d",
   "metadata": {},
   "outputs": [
    {
     "name": "stdout",
     "output_type": "stream",
     "text": [
      "## create reference matrix from scRNASeq...\n"
     ]
    },
    {
     "name": "stderr",
     "output_type": "stream",
     "text": [
      "Warning message in asMethod(object):\n",
      "“sparse->dense coercion: allocating vector of size 2.0 GiB”\n"
     ]
    },
    {
     "name": "stdout",
     "output_type": "stream",
     "text": [
      "## Select Informative Genes! ...\n",
      "## Deconvolution Starts! ...\n",
      "## Deconvolution Finish! ...\n"
     ]
    }
   ],
   "source": [
    "CARD_obj = suppressMessages(CARD_deconvolution(CARD_object = CARD_obj))"
   ]
  },
  {
   "cell_type": "code",
   "execution_count": 18,
   "id": "2282b4fb-da66-404b-90df-db2e5f310686",
   "metadata": {},
   "outputs": [
    {
     "data": {
      "text/html": [
       "<style>\n",
       ".list-inline {list-style: none; margin:0; padding: 0}\n",
       ".list-inline>li {display: inline-block}\n",
       ".list-inline>li:not(:last-child)::after {content: \"\\00b7\"; padding: 0 .5ex}\n",
       "</style>\n",
       "<ol class=list-inline><li>2034</li><li>11</li></ol>\n"
      ],
      "text/latex": [
       "\\begin{enumerate*}\n",
       "\\item 2034\n",
       "\\item 11\n",
       "\\end{enumerate*}\n"
      ],
      "text/markdown": [
       "1. 2034\n",
       "2. 11\n",
       "\n",
       "\n"
      ],
      "text/plain": [
       "[1] 2034   11"
      ]
     },
     "metadata": {},
     "output_type": "display_data"
    },
    {
     "data": {
      "text/html": [
       "<table class=\"dataframe\">\n",
       "<caption>A data.frame: 6 × 11</caption>\n",
       "<thead>\n",
       "\t<tr><th></th><th scope=col>B cells</th><th scope=col>Mac1</th><th scope=col>Mac3</th><th scope=col>Monocytes</th><th scope=col>T cells</th><th scope=col>NK cells</th><th scope=col>Stromal cells</th><th scope=col>Dendritic cells</th><th scope=col>Mac4</th><th scope=col>Mac2</th><th scope=col>Mac5</th></tr>\n",
       "\t<tr><th></th><th scope=col>&lt;dbl&gt;</th><th scope=col>&lt;dbl&gt;</th><th scope=col>&lt;dbl&gt;</th><th scope=col>&lt;dbl&gt;</th><th scope=col>&lt;dbl&gt;</th><th scope=col>&lt;dbl&gt;</th><th scope=col>&lt;dbl&gt;</th><th scope=col>&lt;dbl&gt;</th><th scope=col>&lt;dbl&gt;</th><th scope=col>&lt;dbl&gt;</th><th scope=col>&lt;dbl&gt;</th></tr>\n",
       "</thead>\n",
       "<tbody>\n",
       "\t<tr><th scope=row>AAACAAGTATCTCCCA.1_ND</th><td>0.018690515</td><td>0.0094096631</td><td>1.073706e-02</td><td>0.07078242</td><td>0.04029819</td><td>0.07738866</td><td>0.6453321</td><td>0.0152807955</td><td>0.04551563</td><td>0.03935429</td><td>0.027210711</td></tr>\n",
       "\t<tr><th scope=row>AAACAGCTTTCAGAAG.1_ND</th><td>0.008378193</td><td>0.0057003600</td><td>3.803781e-02</td><td>0.08993247</td><td>0.04861780</td><td>0.10398279</td><td>0.5750206</td><td>0.0467584445</td><td>0.02002660</td><td>0.03545058</td><td>0.028094348</td></tr>\n",
       "\t<tr><th scope=row>AAACAGGGTCTATATT.1_ND</th><td>0.024324824</td><td>0.0107611417</td><td>2.432328e-02</td><td>0.11760583</td><td>0.07299279</td><td>0.12109297</td><td>0.4783830</td><td>0.0266079288</td><td>0.04205138</td><td>0.04825837</td><td>0.033598472</td></tr>\n",
       "\t<tr><th scope=row>AAACATTTCCCGGATT.1_ND</th><td>0.023002457</td><td>0.0147036170</td><td>4.418104e-02</td><td>0.08701925</td><td>0.05353735</td><td>0.08392241</td><td>0.4659584</td><td>0.0532225554</td><td>0.08775848</td><td>0.03745193</td><td>0.049242491</td></tr>\n",
       "\t<tr><th scope=row>AAACCCGAACGAAATC.1_ND</th><td>0.021953636</td><td>0.0037842781</td><td>1.239947e-03</td><td>0.03802028</td><td>0.02638629</td><td>0.06136367</td><td>0.7751703</td><td>0.0037251778</td><td>0.02310603</td><td>0.02591410</td><td>0.019336275</td></tr>\n",
       "\t<tr><th scope=row>AAACCGGGTAGGTACC.1_ND</th><td>0.003432934</td><td>0.0006376751</td><td>3.671747e-05</td><td>0.02798927</td><td>0.01161905</td><td>0.03501702</td><td>0.8871449</td><td>0.0000331209</td><td>0.01217640</td><td>0.01429988</td><td>0.007613053</td></tr>\n",
       "</tbody>\n",
       "</table>\n"
      ],
      "text/latex": [
       "A data.frame: 6 × 11\n",
       "\\begin{tabular}{r|lllllllllll}\n",
       "  & B cells & Mac1 & Mac3 & Monocytes & T cells & NK cells & Stromal cells & Dendritic cells & Mac4 & Mac2 & Mac5\\\\\n",
       "  & <dbl> & <dbl> & <dbl> & <dbl> & <dbl> & <dbl> & <dbl> & <dbl> & <dbl> & <dbl> & <dbl>\\\\\n",
       "\\hline\n",
       "\tAAACAAGTATCTCCCA.1\\_ND & 0.018690515 & 0.0094096631 & 1.073706e-02 & 0.07078242 & 0.04029819 & 0.07738866 & 0.6453321 & 0.0152807955 & 0.04551563 & 0.03935429 & 0.027210711\\\\\n",
       "\tAAACAGCTTTCAGAAG.1\\_ND & 0.008378193 & 0.0057003600 & 3.803781e-02 & 0.08993247 & 0.04861780 & 0.10398279 & 0.5750206 & 0.0467584445 & 0.02002660 & 0.03545058 & 0.028094348\\\\\n",
       "\tAAACAGGGTCTATATT.1\\_ND & 0.024324824 & 0.0107611417 & 2.432328e-02 & 0.11760583 & 0.07299279 & 0.12109297 & 0.4783830 & 0.0266079288 & 0.04205138 & 0.04825837 & 0.033598472\\\\\n",
       "\tAAACATTTCCCGGATT.1\\_ND & 0.023002457 & 0.0147036170 & 4.418104e-02 & 0.08701925 & 0.05353735 & 0.08392241 & 0.4659584 & 0.0532225554 & 0.08775848 & 0.03745193 & 0.049242491\\\\\n",
       "\tAAACCCGAACGAAATC.1\\_ND & 0.021953636 & 0.0037842781 & 1.239947e-03 & 0.03802028 & 0.02638629 & 0.06136367 & 0.7751703 & 0.0037251778 & 0.02310603 & 0.02591410 & 0.019336275\\\\\n",
       "\tAAACCGGGTAGGTACC.1\\_ND & 0.003432934 & 0.0006376751 & 3.671747e-05 & 0.02798927 & 0.01161905 & 0.03501702 & 0.8871449 & 0.0000331209 & 0.01217640 & 0.01429988 & 0.007613053\\\\\n",
       "\\end{tabular}\n"
      ],
      "text/markdown": [
       "\n",
       "A data.frame: 6 × 11\n",
       "\n",
       "| <!--/--> | B cells &lt;dbl&gt; | Mac1 &lt;dbl&gt; | Mac3 &lt;dbl&gt; | Monocytes &lt;dbl&gt; | T cells &lt;dbl&gt; | NK cells &lt;dbl&gt; | Stromal cells &lt;dbl&gt; | Dendritic cells &lt;dbl&gt; | Mac4 &lt;dbl&gt; | Mac2 &lt;dbl&gt; | Mac5 &lt;dbl&gt; |\n",
       "|---|---|---|---|---|---|---|---|---|---|---|---|\n",
       "| AAACAAGTATCTCCCA.1_ND | 0.018690515 | 0.0094096631 | 1.073706e-02 | 0.07078242 | 0.04029819 | 0.07738866 | 0.6453321 | 0.0152807955 | 0.04551563 | 0.03935429 | 0.027210711 |\n",
       "| AAACAGCTTTCAGAAG.1_ND | 0.008378193 | 0.0057003600 | 3.803781e-02 | 0.08993247 | 0.04861780 | 0.10398279 | 0.5750206 | 0.0467584445 | 0.02002660 | 0.03545058 | 0.028094348 |\n",
       "| AAACAGGGTCTATATT.1_ND | 0.024324824 | 0.0107611417 | 2.432328e-02 | 0.11760583 | 0.07299279 | 0.12109297 | 0.4783830 | 0.0266079288 | 0.04205138 | 0.04825837 | 0.033598472 |\n",
       "| AAACATTTCCCGGATT.1_ND | 0.023002457 | 0.0147036170 | 4.418104e-02 | 0.08701925 | 0.05353735 | 0.08392241 | 0.4659584 | 0.0532225554 | 0.08775848 | 0.03745193 | 0.049242491 |\n",
       "| AAACCCGAACGAAATC.1_ND | 0.021953636 | 0.0037842781 | 1.239947e-03 | 0.03802028 | 0.02638629 | 0.06136367 | 0.7751703 | 0.0037251778 | 0.02310603 | 0.02591410 | 0.019336275 |\n",
       "| AAACCGGGTAGGTACC.1_ND | 0.003432934 | 0.0006376751 | 3.671747e-05 | 0.02798927 | 0.01161905 | 0.03501702 | 0.8871449 | 0.0000331209 | 0.01217640 | 0.01429988 | 0.007613053 |\n",
       "\n"
      ],
      "text/plain": [
       "                      B cells     Mac1         Mac3         Monocytes \n",
       "AAACAAGTATCTCCCA.1_ND 0.018690515 0.0094096631 1.073706e-02 0.07078242\n",
       "AAACAGCTTTCAGAAG.1_ND 0.008378193 0.0057003600 3.803781e-02 0.08993247\n",
       "AAACAGGGTCTATATT.1_ND 0.024324824 0.0107611417 2.432328e-02 0.11760583\n",
       "AAACATTTCCCGGATT.1_ND 0.023002457 0.0147036170 4.418104e-02 0.08701925\n",
       "AAACCCGAACGAAATC.1_ND 0.021953636 0.0037842781 1.239947e-03 0.03802028\n",
       "AAACCGGGTAGGTACC.1_ND 0.003432934 0.0006376751 3.671747e-05 0.02798927\n",
       "                      T cells    NK cells   Stromal cells Dendritic cells\n",
       "AAACAAGTATCTCCCA.1_ND 0.04029819 0.07738866 0.6453321     0.0152807955   \n",
       "AAACAGCTTTCAGAAG.1_ND 0.04861780 0.10398279 0.5750206     0.0467584445   \n",
       "AAACAGGGTCTATATT.1_ND 0.07299279 0.12109297 0.4783830     0.0266079288   \n",
       "AAACATTTCCCGGATT.1_ND 0.05353735 0.08392241 0.4659584     0.0532225554   \n",
       "AAACCCGAACGAAATC.1_ND 0.02638629 0.06136367 0.7751703     0.0037251778   \n",
       "AAACCGGGTAGGTACC.1_ND 0.01161905 0.03501702 0.8871449     0.0000331209   \n",
       "                      Mac4       Mac2       Mac5       \n",
       "AAACAAGTATCTCCCA.1_ND 0.04551563 0.03935429 0.027210711\n",
       "AAACAGCTTTCAGAAG.1_ND 0.02002660 0.03545058 0.028094348\n",
       "AAACAGGGTCTATATT.1_ND 0.04205138 0.04825837 0.033598472\n",
       "AAACATTTCCCGGATT.1_ND 0.08775848 0.03745193 0.049242491\n",
       "AAACCCGAACGAAATC.1_ND 0.02310603 0.02591410 0.019336275\n",
       "AAACCGGGTAGGTACC.1_ND 0.01217640 0.01429988 0.007613053"
      ]
     },
     "metadata": {},
     "output_type": "display_data"
    }
   ],
   "source": [
    "props.df <- as.data.frame(CARD_obj@Proportion_CARD)\n",
    "\n",
    "outDir = \"/nfs/turbo/umms-indikar/shared/projects/spatial_transcriptomics/data/CARDOuputs/\"\n",
    "outpath = glue(\"{outDir}{key}_{subId}CARD.csv\")\n",
    "\n",
    "write.csv(props.df, \n",
    "          outpath, \n",
    "          row.names=TRUE)\n",
    "\n",
    "dim(props.df)\n",
    "\n",
    "head(props.df)"
   ]
  },
  {
   "cell_type": "code",
   "execution_count": 7,
   "id": "677ca92b-32f2-455c-ba46-b692ebbb3245",
   "metadata": {},
   "outputs": [],
   "source": [
    "# # pieViz <- function(proportion, spatial_location){\n",
    "# #     res_CARD = as.data.frame(proportion)\n",
    "# #     res_CARD = res_CARD[,mixedsort(colnames(res_CARD))]\n",
    "# #     location = as.data.frame(spatial_location) \n",
    "# #     colors = colorRampPalette(c(\"Blue\", \"Red\"))(ncol(res_CARD))\n",
    "# #     data = cbind(res_CARD,location)\n",
    "# #     ct.select = colnames(res_CARD)\n",
    "# #     p = ggplot() + \n",
    "# #         geom_scatterpie(aes(x=x, y=y, r = 1), \n",
    "# #                         data=data,\n",
    "# #                         cols=ct.select,color=NA) + \n",
    "# #         coord_fixed(ratio = 1) + \n",
    "# #         scale_fill_manual(values = colors) \n",
    "# #     return(p)\n",
    "    \n",
    "# # }\n",
    "\n",
    "# p <- CARD.visualize.pie(proportion = CARD_obj@Proportion_CARD,\n",
    "#                         spatial_location = CARD_obj@spatial_location)\n",
    "                   \n",
    "# ggsave(\"cardFigures/mixtures.png\",\n",
    "#        width = 50, \n",
    "#        height = 50, \n",
    "#        units = \"cm\")\n",
    "\n",
    "# print('done')"
   ]
  },
  {
   "cell_type": "code",
   "execution_count": 8,
   "id": "ca8cb70e-6ca9-4ebc-852d-34386be53a99",
   "metadata": {},
   "outputs": [
    {
     "name": "stdout",
     "output_type": "stream",
     "text": [
      "[1] \"done\"\n"
     ]
    }
   ],
   "source": [
    "visCells <- function(proportion, spatial_location, ct.visualize, colors, NumCols, pntSize){\n",
    "    res_CARD = as.data.frame(proportion)\n",
    "    res_CARD = res_CARD[,order(colnames(res_CARD))]\n",
    "    location = as.data.frame(spatial_location)\n",
    "    if(sum(rownames(res_CARD)==rownames(location))!= nrow(res_CARD)){\n",
    "    stop(\"The rownames of proportion data does not match with the rownames of spatial location data\")\n",
    "    }\n",
    "    ct.select = ct.visualize\n",
    "    res_CARD = res_CARD[,ct.select]\n",
    "    res_CARD_scale = as.data.frame(apply(res_CARD,2,function(x){\n",
    "    (x - min(x)) / (max(x) - min(x))\n",
    "    } ))\n",
    "    res_CARD_scale$x = as.numeric(location$x)\n",
    "    res_CARD_scale$y = as.numeric(location$y)\n",
    "    mData = melt(res_CARD_scale,id.vars = c(\"x\",\"y\"))\n",
    "    colnames(mData)[3] <- \"Cell_Type\"\n",
    "    b = c(0,1)\n",
    "    \n",
    "    p = ggplot(mData, aes(x, y))  +\n",
    "    geom_point(aes(colour = value), size = pntSize) +\n",
    "    scale_color_gradientn(colours = colors) + \n",
    "    scale_y_reverse() +\n",
    "    facet_wrap(~Cell_Type,ncol = NumCols)+ \n",
    "    coord_fixed()+\n",
    "    theme(axis.text = element_blank(),\n",
    "          axis.ticks = element_blank(),\n",
    "          axis.title = element_blank(),\n",
    "          panel.background = element_blank(),\n",
    "          plot.background = element_blank(),\n",
    "          panel.grid.major = element_blank(), \n",
    "          panel.grid.minor = element_blank(),\n",
    "         )\n",
    "    return(p)\n",
    "}\n",
    "\n",
    "p <- visCells(CARD_obj@Proportion_CARD,\n",
    "         CARD_obj@spatial_location,\n",
    "         unique(meta.df$cellType),\n",
    "         c(\"lightblue\",\"lightyellow\",\"red\"),\n",
    "         4, \n",
    "         0.1)\n",
    "\n",
    "figDir = \"cardFigures/\"\n",
    "outpath = glue(\"{figDir}{key}_{subId}spots.png\")\n",
    "ggsave(outpath,\n",
    "       width = 20, \n",
    "       height = 20, \n",
    "       units = \"cm\")\n",
    "\n",
    "print('done')"
   ]
  },
  {
   "cell_type": "code",
   "execution_count": 9,
   "id": "aa63bbc2-ea51-494c-8e14-b8bd2300e837",
   "metadata": {},
   "outputs": [
    {
     "name": "stdout",
     "output_type": "stream",
     "text": [
      "## The rownames of locations are matched ...\n",
      "## Make grids on new spatial locations ...\n",
      "[1] \"done\"\n"
     ]
    }
   ],
   "source": [
    "CARD_obj = CARD.imputation(CARD_obj,\n",
    "                           NumGrids = 10000,\n",
    "                           ineibor = 21,\n",
    "                           exclude = NULL)\n",
    "\n",
    "location_imputation = cbind.data.frame(x=as.numeric(sapply(strsplit(rownames(CARD_obj@refined_prop),split=\"x\"),\"[\",1)),\n",
    "                                       y=as.numeric(sapply(strsplit(rownames(CARD_obj@refined_prop),split=\"x\"),\"[\",2)))\n",
    "\n",
    "rownames(location_imputation) = rownames(CARD_obj@refined_prop)\n",
    "\n",
    "p <-visCells(\n",
    "\tCARD_obj@refined_prop,                         \n",
    "\tlocation_imputation,            \n",
    "\tunique(meta.df$cellType),                    \n",
    "\tc(\"lightblue\",\"lightyellow\",\"red\"),    \n",
    "\tNumCols = 4,\n",
    "    pntSize = 0.1)     \n",
    "\n",
    "outpath = glue(\"{figDir}{key}_{subId}imputed.png\")\n",
    "ggsave(outpath,\n",
    "       width = 20, \n",
    "       height = 20, \n",
    "       units = \"cm\")\n",
    "\n",
    "print('done')"
   ]
  },
  {
   "cell_type": "code",
   "execution_count": 10,
   "id": "2a3dceba-024c-462e-97ce-dad57e23dc0a",
   "metadata": {},
   "outputs": [
    {
     "data": {
      "text/html": [
       "<table class=\"dataframe\">\n",
       "<caption>A data.frame: 6 × 11</caption>\n",
       "<thead>\n",
       "\t<tr><th></th><th scope=col>Mac5</th><th scope=col>Monocytes</th><th scope=col>T cells</th><th scope=col>Mac4</th><th scope=col>Mac1</th><th scope=col>NK cells</th><th scope=col>Dendritic cells</th><th scope=col>Stromal cells</th><th scope=col>B cells</th><th scope=col>Mac2</th><th scope=col>Mac3</th></tr>\n",
       "\t<tr><th></th><th scope=col>&lt;dbl&gt;</th><th scope=col>&lt;dbl&gt;</th><th scope=col>&lt;dbl&gt;</th><th scope=col>&lt;dbl&gt;</th><th scope=col>&lt;dbl&gt;</th><th scope=col>&lt;dbl&gt;</th><th scope=col>&lt;dbl&gt;</th><th scope=col>&lt;dbl&gt;</th><th scope=col>&lt;dbl&gt;</th><th scope=col>&lt;dbl&gt;</th><th scope=col>&lt;dbl&gt;</th></tr>\n",
       "</thead>\n",
       "<tbody>\n",
       "\t<tr><th scope=row>331x476</th><td>0.3034526</td><td>0.07928022</td><td>0.04397935</td><td>0.03105100</td><td>0.06866088</td><td>0.09012360</td><td>0.02800539</td><td>0.2493845</td><td>0.04629264</td><td>0.02963406</td><td>0.03013585</td></tr>\n",
       "\t<tr><th scope=row>331x487</th><td>0.3052533</td><td>0.07976759</td><td>0.04360004</td><td>0.03112132</td><td>0.06632515</td><td>0.09038673</td><td>0.02831381</td><td>0.2493849</td><td>0.04576633</td><td>0.02966085</td><td>0.03041997</td></tr>\n",
       "\t<tr><th scope=row>320x498</th><td>0.3060100</td><td>0.07981767</td><td>0.04351404</td><td>0.03110309</td><td>0.06592789</td><td>0.09033467</td><td>0.02834041</td><td>0.2492070</td><td>0.04565687</td><td>0.02963890</td><td>0.03044948</td></tr>\n",
       "\t<tr><th scope=row>331x498</th><td>0.3066188</td><td>0.08020827</td><td>0.04328161</td><td>0.03123564</td><td>0.06431247</td><td>0.09081447</td><td>0.02852401</td><td>0.2493011</td><td>0.04531932</td><td>0.02976247</td><td>0.03062183</td></tr>\n",
       "\t<tr><th scope=row>342x498</th><td>0.3145174</td><td>0.08153619</td><td>0.04218346</td><td>0.03250040</td><td>0.06160039</td><td>0.08904910</td><td>0.02800083</td><td>0.2456084</td><td>0.04404146</td><td>0.03057865</td><td>0.03038368</td></tr>\n",
       "\t<tr><th scope=row>320x509</th><td>0.3073114</td><td>0.08025212</td><td>0.04320391</td><td>0.03121887</td><td>0.06395817</td><td>0.09076415</td><td>0.02854638</td><td>0.2491347</td><td>0.04522074</td><td>0.02974240</td><td>0.03064719</td></tr>\n",
       "</tbody>\n",
       "</table>\n"
      ],
      "text/latex": [
       "A data.frame: 6 × 11\n",
       "\\begin{tabular}{r|lllllllllll}\n",
       "  & Mac5 & Monocytes & T cells & Mac4 & Mac1 & NK cells & Dendritic cells & Stromal cells & B cells & Mac2 & Mac3\\\\\n",
       "  & <dbl> & <dbl> & <dbl> & <dbl> & <dbl> & <dbl> & <dbl> & <dbl> & <dbl> & <dbl> & <dbl>\\\\\n",
       "\\hline\n",
       "\t331x476 & 0.3034526 & 0.07928022 & 0.04397935 & 0.03105100 & 0.06866088 & 0.09012360 & 0.02800539 & 0.2493845 & 0.04629264 & 0.02963406 & 0.03013585\\\\\n",
       "\t331x487 & 0.3052533 & 0.07976759 & 0.04360004 & 0.03112132 & 0.06632515 & 0.09038673 & 0.02831381 & 0.2493849 & 0.04576633 & 0.02966085 & 0.03041997\\\\\n",
       "\t320x498 & 0.3060100 & 0.07981767 & 0.04351404 & 0.03110309 & 0.06592789 & 0.09033467 & 0.02834041 & 0.2492070 & 0.04565687 & 0.02963890 & 0.03044948\\\\\n",
       "\t331x498 & 0.3066188 & 0.08020827 & 0.04328161 & 0.03123564 & 0.06431247 & 0.09081447 & 0.02852401 & 0.2493011 & 0.04531932 & 0.02976247 & 0.03062183\\\\\n",
       "\t342x498 & 0.3145174 & 0.08153619 & 0.04218346 & 0.03250040 & 0.06160039 & 0.08904910 & 0.02800083 & 0.2456084 & 0.04404146 & 0.03057865 & 0.03038368\\\\\n",
       "\t320x509 & 0.3073114 & 0.08025212 & 0.04320391 & 0.03121887 & 0.06395817 & 0.09076415 & 0.02854638 & 0.2491347 & 0.04522074 & 0.02974240 & 0.03064719\\\\\n",
       "\\end{tabular}\n"
      ],
      "text/markdown": [
       "\n",
       "A data.frame: 6 × 11\n",
       "\n",
       "| <!--/--> | Mac5 &lt;dbl&gt; | Monocytes &lt;dbl&gt; | T cells &lt;dbl&gt; | Mac4 &lt;dbl&gt; | Mac1 &lt;dbl&gt; | NK cells &lt;dbl&gt; | Dendritic cells &lt;dbl&gt; | Stromal cells &lt;dbl&gt; | B cells &lt;dbl&gt; | Mac2 &lt;dbl&gt; | Mac3 &lt;dbl&gt; |\n",
       "|---|---|---|---|---|---|---|---|---|---|---|---|\n",
       "| 331x476 | 0.3034526 | 0.07928022 | 0.04397935 | 0.03105100 | 0.06866088 | 0.09012360 | 0.02800539 | 0.2493845 | 0.04629264 | 0.02963406 | 0.03013585 |\n",
       "| 331x487 | 0.3052533 | 0.07976759 | 0.04360004 | 0.03112132 | 0.06632515 | 0.09038673 | 0.02831381 | 0.2493849 | 0.04576633 | 0.02966085 | 0.03041997 |\n",
       "| 320x498 | 0.3060100 | 0.07981767 | 0.04351404 | 0.03110309 | 0.06592789 | 0.09033467 | 0.02834041 | 0.2492070 | 0.04565687 | 0.02963890 | 0.03044948 |\n",
       "| 331x498 | 0.3066188 | 0.08020827 | 0.04328161 | 0.03123564 | 0.06431247 | 0.09081447 | 0.02852401 | 0.2493011 | 0.04531932 | 0.02976247 | 0.03062183 |\n",
       "| 342x498 | 0.3145174 | 0.08153619 | 0.04218346 | 0.03250040 | 0.06160039 | 0.08904910 | 0.02800083 | 0.2456084 | 0.04404146 | 0.03057865 | 0.03038368 |\n",
       "| 320x509 | 0.3073114 | 0.08025212 | 0.04320391 | 0.03121887 | 0.06395817 | 0.09076415 | 0.02854638 | 0.2491347 | 0.04522074 | 0.02974240 | 0.03064719 |\n",
       "\n"
      ],
      "text/plain": [
       "        Mac5      Monocytes  T cells    Mac4       Mac1       NK cells  \n",
       "331x476 0.3034526 0.07928022 0.04397935 0.03105100 0.06866088 0.09012360\n",
       "331x487 0.3052533 0.07976759 0.04360004 0.03112132 0.06632515 0.09038673\n",
       "320x498 0.3060100 0.07981767 0.04351404 0.03110309 0.06592789 0.09033467\n",
       "331x498 0.3066188 0.08020827 0.04328161 0.03123564 0.06431247 0.09081447\n",
       "342x498 0.3145174 0.08153619 0.04218346 0.03250040 0.06160039 0.08904910\n",
       "320x509 0.3073114 0.08025212 0.04320391 0.03121887 0.06395817 0.09076415\n",
       "        Dendritic cells Stromal cells B cells    Mac2       Mac3      \n",
       "331x476 0.02800539      0.2493845     0.04629264 0.02963406 0.03013585\n",
       "331x487 0.02831381      0.2493849     0.04576633 0.02966085 0.03041997\n",
       "320x498 0.02834041      0.2492070     0.04565687 0.02963890 0.03044948\n",
       "331x498 0.02852401      0.2493011     0.04531932 0.02976247 0.03062183\n",
       "342x498 0.02800083      0.2456084     0.04404146 0.03057865 0.03038368\n",
       "320x509 0.02854638      0.2491347     0.04522074 0.02974240 0.03064719"
      ]
     },
     "metadata": {},
     "output_type": "display_data"
    },
    {
     "data": {
      "text/html": [
       "<table class=\"dataframe\">\n",
       "<caption>A data.frame: 6 × 2</caption>\n",
       "<thead>\n",
       "\t<tr><th></th><th scope=col>x</th><th scope=col>y</th></tr>\n",
       "\t<tr><th></th><th scope=col>&lt;dbl&gt;</th><th scope=col>&lt;dbl&gt;</th></tr>\n",
       "</thead>\n",
       "<tbody>\n",
       "\t<tr><th scope=row>331x476</th><td>331</td><td>476</td></tr>\n",
       "\t<tr><th scope=row>331x487</th><td>331</td><td>487</td></tr>\n",
       "\t<tr><th scope=row>320x498</th><td>320</td><td>498</td></tr>\n",
       "\t<tr><th scope=row>331x498</th><td>331</td><td>498</td></tr>\n",
       "\t<tr><th scope=row>342x498</th><td>342</td><td>498</td></tr>\n",
       "\t<tr><th scope=row>320x509</th><td>320</td><td>509</td></tr>\n",
       "</tbody>\n",
       "</table>\n"
      ],
      "text/latex": [
       "A data.frame: 6 × 2\n",
       "\\begin{tabular}{r|ll}\n",
       "  & x & y\\\\\n",
       "  & <dbl> & <dbl>\\\\\n",
       "\\hline\n",
       "\t331x476 & 331 & 476\\\\\n",
       "\t331x487 & 331 & 487\\\\\n",
       "\t320x498 & 320 & 498\\\\\n",
       "\t331x498 & 331 & 498\\\\\n",
       "\t342x498 & 342 & 498\\\\\n",
       "\t320x509 & 320 & 509\\\\\n",
       "\\end{tabular}\n"
      ],
      "text/markdown": [
       "\n",
       "A data.frame: 6 × 2\n",
       "\n",
       "| <!--/--> | x &lt;dbl&gt; | y &lt;dbl&gt; |\n",
       "|---|---|---|\n",
       "| 331x476 | 331 | 476 |\n",
       "| 331x487 | 331 | 487 |\n",
       "| 320x498 | 320 | 498 |\n",
       "| 331x498 | 331 | 498 |\n",
       "| 342x498 | 342 | 498 |\n",
       "| 320x509 | 320 | 509 |\n",
       "\n"
      ],
      "text/plain": [
       "        x   y  \n",
       "331x476 331 476\n",
       "331x487 331 487\n",
       "320x498 320 498\n",
       "331x498 331 498\n",
       "342x498 342 498\n",
       "320x509 320 509"
      ]
     },
     "metadata": {},
     "output_type": "display_data"
    }
   ],
   "source": [
    "df <- as.data.frame(CARD_obj@refined_prop)\n",
    "head(df)\n",
    "\n",
    "head(location_imputation)"
   ]
  },
  {
   "cell_type": "code",
   "execution_count": 11,
   "id": "45a0920f-576c-4022-923b-82e6af663ea7",
   "metadata": {},
   "outputs": [
    {
     "data": {
      "text/html": [
       "<style>\n",
       ".list-inline {list-style: none; margin:0; padding: 0}\n",
       ".list-inline>li {display: inline-block}\n",
       ".list-inline>li:not(:last-child)::after {content: \"\\00b7\"; padding: 0 .5ex}\n",
       "</style>\n",
       "<ol class=list-inline><li>5566</li><li>11</li></ol>\n"
      ],
      "text/latex": [
       "\\begin{enumerate*}\n",
       "\\item 5566\n",
       "\\item 11\n",
       "\\end{enumerate*}\n"
      ],
      "text/markdown": [
       "1. 5566\n",
       "2. 11\n",
       "\n",
       "\n"
      ],
      "text/plain": [
       "[1] 5566   11"
      ]
     },
     "metadata": {},
     "output_type": "display_data"
    },
    {
     "data": {
      "text/html": [
       "<table class=\"dataframe\">\n",
       "<caption>A data.frame: 6 × 11</caption>\n",
       "<thead>\n",
       "\t<tr><th></th><th scope=col>Mac5</th><th scope=col>Monocytes</th><th scope=col>T cells</th><th scope=col>Mac4</th><th scope=col>Mac1</th><th scope=col>NK cells</th><th scope=col>Dendritic cells</th><th scope=col>Stromal cells</th><th scope=col>B cells</th><th scope=col>Mac2</th><th scope=col>Mac3</th></tr>\n",
       "\t<tr><th></th><th scope=col>&lt;dbl&gt;</th><th scope=col>&lt;dbl&gt;</th><th scope=col>&lt;dbl&gt;</th><th scope=col>&lt;dbl&gt;</th><th scope=col>&lt;dbl&gt;</th><th scope=col>&lt;dbl&gt;</th><th scope=col>&lt;dbl&gt;</th><th scope=col>&lt;dbl&gt;</th><th scope=col>&lt;dbl&gt;</th><th scope=col>&lt;dbl&gt;</th><th scope=col>&lt;dbl&gt;</th></tr>\n",
       "</thead>\n",
       "<tbody>\n",
       "\t<tr><th scope=row>331x476</th><td>0.3034526</td><td>0.07928022</td><td>0.04397935</td><td>0.03105100</td><td>0.06866088</td><td>0.09012360</td><td>0.02800539</td><td>0.2493845</td><td>0.04629264</td><td>0.02963406</td><td>0.03013585</td></tr>\n",
       "\t<tr><th scope=row>331x487</th><td>0.3052533</td><td>0.07976759</td><td>0.04360004</td><td>0.03112132</td><td>0.06632515</td><td>0.09038673</td><td>0.02831381</td><td>0.2493849</td><td>0.04576633</td><td>0.02966085</td><td>0.03041997</td></tr>\n",
       "\t<tr><th scope=row>320x498</th><td>0.3060100</td><td>0.07981767</td><td>0.04351404</td><td>0.03110309</td><td>0.06592789</td><td>0.09033467</td><td>0.02834041</td><td>0.2492070</td><td>0.04565687</td><td>0.02963890</td><td>0.03044948</td></tr>\n",
       "\t<tr><th scope=row>331x498</th><td>0.3066188</td><td>0.08020827</td><td>0.04328161</td><td>0.03123564</td><td>0.06431247</td><td>0.09081447</td><td>0.02852401</td><td>0.2493011</td><td>0.04531932</td><td>0.02976247</td><td>0.03062183</td></tr>\n",
       "\t<tr><th scope=row>342x498</th><td>0.3145174</td><td>0.08153619</td><td>0.04218346</td><td>0.03250040</td><td>0.06160039</td><td>0.08904910</td><td>0.02800083</td><td>0.2456084</td><td>0.04404146</td><td>0.03057865</td><td>0.03038368</td></tr>\n",
       "\t<tr><th scope=row>320x509</th><td>0.3073114</td><td>0.08025212</td><td>0.04320391</td><td>0.03121887</td><td>0.06395817</td><td>0.09076415</td><td>0.02854638</td><td>0.2491347</td><td>0.04522074</td><td>0.02974240</td><td>0.03064719</td></tr>\n",
       "</tbody>\n",
       "</table>\n"
      ],
      "text/latex": [
       "A data.frame: 6 × 11\n",
       "\\begin{tabular}{r|lllllllllll}\n",
       "  & Mac5 & Monocytes & T cells & Mac4 & Mac1 & NK cells & Dendritic cells & Stromal cells & B cells & Mac2 & Mac3\\\\\n",
       "  & <dbl> & <dbl> & <dbl> & <dbl> & <dbl> & <dbl> & <dbl> & <dbl> & <dbl> & <dbl> & <dbl>\\\\\n",
       "\\hline\n",
       "\t331x476 & 0.3034526 & 0.07928022 & 0.04397935 & 0.03105100 & 0.06866088 & 0.09012360 & 0.02800539 & 0.2493845 & 0.04629264 & 0.02963406 & 0.03013585\\\\\n",
       "\t331x487 & 0.3052533 & 0.07976759 & 0.04360004 & 0.03112132 & 0.06632515 & 0.09038673 & 0.02831381 & 0.2493849 & 0.04576633 & 0.02966085 & 0.03041997\\\\\n",
       "\t320x498 & 0.3060100 & 0.07981767 & 0.04351404 & 0.03110309 & 0.06592789 & 0.09033467 & 0.02834041 & 0.2492070 & 0.04565687 & 0.02963890 & 0.03044948\\\\\n",
       "\t331x498 & 0.3066188 & 0.08020827 & 0.04328161 & 0.03123564 & 0.06431247 & 0.09081447 & 0.02852401 & 0.2493011 & 0.04531932 & 0.02976247 & 0.03062183\\\\\n",
       "\t342x498 & 0.3145174 & 0.08153619 & 0.04218346 & 0.03250040 & 0.06160039 & 0.08904910 & 0.02800083 & 0.2456084 & 0.04404146 & 0.03057865 & 0.03038368\\\\\n",
       "\t320x509 & 0.3073114 & 0.08025212 & 0.04320391 & 0.03121887 & 0.06395817 & 0.09076415 & 0.02854638 & 0.2491347 & 0.04522074 & 0.02974240 & 0.03064719\\\\\n",
       "\\end{tabular}\n"
      ],
      "text/markdown": [
       "\n",
       "A data.frame: 6 × 11\n",
       "\n",
       "| <!--/--> | Mac5 &lt;dbl&gt; | Monocytes &lt;dbl&gt; | T cells &lt;dbl&gt; | Mac4 &lt;dbl&gt; | Mac1 &lt;dbl&gt; | NK cells &lt;dbl&gt; | Dendritic cells &lt;dbl&gt; | Stromal cells &lt;dbl&gt; | B cells &lt;dbl&gt; | Mac2 &lt;dbl&gt; | Mac3 &lt;dbl&gt; |\n",
       "|---|---|---|---|---|---|---|---|---|---|---|---|\n",
       "| 331x476 | 0.3034526 | 0.07928022 | 0.04397935 | 0.03105100 | 0.06866088 | 0.09012360 | 0.02800539 | 0.2493845 | 0.04629264 | 0.02963406 | 0.03013585 |\n",
       "| 331x487 | 0.3052533 | 0.07976759 | 0.04360004 | 0.03112132 | 0.06632515 | 0.09038673 | 0.02831381 | 0.2493849 | 0.04576633 | 0.02966085 | 0.03041997 |\n",
       "| 320x498 | 0.3060100 | 0.07981767 | 0.04351404 | 0.03110309 | 0.06592789 | 0.09033467 | 0.02834041 | 0.2492070 | 0.04565687 | 0.02963890 | 0.03044948 |\n",
       "| 331x498 | 0.3066188 | 0.08020827 | 0.04328161 | 0.03123564 | 0.06431247 | 0.09081447 | 0.02852401 | 0.2493011 | 0.04531932 | 0.02976247 | 0.03062183 |\n",
       "| 342x498 | 0.3145174 | 0.08153619 | 0.04218346 | 0.03250040 | 0.06160039 | 0.08904910 | 0.02800083 | 0.2456084 | 0.04404146 | 0.03057865 | 0.03038368 |\n",
       "| 320x509 | 0.3073114 | 0.08025212 | 0.04320391 | 0.03121887 | 0.06395817 | 0.09076415 | 0.02854638 | 0.2491347 | 0.04522074 | 0.02974240 | 0.03064719 |\n",
       "\n"
      ],
      "text/plain": [
       "        Mac5      Monocytes  T cells    Mac4       Mac1       NK cells  \n",
       "331x476 0.3034526 0.07928022 0.04397935 0.03105100 0.06866088 0.09012360\n",
       "331x487 0.3052533 0.07976759 0.04360004 0.03112132 0.06632515 0.09038673\n",
       "320x498 0.3060100 0.07981767 0.04351404 0.03110309 0.06592789 0.09033467\n",
       "331x498 0.3066188 0.08020827 0.04328161 0.03123564 0.06431247 0.09081447\n",
       "342x498 0.3145174 0.08153619 0.04218346 0.03250040 0.06160039 0.08904910\n",
       "320x509 0.3073114 0.08025212 0.04320391 0.03121887 0.06395817 0.09076415\n",
       "        Dendritic cells Stromal cells B cells    Mac2       Mac3      \n",
       "331x476 0.02800539      0.2493845     0.04629264 0.02963406 0.03013585\n",
       "331x487 0.02831381      0.2493849     0.04576633 0.02966085 0.03041997\n",
       "320x498 0.02834041      0.2492070     0.04565687 0.02963890 0.03044948\n",
       "331x498 0.02852401      0.2493011     0.04531932 0.02976247 0.03062183\n",
       "342x498 0.02800083      0.2456084     0.04404146 0.03057865 0.03038368\n",
       "320x509 0.02854638      0.2491347     0.04522074 0.02974240 0.03064719"
      ]
     },
     "metadata": {},
     "output_type": "display_data"
    }
   ],
   "source": [
    "# save the high res file\n",
    "# head(location_imputation)\n",
    "\n",
    "props.df.refined <- as.data.frame(CARD_obj@refined_prop)\n",
    "\n",
    "outDir = \"/nfs/turbo/umms-indikar/shared/projects/spatial_transcriptomics/data/CARDOuputs/\"\n",
    "outpath = glue(\"{outDir}{key}_{subId}CARD_refined.csv\")\n",
    "\n",
    "write.csv(props.df, \n",
    "          outpath, \n",
    "          row.names=TRUE)\n",
    "\n",
    "dim(props.df.refined)\n",
    "head(props.df.refined)"
   ]
  },
  {
   "cell_type": "code",
   "execution_count": 12,
   "id": "f54fec6a-1af9-4095-adcd-6e986de764c6",
   "metadata": {},
   "outputs": [],
   "source": [
    "# pp <- CARD.visualize.gene(\n",
    "# \tspatial_expression = CARD_obj@refined_expression,\n",
    "# \tspatial_location = location_imputation,\n",
    "# \tgene.visualize = c(\"LPL\", \"RPL4\"),\n",
    "# \tcolors = NULL,\n",
    "# \tNumCols = 2)\n",
    "\n",
    "# ggsave(\"cardFigures/genes.png\",\n",
    "#        width = 20, \n",
    "#        height = 20, \n",
    "#        units = \"cm\")\n",
    "\n",
    "# print('done')"
   ]
  },
  {
   "cell_type": "code",
   "execution_count": 13,
   "id": "c57afcc3-480f-4e9d-9357-11bbeab239db",
   "metadata": {},
   "outputs": [],
   "source": [
    "# exp.df <- as.data.frame(rowSums(spt))\n",
    "# exp.df$names <- rownames(exp.df)\n",
    "# exp.df.sorted <- exp.df[order(exp.df$rowSums, decreasing = TRUE),]\n",
    "# head(exp.df.sorted, 20)"
   ]
  },
  {
   "cell_type": "code",
   "execution_count": 14,
   "id": "efe90ae8-3cc6-4732-9c58-46908c9126e7",
   "metadata": {},
   "outputs": [],
   "source": [
    "# ## select the cell type that we are interested\n",
    "# ct.visualize = unique(meta.df$cellType)\n",
    "\n",
    "# ## visualize the spatial distribution of the cell type proportion\n",
    "# p <- CARD.visualize.prop(\n",
    "# \tproportion = CARD_obj@Proportion_CARD,        \n",
    "# \tspatial_location = CARD_obj@spatial_location, \n",
    "# \tct.visualize = ct.visualize,\n",
    "#     colors = c(\"lightblue\",\"lightyellow\",\"red\"),\n",
    "#     NumCols=4\n",
    "# )\n",
    "\n",
    "# ggsave(\"test.png\", width = 20, height = 20, units = \"cm\")\n",
    "\n",
    "\n",
    "\n",
    "# # print(p2)"
   ]
  }
 ],
 "metadata": {
  "kernelspec": {
   "display_name": "R",
   "language": "R",
   "name": "ir"
  },
  "language_info": {
   "codemirror_mode": "r",
   "file_extension": ".r",
   "mimetype": "text/x-r-source",
   "name": "R",
   "pygments_lexer": "r",
   "version": "4.2.2"
  }
 },
 "nbformat": 4,
 "nbformat_minor": 5
}
