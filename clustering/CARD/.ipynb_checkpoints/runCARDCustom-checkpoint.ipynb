{
 "cells": [
  {
   "cell_type": "code",
   "execution_count": 1,
   "id": "cc7be27f-675e-4560-b2d4-9a81ffc1c2d0",
   "metadata": {},
   "outputs": [
    {
     "name": "stderr",
     "output_type": "stream",
     "text": [
      "Warning message:\n",
      "“replacing previous import ‘RcppML::nmf’ by ‘NMF::nmf’ when loading ‘CARD’”\n"
     ]
    }
   ],
   "source": [
    "suppressMessages(library(\"CARD\", quietly = T))\n",
    "suppressMessages(library(\"ggplot2\", quietly = T))\n",
    "suppressMessages(library(\"reshape2\", quietly = T))\n",
    "suppressMessages(library(\"gtools\", quietly = T))\n",
    "suppressMessages(library(\"scatterpie\", quietly = T))\n",
    "suppressMessages(library(\"glue\", quietly = T))"
   ]
  },
  {
   "cell_type": "code",
   "execution_count": 2,
   "id": "a26f0ed8-6fd5-4f05-ae04-d3c3bf6bebfe",
   "metadata": {},
   "outputs": [],
   "source": [
    "# devtools::install_github('xuranw/MuSiC')"
   ]
  },
  {
   "cell_type": "code",
   "execution_count": null,
   "id": "04101789-c2bd-4b61-8cee-0debd59c04b2",
   "metadata": {},
   "outputs": [
    {
     "data": {
      "text/html": [
       "<style>\n",
       ".list-inline {list-style: none; margin:0; padding: 0}\n",
       ".list-inline>li {display: inline-block}\n",
       ".list-inline>li:not(:last-child)::after {content: \"\\00b7\"; padding: 0 .5ex}\n",
       "</style>\n",
       "<ol class=list-inline><li>31053</li><li>1994</li></ol>\n"
      ],
      "text/latex": [
       "\\begin{enumerate*}\n",
       "\\item 31053\n",
       "\\item 1994\n",
       "\\end{enumerate*}\n"
      ],
      "text/markdown": [
       "1. 31053\n",
       "2. 1994\n",
       "\n",
       "\n"
      ],
      "text/plain": [
       "[1] 31053  1994"
      ]
     },
     "metadata": {},
     "output_type": "display_data"
    },
    {
     "data": {
      "text/html": [
       "<style>\n",
       ".list-inline {list-style: none; margin:0; padding: 0}\n",
       ".list-inline>li {display: inline-block}\n",
       ".list-inline>li:not(:last-child)::after {content: \"\\00b7\"; padding: 0 .5ex}\n",
       "</style>\n",
       "<ol class=list-inline><li>1994</li><li>2</li></ol>\n"
      ],
      "text/latex": [
       "\\begin{enumerate*}\n",
       "\\item 1994\n",
       "\\item 2\n",
       "\\end{enumerate*}\n"
      ],
      "text/markdown": [
       "1. 1994\n",
       "2. 2\n",
       "\n",
       "\n"
      ],
      "text/plain": [
       "[1] 1994    2"
      ]
     },
     "metadata": {},
     "output_type": "display_data"
    }
   ],
   "source": [
    "# load spatial data\n",
    "key = \"HFD14\"\n",
    "subId = \"macrophage_\"\n",
    "# subId = \"\"\n",
    "inputDir = \"/nfs/turbo/umms-indikar/shared/projects/spatial_transcriptomics/data/CARDInputs/\"\n",
    "\n",
    "sptPath = glue(\"{inputDir}HFD14_macrophage_spt.csv\")\n",
    "spt.df <- read.csv(sptPath)\n",
    "rownames(spt.df) <- spt.df[,1]\n",
    "spt.df <- spt.df[,-1]\n",
    "spt <- as.matrix(spt.df)\n",
    "dim(spt)\n",
    "\n",
    "# load spatial coordinates\n",
    "xyPath = glue(\"{inputDir}HFD14_macrophage_coords.csv\")\n",
    "xy.df <- read.csv(xyPath)\n",
    "rownames(xy.df) <- xy.df[,1]\n",
    "xy.df <- xy.df[,-1]\n",
    "dim(xy.df)\n",
    "\n",
    "# load the rna seq data\n",
    "rnaPath = glue(\"{inputDir}HFD8_macrophage_rna.csv\")\n",
    "rna.df <- read.csv(rnaPath)\n",
    "rownames(rna.df) <- rna.df[,1]\n",
    "rna.df <- rna.df[,-1]\n",
    "rna <- as.matrix(rna.df)\n",
    "dim(rna)\n",
    "\n",
    "# load the annotations\n",
    "metaPath = glue(\"{inputDir}HFD8_macrophage_clusters.csv\")\n",
    "meta.df <- read.csv(metaPath)\n",
    "rownames(meta.df) <- meta.df$cellId\n",
    "dim(meta.df)"
   ]
  },
  {
   "cell_type": "code",
   "execution_count": null,
   "id": "8dfbedd2-e37f-4f64-af2e-ce37e1f55113",
   "metadata": {},
   "outputs": [],
   "source": [
    "CARD_obj = createCARDObject(\n",
    "\tsc_count = rna,\n",
    "\tsc_meta = meta.df,\n",
    "\tspatial_count = spt,\n",
    "\tspatial_location = xy.df,\n",
    "\tct.varname = \"cellType\",\n",
    "\tct.select = unique(meta.df$cellType),\n",
    "\tsample.varname = \"sampleInfo\",\n",
    "\tminCountGene = 10,\n",
    "\tminCountSpot = 20)"
   ]
  },
  {
   "cell_type": "code",
   "execution_count": null,
   "id": "daf4da26-34bf-4930-910a-a8d85459305d",
   "metadata": {},
   "outputs": [],
   "source": [
    "CARD_obj = suppressMessages(CARD_deconvolution(CARD_object = CARD_obj))"
   ]
  },
  {
   "cell_type": "code",
   "execution_count": null,
   "id": "238b2331-b7dd-465c-a9b4-326a24ddc1b8",
   "metadata": {},
   "outputs": [],
   "source": [
    "break"
   ]
  },
  {
   "cell_type": "code",
   "execution_count": null,
   "id": "2282b4fb-da66-404b-90df-db2e5f310686",
   "metadata": {},
   "outputs": [],
   "source": [
    "props.df <- as.data.frame(CARD_obj@Proportion_CARD)\n",
    "\n",
    "outDir = \"/nfs/turbo/umms-indikar/shared/projects/spatial_transcriptomics/data/CARDOuputs/\"\n",
    "outpath = glue(\"{outDir}HFD14_wHFD8SIG_CARD.csv\")\n",
    "\n",
    "write.csv(props.df, \n",
    "          outpath, \n",
    "          row.names=TRUE)\n",
    "\n",
    "dim(props.df)\n",
    "\n",
    "head(props.df)"
   ]
  },
  {
   "cell_type": "code",
   "execution_count": null,
   "id": "677ca92b-32f2-455c-ba46-b692ebbb3245",
   "metadata": {},
   "outputs": [],
   "source": [
    "# # pieViz <- function(proportion, spatial_location){\n",
    "# #     res_CARD = as.data.frame(proportion)\n",
    "# #     res_CARD = res_CARD[,mixedsort(colnames(res_CARD))]\n",
    "# #     location = as.data.frame(spatial_location) \n",
    "# #     colors = colorRampPalette(c(\"Blue\", \"Red\"))(ncol(res_CARD))\n",
    "# #     data = cbind(res_CARD,location)\n",
    "# #     ct.select = colnames(res_CARD)\n",
    "# #     p = ggplot() + \n",
    "# #         geom_scatterpie(aes(x=x, y=y, r = 1), \n",
    "# #                         data=data,\n",
    "# #                         cols=ct.select,color=NA) + \n",
    "# #         coord_fixed(ratio = 1) + \n",
    "# #         scale_fill_manual(values = colors) \n",
    "# #     return(p)\n",
    "    \n",
    "# # }\n",
    "\n",
    "# p <- CARD.visualize.pie(proportion = CARD_obj@Proportion_CARD,\n",
    "#                         spatial_location = CARD_obj@spatial_location)\n",
    "                   \n",
    "# ggsave(\"cardFigures/mixtures.png\",\n",
    "#        width = 50, \n",
    "#        height = 50, \n",
    "#        units = \"cm\")\n",
    "\n",
    "# print('done')"
   ]
  },
  {
   "cell_type": "code",
   "execution_count": null,
   "id": "ca8cb70e-6ca9-4ebc-852d-34386be53a99",
   "metadata": {},
   "outputs": [],
   "source": [
    "visCells <- function(proportion, spatial_location, ct.visualize, colors, NumCols, pntSize){\n",
    "    res_CARD = as.data.frame(proportion)\n",
    "    res_CARD = res_CARD[,order(colnames(res_CARD))]\n",
    "    location = as.data.frame(spatial_location)\n",
    "    if(sum(rownames(res_CARD)==rownames(location))!= nrow(res_CARD)){\n",
    "    stop(\"The rownames of proportion data does not match with the rownames of spatial location data\")\n",
    "    }\n",
    "    ct.select = ct.visualize\n",
    "    res_CARD = res_CARD[,ct.select]\n",
    "    res_CARD_scale = as.data.frame(apply(res_CARD,2,function(x){\n",
    "    (x - min(x)) / (max(x) - min(x))\n",
    "    } ))\n",
    "    res_CARD_scale$x = as.numeric(location$x)\n",
    "    res_CARD_scale$y = as.numeric(location$y)\n",
    "    mData = melt(res_CARD_scale,id.vars = c(\"x\",\"y\"))\n",
    "    colnames(mData)[3] <- \"Cell_Type\"\n",
    "    b = c(0,1)\n",
    "    \n",
    "    p = ggplot(mData, aes(x, y))  +\n",
    "    geom_point(aes(colour = value), size = pntSize) +\n",
    "    scale_color_gradientn(colours = colors) + \n",
    "    scale_y_reverse() +\n",
    "    facet_wrap(~Cell_Type,ncol = NumCols)+ \n",
    "    coord_fixed()+\n",
    "    theme(axis.text = element_blank(),\n",
    "          axis.ticks = element_blank(),\n",
    "          axis.title = element_blank(),\n",
    "          panel.background = element_blank(),\n",
    "          plot.background = element_blank(),\n",
    "          panel.grid.major = element_blank(), \n",
    "          panel.grid.minor = element_blank(),\n",
    "         )\n",
    "    return(p)\n",
    "}\n",
    "\n",
    "p <- visCells(CARD_obj@Proportion_CARD,\n",
    "         CARD_obj@spatial_location,\n",
    "         unique(meta.df$cellType),\n",
    "         c(\"lightblue\",\"lightyellow\",\"red\"),\n",
    "         4, \n",
    "         0.1)\n",
    "\n",
    "figDir = \"cardFigures/\"\n",
    "outpath = glue(\"{figDir}{key}_{subId}spots.png\")\n",
    "ggsave(outpath,\n",
    "       width = 20, \n",
    "       height = 20, \n",
    "       units = \"cm\")\n",
    "\n",
    "print('done')"
   ]
  },
  {
   "cell_type": "code",
   "execution_count": null,
   "id": "aa63bbc2-ea51-494c-8e14-b8bd2300e837",
   "metadata": {},
   "outputs": [],
   "source": [
    "CARD_obj = CARD.imputation(CARD_obj,\n",
    "                           NumGrids = 10000,\n",
    "                           ineibor = 21,\n",
    "                           exclude = NULL)\n",
    "\n",
    "location_imputation = cbind.data.frame(x=as.numeric(sapply(strsplit(rownames(CARD_obj@refined_prop),split=\"x\"),\"[\",1)),\n",
    "                                       y=as.numeric(sapply(strsplit(rownames(CARD_obj@refined_prop),split=\"x\"),\"[\",2)))\n",
    "\n",
    "rownames(location_imputation) = rownames(CARD_obj@refined_prop)\n",
    "\n",
    "p <-visCells(\n",
    "\tCARD_obj@refined_prop,                         \n",
    "\tlocation_imputation,            \n",
    "\tunique(meta.df$cellType),                    \n",
    "\tc(\"lightblue\",\"lightyellow\",\"red\"),    \n",
    "\tNumCols = 4,\n",
    "    pntSize = 0.1)     \n",
    "\n",
    "outpath = glue(\"{figDir}{key}_{subId}imputed.png\")\n",
    "ggsave(outpath,\n",
    "       width = 20, \n",
    "       height = 20, \n",
    "       units = \"cm\")\n",
    "\n",
    "print('done')"
   ]
  },
  {
   "cell_type": "code",
   "execution_count": null,
   "id": "2a3dceba-024c-462e-97ce-dad57e23dc0a",
   "metadata": {},
   "outputs": [],
   "source": [
    "df <- as.data.frame(CARD_obj@refined_prop)\n",
    "head(df)\n",
    "\n",
    "head(location_imputation)"
   ]
  },
  {
   "cell_type": "code",
   "execution_count": null,
   "id": "45a0920f-576c-4022-923b-82e6af663ea7",
   "metadata": {},
   "outputs": [],
   "source": [
    "# save the high res file\n",
    "# head(location_imputation)\n",
    "\n",
    "props.df.refined <- as.data.frame(CARD_obj@refined_prop)\n",
    "\n",
    "outDir = \"/nfs/turbo/umms-indikar/shared/projects/spatial_transcriptomics/data/CARDOuputs/\"\n",
    "outpath = glue(\"{outDir}{key}_{subId}CARD_refined.csv\")\n",
    "\n",
    "write.csv(props.df, \n",
    "          outpath, \n",
    "          row.names=TRUE)\n",
    "\n",
    "dim(props.df.refined)\n",
    "head(props.df.refined)"
   ]
  },
  {
   "cell_type": "code",
   "execution_count": null,
   "id": "f54fec6a-1af9-4095-adcd-6e986de764c6",
   "metadata": {},
   "outputs": [],
   "source": [
    "# pp <- CARD.visualize.gene(\n",
    "# \tspatial_expression = CARD_obj@refined_expression,\n",
    "# \tspatial_location = location_imputation,\n",
    "# \tgene.visualize = c(\"LPL\", \"RPL4\"),\n",
    "# \tcolors = NULL,\n",
    "# \tNumCols = 2)\n",
    "\n",
    "# ggsave(\"cardFigures/genes.png\",\n",
    "#        width = 20, \n",
    "#        height = 20, \n",
    "#        units = \"cm\")\n",
    "\n",
    "# print('done')"
   ]
  },
  {
   "cell_type": "code",
   "execution_count": null,
   "id": "c57afcc3-480f-4e9d-9357-11bbeab239db",
   "metadata": {},
   "outputs": [],
   "source": [
    "# exp.df <- as.data.frame(rowSums(spt))\n",
    "# exp.df$names <- rownames(exp.df)\n",
    "# exp.df.sorted <- exp.df[order(exp.df$rowSums, decreasing = TRUE),]\n",
    "# head(exp.df.sorted, 20)"
   ]
  },
  {
   "cell_type": "code",
   "execution_count": null,
   "id": "efe90ae8-3cc6-4732-9c58-46908c9126e7",
   "metadata": {},
   "outputs": [],
   "source": [
    "# ## select the cell type that we are interested\n",
    "# ct.visualize = unique(meta.df$cellType)\n",
    "\n",
    "# ## visualize the spatial distribution of the cell type proportion\n",
    "# p <- CARD.visualize.prop(\n",
    "# \tproportion = CARD_obj@Proportion_CARD,        \n",
    "# \tspatial_location = CARD_obj@spatial_location, \n",
    "# \tct.visualize = ct.visualize,\n",
    "#     colors = c(\"lightblue\",\"lightyellow\",\"red\"),\n",
    "#     NumCols=4\n",
    "# )\n",
    "\n",
    "# ggsave(\"test.png\", width = 20, height = 20, units = \"cm\")\n",
    "\n",
    "\n",
    "\n",
    "# # print(p2)"
   ]
  }
 ],
 "metadata": {
  "kernelspec": {
   "display_name": "R",
   "language": "R",
   "name": "ir"
  },
  "language_info": {
   "codemirror_mode": "r",
   "file_extension": ".r",
   "mimetype": "text/x-r-source",
   "name": "R",
   "pygments_lexer": "r",
   "version": "4.2.2"
  }
 },
 "nbformat": 4,
 "nbformat_minor": 5
}
