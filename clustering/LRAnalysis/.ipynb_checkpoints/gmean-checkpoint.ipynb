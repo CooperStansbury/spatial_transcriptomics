{
 "cells": [
  {
   "cell_type": "code",
   "execution_count": 10,
   "id": "caf61301-9a5d-447b-8c44-85fe203df709",
   "metadata": {},
   "outputs": [],
   "source": [
    "import scipy\n",
    "import matplotlib.pyplot as plt\n",
    "import seaborn as sns\n",
    "import numpy as np\n",
    "import pandas as pd"
   ]
  },
  {
   "cell_type": "code",
   "execution_count": 8,
   "id": "14b5c023-5fb4-49ca-948a-a6d0b2b9a96c",
   "metadata": {},
   "outputs": [
    {
     "data": {
      "text/plain": [
       "3.1622776601683795"
      ]
     },
     "execution_count": 8,
     "metadata": {},
     "output_type": "execute_result"
    }
   ],
   "source": [
    "lig = 10\n",
    "rec = 1\n",
    "\n",
    "gmean = scipy.stats.gmean([lig, rec])\n",
    "gmean"
   ]
  },
  {
   "cell_type": "code",
   "execution_count": 21,
   "id": "1a4bad7b-7b7b-47da-bdf3-4f19b0961118",
   "metadata": {},
   "outputs": [
    {
     "data": {
      "text/plain": [
       "<AxesSubplot: xlabel='receptor', ylabel='gmean'>"
      ]
     },
     "execution_count": 21,
     "metadata": {},
     "output_type": "execute_result"
    },
    {
     "data": {
      "image/png": "[encoded data removed]",
      "text/plain": [
       "<Figure size 432x288 with 1 Axes>"
      ]
     },
     "metadata": {
      "needs_background": "light"
     },
     "output_type": "display_data"
    }
   ],
   "source": [
    "n = 1000\n",
    "\n",
    "ligLevel = 2\n",
    "rUB = 100\n",
    "\n",
    "lig = [ligLevel] * n\n",
    "rec = np.linspace(0, rUB, n)\n",
    "\n",
    "df = pd.DataFrame({\n",
    "    'ligand' : lig, \n",
    "    'receptor' : rec\n",
    " })\n",
    "\n",
    "df['gmean'] = df[['ligand', 'receptor']].apply(lambda x: scipy.stats.gmean(x), axis=1)\n",
    "\n",
    "\n",
    "\n",
    "sns.lineplot(data=df, \n",
    "             x='receptor',\n",
    "             y='gmean')"
   ]
  },
  {
   "cell_type": "code",
   "execution_count": null,
   "id": "19128620-3cb9-4496-9a1f-ad5520e07fce",
   "metadata": {},
   "outputs": [],
   "source": []
  }
 ],
 "metadata": {
  "kernelspec": {
   "display_name": "Python 3 (ipykernel)",
   "language": "python",
   "name": "python3"
  },
  "language_info": {
   "codemirror_mode": {
    "name": "ipython",
    "version": 3
   },
   "file_extension": ".py",
   "mimetype": "text/x-python",
   "name": "python",
   "nbconvert_exporter": "python",
   "pygments_lexer": "ipython3",
   "version": "3.9.7"
  }
 },
 "nbformat": 4,
 "nbformat_minor": 5
}
