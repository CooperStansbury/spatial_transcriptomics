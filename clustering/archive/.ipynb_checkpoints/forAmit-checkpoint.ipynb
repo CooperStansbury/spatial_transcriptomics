{
 "cells": [
  {
   "cell_type": "code",
   "execution_count": 1,
   "id": "9fd39282-729e-414e-803a-8e2fb4b7a7ce",
   "metadata": {},
   "outputs": [
    {
     "name": "stderr",
     "output_type": "stream",
     "text": [
      "2023-02-14 12:04:52.255768: I tensorflow/core/platform/cpu_feature_guard.cc:193] This TensorFlow binary is optimized with oneAPI Deep Neural Network Library (oneDNN) to use the following CPU instructions in performance-critical operations:  AVX2 AVX512F FMA\n",
      "To enable them in other operations, rebuild TensorFlow with the appropriate compiler flags.\n",
      "2023-02-14 12:04:52.390293: W tensorflow/stream_executor/platform/default/dso_loader.cc:64] Could not load dynamic library 'libcudart.so.11.0'; dlerror: libcudart.so.11.0: cannot open shared object file: No such file or directory; LD_LIBRARY_PATH: /opt/slurm/lib64:\n",
      "2023-02-14 12:04:52.390322: I tensorflow/stream_executor/cuda/cudart_stub.cc:29] Ignore above cudart dlerror if you do not have a GPU set up on your machine.\n",
      "2023-02-14 12:04:52.416421: E tensorflow/stream_executor/cuda/cuda_blas.cc:2981] Unable to register cuBLAS factory: Attempting to register factory for plugin cuBLAS when one has already been registered\n",
      "2023-02-14 12:04:53.896699: W tensorflow/stream_executor/platform/default/dso_loader.cc:64] Could not load dynamic library 'libnvinfer.so.7'; dlerror: libnvinfer.so.7: cannot open shared object file: No such file or directory; LD_LIBRARY_PATH: /opt/slurm/lib64:\n",
      "2023-02-14 12:04:53.896787: W tensorflow/stream_executor/platform/default/dso_loader.cc:64] Could not load dynamic library 'libnvinfer_plugin.so.7'; dlerror: libnvinfer_plugin.so.7: cannot open shared object file: No such file or directory; LD_LIBRARY_PATH: /opt/slurm/lib64:\n",
      "2023-02-14 12:04:53.896793: W tensorflow/compiler/tf2tensorrt/utils/py_utils.cc:38] TF-TRT Warning: Cannot dlopen some TensorRT libraries. If you would like to use Nvidia GPU with TensorRT, please make sure the missing libraries mentioned above are installed properly.\n"
     ]
    },
    {
     "data": {
      "text/plain": [
       "<module 'utils' from '/home/cstansbu/git_repositories/spatial_transcriptomics/clustering/utils.py'>"
      ]
     },
     "execution_count": 1,
     "metadata": {},
     "output_type": "execute_result"
    }
   ],
   "source": [
    "import os\n",
    "import pandas as pd\n",
    "import numpy as np\n",
    "import matplotlib \n",
    "import matplotlib.pyplot as plt\n",
    "import seaborn as sns\n",
    "import scipy.stats as st\n",
    "import scanpy as sc\n",
    "from sklearn import metrics\n",
    "import tabulate\n",
    "import itertools\n",
    "from sklearn.decomposition import PCA\n",
    "import matplotlib.patches as mpatches\n",
    "import umap\n",
    "from importlib import reload\n",
    "from scipy import stats\n",
    "import matplotlib.image as mpimg\n",
    "import gget\n",
    "\n",
    "# locals\n",
    "import utils as ut\n",
    "reload(ut)"
   ]
  },
  {
   "cell_type": "code",
   "execution_count": 4,
   "id": "5dd4d741-79ab-4aac-b147-670f19ce2971",
   "metadata": {},
   "outputs": [],
   "source": [
    "genes = ['CCND1', 'CCND2', 'CCND3', 'CDK4', 'CDK6', 'RB1', \n",
    "         'RBL1', 'RBL2', 'ABL1', 'HDAC2', 'HDAC1', 'E2F1', \n",
    "         'E2F2', 'E2F3', 'E2F4', 'E2F5', 'TFDP1', 'TFDP2', \n",
    "         'GSK3B', 'TGFB1', 'TGFB2', 'TGFB3', 'SMAD2', 'SMAD3', \n",
    "         'SMAD4', 'MYC', 'ZBTB17', 'CDKN2A', 'CDKN2B', 'CDKN2C',\n",
    "         'CDKN2D', 'CDKN1B', 'CDKN1C', 'CDKN1A', 'CCNE1', 'CCNE2',\n",
    "         'CDK2', 'CUL1', 'RBX1', 'SKP2', 'CCNA2', 'CCNA1', 'CDC6',\n",
    "         'CDC45', 'CDC7', 'DBF4', 'CDK1', 'CCNB1', 'CCNB2', 'CCNB3',\n",
    "         'CDC25B', 'CDC25C', 'YWHAZ', 'YWHAB', 'YWHAQ', 'YWHAE', \n",
    "         'YWHAH', 'YWHAG', 'PLK1', 'WEE1', 'WEE2', 'PKMYT1', 'CCNH',\n",
    "         'CDK7', 'ANAPC1', 'ANAPC2', 'CDC27', 'ANAPC4', 'ANAPC5', \n",
    "         'CDC16', 'ANAPC7', 'CDC23', 'ANAPC10', 'ANAPC11', 'CDC26', \n",
    "         'ANAPC13', 'ANAPC15', 'ANAPC16', 'CDC20', 'PTTG1', 'ESPL1', \n",
    "         'SMC1B', 'SMC1A', 'SMC3', 'STAG2', 'STAG1', 'RAD21', 'TTK', \n",
    "         'BUB1', 'BUB3', 'BUB1B', 'MAD1L1', 'MAD2L1', 'MAD2L2', 'FZR1',\n",
    "         'CDC14B', 'CDC14A', 'ATR', 'ATM', 'TRP53', 'CHEK1', 'CHEK2', \n",
    "         'CREBBP', 'EP300', 'PRKDC', 'MDM2', 'GADD45A', 'GADD45B', \n",
    "         'GADD45G', 'PCNA', 'SFN', 'CDC25A', 'ORC1', 'ORC2', 'ORC3', \n",
    "         'ORC4', 'ORC5', 'ORC6', 'MCM2', 'MCM3', 'MCM4', 'MCM5', 'MCM6', 'MCM7']"
   ]
  },
  {
   "cell_type": "code",
   "execution_count": 13,
   "id": "508ac600-3f30-4485-8db0-cb5522cc0fed",
   "metadata": {},
   "outputs": [
    {
     "name": "stdout",
     "output_type": "stream",
     "text": [
      "dict_keys(['rna', 'coord', 'STX'])\n"
     ]
    }
   ],
   "source": [
    "cleanDir = \"/nfs/turbo/umms-indikar/shared/projects/spatial_transcriptomics/data/cleanData/\"\n",
    "key = \"ND\"\n",
    "data = {}\n",
    "\n",
    "for f in os.listdir(cleanDir):\n",
    "    fpath = f\"{cleanDir}{f}\"\n",
    "    if key in f and \"spt\" in f:\n",
    "        df = pd.read_parquet(fpath)\n",
    "        data['STX'] = df\n",
    "        \n",
    "    if key in f and \"coord\" in f:\n",
    "        df = pd.read_parquet(fpath)\n",
    "        data['coord'] = df\n",
    "        \n",
    "    if key in f and \"rna\" in f:\n",
    "        df = pd.read_parquet(fpath)\n",
    "        data['rna'] = df\n",
    "\n",
    "        \n",
    "print(data.keys())"
   ]
  },
  {
   "cell_type": "code",
   "execution_count": 31,
   "id": "88cdd695-2c92-41ae-8842-a6618b615600",
   "metadata": {},
   "outputs": [
    {
     "name": "stdout",
     "output_type": "stream",
     "text": [
      "cf.shape=(100, 3)\n",
      "stx.shape=(100, 125)\n",
      "rna.shape=(100, 124)\n"
     ]
    }
   ],
   "source": [
    "n = 100\n",
    "outpath = \"~/temp/\"\n",
    "\n",
    "# get the coords\n",
    "cf = data['coord']\n",
    "cf = cf.sort_values(by='x')\n",
    "cf = cf.reset_index(drop=False)\n",
    "cf = cf.rename(columns={'index' : 'spotId'})\n",
    "\n",
    "cf = cf.head(n)\n",
    "print(f\"{cf.shape=}\")\n",
    "fpath = f\"{outpath}coords.csv\"\n",
    "cf.to_csv(fpath, index=False)\n",
    "\n",
    "\n",
    "stx = data['STX'][genes]\n",
    "stx = stx.reset_index(drop=False)\n",
    "stx = stx.rename(columns={'index' : 'spotId'})\n",
    "stx = stx[stx['spotId'].isin(cf['spotId'].to_list())]\n",
    "fpath = f\"{outpath}stx.csv\"\n",
    "stx.to_csv(fpath, index=False)\n",
    "\n",
    "print(f\"{stx.shape=}\")\n",
    "\n",
    "rna = data['rna'][genes].sample(n)\n",
    "rna = rna.reset_index(drop=False)\n",
    "rna = rna.rename(columns={'index' : 'cellId'})\n",
    "fpath = f\"{outpath}rna.csv\"\n",
    "rna.to_csv(fpath, index=False)\n",
    "\n",
    "print(f\"{rna.shape=}\")"
   ]
  },
  {
   "cell_type": "code",
   "execution_count": null,
   "id": "0f136941-0d6f-4893-a6e5-9760986f63d5",
   "metadata": {},
   "outputs": [],
   "source": []
  }
 ],
 "metadata": {
  "kernelspec": {
   "display_name": "Python 3 (ipykernel)",
   "language": "python",
   "name": "python3"
  },
  "language_info": {
   "codemirror_mode": {
    "name": "ipython",
    "version": 3
   },
   "file_extension": ".py",
   "mimetype": "text/x-python",
   "name": "python",
   "nbconvert_exporter": "python",
   "pygments_lexer": "ipython3",
   "version": "3.9.7"
  }
 },
 "nbformat": 4,
 "nbformat_minor": 5
}
