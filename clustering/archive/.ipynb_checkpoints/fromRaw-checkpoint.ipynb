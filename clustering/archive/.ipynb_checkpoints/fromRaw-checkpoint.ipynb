{
 "cells": [
  {
   "cell_type": "code",
   "execution_count": 1,
   "id": "3ab18415-5b2b-4ac3-a9ed-166d5d6a5b68",
   "metadata": {},
   "outputs": [],
   "source": [
    "import pandas as pd\n",
    "import numpy as np\n",
    "import os "
   ]
  },
  {
   "cell_type": "code",
   "execution_count": 2,
   "id": "da9faba6-8a70-483e-a638-8e9e955e7248",
   "metadata": {},
   "outputs": [
    {
     "name": "stdout",
     "output_type": "stream",
     "text": [
      "HFD8 (31061, 6558)\n",
      "HFD14 (31061, 7146)\n",
      "ND (31061, 1414)\n",
      "done\n"
     ]
    }
   ],
   "source": [
    "dirPath = \"/nfs/turbo/umms-indikar/shared/projects/spatial_transcriptomics/data/scRNAseq/all/\"\n",
    "\n",
    "data = {}\n",
    "\n",
    "for f in os.listdir(dirPath):\n",
    "    condition = f.split(\".\")[0]\n",
    "    fullPath = f\"{dirPath}{f}\"\n",
    "    df = pd.read_parquet(fullPath)\n",
    "    data[condition] = df\n",
    "    print(condition, df.shape)\n",
    "    \n",
    "print(\"done\")"
   ]
  },
  {
   "cell_type": "code",
   "execution_count": 21,
   "id": "a0ded85f-77a9-4657-a8d2-d1b6b7efa312",
   "metadata": {},
   "outputs": [
    {
     "name": "stdout",
     "output_type": "stream",
     "text": [
      "HFD8\n",
      "20577\n",
      "(31061, 6130)\n",
      "(10484, 6130)\n"
     ]
    }
   ],
   "source": [
    "def cellFilter(df, minCount=500, returnDrops=False):\n",
    "    \"\"\"A function to drop cells that have \n",
    "    no genes expressed\"\"\"\n",
    "    toDrop = []\n",
    "    for column in df.columns:\n",
    "        countNonZero = (df[column] != 0).sum()\n",
    "        if countNonZero <= minCount:\n",
    "            toDrop.append(column)\n",
    "        \n",
    "    df = df.drop(columns=toDrop)    \n",
    "    if returnDrops:\n",
    "        return df, toDrop\n",
    "    else:\n",
    "        return df\n",
    "    \n",
    "    \n",
    "def geneFilter(df, minCount=100, returnDrops=False):\n",
    "    \"\"\"A function to drop genes that don't appear in\n",
    "    at least `minCount` samples \"\"\"\n",
    "    \n",
    "    \n",
    "    zeroCounts = (df != 0).astype(int).sum(axis=1)\n",
    "    mask = (zeroCounts >= minCount)\n",
    "    \n",
    "    toDrop = mask.index[mask == False].tolist()\n",
    "    print(len(toDrop))\n",
    "    print(df.shape)\n",
    "    df = df[mask]\n",
    "    print(df.shape)\n",
    "    \n",
    "#     if returnDrops:\n",
    "#         return df, toDrop\n",
    "#     else:\n",
    "#         return df\n",
    "    \n",
    "    \n",
    "    # toDrop = \n",
    "    \n",
    "\n",
    "\n",
    "for d, df in data.items():\n",
    "    print(d)\n",
    "    df = cellFilter(df)\n",
    "    geneFilter(df)\n",
    "    \n",
    "    \n",
    "    # print(df.shape)\n",
    "    break\n",
    "    \n",
    "    # break\n",
    "    #     n, m = df.shape\n",
    "#     nZeros = (df == 0).astype(int).sum(axis=1)\n",
    "#     dropRow = np.where(nZeros == m, 1, 0)\n",
    "    \n",
    "    \n",
    "    \n",
    "    \n",
    "#     break"
   ]
  },
  {
   "cell_type": "code",
   "execution_count": 9,
   "id": "81ec784b-5595-4d58-9aba-5c210138cfd1",
   "metadata": {},
   "outputs": [
    {
     "data": {
      "text/plain": [
       "6132"
      ]
     },
     "execution_count": 9,
     "metadata": {},
     "output_type": "execute_result"
    }
   ],
   "source": [
    "6558 - 426\n",
    "# thresh = np.linspace(0, 10000, 100).astype(int)\n",
    "# L = []\n",
    "\n",
    "# for t in thresh:\n",
    "#     g = cellFilter(df, minCount=t)\n",
    "#     L.append(g.shape[0])\n",
    "    \n",
    "# plt.plot(thresh, L)"
   ]
  },
  {
   "cell_type": "code",
   "execution_count": 5,
   "id": "bf2ae568-f291-4c2d-b8a1-dc2e249fdf3f",
   "metadata": {},
   "outputs": [
    {
     "ename": "NameError",
     "evalue": "name 'rowCount' is not defined",
     "output_type": "error",
     "traceback": [
      "\u001b[0;31m---------------------------------------------------------------------------\u001b[0m",
      "\u001b[0;31mNameError\u001b[0m                                 Traceback (most recent call last)",
      "\u001b[0;32m/tmp/ipykernel_396487/1930195093.py\u001b[0m in \u001b[0;36m<module>\u001b[0;34m\u001b[0m\n\u001b[0;32m----> 1\u001b[0;31m \u001b[0mrowCount\u001b[0m\u001b[0;34m.\u001b[0m\u001b[0mhead\u001b[0m\u001b[0;34m(\u001b[0m\u001b[0;36m40\u001b[0m\u001b[0;34m)\u001b[0m\u001b[0;34m\u001b[0m\u001b[0;34m\u001b[0m\u001b[0m\n\u001b[0m",
      "\u001b[0;31mNameError\u001b[0m: name 'rowCount' is not defined"
     ]
    }
   ],
   "source": [
    "\n",
    "rowCount.head(40)"
   ]
  },
  {
   "cell_type": "code",
   "execution_count": null,
   "id": "febb2070-0bab-41c1-8449-32322728c753",
   "metadata": {},
   "outputs": [],
   "source": []
  }
 ],
 "metadata": {
  "kernelspec": {
   "display_name": "Python 3 (ipykernel)",
   "language": "python",
   "name": "python3"
  },
  "language_info": {
   "codemirror_mode": {
    "name": "ipython",
    "version": 3
   },
   "file_extension": ".py",
   "mimetype": "text/x-python",
   "name": "python",
   "nbconvert_exporter": "python",
   "pygments_lexer": "ipython3",
   "version": "3.9.7"
  }
 },
 "nbformat": 4,
 "nbformat_minor": 5
}
