{
 "cells": [
  {
   "cell_type": "code",
   "execution_count": 1,
   "id": "0ea02e7e-07d7-4054-a024-e94a44f9833f",
   "metadata": {},
   "outputs": [
    {
     "name": "stderr",
     "output_type": "stream",
     "text": [
      "2022-11-21 10:09:15.635944: I tensorflow/core/platform/cpu_feature_guard.cc:193] This TensorFlow binary is optimized with oneAPI Deep Neural Network Library (oneDNN) to use the following CPU instructions in performance-critical operations:  AVX2 AVX512F FMA\n",
      "To enable them in other operations, rebuild TensorFlow with the appropriate compiler flags.\n",
      "2022-11-21 10:09:15.747577: W tensorflow/stream_executor/platform/default/dso_loader.cc:64] Could not load dynamic library 'libcudart.so.11.0'; dlerror: libcudart.so.11.0: cannot open shared object file: No such file or directory; LD_LIBRARY_PATH: /opt/slurm/lib64:\n",
      "2022-11-21 10:09:15.747598: I tensorflow/stream_executor/cuda/cudart_stub.cc:29] Ignore above cudart dlerror if you do not have a GPU set up on your machine.\n",
      "2022-11-21 10:09:15.773815: E tensorflow/stream_executor/cuda/cuda_blas.cc:2981] Unable to register cuBLAS factory: Attempting to register factory for plugin cuBLAS when one has already been registered\n",
      "2022-11-21 10:09:16.628628: W tensorflow/stream_executor/platform/default/dso_loader.cc:64] Could not load dynamic library 'libnvinfer.so.7'; dlerror: libnvinfer.so.7: cannot open shared object file: No such file or directory; LD_LIBRARY_PATH: /opt/slurm/lib64:\n",
      "2022-11-21 10:09:16.628709: W tensorflow/stream_executor/platform/default/dso_loader.cc:64] Could not load dynamic library 'libnvinfer_plugin.so.7'; dlerror: libnvinfer_plugin.so.7: cannot open shared object file: No such file or directory; LD_LIBRARY_PATH: /opt/slurm/lib64:\n",
      "2022-11-21 10:09:16.628716: W tensorflow/compiler/tf2tensorrt/utils/py_utils.cc:38] TF-TRT Warning: Cannot dlopen some TensorRT libraries. If you would like to use Nvidia GPU with TensorRT, please make sure the missing libraries mentioned above are installed properly.\n"
     ]
    },
    {
     "data": {
      "text/plain": [
       "<module 'utils' from '/home/cstansbu/git_repositories/spatial_transcriptomics/clustering/utils.py'>"
      ]
     },
     "execution_count": 1,
     "metadata": {},
     "output_type": "execute_result"
    }
   ],
   "source": [
    "import os\n",
    "import pandas as pd\n",
    "import numpy as np\n",
    "import matplotlib \n",
    "import matplotlib.pyplot as plt\n",
    "import seaborn as sns\n",
    "import scanpy as sc\n",
    "from sklearn import metrics\n",
    "import tabulate\n",
    "import itertools\n",
    "import umap\n",
    "from importlib import reload\n",
    "from scipy import stats\n",
    "import matplotlib.image as mpimg\n",
    "import goatools\n",
    "from goatools.anno.gaf_reader import GafReader\n",
    "import Bio.UniProt.GOA as GOA\n",
    "import gget\n",
    "\n",
    "# locals\n",
    "import utils as ut\n",
    "reload(ut)"
   ]
  },
  {
   "cell_type": "code",
   "execution_count": 2,
   "id": "97f57e07-3112-4a26-b935-7de516043047",
   "metadata": {},
   "outputs": [
    {
     "name": "stdout",
     "output_type": "stream",
     "text": [
      "done\n"
     ]
    }
   ],
   "source": [
    "dirPath = \"/nfs/turbo/umms-indikar/shared/projects/spatial_transcriptomics/data/scanpy/\"\n",
    "\n",
    "adata = {}\n",
    "\n",
    "for f in os.listdir(dirPath):\n",
    "    \n",
    "    if f.endswith('.h5ad'):\n",
    "        key = f.split(\".\")[0]\n",
    "        fullPath = f\"{dirPath}{f}\"\n",
    "        data = sc.read(fullPath)\n",
    "        adata[key] = data\n",
    "    \n",
    "print(\"done\")"
   ]
  },
  {
   "cell_type": "code",
   "execution_count": 10,
   "id": "ecf559eb-2c3a-4e83-927a-a8b5a88fd832",
   "metadata": {},
   "outputs": [
    {
     "name": "stderr",
     "output_type": "stream",
     "text": [
      "Mon Nov 21 10:15:06 2022 INFO Performing Enichr analysis using database PanglaoDB_Augmented_2021. \n",
      "    Please note that there might a more appropriate database for your application. \n",
      "    Go to https://maayanlab.cloud/Enrichr/#libraries for a full list of supported databases.\n",
      "    \n",
      "Mon Nov 21 10:15:13 2022 INFO Performing Enichr analysis using database PanglaoDB_Augmented_2021. \n",
      "    Please note that there might a more appropriate database for your application. \n",
      "    Go to https://maayanlab.cloud/Enrichr/#libraries for a full list of supported databases.\n",
      "    \n"
     ]
    },
    {
     "name": "stdout",
     "output_type": "stream",
     "text": [
      "ND 1 Dendritic Cells, Macrophages, Plasmacytoid Dendritic Cells, Monocytes, Osteoclast Precursor Cells, Langerhans Cells, Myeloid-derived Suppressor Cells, Eosinophils, Erythroblasts, Microglia\n"
     ]
    },
    {
     "name": "stderr",
     "output_type": "stream",
     "text": [
      "Mon Nov 21 10:15:14 2022 INFO Performing Enichr analysis using database PanglaoDB_Augmented_2021. \n",
      "    Please note that there might a more appropriate database for your application. \n",
      "    Go to https://maayanlab.cloud/Enrichr/#libraries for a full list of supported databases.\n",
      "    \n"
     ]
    },
    {
     "name": "stdout",
     "output_type": "stream",
     "text": [
      "ND 2 Macrophages, Monocytes, Alveolar Macrophages, B Cells, Tuft Cells, Platelets, Plasmacytoid Dendritic Cells, Neutrophils, Dendritic Cells, Thymocytes\n"
     ]
    },
    {
     "name": "stderr",
     "output_type": "stream",
     "text": [
      "Mon Nov 21 10:15:22 2022 INFO Performing Enichr analysis using database PanglaoDB_Augmented_2021. \n",
      "    Please note that there might a more appropriate database for your application. \n",
      "    Go to https://maayanlab.cloud/Enrichr/#libraries for a full list of supported databases.\n",
      "    \n"
     ]
    },
    {
     "name": "stdout",
     "output_type": "stream",
     "text": [
      "ND 3 Macrophages, Microglia, Kupffer Cells, Osteoclasts, Red Pulp Macrophages, Monocytes, Alveolar Macrophages, Osteoclast Precursor Cells, Hematopoietic Stem Cells, Langerhans Cells\n"
     ]
    },
    {
     "name": "stderr",
     "output_type": "stream",
     "text": [
      "Mon Nov 21 10:15:25 2022 INFO Performing Enichr analysis using database PanglaoDB_Augmented_2021. \n",
      "    Please note that there might a more appropriate database for your application. \n",
      "    Go to https://maayanlab.cloud/Enrichr/#libraries for a full list of supported databases.\n",
      "    \n"
     ]
    },
    {
     "name": "stdout",
     "output_type": "stream",
     "text": [
      "ND 4 B Cells, Plasma Cells, B Cells Memory, Undefined Placental Cells, B Cells Naive, Transient Cells, Plasmacytoid Dendritic Cells, Gastric Chief Cells, Sebocytes, Spermatozoa\n"
     ]
    },
    {
     "name": "stderr",
     "output_type": "stream",
     "text": [
      "Mon Nov 21 10:15:29 2022 INFO Performing Enichr analysis using database PanglaoDB_Augmented_2021. \n",
      "    Please note that there might a more appropriate database for your application. \n",
      "    Go to https://maayanlab.cloud/Enrichr/#libraries for a full list of supported databases.\n",
      "    \n"
     ]
    },
    {
     "name": "stdout",
     "output_type": "stream",
     "text": [
      "ND 5 Macrophages, Monocytes, Myeloid-derived Suppressor Cells, Kupffer Cells, Osteoclasts, Dendritic Cells, Alveolar Macrophages, Microglia, Neutrophils, Platelets\n"
     ]
    },
    {
     "name": "stderr",
     "output_type": "stream",
     "text": [
      "Mon Nov 21 10:16:42 2022 INFO Performing Enichr analysis using database PanglaoDB_Augmented_2021. \n",
      "    Please note that there might a more appropriate database for your application. \n",
      "    Go to https://maayanlab.cloud/Enrichr/#libraries for a full list of supported databases.\n",
      "    \n"
     ]
    },
    {
     "name": "stdout",
     "output_type": "stream",
     "text": [
      "ND 6 B Cells, B Cells Memory, B Cells Naive, T Memory Cells, Plasmacytoid Dendritic Cells, Thymocytes, T Cells, T Follicular Helper Cells, T Cells Naive, Plasma Cells\n"
     ]
    },
    {
     "name": "stderr",
     "output_type": "stream",
     "text": [
      "Mon Nov 21 10:16:44 2022 INFO Performing Enichr analysis using database PanglaoDB_Augmented_2021. \n",
      "    Please note that there might a more appropriate database for your application. \n",
      "    Go to https://maayanlab.cloud/Enrichr/#libraries for a full list of supported databases.\n",
      "    \n"
     ]
    },
    {
     "name": "stdout",
     "output_type": "stream",
     "text": [
      "ND 7 T Memory Cells, T Cells, NK Cells, Natural Killer T Cells, T Cells Naive, T Regulatory Cells, Thymocytes, T Cytotoxic Cells, T Follicular Helper Cells, T Helper Cells\n"
     ]
    },
    {
     "name": "stderr",
     "output_type": "stream",
     "text": [
      "Mon Nov 21 10:16:49 2022 INFO Performing Enichr analysis using database PanglaoDB_Augmented_2021. \n",
      "    Please note that there might a more appropriate database for your application. \n",
      "    Go to https://maayanlab.cloud/Enrichr/#libraries for a full list of supported databases.\n",
      "    \n"
     ]
    },
    {
     "name": "stdout",
     "output_type": "stream",
     "text": [
      "ND 8 Dendritic Cells, Plasmacytoid Dendritic Cells, Macrophages, Eosinophils, Langerhans Cells, Myeloid-derived Suppressor Cells, Thymocytes, B Cells Memory, T Follicular Helper Cells, B Cells\n"
     ]
    },
    {
     "name": "stderr",
     "output_type": "stream",
     "text": [
      "Mon Nov 21 10:16:52 2022 INFO Performing Enichr analysis using database PanglaoDB_Augmented_2021. \n",
      "    Please note that there might a more appropriate database for your application. \n",
      "    Go to https://maayanlab.cloud/Enrichr/#libraries for a full list of supported databases.\n",
      "    \n"
     ]
    },
    {
     "name": "stdout",
     "output_type": "stream",
     "text": [
      "ND 9 T Memory Cells, T Cells, T Helper Cells, T Regulatory Cells, Natural Killer T Cells, T Cells Naive, Thymocytes, T Follicular Helper Cells, NK Cells, Nuocytes\n"
     ]
    },
    {
     "name": "stderr",
     "output_type": "stream",
     "text": [
      "Mon Nov 21 10:16:55 2022 INFO Performing Enichr analysis using database PanglaoDB_Augmented_2021. \n",
      "    Please note that there might a more appropriate database for your application. \n",
      "    Go to https://maayanlab.cloud/Enrichr/#libraries for a full list of supported databases.\n",
      "    \n"
     ]
    },
    {
     "name": "stdout",
     "output_type": "stream",
     "text": [
      "ND 10 Monocytes, Macrophages, Eosinophils, Myeloid-derived Suppressor Cells, Dendritic Cells, Plasmacytoid Dendritic Cells, Platelets, Microglia, Kupffer Cells, Neutrophils\n"
     ]
    },
    {
     "name": "stderr",
     "output_type": "stream",
     "text": [
      "Mon Nov 21 10:16:57 2022 INFO Performing Enichr analysis using database PanglaoDB_Augmented_2021. \n",
      "    Please note that there might a more appropriate database for your application. \n",
      "    Go to https://maayanlab.cloud/Enrichr/#libraries for a full list of supported databases.\n",
      "    \n"
     ]
    },
    {
     "name": "stdout",
     "output_type": "stream",
     "text": [
      "ND 11 Macrophages, Microglia, Monocytes, Alveolar Macrophages, Osteoclasts, Osteoclast Precursor Cells, Kupffer Cells, Dendritic Cells, Red Pulp Macrophages, Platelets\n"
     ]
    },
    {
     "name": "stderr",
     "output_type": "stream",
     "text": [
      "Mon Nov 21 10:17:02 2022 INFO Performing Enichr analysis using database PanglaoDB_Augmented_2021. \n",
      "    Please note that there might a more appropriate database for your application. \n",
      "    Go to https://maayanlab.cloud/Enrichr/#libraries for a full list of supported databases.\n",
      "    \n"
     ]
    },
    {
     "name": "stdout",
     "output_type": "stream",
     "text": [
      "ND 12 Fibroblasts, Endothelial Cells (Aorta), Pericytes, Adipocytes, Stromal Cells, Podocytes, Pulmonary Vascular Smooth Muscle Cells, Peritubular Myoid Cells, Mesangial Cells, Myofibroblasts\n"
     ]
    },
    {
     "name": "stderr",
     "output_type": "stream",
     "text": [
      "Mon Nov 21 10:17:05 2022 INFO Performing Enichr analysis using database PanglaoDB_Augmented_2021. \n",
      "    Please note that there might a more appropriate database for your application. \n",
      "    Go to https://maayanlab.cloud/Enrichr/#libraries for a full list of supported databases.\n",
      "    \n"
     ]
    },
    {
     "name": "stdout",
     "output_type": "stream",
     "text": [
      "ND 13 T Cells, T Memory Cells, Natural Killer T Cells, T Cells Naive, T Follicular Helper Cells, T Regulatory Cells, Thymocytes, NK Cells, T Cytotoxic Cells, T Helper Cells\n"
     ]
    },
    {
     "name": "stderr",
     "output_type": "stream",
     "text": [
      "Mon Nov 21 10:17:06 2022 INFO Performing Enichr analysis using database PanglaoDB_Augmented_2021. \n",
      "    Please note that there might a more appropriate database for your application. \n",
      "    Go to https://maayanlab.cloud/Enrichr/#libraries for a full list of supported databases.\n",
      "    \n"
     ]
    },
    {
     "name": "stdout",
     "output_type": "stream",
     "text": [
      "ND 14 Dendritic Cells, Macrophages, Langerhans Cells, Plasmacytoid Dendritic Cells, Kupffer Cells, Monocytes, Osteoclast Precursor Cells, Red Pulp Macrophages, Myeloid-derived Suppressor Cells, B Cells Naive\n"
     ]
    },
    {
     "name": "stderr",
     "output_type": "stream",
     "text": [
      "Mon Nov 21 10:17:06 2022 INFO Performing Enichr analysis using database PanglaoDB_Augmented_2021. \n",
      "    Please note that there might a more appropriate database for your application. \n",
      "    Go to https://maayanlab.cloud/Enrichr/#libraries for a full list of supported databases.\n",
      "    \n"
     ]
    },
    {
     "name": "stdout",
     "output_type": "stream",
     "text": [
      "ND 15 Osteoclasts, Macrophages, Hematopoietic Stem Cells, Kupffer Cells, Microglia, Red Pulp Macrophages, Monocytes, Alveolar Macrophages, Satellite Glial Cells, Osteoclast Precursor Cells\n"
     ]
    },
    {
     "name": "stderr",
     "output_type": "stream",
     "text": [
      "Mon Nov 21 10:17:11 2022 INFO Performing Enichr analysis using database PanglaoDB_Augmented_2021. \n",
      "    Please note that there might a more appropriate database for your application. \n",
      "    Go to https://maayanlab.cloud/Enrichr/#libraries for a full list of supported databases.\n",
      "    \n"
     ]
    },
    {
     "name": "stdout",
     "output_type": "stream",
     "text": [
      "ND 16 Pluripotent Stem Cells, Dendritic Cells, Reticulocytes, Undefined Placental Cells, Plasmacytoid Dendritic Cells, Langerhans Cells, Macrophages, Eosinophils, Thymocytes, Microglia\n"
     ]
    },
    {
     "name": "stderr",
     "output_type": "stream",
     "text": [
      "Mon Nov 21 10:17:12 2022 INFO Performing Enichr analysis using database PanglaoDB_Augmented_2021. \n",
      "    Please note that there might a more appropriate database for your application. \n",
      "    Go to https://maayanlab.cloud/Enrichr/#libraries for a full list of supported databases.\n",
      "    \n"
     ]
    },
    {
     "name": "stdout",
     "output_type": "stream",
     "text": [
      "ND 17 Neutrophils, Monocytes, Alveolar Macrophages, Macrophages, Kupffer Cells, Myeloid-derived Suppressor Cells, Platelets, Basophils, Microglia, Megakaryocytes\n",
      "ND 18 Dendritic Cells, Microfold Cells, Macrophages, Trophoblast Progenitor Cells, Osteoclast Precursor Cells, B Cells, Monocytes, Hematopoietic Stem Cells, Fibroblasts, Microglia\n"
     ]
    }
   ],
   "source": [
    "db = 'celltypes'\n",
    "lft = 0\n",
    "alpha = 0.05\n",
    "\n",
    "keys = ['ND', 'HFD8', 'HFD14']\n",
    "for key in keys:\n",
    "    data = adata[key]\n",
    "    \n",
    "    \n",
    "    result = data.uns['rank_genes_groups']\n",
    "    dataKeys = data.uns['rank_genes_groups'].keys()\n",
    "    groups = result['names'].dtype.names\n",
    "    \n",
    "    \n",
    "    for clusterId in groups:\n",
    "        t = pd.DataFrame(result['names'][clusterId])\n",
    "        t.columns = ['gene']\n",
    "        t['pvals'] = result['pvals'][clusterId]\n",
    "        t['logfoldchanges'] = result['logfoldchanges'][clusterId]\n",
    "        \n",
    "        t = t[(t['pvals'] < alpha) & (t['logfoldchanges'] > lft)]\n",
    "        genes = t['gene'].to_list()\n",
    "        \n",
    "        enrichr = gget.enrichr(genes, database=db)\n",
    "        \n",
    "        cellPreds = \", \".join(enrichr['path_name'].head(10).to_list())\n",
    "        \n",
    "        print(key, int(clusterId) + 1, cellPreds)    \n",
    "    \n",
    "    \n",
    "    \n",
    "    \n",
    "    \n",
    "    \n",
    "    \n",
    "    break"
   ]
  },
  {
   "cell_type": "code",
   "execution_count": null,
   "id": "d667558d-0486-4083-a749-5a5ae619f9fe",
   "metadata": {},
   "outputs": [],
   "source": []
  }
 ],
 "metadata": {
  "kernelspec": {
   "display_name": "Python 3 (ipykernel)",
   "language": "python",
   "name": "python3"
  },
  "language_info": {
   "codemirror_mode": {
    "name": "ipython",
    "version": 3
   },
   "file_extension": ".py",
   "mimetype": "text/x-python",
   "name": "python",
   "nbconvert_exporter": "python",
   "pygments_lexer": "ipython3",
   "version": "3.9.7"
  }
 },
 "nbformat": 4,
 "nbformat_minor": 5
}
