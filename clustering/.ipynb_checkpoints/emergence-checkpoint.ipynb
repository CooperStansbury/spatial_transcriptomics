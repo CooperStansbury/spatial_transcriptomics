{
 "cells": [
  {
   "cell_type": "code",
   "execution_count": 1,
   "id": "117a422e-0c03-4b01-94ef-743d89c647e0",
   "metadata": {},
   "outputs": [
    {
     "name": "stderr",
     "output_type": "stream",
     "text": [
      "2022-12-13 09:46:27.368178: I tensorflow/core/platform/cpu_feature_guard.cc:193] This TensorFlow binary is optimized with oneAPI Deep Neural Network Library (oneDNN) to use the following CPU instructions in performance-critical operations:  AVX2 AVX512F FMA\n",
      "To enable them in other operations, rebuild TensorFlow with the appropriate compiler flags.\n",
      "2022-12-13 09:46:27.483011: W tensorflow/stream_executor/platform/default/dso_loader.cc:64] Could not load dynamic library 'libcudart.so.11.0'; dlerror: libcudart.so.11.0: cannot open shared object file: No such file or directory; LD_LIBRARY_PATH: /opt/slurm/lib64:\n",
      "2022-12-13 09:46:27.483037: I tensorflow/stream_executor/cuda/cudart_stub.cc:29] Ignore above cudart dlerror if you do not have a GPU set up on your machine.\n",
      "2022-12-13 09:46:27.509091: E tensorflow/stream_executor/cuda/cuda_blas.cc:2981] Unable to register cuBLAS factory: Attempting to register factory for plugin cuBLAS when one has already been registered\n",
      "2022-12-13 09:46:28.340865: W tensorflow/stream_executor/platform/default/dso_loader.cc:64] Could not load dynamic library 'libnvinfer.so.7'; dlerror: libnvinfer.so.7: cannot open shared object file: No such file or directory; LD_LIBRARY_PATH: /opt/slurm/lib64:\n",
      "2022-12-13 09:46:28.340949: W tensorflow/stream_executor/platform/default/dso_loader.cc:64] Could not load dynamic library 'libnvinfer_plugin.so.7'; dlerror: libnvinfer_plugin.so.7: cannot open shared object file: No such file or directory; LD_LIBRARY_PATH: /opt/slurm/lib64:\n",
      "2022-12-13 09:46:28.340956: W tensorflow/compiler/tf2tensorrt/utils/py_utils.cc:38] TF-TRT Warning: Cannot dlopen some TensorRT libraries. If you would like to use Nvidia GPU with TensorRT, please make sure the missing libraries mentioned above are installed properly.\n"
     ]
    },
    {
     "data": {
      "text/plain": [
       "<module 'utils' from '/home/cstansbu/git_repositories/spatial_transcriptomics/clustering/utils.py'>"
      ]
     },
     "execution_count": 1,
     "metadata": {},
     "output_type": "execute_result"
    }
   ],
   "source": [
    "import os\n",
    "import pandas as pd\n",
    "import numpy as np\n",
    "import matplotlib \n",
    "import matplotlib.pyplot as plt\n",
    "import seaborn as sns\n",
    "import scanpy as sc\n",
    "from sklearn import metrics\n",
    "from sklearn.decomposition import PCA\n",
    "import tabulate\n",
    "import itertools\n",
    "import igraph as ig\n",
    "import matplotlib.patches as mpatches\n",
    "from scipy.ndimage import gaussian_filter1d\n",
    "from sklearn.neighbors import kneighbors_graph\n",
    "from scipy.spatial.distance import pdist, squareform\n",
    "import leidenalg as la\n",
    "import dask.array as da\n",
    "from sklearn.cluster import SpectralClustering\n",
    "from sklearn.cluster import KMeans\n",
    "from sklearn.cluster import AgglomerativeClustering\n",
    "import umap\n",
    "import bbknn\n",
    "import bbknn.matrix\n",
    "from importlib import reload\n",
    "from scipy import stats\n",
    "import matplotlib.image as mpimg\n",
    "import goatools\n",
    "from goatools.anno.gaf_reader import GafReader\n",
    "import Bio.UniProt.GOA as GOA\n",
    "import gget\n",
    "\n",
    "# locals\n",
    "import utils as ut\n",
    "reload(ut)"
   ]
  },
  {
   "cell_type": "code",
   "execution_count": 2,
   "id": "48086f2f-cfee-4e2c-8d75-72d4cfaadcb4",
   "metadata": {},
   "outputs": [
    {
     "name": "stdout",
     "output_type": "stream",
     "text": [
      "(427882, 7)\n",
      "['Macrophages' 'B cells' 'Monocytes' 'NK cells' 'Dendritic cells'\n",
      " 'T cells' 'Stromal cells']\n"
     ]
    },
    {
     "data": {
      "text/html": [
       "<div>\n",
       "<style scoped>\n",
       "    .dataframe tbody tr th:only-of-type {\n",
       "        vertical-align: middle;\n",
       "    }\n",
       "\n",
       "    .dataframe tbody tr th {\n",
       "        vertical-align: top;\n",
       "    }\n",
       "\n",
       "    .dataframe thead th {\n",
       "        text-align: right;\n",
       "    }\n",
       "</style>\n",
       "<table border=\"1\" class=\"dataframe\">\n",
       "  <thead>\n",
       "    <tr style=\"text-align: right;\">\n",
       "      <th></th>\n",
       "      <th>gene</th>\n",
       "      <th>scores</th>\n",
       "      <th>pvals</th>\n",
       "      <th>logfoldchanges</th>\n",
       "      <th>clusterId</th>\n",
       "      <th>key</th>\n",
       "      <th>cellType</th>\n",
       "    </tr>\n",
       "  </thead>\n",
       "  <tbody>\n",
       "    <tr>\n",
       "      <th>0</th>\n",
       "      <td>H2-EB1</td>\n",
       "      <td>36.343353</td>\n",
       "      <td>4.575346e-181</td>\n",
       "      <td>3.564091</td>\n",
       "      <td>1</td>\n",
       "      <td>ND</td>\n",
       "      <td>Macrophages</td>\n",
       "    </tr>\n",
       "    <tr>\n",
       "      <th>1</th>\n",
       "      <td>H2-AA</td>\n",
       "      <td>35.311523</td>\n",
       "      <td>4.761517e-183</td>\n",
       "      <td>3.430534</td>\n",
       "      <td>1</td>\n",
       "      <td>ND</td>\n",
       "      <td>Macrophages</td>\n",
       "    </tr>\n",
       "    <tr>\n",
       "      <th>2</th>\n",
       "      <td>H2-AB1</td>\n",
       "      <td>34.411163</td>\n",
       "      <td>2.815112e-177</td>\n",
       "      <td>3.234597</td>\n",
       "      <td>1</td>\n",
       "      <td>ND</td>\n",
       "      <td>Macrophages</td>\n",
       "    </tr>\n",
       "    <tr>\n",
       "      <th>3</th>\n",
       "      <td>CD74</td>\n",
       "      <td>33.910587</td>\n",
       "      <td>2.451588e-177</td>\n",
       "      <td>3.302062</td>\n",
       "      <td>1</td>\n",
       "      <td>ND</td>\n",
       "      <td>Macrophages</td>\n",
       "    </tr>\n",
       "    <tr>\n",
       "      <th>4</th>\n",
       "      <td>H2-DMA</td>\n",
       "      <td>31.695400</td>\n",
       "      <td>2.991793e-123</td>\n",
       "      <td>2.667091</td>\n",
       "      <td>1</td>\n",
       "      <td>ND</td>\n",
       "      <td>Macrophages</td>\n",
       "    </tr>\n",
       "  </tbody>\n",
       "</table>\n",
       "</div>"
      ],
      "text/plain": [
       "     gene     scores          pvals  logfoldchanges  clusterId key  \\\n",
       "0  H2-EB1  36.343353  4.575346e-181        3.564091          1  ND   \n",
       "1   H2-AA  35.311523  4.761517e-183        3.430534          1  ND   \n",
       "2  H2-AB1  34.411163  2.815112e-177        3.234597          1  ND   \n",
       "3    CD74  33.910587  2.451588e-177        3.302062          1  ND   \n",
       "4  H2-DMA  31.695400  2.991793e-123        2.667091          1  ND   \n",
       "\n",
       "      cellType  \n",
       "0  Macrophages  \n",
       "1  Macrophages  \n",
       "2  Macrophages  \n",
       "3  Macrophages  \n",
       "4  Macrophages  "
      ]
     },
     "execution_count": 2,
     "metadata": {},
     "output_type": "execute_result"
    }
   ],
   "source": [
    "clusterPath = \"/nfs/turbo/umms-indikar/shared/projects/spatial_transcriptomics/data/scanpy/clusters.csv\"\n",
    "cf = pd.read_parquet(clusterPath)\n",
    "print(cf.shape)\n",
    "print(cf['cellType'].unique())\n",
    "cf.head()"
   ]
  },
  {
   "cell_type": "code",
   "execution_count": 9,
   "id": "40bde0d4-d06b-4d35-9bcb-94a3c9ecd51a",
   "metadata": {},
   "outputs": [
    {
     "name": "stderr",
     "output_type": "stream",
     "text": [
      "Tue Dec 13 10:09:22 2022 INFO Performing Enichr analysis using database WikiPathways_2019_Mouse.\n"
     ]
    },
    {
     "name": "stdout",
     "output_type": "stream",
     "text": [
      "==== Macrophages ====\n",
      "\t len(HFD8vND)=1497\n",
      "\t len(HFD14vHFD8)=816\n",
      "\t len(HFD14vND)=1256\n",
      "                                            path_name         p_val\n",
      "0                               DNA Replication WP150  2.330380e-29\n",
      "1                    G1 to S cell cycle control WP413  8.691863e-23\n",
      "2                              Mismatch repair WP1257  4.319782e-06\n",
      "3                     Homologous recombination WP1258  4.647706e-06\n",
      "4                                p53 signaling WP2902  5.845955e-05\n",
      "5         Glutathione and one carbon metabolism WP730  8.431772e-05\n",
      "6                            Purine metabolism WP2185  1.788438e-04\n",
      "7                         One Carbon Metabolism WP435  3.094100e-04\n",
      "8   One carbon metabolism and related pathways WP1770  3.185104e-04\n",
      "9                          Nucleotide Metabolism WP87  8.084892e-04\n",
      "10                       Glutathione metabolism WP164  1.094071e-03\n",
      "11                             Oxidative Stress WP412  2.845472e-02\n",
      "12                    Ovarian Infertility Genes WP273  4.218315e-02\n"
     ]
    }
   ],
   "source": [
    "lft = 1.5\n",
    "alpha = 0.05\n",
    "propOfClusters = 0.1\n",
    "db = 'WikiPathways_2019_Mouse'\n",
    "# db = 'KEGG_2019_Mouse'\n",
    "# db = 'ontology'\n",
    "\n",
    "\n",
    "for ctype in cf['cellType'].unique():\n",
    "    \n",
    "    ctf = cf[cf['cellType'] == ctype].reset_index(drop=True)\n",
    "    ctf = ctf[ctf['logfoldchanges'] > lft].reset_index(drop=True)\n",
    "    ctf = ctf[ctf['pvals'] < alpha].reset_index(drop=True)\n",
    "    \n",
    "    ctf['nCluster'] = ctf.groupby('key')['clusterId'].transform('nunique')\n",
    "    ctf['geneCount'] = ctf.groupby('gene')['key'].transform('nunique')    \n",
    "    ctf = ctf[ctf['geneCount'] >= (ctf['nCluster'] * propOfClusters)].reset_index(drop=True)\n",
    "    \n",
    "    \n",
    "    ND = ctf[ctf['key'] == \"ND\"]['gene'].to_list()\n",
    "    HFD8 = ctf[ctf['key'] == \"HFD8\"]['gene'].to_list()    \n",
    "    HFD14 = ctf[ctf['key'] == \"HFD14\"]['gene'].to_list()\n",
    "    \n",
    "    HFD8vND = np.setdiff1d(HFD8, ND)\n",
    "    HFD14vHFD8 = np.setdiff1d(HFD14, HFD8)\n",
    "    HFD14vND = np.setdiff1d(HFD14, ND)\n",
    "    \n",
    "    print(f\"==== {ctype} ====\")\n",
    "    print(f\"\\t {len(HFD8vND)=}\")\n",
    "    print(f\"\\t {len(HFD14vHFD8)=}\")\n",
    "    print(f\"\\t {len(HFD14vND)=}\")\n",
    "    \n",
    "    pd.set_option('display.max_colwidth', 200)\n",
    "    ef = gget.enrichr(HFD14vHFD8, database=db)\n",
    "    ef = ef[ef['p_val'] < alpha].reset_index(drop=True)\n",
    "    print(ef[['path_name', 'p_val']])\n",
    "    \n",
    "    break"
   ]
  },
  {
   "cell_type": "code",
   "execution_count": null,
   "id": "513dc91c-4035-4a20-9188-2ccbe789f389",
   "metadata": {},
   "outputs": [],
   "source": []
  }
 ],
 "metadata": {
  "kernelspec": {
   "display_name": "Python 3 (ipykernel)",
   "language": "python",
   "name": "python3"
  },
  "language_info": {
   "codemirror_mode": {
    "name": "ipython",
    "version": 3
   },
   "file_extension": ".py",
   "mimetype": "text/x-python",
   "name": "python",
   "nbconvert_exporter": "python",
   "pygments_lexer": "ipython3",
   "version": "3.9.7"
  }
 },
 "nbformat": 4,
 "nbformat_minor": 5
}
