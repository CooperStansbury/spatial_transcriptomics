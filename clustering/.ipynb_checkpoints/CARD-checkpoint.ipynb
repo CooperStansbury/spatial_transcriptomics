{
 "cells": [
  {
   "cell_type": "code",
   "execution_count": 1,
   "id": "cc7be27f-675e-4560-b2d4-9a81ffc1c2d0",
   "metadata": {},
   "outputs": [
    {
     "name": "stderr",
     "output_type": "stream",
     "text": [
      "Warning message:\n",
      "“replacing previous import ‘RcppML::nmf’ by ‘NMF::nmf’ when loading ‘CARD’”\n"
     ]
    }
   ],
   "source": [
    "suppressMessages(library(\"CARD\", quietly = T))"
   ]
  },
  {
   "cell_type": "code",
   "execution_count": 18,
   "id": "04101789-c2bd-4b61-8cee-0debd59c04b2",
   "metadata": {},
   "outputs": [
    {
     "data": {
      "text/html": [
       "<style>\n",
       ".list-inline {list-style: none; margin:0; padding: 0}\n",
       ".list-inline>li {display: inline-block}\n",
       ".list-inline>li:not(:last-child)::after {content: \"\\00b7\"; padding: 0 .5ex}\n",
       "</style>\n",
       "<ol class=list-inline><li>12490</li><li>2035</li></ol>\n"
      ],
      "text/latex": [
       "\\begin{enumerate*}\n",
       "\\item 12490\n",
       "\\item 2035\n",
       "\\end{enumerate*}\n"
      ],
      "text/markdown": [
       "1. 12490\n",
       "2. 2035\n",
       "\n",
       "\n"
      ],
      "text/plain": [
       "[1] 12490  2035"
      ]
     },
     "metadata": {},
     "output_type": "display_data"
    },
    {
     "data": {
      "text/html": [
       "<style>\n",
       ".list-inline {list-style: none; margin:0; padding: 0}\n",
       ".list-inline>li {display: inline-block}\n",
       ".list-inline>li:not(:last-child)::after {content: \"\\00b7\"; padding: 0 .5ex}\n",
       "</style>\n",
       "<ol class=list-inline><li>2035</li><li>2</li></ol>\n"
      ],
      "text/latex": [
       "\\begin{enumerate*}\n",
       "\\item 2035\n",
       "\\item 2\n",
       "\\end{enumerate*}\n"
      ],
      "text/markdown": [
       "1. 2035\n",
       "2. 2\n",
       "\n",
       "\n"
      ],
      "text/plain": [
       "[1] 2035    2"
      ]
     },
     "metadata": {},
     "output_type": "display_data"
    },
    {
     "data": {
      "text/html": [
       "<style>\n",
       ".list-inline {list-style: none; margin:0; padding: 0}\n",
       ".list-inline>li {display: inline-block}\n",
       ".list-inline>li:not(:last-child)::after {content: \"\\00b7\"; padding: 0 .5ex}\n",
       "</style>\n",
       "<ol class=list-inline><li>12490</li><li>1261</li></ol>\n"
      ],
      "text/latex": [
       "\\begin{enumerate*}\n",
       "\\item 12490\n",
       "\\item 1261\n",
       "\\end{enumerate*}\n"
      ],
      "text/markdown": [
       "1. 12490\n",
       "2. 1261\n",
       "\n",
       "\n"
      ],
      "text/plain": [
       "[1] 12490  1261"
      ]
     },
     "metadata": {},
     "output_type": "display_data"
    },
    {
     "data": {
      "text/html": [
       "<table class=\"dataframe\">\n",
       "<caption>A data.frame: 6 × 3</caption>\n",
       "<thead>\n",
       "\t<tr><th></th><th scope=col>cellId</th><th scope=col>cellType</th><th scope=col>sampleInfo</th></tr>\n",
       "\t<tr><th></th><th scope=col>&lt;chr&gt;</th><th scope=col>&lt;chr&gt;</th><th scope=col>&lt;chr&gt;</th></tr>\n",
       "</thead>\n",
       "<tbody>\n",
       "\t<tr><th scope=row>AAACGAACAGCAGTAG.1</th><td>AAACGAACAGCAGTAG.1</td><td>B cells    </td><td>ND</td></tr>\n",
       "\t<tr><th scope=row>AAAGAACGTCTACAGT.1</th><td>AAAGAACGTCTACAGT.1</td><td>Macrophages</td><td>ND</td></tr>\n",
       "\t<tr><th scope=row>AAAGAACTCCTCGCAT.1</th><td>AAAGAACTCCTCGCAT.1</td><td>Macrophages</td><td>ND</td></tr>\n",
       "\t<tr><th scope=row>AAAGGGCGTTAGGGTG.1</th><td>AAAGGGCGTTAGGGTG.1</td><td>Macrophages</td><td>ND</td></tr>\n",
       "\t<tr><th scope=row>AACAAAGAGTATAGGT.1</th><td>AACAAAGAGTATAGGT.1</td><td>Monocytes  </td><td>ND</td></tr>\n",
       "\t<tr><th scope=row>AACAAAGCACCGGCTA.1</th><td>AACAAAGCACCGGCTA.1</td><td>Macrophages</td><td>ND</td></tr>\n",
       "</tbody>\n",
       "</table>\n"
      ],
      "text/latex": [
       "A data.frame: 6 × 3\n",
       "\\begin{tabular}{r|lll}\n",
       "  & cellId & cellType & sampleInfo\\\\\n",
       "  & <chr> & <chr> & <chr>\\\\\n",
       "\\hline\n",
       "\tAAACGAACAGCAGTAG.1 & AAACGAACAGCAGTAG.1 & B cells     & ND\\\\\n",
       "\tAAAGAACGTCTACAGT.1 & AAAGAACGTCTACAGT.1 & Macrophages & ND\\\\\n",
       "\tAAAGAACTCCTCGCAT.1 & AAAGAACTCCTCGCAT.1 & Macrophages & ND\\\\\n",
       "\tAAAGGGCGTTAGGGTG.1 & AAAGGGCGTTAGGGTG.1 & Macrophages & ND\\\\\n",
       "\tAACAAAGAGTATAGGT.1 & AACAAAGAGTATAGGT.1 & Monocytes   & ND\\\\\n",
       "\tAACAAAGCACCGGCTA.1 & AACAAAGCACCGGCTA.1 & Macrophages & ND\\\\\n",
       "\\end{tabular}\n"
      ],
      "text/markdown": [
       "\n",
       "A data.frame: 6 × 3\n",
       "\n",
       "| <!--/--> | cellId &lt;chr&gt; | cellType &lt;chr&gt; | sampleInfo &lt;chr&gt; |\n",
       "|---|---|---|---|\n",
       "| AAACGAACAGCAGTAG.1 | AAACGAACAGCAGTAG.1 | B cells     | ND |\n",
       "| AAAGAACGTCTACAGT.1 | AAAGAACGTCTACAGT.1 | Macrophages | ND |\n",
       "| AAAGAACTCCTCGCAT.1 | AAAGAACTCCTCGCAT.1 | Macrophages | ND |\n",
       "| AAAGGGCGTTAGGGTG.1 | AAAGGGCGTTAGGGTG.1 | Macrophages | ND |\n",
       "| AACAAAGAGTATAGGT.1 | AACAAAGAGTATAGGT.1 | Monocytes   | ND |\n",
       "| AACAAAGCACCGGCTA.1 | AACAAAGCACCGGCTA.1 | Macrophages | ND |\n",
       "\n"
      ],
      "text/plain": [
       "                   cellId             cellType    sampleInfo\n",
       "AAACGAACAGCAGTAG.1 AAACGAACAGCAGTAG.1 B cells     ND        \n",
       "AAAGAACGTCTACAGT.1 AAAGAACGTCTACAGT.1 Macrophages ND        \n",
       "AAAGAACTCCTCGCAT.1 AAAGAACTCCTCGCAT.1 Macrophages ND        \n",
       "AAAGGGCGTTAGGGTG.1 AAAGGGCGTTAGGGTG.1 Macrophages ND        \n",
       "AACAAAGAGTATAGGT.1 AACAAAGAGTATAGGT.1 Monocytes   ND        \n",
       "AACAAAGCACCGGCTA.1 AACAAAGCACCGGCTA.1 Macrophages ND        "
      ]
     },
     "metadata": {},
     "output_type": "display_data"
    }
   ],
   "source": [
    "# load spatial data\n",
    "sptPath = \"/nfs/turbo/umms-indikar/shared/projects/spatial_transcriptomics/data/CARDInputs/ND_spt.csv\"\n",
    "spt.df <- read.csv(sptPath)\n",
    "rownames(spt.df) <- spt.df[,1]\n",
    "spt.df <- spt.df[,-1]\n",
    "spt <- as.matrix(spt.df)\n",
    "dim(spt)\n",
    "\n",
    "# load spatial coordinates\n",
    "xyPath = \"/nfs/turbo/umms-indikar/shared/projects/spatial_transcriptomics/data/CARDInputs/ND_coords.csv\"\n",
    "xy.df <- read.csv(xyPath)\n",
    "rownames(xy.df) <- xy.df[,1]\n",
    "xy.df <- xy.df[,-1]\n",
    "dim(xy.df)\n",
    "\n",
    "# load the rna seq data\n",
    "sptPath = \"/nfs/turbo/umms-indikar/shared/projects/spatial_transcriptomics/data/CARDInputs/ND_rna.csv\"\n",
    "rna.df <- read.csv(sptPath)\n",
    "rownames(rna.df) <- rna.df[,1]\n",
    "rna.df <- rna.df[,-1]\n",
    "rna <- as.matrix(rna.df)\n",
    "dim(rna)\n",
    "\n",
    "# load the annotations\n",
    "metaPath = \"/nfs/turbo/umms-indikar/shared/projects/spatial_transcriptomics/data/CARDInputs/ND_clusters.csv\"\n",
    "meta.df <- read.csv(metaPath)\n",
    "rownames(meta.df) <- meta.df$cellId\n",
    "dim(meta.df)"
   ]
  },
  {
   "cell_type": "code",
   "execution_count": 20,
   "id": "8dfbedd2-e37f-4f64-af2e-ce37e1f55113",
   "metadata": {},
   "outputs": [
    {
     "name": "stdout",
     "output_type": "stream",
     "text": [
      "## QC on scRNASeq dataset! ...\n",
      "## QC on spatially-resolved dataset! ...\n"
     ]
    }
   ],
   "source": [
    "CARD_obj = createCARDObject(\n",
    "\tsc_count = rna,\n",
    "\tsc_meta = meta.df,\n",
    "\tspatial_count = spt,\n",
    "\tspatial_location = xy.df,\n",
    "\tct.varname = \"cellType\",\n",
    "\tct.select = unique(meta.df$cellType),\n",
    "\tsample.varname = \"sampleInfo\",\n",
    "\tminCountGene = 100,\n",
    "\tminCountSpot = 5)"
   ]
  },
  {
   "cell_type": "code",
   "execution_count": 17,
   "id": "daf4da26-34bf-4930-910a-a8d85459305d",
   "metadata": {},
   "outputs": [
    {
     "data": {
      "text/html": [
       "<table class=\"dataframe\">\n",
       "<caption>A matrix: 2035 × 2 of type int</caption>\n",
       "<thead>\n",
       "\t<tr><th></th><th scope=col>x</th><th scope=col>y</th></tr>\n",
       "</thead>\n",
       "<tbody>\n",
       "\t<tr><th scope=row>AAACAAGTATCTCCCA-1</th><td>24937</td><td>22977</td></tr>\n",
       "\t<tr><th scope=row>AAACAGCTTTCAGAAG-1</th><td> 6535</td><td>20583</td></tr>\n",
       "\t<tr><th scope=row>AAACAGGGTCTATATT-1</th><td> 7328</td><td>21959</td></tr>\n",
       "\t<tr><th scope=row>AAACATTTCCCGGATT-1</th><td>23951</td><td>26765</td></tr>\n",
       "\t<tr><th scope=row>AAACCCGAACGAAATC-1</th><td>27507</td><td>21254</td></tr>\n",
       "\t<tr><th scope=row>AAACCGGGTAGGTACC-1</th><td>10294</td><td>20236</td></tr>\n",
       "\t<tr><th scope=row>AAACCGTTCGTCCAGG-1</th><td>13067</td><td>23676</td></tr>\n",
       "\t<tr><th scope=row>AAACCTAAGCAGCCGG-1</th><td>21182</td><td>28144</td></tr>\n",
       "\t<tr><th scope=row>AAACCTCATGAAGTTG-1</th><td> 8512</td><td>18516</td></tr>\n",
       "\t<tr><th scope=row>AAACGAGACGGTTGAT-1</th><td>20382</td><td>17817</td></tr>\n",
       "\t<tr><th scope=row>AAACGGGCGTACGGGT-1</th><td>22765</td><td>28143</td></tr>\n",
       "\t<tr><th scope=row>AAACTCGGTTCGCAAT-1</th><td>18610</td><td>28490</td></tr>\n",
       "\t<tr><th scope=row>AAACTGCTGGCTCCAA-1</th><td>18011</td><td>21262</td></tr>\n",
       "\t<tr><th scope=row>AAACTTGCAAACGTAT-1</th><td> 8514</td><td>21270</td></tr>\n",
       "\t<tr><th scope=row>AAAGACTGGGCGCTTT-1</th><td> 7718</td><td>15763</td></tr>\n",
       "\t<tr><th scope=row>AAAGGCTCTCGCGCCG-1</th><td>15639</td><td>24706</td></tr>\n",
       "\t<tr><th scope=row>AAAGGGATGTAGCAAG-1</th><td>17015</td><td>14033</td></tr>\n",
       "\t<tr><th scope=row>AAAGGGCAGCTTGAAT-1</th><td> 9893</td><td>14040</td></tr>\n",
       "\t<tr><th scope=row>AAAGTCGACCCTCAGT-1</th><td> 7720</td><td>18517</td></tr>\n",
       "\t<tr><th scope=row>AAAGTGTGATTTATCT-1</th><td>23352</td><td>20913</td></tr>\n",
       "\t<tr><th scope=row>AAAGTTGACTCCCGTA-1</th><td>23747</td><td>20224</td></tr>\n",
       "\t<tr><th scope=row>AAATACCTATAAGCAT-1</th><td>18407</td><td>21950</td></tr>\n",
       "\t<tr><th scope=row>AAATAGCTTAGACTTT-1</th><td>25724</td><td>18157</td></tr>\n",
       "\t<tr><th scope=row>AAATAGGGTGCTATTG-1</th><td>20387</td><td>24014</td></tr>\n",
       "\t<tr><th scope=row>AAATCCGATACACGCC-1</th><td>21973</td><td>28143</td></tr>\n",
       "\t<tr><th scope=row>AAATCGTGTACCACAA-1</th><td>15834</td><td>20919</td></tr>\n",
       "\t<tr><th scope=row>AAATCTAGCCCTGCTA-1</th><td>24740</td><td>24010</td></tr>\n",
       "\t<tr><th scope=row>AAATGGCCCGTGCCCT-1</th><td> 8120</td><td>22647</td></tr>\n",
       "\t<tr><th scope=row>AAATGGTCAATGTGCC-1</th><td>14842</td><td>17134</td></tr>\n",
       "\t<tr><th scope=row>AAATTAACGGGTAGCT-1</th><td>16227</td><td>17477</td></tr>\n",
       "\t<tr><th scope=row>⋮</th><td>⋮</td><td>⋮</td></tr>\n",
       "\t<tr><th scope=row>TTGCCGCTTTCTAGTA-1</th><td>20192</td><td>27112</td></tr>\n",
       "\t<tr><th scope=row>TTGCGCTTGATCAATA-1</th><td>24744</td><td>29518</td></tr>\n",
       "\t<tr><th scope=row>TTGCGGCATCAGAAAG-1</th><td>13660</td><td>24019</td></tr>\n",
       "\t<tr><th scope=row>TTGCGTAGTTTGAGGA-1</th><td> 8508</td><td>14385</td></tr>\n",
       "\t<tr><th scope=row>TTGCGTCGGCCAACCG-1</th><td>12868</td><td>23332</td></tr>\n",
       "\t<tr><th scope=row>TTGCGTGTGTAGGCAT-1</th><td>21183</td><td>29521</td></tr>\n",
       "\t<tr><th scope=row>TTGCTGATCATGTTCG-1</th><td>16029</td><td>17133</td></tr>\n",
       "\t<tr><th scope=row>TTGGACATGTGGCTTA-1</th><td>10491</td><td>19891</td></tr>\n",
       "\t<tr><th scope=row>TTGGACCATCTGGCAA-1</th><td>25530</td><td>23321</td></tr>\n",
       "\t<tr><th scope=row>TTGGACCTATAACAGT-1</th><td>21773</td><td>25045</td></tr>\n",
       "\t<tr><th scope=row>TTGGATATCGTCTACG-1</th><td>15044</td><td>22297</td></tr>\n",
       "\t<tr><th scope=row>TTGGCTCGCATGAGAC-1</th><td>12069</td><td>13693</td></tr>\n",
       "\t<tr><th scope=row>TTGGGACACTGCCCGC-1</th><td>18599</td><td>15409</td></tr>\n",
       "\t<tr><th scope=row>TTGGGACGTAAGAGTT-1</th><td>26322</td><td>23320</td></tr>\n",
       "\t<tr><th scope=row>TTGGGCGGCGGTTGCC-1</th><td>19787</td><td>16097</td></tr>\n",
       "\t<tr><th scope=row>TTGGTCACACTCGTAA-1</th><td>14252</td><td>22298</td></tr>\n",
       "\t<tr><th scope=row>TTGTAAGGACCTAAGT-1</th><td>11086</td><td>21612</td></tr>\n",
       "\t<tr><th scope=row>TTGTAAGGCCAGTTGG-1</th><td>20775</td><td>15063</td></tr>\n",
       "\t<tr><th scope=row>TTGTAATCCGTACTCG-1</th><td>15634</td><td>17821</td></tr>\n",
       "\t<tr><th scope=row>TTGTCGTTCAGTTACC-1</th><td>16223</td><td>13346</td></tr>\n",
       "\t<tr><th scope=row>TTGTGAACCTAATCCG-1</th><td>22564</td><td>25045</td></tr>\n",
       "\t<tr><th scope=row>TTGTGAGGCATGACGC-1</th><td> 7327</td><td>20582</td></tr>\n",
       "\t<tr><th scope=row>TTGTGCAGCCACGTCA-1</th><td>19400</td><td>26424</td></tr>\n",
       "\t<tr><th scope=row>TTGTGGTGGTACTAAG-1</th><td>23555</td><td>27454</td></tr>\n",
       "\t<tr><th scope=row>TTGTGTATGCCACCAA-1</th><td>16629</td><td>25050</td></tr>\n",
       "\t<tr><th scope=row>TTGTGTTTCCCGAAAG-1</th><td>16430</td><td>23329</td></tr>\n",
       "\t<tr><th scope=row>TTGTTAGCAAATTCGA-1</th><td>13058</td><td>13348</td></tr>\n",
       "\t<tr><th scope=row>TTGTTCAGTGTGCTAC-1</th><td>17411</td><td>14033</td></tr>\n",
       "\t<tr><th scope=row>TTGTTGTGTGTCAAGA-1</th><td>19985</td><td>16441</td></tr>\n",
       "\t<tr><th scope=row>TTGTTTCCATACAACT-1</th><td>10097</td><td>21269</td></tr>\n",
       "</tbody>\n",
       "</table>\n"
      ],
      "text/latex": [
       "A matrix: 2035 × 2 of type int\n",
       "\\begin{tabular}{r|ll}\n",
       "  & x & y\\\\\n",
       "\\hline\n",
       "\tAAACAAGTATCTCCCA-1 & 24937 & 22977\\\\\n",
       "\tAAACAGCTTTCAGAAG-1 &  6535 & 20583\\\\\n",
       "\tAAACAGGGTCTATATT-1 &  7328 & 21959\\\\\n",
       "\tAAACATTTCCCGGATT-1 & 23951 & 26765\\\\\n",
       "\tAAACCCGAACGAAATC-1 & 27507 & 21254\\\\\n",
       "\tAAACCGGGTAGGTACC-1 & 10294 & 20236\\\\\n",
       "\tAAACCGTTCGTCCAGG-1 & 13067 & 23676\\\\\n",
       "\tAAACCTAAGCAGCCGG-1 & 21182 & 28144\\\\\n",
       "\tAAACCTCATGAAGTTG-1 &  8512 & 18516\\\\\n",
       "\tAAACGAGACGGTTGAT-1 & 20382 & 17817\\\\\n",
       "\tAAACGGGCGTACGGGT-1 & 22765 & 28143\\\\\n",
       "\tAAACTCGGTTCGCAAT-1 & 18610 & 28490\\\\\n",
       "\tAAACTGCTGGCTCCAA-1 & 18011 & 21262\\\\\n",
       "\tAAACTTGCAAACGTAT-1 &  8514 & 21270\\\\\n",
       "\tAAAGACTGGGCGCTTT-1 &  7718 & 15763\\\\\n",
       "\tAAAGGCTCTCGCGCCG-1 & 15639 & 24706\\\\\n",
       "\tAAAGGGATGTAGCAAG-1 & 17015 & 14033\\\\\n",
       "\tAAAGGGCAGCTTGAAT-1 &  9893 & 14040\\\\\n",
       "\tAAAGTCGACCCTCAGT-1 &  7720 & 18517\\\\\n",
       "\tAAAGTGTGATTTATCT-1 & 23352 & 20913\\\\\n",
       "\tAAAGTTGACTCCCGTA-1 & 23747 & 20224\\\\\n",
       "\tAAATACCTATAAGCAT-1 & 18407 & 21950\\\\\n",
       "\tAAATAGCTTAGACTTT-1 & 25724 & 18157\\\\\n",
       "\tAAATAGGGTGCTATTG-1 & 20387 & 24014\\\\\n",
       "\tAAATCCGATACACGCC-1 & 21973 & 28143\\\\\n",
       "\tAAATCGTGTACCACAA-1 & 15834 & 20919\\\\\n",
       "\tAAATCTAGCCCTGCTA-1 & 24740 & 24010\\\\\n",
       "\tAAATGGCCCGTGCCCT-1 &  8120 & 22647\\\\\n",
       "\tAAATGGTCAATGTGCC-1 & 14842 & 17134\\\\\n",
       "\tAAATTAACGGGTAGCT-1 & 16227 & 17477\\\\\n",
       "\t⋮ & ⋮ & ⋮\\\\\n",
       "\tTTGCCGCTTTCTAGTA-1 & 20192 & 27112\\\\\n",
       "\tTTGCGCTTGATCAATA-1 & 24744 & 29518\\\\\n",
       "\tTTGCGGCATCAGAAAG-1 & 13660 & 24019\\\\\n",
       "\tTTGCGTAGTTTGAGGA-1 &  8508 & 14385\\\\\n",
       "\tTTGCGTCGGCCAACCG-1 & 12868 & 23332\\\\\n",
       "\tTTGCGTGTGTAGGCAT-1 & 21183 & 29521\\\\\n",
       "\tTTGCTGATCATGTTCG-1 & 16029 & 17133\\\\\n",
       "\tTTGGACATGTGGCTTA-1 & 10491 & 19891\\\\\n",
       "\tTTGGACCATCTGGCAA-1 & 25530 & 23321\\\\\n",
       "\tTTGGACCTATAACAGT-1 & 21773 & 25045\\\\\n",
       "\tTTGGATATCGTCTACG-1 & 15044 & 22297\\\\\n",
       "\tTTGGCTCGCATGAGAC-1 & 12069 & 13693\\\\\n",
       "\tTTGGGACACTGCCCGC-1 & 18599 & 15409\\\\\n",
       "\tTTGGGACGTAAGAGTT-1 & 26322 & 23320\\\\\n",
       "\tTTGGGCGGCGGTTGCC-1 & 19787 & 16097\\\\\n",
       "\tTTGGTCACACTCGTAA-1 & 14252 & 22298\\\\\n",
       "\tTTGTAAGGACCTAAGT-1 & 11086 & 21612\\\\\n",
       "\tTTGTAAGGCCAGTTGG-1 & 20775 & 15063\\\\\n",
       "\tTTGTAATCCGTACTCG-1 & 15634 & 17821\\\\\n",
       "\tTTGTCGTTCAGTTACC-1 & 16223 & 13346\\\\\n",
       "\tTTGTGAACCTAATCCG-1 & 22564 & 25045\\\\\n",
       "\tTTGTGAGGCATGACGC-1 &  7327 & 20582\\\\\n",
       "\tTTGTGCAGCCACGTCA-1 & 19400 & 26424\\\\\n",
       "\tTTGTGGTGGTACTAAG-1 & 23555 & 27454\\\\\n",
       "\tTTGTGTATGCCACCAA-1 & 16629 & 25050\\\\\n",
       "\tTTGTGTTTCCCGAAAG-1 & 16430 & 23329\\\\\n",
       "\tTTGTTAGCAAATTCGA-1 & 13058 & 13348\\\\\n",
       "\tTTGTTCAGTGTGCTAC-1 & 17411 & 14033\\\\\n",
       "\tTTGTTGTGTGTCAAGA-1 & 19985 & 16441\\\\\n",
       "\tTTGTTTCCATACAACT-1 & 10097 & 21269\\\\\n",
       "\\end{tabular}\n"
      ],
      "text/markdown": [
       "\n",
       "A matrix: 2035 × 2 of type int\n",
       "\n",
       "| <!--/--> | x | y |\n",
       "|---|---|---|\n",
       "| AAACAAGTATCTCCCA-1 | 24937 | 22977 |\n",
       "| AAACAGCTTTCAGAAG-1 |  6535 | 20583 |\n",
       "| AAACAGGGTCTATATT-1 |  7328 | 21959 |\n",
       "| AAACATTTCCCGGATT-1 | 23951 | 26765 |\n",
       "| AAACCCGAACGAAATC-1 | 27507 | 21254 |\n",
       "| AAACCGGGTAGGTACC-1 | 10294 | 20236 |\n",
       "| AAACCGTTCGTCCAGG-1 | 13067 | 23676 |\n",
       "| AAACCTAAGCAGCCGG-1 | 21182 | 28144 |\n",
       "| AAACCTCATGAAGTTG-1 |  8512 | 18516 |\n",
       "| AAACGAGACGGTTGAT-1 | 20382 | 17817 |\n",
       "| AAACGGGCGTACGGGT-1 | 22765 | 28143 |\n",
       "| AAACTCGGTTCGCAAT-1 | 18610 | 28490 |\n",
       "| AAACTGCTGGCTCCAA-1 | 18011 | 21262 |\n",
       "| AAACTTGCAAACGTAT-1 |  8514 | 21270 |\n",
       "| AAAGACTGGGCGCTTT-1 |  7718 | 15763 |\n",
       "| AAAGGCTCTCGCGCCG-1 | 15639 | 24706 |\n",
       "| AAAGGGATGTAGCAAG-1 | 17015 | 14033 |\n",
       "| AAAGGGCAGCTTGAAT-1 |  9893 | 14040 |\n",
       "| AAAGTCGACCCTCAGT-1 |  7720 | 18517 |\n",
       "| AAAGTGTGATTTATCT-1 | 23352 | 20913 |\n",
       "| AAAGTTGACTCCCGTA-1 | 23747 | 20224 |\n",
       "| AAATACCTATAAGCAT-1 | 18407 | 21950 |\n",
       "| AAATAGCTTAGACTTT-1 | 25724 | 18157 |\n",
       "| AAATAGGGTGCTATTG-1 | 20387 | 24014 |\n",
       "| AAATCCGATACACGCC-1 | 21973 | 28143 |\n",
       "| AAATCGTGTACCACAA-1 | 15834 | 20919 |\n",
       "| AAATCTAGCCCTGCTA-1 | 24740 | 24010 |\n",
       "| AAATGGCCCGTGCCCT-1 |  8120 | 22647 |\n",
       "| AAATGGTCAATGTGCC-1 | 14842 | 17134 |\n",
       "| AAATTAACGGGTAGCT-1 | 16227 | 17477 |\n",
       "| ⋮ | ⋮ | ⋮ |\n",
       "| TTGCCGCTTTCTAGTA-1 | 20192 | 27112 |\n",
       "| TTGCGCTTGATCAATA-1 | 24744 | 29518 |\n",
       "| TTGCGGCATCAGAAAG-1 | 13660 | 24019 |\n",
       "| TTGCGTAGTTTGAGGA-1 |  8508 | 14385 |\n",
       "| TTGCGTCGGCCAACCG-1 | 12868 | 23332 |\n",
       "| TTGCGTGTGTAGGCAT-1 | 21183 | 29521 |\n",
       "| TTGCTGATCATGTTCG-1 | 16029 | 17133 |\n",
       "| TTGGACATGTGGCTTA-1 | 10491 | 19891 |\n",
       "| TTGGACCATCTGGCAA-1 | 25530 | 23321 |\n",
       "| TTGGACCTATAACAGT-1 | 21773 | 25045 |\n",
       "| TTGGATATCGTCTACG-1 | 15044 | 22297 |\n",
       "| TTGGCTCGCATGAGAC-1 | 12069 | 13693 |\n",
       "| TTGGGACACTGCCCGC-1 | 18599 | 15409 |\n",
       "| TTGGGACGTAAGAGTT-1 | 26322 | 23320 |\n",
       "| TTGGGCGGCGGTTGCC-1 | 19787 | 16097 |\n",
       "| TTGGTCACACTCGTAA-1 | 14252 | 22298 |\n",
       "| TTGTAAGGACCTAAGT-1 | 11086 | 21612 |\n",
       "| TTGTAAGGCCAGTTGG-1 | 20775 | 15063 |\n",
       "| TTGTAATCCGTACTCG-1 | 15634 | 17821 |\n",
       "| TTGTCGTTCAGTTACC-1 | 16223 | 13346 |\n",
       "| TTGTGAACCTAATCCG-1 | 22564 | 25045 |\n",
       "| TTGTGAGGCATGACGC-1 |  7327 | 20582 |\n",
       "| TTGTGCAGCCACGTCA-1 | 19400 | 26424 |\n",
       "| TTGTGGTGGTACTAAG-1 | 23555 | 27454 |\n",
       "| TTGTGTATGCCACCAA-1 | 16629 | 25050 |\n",
       "| TTGTGTTTCCCGAAAG-1 | 16430 | 23329 |\n",
       "| TTGTTAGCAAATTCGA-1 | 13058 | 13348 |\n",
       "| TTGTTCAGTGTGCTAC-1 | 17411 | 14033 |\n",
       "| TTGTTGTGTGTCAAGA-1 | 19985 | 16441 |\n",
       "| TTGTTTCCATACAACT-1 | 10097 | 21269 |\n",
       "\n"
      ],
      "text/plain": [
       "                   x     y    \n",
       "AAACAAGTATCTCCCA-1 24937 22977\n",
       "AAACAGCTTTCAGAAG-1  6535 20583\n",
       "AAACAGGGTCTATATT-1  7328 21959\n",
       "AAACATTTCCCGGATT-1 23951 26765\n",
       "AAACCCGAACGAAATC-1 27507 21254\n",
       "AAACCGGGTAGGTACC-1 10294 20236\n",
       "AAACCGTTCGTCCAGG-1 13067 23676\n",
       "AAACCTAAGCAGCCGG-1 21182 28144\n",
       "AAACCTCATGAAGTTG-1  8512 18516\n",
       "AAACGAGACGGTTGAT-1 20382 17817\n",
       "AAACGGGCGTACGGGT-1 22765 28143\n",
       "AAACTCGGTTCGCAAT-1 18610 28490\n",
       "AAACTGCTGGCTCCAA-1 18011 21262\n",
       "AAACTTGCAAACGTAT-1  8514 21270\n",
       "AAAGACTGGGCGCTTT-1  7718 15763\n",
       "AAAGGCTCTCGCGCCG-1 15639 24706\n",
       "AAAGGGATGTAGCAAG-1 17015 14033\n",
       "AAAGGGCAGCTTGAAT-1  9893 14040\n",
       "AAAGTCGACCCTCAGT-1  7720 18517\n",
       "AAAGTGTGATTTATCT-1 23352 20913\n",
       "AAAGTTGACTCCCGTA-1 23747 20224\n",
       "AAATACCTATAAGCAT-1 18407 21950\n",
       "AAATAGCTTAGACTTT-1 25724 18157\n",
       "AAATAGGGTGCTATTG-1 20387 24014\n",
       "AAATCCGATACACGCC-1 21973 28143\n",
       "AAATCGTGTACCACAA-1 15834 20919\n",
       "AAATCTAGCCCTGCTA-1 24740 24010\n",
       "AAATGGCCCGTGCCCT-1  8120 22647\n",
       "AAATGGTCAATGTGCC-1 14842 17134\n",
       "AAATTAACGGGTAGCT-1 16227 17477\n",
       "⋮                  ⋮     ⋮    \n",
       "TTGCCGCTTTCTAGTA-1 20192 27112\n",
       "TTGCGCTTGATCAATA-1 24744 29518\n",
       "TTGCGGCATCAGAAAG-1 13660 24019\n",
       "TTGCGTAGTTTGAGGA-1  8508 14385\n",
       "TTGCGTCGGCCAACCG-1 12868 23332\n",
       "TTGCGTGTGTAGGCAT-1 21183 29521\n",
       "TTGCTGATCATGTTCG-1 16029 17133\n",
       "TTGGACATGTGGCTTA-1 10491 19891\n",
       "TTGGACCATCTGGCAA-1 25530 23321\n",
       "TTGGACCTATAACAGT-1 21773 25045\n",
       "TTGGATATCGTCTACG-1 15044 22297\n",
       "TTGGCTCGCATGAGAC-1 12069 13693\n",
       "TTGGGACACTGCCCGC-1 18599 15409\n",
       "TTGGGACGTAAGAGTT-1 26322 23320\n",
       "TTGGGCGGCGGTTGCC-1 19787 16097\n",
       "TTGGTCACACTCGTAA-1 14252 22298\n",
       "TTGTAAGGACCTAAGT-1 11086 21612\n",
       "TTGTAAGGCCAGTTGG-1 20775 15063\n",
       "TTGTAATCCGTACTCG-1 15634 17821\n",
       "TTGTCGTTCAGTTACC-1 16223 13346\n",
       "TTGTGAACCTAATCCG-1 22564 25045\n",
       "TTGTGAGGCATGACGC-1  7327 20582\n",
       "TTGTGCAGCCACGTCA-1 19400 26424\n",
       "TTGTGGTGGTACTAAG-1 23555 27454\n",
       "TTGTGTATGCCACCAA-1 16629 25050\n",
       "TTGTGTTTCCCGAAAG-1 16430 23329\n",
       "TTGTTAGCAAATTCGA-1 13058 13348\n",
       "TTGTTCAGTGTGCTAC-1 17411 14033\n",
       "TTGTTGTGTGTCAAGA-1 19985 16441\n",
       "TTGTTTCCATACAACT-1 10097 21269"
      ]
     },
     "metadata": {},
     "output_type": "display_data"
    }
   ],
   "source": [
    "xy"
   ]
  },
  {
   "cell_type": "code",
   "execution_count": 12,
   "id": "33e7cb56-e5a2-4acc-b1ea-fc2a543e8b5e",
   "metadata": {},
   "outputs": [
    {
     "data": {
      "text/html": [
       "<style>\n",
       ".list-inline {list-style: none; margin:0; padding: 0}\n",
       ".list-inline>li {display: inline-block}\n",
       ".list-inline>li:not(:last-child)::after {content: \"\\00b7\"; padding: 0 .5ex}\n",
       "</style>\n",
       "<ol class=list-inline><li>'B cells'</li><li>'Macrophages'</li><li>'Monocytes'</li><li>'T cells'</li><li>'NK cells'</li><li>'Stromal cells'</li><li>'Dendritic cells'</li></ol>\n"
      ],
      "text/latex": [
       "\\begin{enumerate*}\n",
       "\\item 'B cells'\n",
       "\\item 'Macrophages'\n",
       "\\item 'Monocytes'\n",
       "\\item 'T cells'\n",
       "\\item 'NK cells'\n",
       "\\item 'Stromal cells'\n",
       "\\item 'Dendritic cells'\n",
       "\\end{enumerate*}\n"
      ],
      "text/markdown": [
       "1. 'B cells'\n",
       "2. 'Macrophages'\n",
       "3. 'Monocytes'\n",
       "4. 'T cells'\n",
       "5. 'NK cells'\n",
       "6. 'Stromal cells'\n",
       "7. 'Dendritic cells'\n",
       "\n",
       "\n"
      ],
      "text/plain": [
       "[1] \"B cells\"         \"Macrophages\"     \"Monocytes\"       \"T cells\"        \n",
       "[5] \"NK cells\"        \"Stromal cells\"   \"Dendritic cells\""
      ]
     },
     "metadata": {},
     "output_type": "display_data"
    }
   ],
   "source": []
  },
  {
   "cell_type": "code",
   "execution_count": null,
   "id": "efe90ae8-3cc6-4732-9c58-46908c9126e7",
   "metadata": {},
   "outputs": [],
   "source": []
  }
 ],
 "metadata": {
  "kernelspec": {
   "display_name": "R",
   "language": "R",
   "name": "ir"
  },
  "language_info": {
   "codemirror_mode": "r",
   "file_extension": ".r",
   "mimetype": "text/x-r-source",
   "name": "R",
   "pygments_lexer": "r",
   "version": "4.1.3"
  }
 },
 "nbformat": 4,
 "nbformat_minor": 5
}
