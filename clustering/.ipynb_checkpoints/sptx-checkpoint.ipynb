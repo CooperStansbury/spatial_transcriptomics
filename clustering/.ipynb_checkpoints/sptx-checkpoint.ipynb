{
 "cells": [
  {
   "cell_type": "code",
   "execution_count": 2,
   "id": "06f3c223-d25d-49da-92ea-ab3c1964b282",
   "metadata": {},
   "outputs": [],
   "source": [
    "import os\n",
    "import pandas as pd\n",
    "import numpy as np\n",
    "import matplotlib \n",
    "import matplotlib.pyplot as plt\n",
    "import seaborn as sns\n",
    "import scanpy as sc\n",
    "from sklearn import metrics\n",
    "import tabulate\n",
    "import itertools\n",
    "import umap\n",
    "from importlib import reload\n",
    "from scipy import stats\n",
    "import matplotlib.image as mpimg\n",
    "\n",
    "# locals\n",
    "import utils as ut\n",
    "reload(ut)\n",
    "\n",
    "sc.settings.verbosity = 3"
   ]
  },
  {
   "cell_type": "code",
   "execution_count": 12,
   "id": "332a9137-6b25-462f-8c7b-45b07a21f575",
   "metadata": {},
   "outputs": [
    {
     "name": "stdout",
     "output_type": "stream",
     "text": [
      "... reading from cache file cache/nfs-turbo-umms-indikar-shared-projects-spatial_transcriptomics-data-SPT-ND_SpaceRanger-matrix.h5ad\n",
      "... reading from cache file cache/nfs-turbo-umms-indikar-shared-projects-spatial_transcriptomics-data-SPT-HFD14_SpaceRanger-matrix.h5ad\n",
      "... reading from cache file cache/nfs-turbo-umms-indikar-shared-projects-spatial_transcriptomics-data-SPT-HFD8_SpaceRanger-matrix.h5ad\n"
     ]
    },
    {
     "data": {
      "text/plain": [
       "dict_keys(['ND', 'HFD14', 'HFD8'])"
      ]
     },
     "execution_count": 12,
     "metadata": {},
     "output_type": "execute_result"
    }
   ],
   "source": [
    "dirPath = \"/nfs/turbo/umms-indikar/shared/projects/spatial_transcriptomics/data/SPT/\"\n",
    "\n",
    "adata = {}\n",
    "\n",
    "for f in os.listdir(dirPath):\n",
    "    \n",
    "    if not f == \"all\":\n",
    "        cond = f.replace(\"_SpaceRanger\", \"\")\n",
    "        mtxPath = f\"{dirPath}{f}\"\n",
    "        \n",
    "        \n",
    "        data = sc.read_visium(mtxPath)\n",
    "        \n",
    "        # data = sc.read_10x_mtx(mtxPath, cache=True)\n",
    "        # data.var_names = [x.upper() for x in data.var_names] # uppercase gene names\n",
    "        # adata[cond] = data\n",
    "    \n",
    "adata.keys()"
   ]
  },
  {
   "cell_type": "code",
   "execution_count": 14,
   "id": "ef5d987b-46ac-4947-beee-15330839ecc0",
   "metadata": {},
   "outputs": [
    {
     "name": "stdout",
     "output_type": "stream",
     "text": [
      "AnnData object with n_obs × n_vars = 2036 × 31053\n",
      "    var: 'gene_ids', 'feature_types'\n"
     ]
    }
   ],
   "source": [
    "keys = ['ND', 'HFD8', 'HFD14']\n",
    "\n",
    "\n",
    "for key in keys:\n",
    "    data = adata[key]\n",
    "    \n",
    "    print(data)\n",
    "    # sc.pl.spatial(adata, img_key=\"hires\", color=[\"total_counts\", \"n_genes_by_counts\"])    \n",
    "    break\n",
    "\n"
   ]
  },
  {
   "cell_type": "code",
   "execution_count": 9,
   "id": "b72054fd-455d-4377-81bd-32be430b2127",
   "metadata": {},
   "outputs": [
    {
     "data": {
      "text/plain": [
       "AnnData object with n_obs × n_vars = 2036 × 31053\n",
       "    var: 'gene_ids', 'feature_types'"
      ]
     },
     "execution_count": 9,
     "metadata": {},
     "output_type": "execute_result"
    }
   ],
   "source": [
    "data"
   ]
  },
  {
   "cell_type": "code",
   "execution_count": null,
   "id": "21d841f6-12e9-45a1-b9a1-ffbb4dcad692",
   "metadata": {},
   "outputs": [],
   "source": []
  }
 ],
 "metadata": {
  "kernelspec": {
   "display_name": "Python 3 (ipykernel)",
   "language": "python",
   "name": "python3"
  },
  "language_info": {
   "codemirror_mode": {
    "name": "ipython",
    "version": 3
   },
   "file_extension": ".py",
   "mimetype": "text/x-python",
   "name": "python",
   "nbconvert_exporter": "python",
   "pygments_lexer": "ipython3",
   "version": "3.9.7"
  }
 },
 "nbformat": 4,
 "nbformat_minor": 5
}
