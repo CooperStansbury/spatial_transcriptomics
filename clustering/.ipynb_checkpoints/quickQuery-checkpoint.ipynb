{
 "cells": [
  {
   "cell_type": "code",
   "execution_count": 1,
   "id": "11ec700f-8694-44a1-8b2b-bb4e85d89368",
   "metadata": {},
   "outputs": [
    {
     "name": "stderr",
     "output_type": "stream",
     "text": [
      "2023-01-06 15:48:27.264901: I tensorflow/core/platform/cpu_feature_guard.cc:193] This TensorFlow binary is optimized with oneAPI Deep Neural Network Library (oneDNN) to use the following CPU instructions in performance-critical operations:  AVX2 AVX512F FMA\n",
      "To enable them in other operations, rebuild TensorFlow with the appropriate compiler flags.\n",
      "2023-01-06 15:48:27.377504: W tensorflow/stream_executor/platform/default/dso_loader.cc:64] Could not load dynamic library 'libcudart.so.11.0'; dlerror: libcudart.so.11.0: cannot open shared object file: No such file or directory; LD_LIBRARY_PATH: /opt/slurm/lib64:\n",
      "2023-01-06 15:48:27.377527: I tensorflow/stream_executor/cuda/cudart_stub.cc:29] Ignore above cudart dlerror if you do not have a GPU set up on your machine.\n",
      "2023-01-06 15:48:27.403647: E tensorflow/stream_executor/cuda/cuda_blas.cc:2981] Unable to register cuBLAS factory: Attempting to register factory for plugin cuBLAS when one has already been registered\n",
      "2023-01-06 15:48:28.211937: W tensorflow/stream_executor/platform/default/dso_loader.cc:64] Could not load dynamic library 'libnvinfer.so.7'; dlerror: libnvinfer.so.7: cannot open shared object file: No such file or directory; LD_LIBRARY_PATH: /opt/slurm/lib64:\n",
      "2023-01-06 15:48:28.212019: W tensorflow/stream_executor/platform/default/dso_loader.cc:64] Could not load dynamic library 'libnvinfer_plugin.so.7'; dlerror: libnvinfer_plugin.so.7: cannot open shared object file: No such file or directory; LD_LIBRARY_PATH: /opt/slurm/lib64:\n",
      "2023-01-06 15:48:28.212026: W tensorflow/compiler/tf2tensorrt/utils/py_utils.cc:38] TF-TRT Warning: Cannot dlopen some TensorRT libraries. If you would like to use Nvidia GPU with TensorRT, please make sure the missing libraries mentioned above are installed properly.\n"
     ]
    },
    {
     "data": {
      "text/plain": [
       "<module 'utils' from '/home/cstansbu/git_repositories/spatial_transcriptomics/clustering/utils.py'>"
      ]
     },
     "execution_count": 1,
     "metadata": {},
     "output_type": "execute_result"
    }
   ],
   "source": [
    "import os\n",
    "import pandas as pd\n",
    "import numpy as np\n",
    "import matplotlib \n",
    "import matplotlib.pyplot as plt\n",
    "import seaborn as sns\n",
    "import scanpy as sc\n",
    "from sklearn import metrics\n",
    "import tabulate\n",
    "import itertools\n",
    "import umap\n",
    "from importlib import reload\n",
    "from scipy import stats\n",
    "import matplotlib.image as mpimg\n",
    "import goatools\n",
    "from goatools.anno.gaf_reader import GafReader\n",
    "import Bio.UniProt.GOA as GOA\n",
    "import gget\n",
    "\n",
    "# locals\n",
    "import utils as ut\n",
    "reload(ut)"
   ]
  },
  {
   "cell_type": "code",
   "execution_count": 2,
   "id": "7c651e12-f122-45f9-87af-7bf537260d4e",
   "metadata": {},
   "outputs": [
    {
     "name": "stderr",
     "output_type": "stream",
     "text": [
      "Fri Jan  6 15:48:29 2023 INFO Performing Enichr analysis using database WikiPathways_2019_Mouse.\n"
     ]
    },
    {
     "data": {
      "text/html": [
       "<div>\n",
       "<style scoped>\n",
       "    .dataframe tbody tr th:only-of-type {\n",
       "        vertical-align: middle;\n",
       "    }\n",
       "\n",
       "    .dataframe tbody tr th {\n",
       "        vertical-align: top;\n",
       "    }\n",
       "\n",
       "    .dataframe thead th {\n",
       "        text-align: right;\n",
       "    }\n",
       "</style>\n",
       "<table border=\"1\" class=\"dataframe\">\n",
       "  <thead>\n",
       "    <tr style=\"text-align: right;\">\n",
       "      <th></th>\n",
       "      <th>path_name</th>\n",
       "      <th>p_val</th>\n",
       "      <th>overlapping_genes</th>\n",
       "    </tr>\n",
       "  </thead>\n",
       "  <tbody>\n",
       "    <tr>\n",
       "      <th>0</th>\n",
       "      <td>Alzheimers Disease WP2075</td>\n",
       "      <td>5.362282e-07</td>\n",
       "      <td>[APP, LRP1, LPL, APOE]</td>\n",
       "    </tr>\n",
       "    <tr>\n",
       "      <th>1</th>\n",
       "      <td>Statin Pathway WP1</td>\n",
       "      <td>5.877426e-07</td>\n",
       "      <td>[LRP1, LPL, APOE]</td>\n",
       "    </tr>\n",
       "    <tr>\n",
       "      <th>2</th>\n",
       "      <td>Dysregulated miRNA Targeting in Insulin/PI3K-AKT Signaling WP3855</td>\n",
       "      <td>2.454669e-04</td>\n",
       "      <td>[COL1A1, COL1A2]</td>\n",
       "    </tr>\n",
       "    <tr>\n",
       "      <th>3</th>\n",
       "      <td>Inflammatory Response Pathway WP458</td>\n",
       "      <td>3.278488e-04</td>\n",
       "      <td>[COL1A1, COL1A2]</td>\n",
       "    </tr>\n",
       "    <tr>\n",
       "      <th>4</th>\n",
       "      <td>Retinol metabolism WP1259</td>\n",
       "      <td>5.558029e-04</td>\n",
       "      <td>[LPL, CD36]</td>\n",
       "    </tr>\n",
       "    <tr>\n",
       "      <th>5</th>\n",
       "      <td>Focal Adhesion WP85</td>\n",
       "      <td>5.735958e-04</td>\n",
       "      <td>[COL1A1, COL1A2, CAV1]</td>\n",
       "    </tr>\n",
       "    <tr>\n",
       "      <th>6</th>\n",
       "      <td>Splicing factor NOVA regulated synaptic proteins WP1983</td>\n",
       "      <td>6.447805e-04</td>\n",
       "      <td>[CADM1, APLP2]</td>\n",
       "    </tr>\n",
       "    <tr>\n",
       "      <th>7</th>\n",
       "      <td>Complement and Coagulation Cascades WP449</td>\n",
       "      <td>1.401119e-03</td>\n",
       "      <td>[C3, C3AR1]</td>\n",
       "    </tr>\n",
       "    <tr>\n",
       "      <th>8</th>\n",
       "      <td>PPAR signaling pathway WP2316</td>\n",
       "      <td>2.376492e-03</td>\n",
       "      <td>[LPL, CD36]</td>\n",
       "    </tr>\n",
       "    <tr>\n",
       "      <th>9</th>\n",
       "      <td>ApoE and miR-146 in inflammation and atherosclerosis WP3592</td>\n",
       "      <td>7.178529e-03</td>\n",
       "      <td>[APOE]</td>\n",
       "    </tr>\n",
       "  </tbody>\n",
       "</table>\n",
       "</div>"
      ],
      "text/plain": [
       "                                                           path_name  \\\n",
       "0                                          Alzheimers Disease WP2075   \n",
       "1                                                 Statin Pathway WP1   \n",
       "2  Dysregulated miRNA Targeting in Insulin/PI3K-AKT Signaling WP3855   \n",
       "3                                Inflammatory Response Pathway WP458   \n",
       "4                                          Retinol metabolism WP1259   \n",
       "5                                                Focal Adhesion WP85   \n",
       "6            Splicing factor NOVA regulated synaptic proteins WP1983   \n",
       "7                          Complement and Coagulation Cascades WP449   \n",
       "8                                      PPAR signaling pathway WP2316   \n",
       "9        ApoE and miR-146 in inflammation and atherosclerosis WP3592   \n",
       "\n",
       "          p_val       overlapping_genes  \n",
       "0  5.362282e-07  [APP, LRP1, LPL, APOE]  \n",
       "1  5.877426e-07       [LRP1, LPL, APOE]  \n",
       "2  2.454669e-04        [COL1A1, COL1A2]  \n",
       "3  3.278488e-04        [COL1A1, COL1A2]  \n",
       "4  5.558029e-04             [LPL, CD36]  \n",
       "5  5.735958e-04  [COL1A1, COL1A2, CAV1]  \n",
       "6  6.447805e-04          [CADM1, APLP2]  \n",
       "7  1.401119e-03             [C3, C3AR1]  \n",
       "8  2.376492e-03             [LPL, CD36]  \n",
       "9  7.178529e-03                  [APOE]  "
      ]
     },
     "execution_count": 2,
     "metadata": {},
     "output_type": "execute_result"
    }
   ],
   "source": [
    "query = ['Col1a1', 'Cd36', 'C3', 'Cd81', 'Col1a2', 'Cd36', 'Lpl', 'Lrp1', 'Cav1', 'App', 'App', 'Cav1', 'Cadm1', 'Cadm1', 'Cdh5', 'Cdh5', 'H2', 'D1', 'Aplp2', 'Aplp2', 'H2', 'D1', 'Psap', 'Lrp1', 'C3', 'C3ar1', 'Apoe', 'Lrp1', 'C3', 'Lrp1', 'Col1a1', 'Cd93']\n",
    "db = 'WikiPathways_2019_Mouse'\n",
    "# db = 'KEGG_2019_Mouse'\n",
    "# db = 'ontology'\n",
    "ef = gget.enrichr(query, database=db)\n",
    "\n",
    "pd.set_option('display.max_colwidth', 200)\n",
    "\n",
    "\n",
    "ef[['path_name', 'p_val', 'overlapping_genes']].head(10)"
   ]
  },
  {
   "cell_type": "code",
   "execution_count": null,
   "id": "a4cf9faf-dc95-4df3-ab0e-e01d5eeaa5e1",
   "metadata": {},
   "outputs": [],
   "source": []
  },
  {
   "cell_type": "code",
   "execution_count": null,
   "id": "6596f0ea-db4f-476a-8dd1-1a5b725370f2",
   "metadata": {},
   "outputs": [],
   "source": []
  }
 ],
 "metadata": {
  "kernelspec": {
   "display_name": "Python 3 (ipykernel)",
   "language": "python",
   "name": "python3"
  },
  "language_info": {
   "codemirror_mode": {
    "name": "ipython",
    "version": 3
   },
   "file_extension": ".py",
   "mimetype": "text/x-python",
   "name": "python",
   "nbconvert_exporter": "python",
   "pygments_lexer": "ipython3",
   "version": "3.9.7"
  }
 },
 "nbformat": 4,
 "nbformat_minor": 5
}
