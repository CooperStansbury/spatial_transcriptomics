{
 "cells": [
  {
   "cell_type": "code",
   "execution_count": 1,
   "id": "11ec700f-8694-44a1-8b2b-bb4e85d89368",
   "metadata": {},
   "outputs": [
    {
     "name": "stderr",
     "output_type": "stream",
     "text": [
      "2023-01-05 10:54:00.635032: I tensorflow/core/platform/cpu_feature_guard.cc:193] This TensorFlow binary is optimized with oneAPI Deep Neural Network Library (oneDNN) to use the following CPU instructions in performance-critical operations:  AVX2 AVX512F FMA\n",
      "To enable them in other operations, rebuild TensorFlow with the appropriate compiler flags.\n",
      "2023-01-05 10:54:10.283601: W tensorflow/stream_executor/platform/default/dso_loader.cc:64] Could not load dynamic library 'libcudart.so.11.0'; dlerror: libcudart.so.11.0: cannot open shared object file: No such file or directory; LD_LIBRARY_PATH: /opt/slurm/lib64:\n",
      "2023-01-05 10:54:10.283670: I tensorflow/stream_executor/cuda/cudart_stub.cc:29] Ignore above cudart dlerror if you do not have a GPU set up on your machine.\n",
      "2023-01-05 10:54:11.321206: E tensorflow/stream_executor/cuda/cuda_blas.cc:2981] Unable to register cuBLAS factory: Attempting to register factory for plugin cuBLAS when one has already been registered\n",
      "2023-01-05 10:54:22.142571: W tensorflow/stream_executor/platform/default/dso_loader.cc:64] Could not load dynamic library 'libnvinfer.so.7'; dlerror: libnvinfer.so.7: cannot open shared object file: No such file or directory; LD_LIBRARY_PATH: /opt/slurm/lib64:\n",
      "2023-01-05 10:54:22.144057: W tensorflow/stream_executor/platform/default/dso_loader.cc:64] Could not load dynamic library 'libnvinfer_plugin.so.7'; dlerror: libnvinfer_plugin.so.7: cannot open shared object file: No such file or directory; LD_LIBRARY_PATH: /opt/slurm/lib64:\n",
      "2023-01-05 10:54:22.144105: W tensorflow/compiler/tf2tensorrt/utils/py_utils.cc:38] TF-TRT Warning: Cannot dlopen some TensorRT libraries. If you would like to use Nvidia GPU with TensorRT, please make sure the missing libraries mentioned above are installed properly.\n"
     ]
    },
    {
     "data": {
      "text/plain": [
       "<module 'utils' from '/home/cstansbu/git_repositories/spatial_transcriptomics/clustering/utils.py'>"
      ]
     },
     "execution_count": 1,
     "metadata": {},
     "output_type": "execute_result"
    }
   ],
   "source": [
    "import os\n",
    "import pandas as pd\n",
    "import numpy as np\n",
    "import matplotlib \n",
    "import matplotlib.pyplot as plt\n",
    "import seaborn as sns\n",
    "import scanpy as sc\n",
    "from sklearn import metrics\n",
    "import tabulate\n",
    "import itertools\n",
    "import umap\n",
    "from importlib import reload\n",
    "from scipy import stats\n",
    "import matplotlib.image as mpimg\n",
    "import goatools\n",
    "from goatools.anno.gaf_reader import GafReader\n",
    "import Bio.UniProt.GOA as GOA\n",
    "import gget\n",
    "\n",
    "# locals\n",
    "import utils as ut\n",
    "reload(ut)"
   ]
  },
  {
   "cell_type": "code",
   "execution_count": 13,
   "id": "7c651e12-f122-45f9-87af-7bf537260d4e",
   "metadata": {},
   "outputs": [
    {
     "name": "stderr",
     "output_type": "stream",
     "text": [
      "Thu Jan  5 10:59:04 2023 INFO Performing Enichr analysis using database GO_Biological_Process_2021. \n",
      "    Please note that there might a more appropriate database for your application. \n",
      "    Go to https://maayanlab.cloud/Enrichr/#libraries for a full list of supported databases.\n",
      "    \n"
     ]
    },
    {
     "data": {
      "text/html": [
       "<div>\n",
       "<style scoped>\n",
       "    .dataframe tbody tr th:only-of-type {\n",
       "        vertical-align: middle;\n",
       "    }\n",
       "\n",
       "    .dataframe tbody tr th {\n",
       "        vertical-align: top;\n",
       "    }\n",
       "\n",
       "    .dataframe thead th {\n",
       "        text-align: right;\n",
       "    }\n",
       "</style>\n",
       "<table border=\"1\" class=\"dataframe\">\n",
       "  <thead>\n",
       "    <tr style=\"text-align: right;\">\n",
       "      <th></th>\n",
       "      <th>path_name</th>\n",
       "      <th>p_val</th>\n",
       "      <th>overlapping_genes</th>\n",
       "    </tr>\n",
       "  </thead>\n",
       "  <tbody>\n",
       "    <tr>\n",
       "      <th>0</th>\n",
       "      <td>receptor internalization (GO:0031623)</td>\n",
       "      <td>9.484543e-08</td>\n",
       "      <td>[LRP1, CD81, CAV1, CD36]</td>\n",
       "    </tr>\n",
       "    <tr>\n",
       "      <th>1</th>\n",
       "      <td>positive regulation of lipid localization (GO:1905954)</td>\n",
       "      <td>1.005290e-07</td>\n",
       "      <td>[C3, LRP1, LPL]</td>\n",
       "    </tr>\n",
       "    <tr>\n",
       "      <th>2</th>\n",
       "      <td>receptor-mediated endocytosis (GO:0006898)</td>\n",
       "      <td>1.384648e-07</td>\n",
       "      <td>[LRP1, CD81, CAV1, APOE, CD36]</td>\n",
       "    </tr>\n",
       "    <tr>\n",
       "      <th>3</th>\n",
       "      <td>cellular response to peptide (GO:1901653)</td>\n",
       "      <td>1.760348e-07</td>\n",
       "      <td>[APP, LRP1, CAV1, CD36]</td>\n",
       "    </tr>\n",
       "    <tr>\n",
       "      <th>4</th>\n",
       "      <td>receptor metabolic process (GO:0043112)</td>\n",
       "      <td>1.889686e-07</td>\n",
       "      <td>[LRP1, CD81, CAV1, CD36]</td>\n",
       "    </tr>\n",
       "    <tr>\n",
       "      <th>5</th>\n",
       "      <td>positive regulation of protein binding (GO:0032092)</td>\n",
       "      <td>1.889686e-07</td>\n",
       "      <td>[APP, LRP1, CAV1, APOE]</td>\n",
       "    </tr>\n",
       "    <tr>\n",
       "      <th>6</th>\n",
       "      <td>cellular response to low-density lipoprotein particle stimulus (GO:0071404)</td>\n",
       "      <td>2.214016e-07</td>\n",
       "      <td>[CD81, LPL, CD36]</td>\n",
       "    </tr>\n",
       "    <tr>\n",
       "      <th>7</th>\n",
       "      <td>positive regulation of multicellular organismal process (GO:0051240)</td>\n",
       "      <td>3.931158e-07</td>\n",
       "      <td>[COL1A1, LRP1, CADM1, CAV1, APOE, CD36]</td>\n",
       "    </tr>\n",
       "    <tr>\n",
       "      <th>8</th>\n",
       "      <td>purinergic nucleotide receptor signaling pathway (GO:0035590)</td>\n",
       "      <td>8.058015e-07</td>\n",
       "      <td>[C3, APP, C3AR1]</td>\n",
       "    </tr>\n",
       "    <tr>\n",
       "      <th>9</th>\n",
       "      <td>positive regulation of cholesterol efflux (GO:0010875)</td>\n",
       "      <td>1.071785e-06</td>\n",
       "      <td>[LRP1, CAV1, APOE]</td>\n",
       "    </tr>\n",
       "  </tbody>\n",
       "</table>\n",
       "</div>"
      ],
      "text/plain": [
       "                                                                     path_name  \\\n",
       "0                                        receptor internalization (GO:0031623)   \n",
       "1                       positive regulation of lipid localization (GO:1905954)   \n",
       "2                                   receptor-mediated endocytosis (GO:0006898)   \n",
       "3                                    cellular response to peptide (GO:1901653)   \n",
       "4                                      receptor metabolic process (GO:0043112)   \n",
       "5                          positive regulation of protein binding (GO:0032092)   \n",
       "6  cellular response to low-density lipoprotein particle stimulus (GO:0071404)   \n",
       "7         positive regulation of multicellular organismal process (GO:0051240)   \n",
       "8                purinergic nucleotide receptor signaling pathway (GO:0035590)   \n",
       "9                       positive regulation of cholesterol efflux (GO:0010875)   \n",
       "\n",
       "          p_val                        overlapping_genes  \n",
       "0  9.484543e-08                 [LRP1, CD81, CAV1, CD36]  \n",
       "1  1.005290e-07                          [C3, LRP1, LPL]  \n",
       "2  1.384648e-07           [LRP1, CD81, CAV1, APOE, CD36]  \n",
       "3  1.760348e-07                  [APP, LRP1, CAV1, CD36]  \n",
       "4  1.889686e-07                 [LRP1, CD81, CAV1, CD36]  \n",
       "5  1.889686e-07                  [APP, LRP1, CAV1, APOE]  \n",
       "6  2.214016e-07                        [CD81, LPL, CD36]  \n",
       "7  3.931158e-07  [COL1A1, LRP1, CADM1, CAV1, APOE, CD36]  \n",
       "8  8.058015e-07                         [C3, APP, C3AR1]  \n",
       "9  1.071785e-06                       [LRP1, CAV1, APOE]  "
      ]
     },
     "execution_count": 13,
     "metadata": {},
     "output_type": "execute_result"
    }
   ],
   "source": [
    "query = ['Col1a1', 'Cd36', 'C3', 'Cd81', 'Col1a2', 'Cd36', 'Lpl', 'Lrp1', 'Cav1', 'App', 'App', 'Cav1', 'Cadm1', 'Cadm1', 'Cdh5', 'Cdh5', 'H2', 'D1', 'Aplp2', 'Aplp2', 'H2', 'D1', 'Psap', 'Lrp1', 'C3', 'C3ar1', 'Apoe', 'Lrp1', 'C3', 'Lrp1', 'Col1a1', 'Cd93']\n",
    "# db = 'WikiPathways_2019_Mouse'\n",
    "# db = 'KEGG_2019_Mouse'\n",
    "db = 'ontology'\n",
    "ef = gget.enrichr(query, database=db)\n",
    "\n",
    "pd.set_option('display.max_colwidth', 200)\n",
    "\n",
    "\n",
    "ef[['path_name', 'p_val', 'overlapping_genes']].head(10)"
   ]
  },
  {
   "cell_type": "code",
   "execution_count": null,
   "id": "a4cf9faf-dc95-4df3-ab0e-e01d5eeaa5e1",
   "metadata": {},
   "outputs": [],
   "source": []
  },
  {
   "cell_type": "code",
   "execution_count": null,
   "id": "6596f0ea-db4f-476a-8dd1-1a5b725370f2",
   "metadata": {},
   "outputs": [],
   "source": []
  }
 ],
 "metadata": {
  "kernelspec": {
   "display_name": "Python 3 (ipykernel)",
   "language": "python",
   "name": "python3"
  },
  "language_info": {
   "codemirror_mode": {
    "name": "ipython",
    "version": 3
   },
   "file_extension": ".py",
   "mimetype": "text/x-python",
   "name": "python",
   "nbconvert_exporter": "python",
   "pygments_lexer": "ipython3",
   "version": "3.9.7"
  }
 },
 "nbformat": 4,
 "nbformat_minor": 5
}
