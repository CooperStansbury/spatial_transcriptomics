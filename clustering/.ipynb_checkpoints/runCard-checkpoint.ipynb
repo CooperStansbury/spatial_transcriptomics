{
 "cells": [
  {
   "cell_type": "code",
   "execution_count": 1,
   "id": "cc7be27f-675e-4560-b2d4-9a81ffc1c2d0",
   "metadata": {},
   "outputs": [
    {
     "name": "stderr",
     "output_type": "stream",
     "text": [
      "Warning message:\n",
      "“replacing previous import ‘RcppML::nmf’ by ‘NMF::nmf’ when loading ‘CARD’”\n"
     ]
    }
   ],
   "source": [
    "suppressMessages(library(\"CARD\", quietly = T))\n",
    "suppressMessages(library(\"ggplot2\", quietly = T))\n",
    "suppressMessages(library(\"reshape2\", quietly = T))\n",
    "suppressMessages(library(\"gtools\", quietly = T))\n",
    "suppressMessages(library(\"scatterpie\", quietly = T))\n",
    "suppressMessages(library(\"glue\", quietly = T))"
   ]
  },
  {
   "cell_type": "code",
   "execution_count": 2,
   "id": "a26f0ed8-6fd5-4f05-ae04-d3c3bf6bebfe",
   "metadata": {},
   "outputs": [],
   "source": [
    "# devtools::install_github('xuranw/MuSiC')"
   ]
  },
  {
   "cell_type": "code",
   "execution_count": 3,
   "id": "04101789-c2bd-4b61-8cee-0debd59c04b2",
   "metadata": {},
   "outputs": [
    {
     "data": {
      "text/html": [
       "<style>\n",
       ".list-inline {list-style: none; margin:0; padding: 0}\n",
       ".list-inline>li {display: inline-block}\n",
       ".list-inline>li:not(:last-child)::after {content: \"\\00b7\"; padding: 0 .5ex}\n",
       "</style>\n",
       "<ol class=list-inline><li>31053</li><li>3394</li></ol>\n"
      ],
      "text/latex": [
       "\\begin{enumerate*}\n",
       "\\item 31053\n",
       "\\item 3394\n",
       "\\end{enumerate*}\n"
      ],
      "text/markdown": [
       "1. 31053\n",
       "2. 3394\n",
       "\n",
       "\n"
      ],
      "text/plain": [
       "[1] 31053  3394"
      ]
     },
     "metadata": {},
     "output_type": "display_data"
    },
    {
     "data": {
      "text/html": [
       "<style>\n",
       ".list-inline {list-style: none; margin:0; padding: 0}\n",
       ".list-inline>li {display: inline-block}\n",
       ".list-inline>li:not(:last-child)::after {content: \"\\00b7\"; padding: 0 .5ex}\n",
       "</style>\n",
       "<ol class=list-inline><li>3394</li><li>2</li></ol>\n"
      ],
      "text/latex": [
       "\\begin{enumerate*}\n",
       "\\item 3394\n",
       "\\item 2\n",
       "\\end{enumerate*}\n"
      ],
      "text/markdown": [
       "1. 3394\n",
       "2. 2\n",
       "\n",
       "\n"
      ],
      "text/plain": [
       "[1] 3394    2"
      ]
     },
     "metadata": {},
     "output_type": "display_data"
    },
    {
     "data": {
      "text/html": [
       "<style>\n",
       ".list-inline {list-style: none; margin:0; padding: 0}\n",
       ".list-inline>li {display: inline-block}\n",
       ".list-inline>li:not(:last-child)::after {content: \"\\00b7\"; padding: 0 .5ex}\n",
       "</style>\n",
       "<ol class=list-inline><li>31053</li><li>6123</li></ol>\n"
      ],
      "text/latex": [
       "\\begin{enumerate*}\n",
       "\\item 31053\n",
       "\\item 6123\n",
       "\\end{enumerate*}\n"
      ],
      "text/markdown": [
       "1. 31053\n",
       "2. 6123\n",
       "\n",
       "\n"
      ],
      "text/plain": [
       "[1] 31053  6123"
      ]
     },
     "metadata": {},
     "output_type": "display_data"
    },
    {
     "data": {
      "text/html": [
       "<style>\n",
       ".list-inline {list-style: none; margin:0; padding: 0}\n",
       ".list-inline>li {display: inline-block}\n",
       ".list-inline>li:not(:last-child)::after {content: \"\\00b7\"; padding: 0 .5ex}\n",
       "</style>\n",
       "<ol class=list-inline><li>6123</li><li>3</li></ol>\n"
      ],
      "text/latex": [
       "\\begin{enumerate*}\n",
       "\\item 6123\n",
       "\\item 3\n",
       "\\end{enumerate*}\n"
      ],
      "text/markdown": [
       "1. 6123\n",
       "2. 3\n",
       "\n",
       "\n"
      ],
      "text/plain": [
       "[1] 6123    3"
      ]
     },
     "metadata": {},
     "output_type": "display_data"
    }
   ],
   "source": [
    "# load spatial data\n",
    "key = \"HFD14\"\n",
    "subId = \"macrophage_\"\n",
    "# subId = \"\"\n",
    "inputDir = \"/nfs/turbo/umms-indikar/shared/projects/spatial_transcriptomics/data/CARDInputs/\"\n",
    "\n",
    "sptPath = glue(\"{inputDir}{key}_{subId}spt.csv\")\n",
    "spt.df <- read.csv(sptPath)\n",
    "rownames(spt.df) <- spt.df[,1]\n",
    "spt.df <- spt.df[,-1]\n",
    "spt <- as.matrix(spt.df)\n",
    "dim(spt)\n",
    "\n",
    "# load spatial coordinates\n",
    "xyPath = glue(\"{inputDir}{key}_{subId}coords.csv\")\n",
    "xy.df <- read.csv(xyPath)\n",
    "rownames(xy.df) <- xy.df[,1]\n",
    "xy.df <- xy.df[,-1]\n",
    "dim(xy.df)\n",
    "\n",
    "# load the rna seq data\n",
    "rnaPath = glue(\"{inputDir}{key}_{subId}rna.csv\")\n",
    "rna.df <- read.csv(rnaPath)\n",
    "rownames(rna.df) <- rna.df[,1]\n",
    "rna.df <- rna.df[,-1]\n",
    "rna <- as.matrix(rna.df)\n",
    "dim(rna)\n",
    "\n",
    "# load the annotations\n",
    "metaPath = glue(\"{inputDir}{key}_{subId}clusters.csv\")\n",
    "meta.df <- read.csv(metaPath)\n",
    "rownames(meta.df) <- meta.df$cellId\n",
    "dim(meta.df)"
   ]
  },
  {
   "cell_type": "code",
   "execution_count": 4,
   "id": "8dfbedd2-e37f-4f64-af2e-ce37e1f55113",
   "metadata": {},
   "outputs": [
    {
     "name": "stdout",
     "output_type": "stream",
     "text": [
      "## QC on scRNASeq dataset! ...\n",
      "## QC on spatially-resolved dataset! ...\n"
     ]
    }
   ],
   "source": [
    "CARD_obj = createCARDObject(\n",
    "\tsc_count = rna,\n",
    "\tsc_meta = meta.df,\n",
    "\tspatial_count = spt,\n",
    "\tspatial_location = xy.df,\n",
    "\tct.varname = \"cellType\",\n",
    "\tct.select = unique(meta.df$cellType),\n",
    "\tsample.varname = \"sampleInfo\",\n",
    "\tminCountGene = 20,\n",
    "\tminCountSpot = 5)"
   ]
  },
  {
   "cell_type": "code",
   "execution_count": 5,
   "id": "daf4da26-34bf-4930-910a-a8d85459305d",
   "metadata": {},
   "outputs": [
    {
     "name": "stdout",
     "output_type": "stream",
     "text": [
      "## create reference matrix from scRNASeq...\n",
      "## Select Informative Genes! ...\n",
      "## Deconvolution Starts! ...\n",
      "## Deconvolution Finish! ...\n"
     ]
    }
   ],
   "source": [
    "CARD_obj = suppressMessages(CARD_deconvolution(CARD_object = CARD_obj))"
   ]
  },
  {
   "cell_type": "code",
   "execution_count": 6,
   "id": "2282b4fb-da66-404b-90df-db2e5f310686",
   "metadata": {},
   "outputs": [
    {
     "data": {
      "text/html": [
       "<style>\n",
       ".list-inline {list-style: none; margin:0; padding: 0}\n",
       ".list-inline>li {display: inline-block}\n",
       ".list-inline>li:not(:last-child)::after {content: \"\\00b7\"; padding: 0 .5ex}\n",
       "</style>\n",
       "<ol class=list-inline><li>3379</li><li>11</li></ol>\n"
      ],
      "text/latex": [
       "\\begin{enumerate*}\n",
       "\\item 3379\n",
       "\\item 11\n",
       "\\end{enumerate*}\n"
      ],
      "text/markdown": [
       "1. 3379\n",
       "2. 11\n",
       "\n",
       "\n"
      ],
      "text/plain": [
       "[1] 3379   11"
      ]
     },
     "metadata": {},
     "output_type": "display_data"
    },
    {
     "data": {
      "text/html": [
       "<table class=\"dataframe\">\n",
       "<caption>A data.frame: 6 × 11</caption>\n",
       "<thead>\n",
       "\t<tr><th></th><th scope=col>Dendritic cells</th><th scope=col>M2</th><th scope=col>Stromal cells</th><th scope=col>NK cells</th><th scope=col>M4</th><th scope=col>Monocytes</th><th scope=col>T cells</th><th scope=col>M1</th><th scope=col>M3</th><th scope=col>M5</th><th scope=col>B cells</th></tr>\n",
       "\t<tr><th></th><th scope=col>&lt;dbl&gt;</th><th scope=col>&lt;dbl&gt;</th><th scope=col>&lt;dbl&gt;</th><th scope=col>&lt;dbl&gt;</th><th scope=col>&lt;dbl&gt;</th><th scope=col>&lt;dbl&gt;</th><th scope=col>&lt;dbl&gt;</th><th scope=col>&lt;dbl&gt;</th><th scope=col>&lt;dbl&gt;</th><th scope=col>&lt;dbl&gt;</th><th scope=col>&lt;dbl&gt;</th></tr>\n",
       "</thead>\n",
       "<tbody>\n",
       "\t<tr><th scope=row>AAACAAGTATCTCCCA.1</th><td>6.609083e-02</td><td>0.05787368</td><td>0.14119645</td><td>0.2512506386</td><td>0.05216706</td><td>0.053113768</td><td>0.142571932</td><td>0.03124852</td><td>0.1109216895</td><td>0.037640209</td><td>0.05592522</td></tr>\n",
       "\t<tr><th scope=row>AAACACCAATAACTGC.1</th><td>7.894119e-02</td><td>0.10125149</td><td>0.23906337</td><td>0.0374099524</td><td>0.09190664</td><td>0.085746145</td><td>0.053560314</td><td>0.05831463</td><td>0.0763922769</td><td>0.086452668</td><td>0.09096131</td></tr>\n",
       "\t<tr><th scope=row>AAACAGCTTTCAGAAG.1</th><td>6.388492e-02</td><td>0.09890697</td><td>0.26986200</td><td>0.0664278129</td><td>0.10839508</td><td>0.041065957</td><td>0.044448141</td><td>0.07974858</td><td>0.0652622369</td><td>0.071909032</td><td>0.09008926</td></tr>\n",
       "\t<tr><th scope=row>AAACAGGGTCTATATT.1</th><td>6.413217e-02</td><td>0.08557910</td><td>0.23302810</td><td>0.0486626286</td><td>0.09105981</td><td>0.050020997</td><td>0.045736296</td><td>0.13526699</td><td>0.1160225175</td><td>0.057886140</td><td>0.07260526</td></tr>\n",
       "\t<tr><th scope=row>AAACAGTGTTCCTGGG.1</th><td>7.246742e-05</td><td>0.25658894</td><td>0.07265776</td><td>0.0008113058</td><td>0.02573907</td><td>0.004089391</td><td>0.001994555</td><td>0.45326727</td><td>0.0005892224</td><td>0.001166823</td><td>0.18302319</td></tr>\n",
       "\t<tr><th scope=row>AAACATGGTGAGAGGA.1</th><td>1.205011e-01</td><td>0.10052196</td><td>0.09207012</td><td>0.0639486807</td><td>0.10170900</td><td>0.079841546</td><td>0.064733148</td><td>0.12619941</td><td>0.0933368018</td><td>0.103073099</td><td>0.05406512</td></tr>\n",
       "</tbody>\n",
       "</table>\n"
      ],
      "text/latex": [
       "A data.frame: 6 × 11\n",
       "\\begin{tabular}{r|lllllllllll}\n",
       "  & Dendritic cells & M2 & Stromal cells & NK cells & M4 & Monocytes & T cells & M1 & M3 & M5 & B cells\\\\\n",
       "  & <dbl> & <dbl> & <dbl> & <dbl> & <dbl> & <dbl> & <dbl> & <dbl> & <dbl> & <dbl> & <dbl>\\\\\n",
       "\\hline\n",
       "\tAAACAAGTATCTCCCA.1 & 6.609083e-02 & 0.05787368 & 0.14119645 & 0.2512506386 & 0.05216706 & 0.053113768 & 0.142571932 & 0.03124852 & 0.1109216895 & 0.037640209 & 0.05592522\\\\\n",
       "\tAAACACCAATAACTGC.1 & 7.894119e-02 & 0.10125149 & 0.23906337 & 0.0374099524 & 0.09190664 & 0.085746145 & 0.053560314 & 0.05831463 & 0.0763922769 & 0.086452668 & 0.09096131\\\\\n",
       "\tAAACAGCTTTCAGAAG.1 & 6.388492e-02 & 0.09890697 & 0.26986200 & 0.0664278129 & 0.10839508 & 0.041065957 & 0.044448141 & 0.07974858 & 0.0652622369 & 0.071909032 & 0.09008926\\\\\n",
       "\tAAACAGGGTCTATATT.1 & 6.413217e-02 & 0.08557910 & 0.23302810 & 0.0486626286 & 0.09105981 & 0.050020997 & 0.045736296 & 0.13526699 & 0.1160225175 & 0.057886140 & 0.07260526\\\\\n",
       "\tAAACAGTGTTCCTGGG.1 & 7.246742e-05 & 0.25658894 & 0.07265776 & 0.0008113058 & 0.02573907 & 0.004089391 & 0.001994555 & 0.45326727 & 0.0005892224 & 0.001166823 & 0.18302319\\\\\n",
       "\tAAACATGGTGAGAGGA.1 & 1.205011e-01 & 0.10052196 & 0.09207012 & 0.0639486807 & 0.10170900 & 0.079841546 & 0.064733148 & 0.12619941 & 0.0933368018 & 0.103073099 & 0.05406512\\\\\n",
       "\\end{tabular}\n"
      ],
      "text/markdown": [
       "\n",
       "A data.frame: 6 × 11\n",
       "\n",
       "| <!--/--> | Dendritic cells &lt;dbl&gt; | M2 &lt;dbl&gt; | Stromal cells &lt;dbl&gt; | NK cells &lt;dbl&gt; | M4 &lt;dbl&gt; | Monocytes &lt;dbl&gt; | T cells &lt;dbl&gt; | M1 &lt;dbl&gt; | M3 &lt;dbl&gt; | M5 &lt;dbl&gt; | B cells &lt;dbl&gt; |\n",
       "|---|---|---|---|---|---|---|---|---|---|---|---|\n",
       "| AAACAAGTATCTCCCA.1 | 6.609083e-02 | 0.05787368 | 0.14119645 | 0.2512506386 | 0.05216706 | 0.053113768 | 0.142571932 | 0.03124852 | 0.1109216895 | 0.037640209 | 0.05592522 |\n",
       "| AAACACCAATAACTGC.1 | 7.894119e-02 | 0.10125149 | 0.23906337 | 0.0374099524 | 0.09190664 | 0.085746145 | 0.053560314 | 0.05831463 | 0.0763922769 | 0.086452668 | 0.09096131 |\n",
       "| AAACAGCTTTCAGAAG.1 | 6.388492e-02 | 0.09890697 | 0.26986200 | 0.0664278129 | 0.10839508 | 0.041065957 | 0.044448141 | 0.07974858 | 0.0652622369 | 0.071909032 | 0.09008926 |\n",
       "| AAACAGGGTCTATATT.1 | 6.413217e-02 | 0.08557910 | 0.23302810 | 0.0486626286 | 0.09105981 | 0.050020997 | 0.045736296 | 0.13526699 | 0.1160225175 | 0.057886140 | 0.07260526 |\n",
       "| AAACAGTGTTCCTGGG.1 | 7.246742e-05 | 0.25658894 | 0.07265776 | 0.0008113058 | 0.02573907 | 0.004089391 | 0.001994555 | 0.45326727 | 0.0005892224 | 0.001166823 | 0.18302319 |\n",
       "| AAACATGGTGAGAGGA.1 | 1.205011e-01 | 0.10052196 | 0.09207012 | 0.0639486807 | 0.10170900 | 0.079841546 | 0.064733148 | 0.12619941 | 0.0933368018 | 0.103073099 | 0.05406512 |\n",
       "\n"
      ],
      "text/plain": [
       "                   Dendritic cells M2         Stromal cells NK cells    \n",
       "AAACAAGTATCTCCCA.1 6.609083e-02    0.05787368 0.14119645    0.2512506386\n",
       "AAACACCAATAACTGC.1 7.894119e-02    0.10125149 0.23906337    0.0374099524\n",
       "AAACAGCTTTCAGAAG.1 6.388492e-02    0.09890697 0.26986200    0.0664278129\n",
       "AAACAGGGTCTATATT.1 6.413217e-02    0.08557910 0.23302810    0.0486626286\n",
       "AAACAGTGTTCCTGGG.1 7.246742e-05    0.25658894 0.07265776    0.0008113058\n",
       "AAACATGGTGAGAGGA.1 1.205011e-01    0.10052196 0.09207012    0.0639486807\n",
       "                   M4         Monocytes   T cells     M1         M3          \n",
       "AAACAAGTATCTCCCA.1 0.05216706 0.053113768 0.142571932 0.03124852 0.1109216895\n",
       "AAACACCAATAACTGC.1 0.09190664 0.085746145 0.053560314 0.05831463 0.0763922769\n",
       "AAACAGCTTTCAGAAG.1 0.10839508 0.041065957 0.044448141 0.07974858 0.0652622369\n",
       "AAACAGGGTCTATATT.1 0.09105981 0.050020997 0.045736296 0.13526699 0.1160225175\n",
       "AAACAGTGTTCCTGGG.1 0.02573907 0.004089391 0.001994555 0.45326727 0.0005892224\n",
       "AAACATGGTGAGAGGA.1 0.10170900 0.079841546 0.064733148 0.12619941 0.0933368018\n",
       "                   M5          B cells   \n",
       "AAACAAGTATCTCCCA.1 0.037640209 0.05592522\n",
       "AAACACCAATAACTGC.1 0.086452668 0.09096131\n",
       "AAACAGCTTTCAGAAG.1 0.071909032 0.09008926\n",
       "AAACAGGGTCTATATT.1 0.057886140 0.07260526\n",
       "AAACAGTGTTCCTGGG.1 0.001166823 0.18302319\n",
       "AAACATGGTGAGAGGA.1 0.103073099 0.05406512"
      ]
     },
     "metadata": {},
     "output_type": "display_data"
    }
   ],
   "source": [
    "props.df <- as.data.frame(CARD_obj@Proportion_CARD)\n",
    "\n",
    "outDir = \"/nfs/turbo/umms-indikar/shared/projects/spatial_transcriptomics/data/CARDOuputs/\"\n",
    "outpath = glue(\"{outDir}{key}_{subId}CARD.csv\")\n",
    "\n",
    "write.csv(props.df, \n",
    "          outpath, \n",
    "          row.names=TRUE)\n",
    "\n",
    "dim(props.df)\n",
    "\n",
    "head(props.df)"
   ]
  },
  {
   "cell_type": "code",
   "execution_count": 7,
   "id": "677ca92b-32f2-455c-ba46-b692ebbb3245",
   "metadata": {},
   "outputs": [],
   "source": [
    "# # pieViz <- function(proportion, spatial_location){\n",
    "# #     res_CARD = as.data.frame(proportion)\n",
    "# #     res_CARD = res_CARD[,mixedsort(colnames(res_CARD))]\n",
    "# #     location = as.data.frame(spatial_location) \n",
    "# #     colors = colorRampPalette(c(\"Blue\", \"Red\"))(ncol(res_CARD))\n",
    "# #     data = cbind(res_CARD,location)\n",
    "# #     ct.select = colnames(res_CARD)\n",
    "# #     p = ggplot() + \n",
    "# #         geom_scatterpie(aes(x=x, y=y, r = 1), \n",
    "# #                         data=data,\n",
    "# #                         cols=ct.select,color=NA) + \n",
    "# #         coord_fixed(ratio = 1) + \n",
    "# #         scale_fill_manual(values = colors) \n",
    "# #     return(p)\n",
    "    \n",
    "# # }\n",
    "\n",
    "# p <- CARD.visualize.pie(proportion = CARD_obj@Proportion_CARD,\n",
    "#                         spatial_location = CARD_obj@spatial_location)\n",
    "                   \n",
    "# ggsave(\"cardFigures/mixtures.png\",\n",
    "#        width = 50, \n",
    "#        height = 50, \n",
    "#        units = \"cm\")\n",
    "\n",
    "# print('done')"
   ]
  },
  {
   "cell_type": "code",
   "execution_count": 8,
   "id": "ca8cb70e-6ca9-4ebc-852d-34386be53a99",
   "metadata": {},
   "outputs": [
    {
     "name": "stdout",
     "output_type": "stream",
     "text": [
      "[1] \"done\"\n"
     ]
    }
   ],
   "source": [
    "visCells <- function(proportion, spatial_location, ct.visualize, colors, NumCols, pntSize){\n",
    "    res_CARD = as.data.frame(proportion)\n",
    "    res_CARD = res_CARD[,order(colnames(res_CARD))]\n",
    "    location = as.data.frame(spatial_location)\n",
    "    if(sum(rownames(res_CARD)==rownames(location))!= nrow(res_CARD)){\n",
    "    stop(\"The rownames of proportion data does not match with the rownames of spatial location data\")\n",
    "    }\n",
    "    ct.select = ct.visualize\n",
    "    res_CARD = res_CARD[,ct.select]\n",
    "    res_CARD_scale = as.data.frame(apply(res_CARD,2,function(x){\n",
    "    (x - min(x)) / (max(x) - min(x))\n",
    "    } ))\n",
    "    res_CARD_scale$x = as.numeric(location$x)\n",
    "    res_CARD_scale$y = as.numeric(location$y)\n",
    "    mData = melt(res_CARD_scale,id.vars = c(\"x\",\"y\"))\n",
    "    colnames(mData)[3] <- \"Cell_Type\"\n",
    "    b = c(0,1)\n",
    "    \n",
    "    p = ggplot(mData, aes(x, y))  +\n",
    "    geom_point(aes(colour = value), size = pntSize) +\n",
    "    scale_color_gradientn(colours = colors) + \n",
    "    scale_y_reverse() +\n",
    "    facet_wrap(~Cell_Type,ncol = NumCols)+ \n",
    "    coord_fixed()+\n",
    "    theme(axis.text = element_blank(),\n",
    "          axis.ticks = element_blank(),\n",
    "          axis.title = element_blank(),\n",
    "          panel.background = element_blank(),\n",
    "          plot.background = element_blank(),\n",
    "          panel.grid.major = element_blank(), \n",
    "          panel.grid.minor = element_blank(),\n",
    "         )\n",
    "    return(p)\n",
    "}\n",
    "\n",
    "p <- visCells(CARD_obj@Proportion_CARD,\n",
    "         CARD_obj@spatial_location,\n",
    "         unique(meta.df$cellType),\n",
    "         c(\"lightblue\",\"lightyellow\",\"red\"),\n",
    "         4, \n",
    "         0.1)\n",
    "\n",
    "figDir = \"cardFigures/\"\n",
    "outpath = glue(\"{figDir}{key}_{subId}spots.png\")\n",
    "ggsave(outpath,\n",
    "       width = 20, \n",
    "       height = 20, \n",
    "       units = \"cm\")\n",
    "\n",
    "print('done')"
   ]
  },
  {
   "cell_type": "code",
   "execution_count": 9,
   "id": "aa63bbc2-ea51-494c-8e14-b8bd2300e837",
   "metadata": {},
   "outputs": [
    {
     "name": "stdout",
     "output_type": "stream",
     "text": [
      "## The rownames of locations are matched ...\n",
      "## Make grids on new spatial locations ...\n",
      "[1] \"done\"\n"
     ]
    }
   ],
   "source": [
    "CARD_obj = CARD.imputation(CARD_obj,\n",
    "                           NumGrids = 10000,\n",
    "                           ineibor = 9,\n",
    "                           exclude = NULL)\n",
    "\n",
    "location_imputation = cbind.data.frame(x=as.numeric(sapply(strsplit(rownames(CARD_obj@refined_prop),split=\"x\"),\"[\",1)),\n",
    "                                       y=as.numeric(sapply(strsplit(rownames(CARD_obj@refined_prop),split=\"x\"),\"[\",2)))\n",
    "\n",
    "rownames(location_imputation) = rownames(CARD_obj@refined_prop)\n",
    "\n",
    "p <-visCells(\n",
    "\tCARD_obj@refined_prop,                         \n",
    "\tlocation_imputation,            \n",
    "\tunique(meta.df$cellType),                    \n",
    "\tc(\"lightblue\",\"lightyellow\",\"red\"),    \n",
    "\tNumCols = 4,\n",
    "    pntSize = 0.1)     \n",
    "\n",
    "outpath = glue(\"{figDir}{key}_{subId}imputed.png\")\n",
    "ggsave(outpath,\n",
    "       width = 20, \n",
    "       height = 20, \n",
    "       units = \"cm\")\n",
    "\n",
    "print('done')"
   ]
  },
  {
   "cell_type": "code",
   "execution_count": 10,
   "id": "2a3dceba-024c-462e-97ce-dad57e23dc0a",
   "metadata": {},
   "outputs": [
    {
     "data": {
      "text/html": [
       "<table class=\"dataframe\">\n",
       "<caption>A data.frame: 6 × 11</caption>\n",
       "<thead>\n",
       "\t<tr><th></th><th scope=col>Dendritic cells</th><th scope=col>M2</th><th scope=col>Stromal cells</th><th scope=col>NK cells</th><th scope=col>M4</th><th scope=col>Monocytes</th><th scope=col>T cells</th><th scope=col>M1</th><th scope=col>M3</th><th scope=col>M5</th><th scope=col>B cells</th></tr>\n",
       "\t<tr><th></th><th scope=col>&lt;dbl&gt;</th><th scope=col>&lt;dbl&gt;</th><th scope=col>&lt;dbl&gt;</th><th scope=col>&lt;dbl&gt;</th><th scope=col>&lt;dbl&gt;</th><th scope=col>&lt;dbl&gt;</th><th scope=col>&lt;dbl&gt;</th><th scope=col>&lt;dbl&gt;</th><th scope=col>&lt;dbl&gt;</th><th scope=col>&lt;dbl&gt;</th><th scope=col>&lt;dbl&gt;</th></tr>\n",
       "</thead>\n",
       "<tbody>\n",
       "\t<tr><th scope=row>578x440</th><td>0.04662988</td><td>0.08050022</td><td>0.3489978</td><td>0.04420550</td><td>0.07558710</td><td>0.04350186</td><td>0.04411267</td><td>0.1079657</td><td>0.05373999</td><td>0.07364373</td><td>0.08111553</td></tr>\n",
       "\t<tr><th scope=row>590x440</th><td>0.04662660</td><td>0.08048688</td><td>0.3487016</td><td>0.04419202</td><td>0.07568989</td><td>0.04355376</td><td>0.04412328</td><td>0.1080316</td><td>0.05375961</td><td>0.07374089</td><td>0.08109386</td></tr>\n",
       "\t<tr><th scope=row>542x452</th><td>0.04666679</td><td>0.08063758</td><td>0.3484923</td><td>0.04424773</td><td>0.07564804</td><td>0.04362384</td><td>0.04409389</td><td>0.1081120</td><td>0.05375909</td><td>0.07353274</td><td>0.08118594</td></tr>\n",
       "\t<tr><th scope=row>554x452</th><td>0.04667535</td><td>0.08059845</td><td>0.3484989</td><td>0.04425473</td><td>0.07564870</td><td>0.04361802</td><td>0.04410835</td><td>0.1080877</td><td>0.05377175</td><td>0.07354376</td><td>0.08119426</td></tr>\n",
       "\t<tr><th scope=row>566x452</th><td>0.04664370</td><td>0.08059012</td><td>0.3483407</td><td>0.04438912</td><td>0.07562706</td><td>0.04356843</td><td>0.04419545</td><td>0.1080428</td><td>0.05378446</td><td>0.07366592</td><td>0.08115221</td></tr>\n",
       "\t<tr><th scope=row>578x452</th><td>0.04669126</td><td>0.08049114</td><td>0.3483191</td><td>0.04424459</td><td>0.07571561</td><td>0.04358512</td><td>0.04417432</td><td>0.1080547</td><td>0.05382734</td><td>0.07371775</td><td>0.08117905</td></tr>\n",
       "</tbody>\n",
       "</table>\n"
      ],
      "text/latex": [
       "A data.frame: 6 × 11\n",
       "\\begin{tabular}{r|lllllllllll}\n",
       "  & Dendritic cells & M2 & Stromal cells & NK cells & M4 & Monocytes & T cells & M1 & M3 & M5 & B cells\\\\\n",
       "  & <dbl> & <dbl> & <dbl> & <dbl> & <dbl> & <dbl> & <dbl> & <dbl> & <dbl> & <dbl> & <dbl>\\\\\n",
       "\\hline\n",
       "\t578x440 & 0.04662988 & 0.08050022 & 0.3489978 & 0.04420550 & 0.07558710 & 0.04350186 & 0.04411267 & 0.1079657 & 0.05373999 & 0.07364373 & 0.08111553\\\\\n",
       "\t590x440 & 0.04662660 & 0.08048688 & 0.3487016 & 0.04419202 & 0.07568989 & 0.04355376 & 0.04412328 & 0.1080316 & 0.05375961 & 0.07374089 & 0.08109386\\\\\n",
       "\t542x452 & 0.04666679 & 0.08063758 & 0.3484923 & 0.04424773 & 0.07564804 & 0.04362384 & 0.04409389 & 0.1081120 & 0.05375909 & 0.07353274 & 0.08118594\\\\\n",
       "\t554x452 & 0.04667535 & 0.08059845 & 0.3484989 & 0.04425473 & 0.07564870 & 0.04361802 & 0.04410835 & 0.1080877 & 0.05377175 & 0.07354376 & 0.08119426\\\\\n",
       "\t566x452 & 0.04664370 & 0.08059012 & 0.3483407 & 0.04438912 & 0.07562706 & 0.04356843 & 0.04419545 & 0.1080428 & 0.05378446 & 0.07366592 & 0.08115221\\\\\n",
       "\t578x452 & 0.04669126 & 0.08049114 & 0.3483191 & 0.04424459 & 0.07571561 & 0.04358512 & 0.04417432 & 0.1080547 & 0.05382734 & 0.07371775 & 0.08117905\\\\\n",
       "\\end{tabular}\n"
      ],
      "text/markdown": [
       "\n",
       "A data.frame: 6 × 11\n",
       "\n",
       "| <!--/--> | Dendritic cells &lt;dbl&gt; | M2 &lt;dbl&gt; | Stromal cells &lt;dbl&gt; | NK cells &lt;dbl&gt; | M4 &lt;dbl&gt; | Monocytes &lt;dbl&gt; | T cells &lt;dbl&gt; | M1 &lt;dbl&gt; | M3 &lt;dbl&gt; | M5 &lt;dbl&gt; | B cells &lt;dbl&gt; |\n",
       "|---|---|---|---|---|---|---|---|---|---|---|---|\n",
       "| 578x440 | 0.04662988 | 0.08050022 | 0.3489978 | 0.04420550 | 0.07558710 | 0.04350186 | 0.04411267 | 0.1079657 | 0.05373999 | 0.07364373 | 0.08111553 |\n",
       "| 590x440 | 0.04662660 | 0.08048688 | 0.3487016 | 0.04419202 | 0.07568989 | 0.04355376 | 0.04412328 | 0.1080316 | 0.05375961 | 0.07374089 | 0.08109386 |\n",
       "| 542x452 | 0.04666679 | 0.08063758 | 0.3484923 | 0.04424773 | 0.07564804 | 0.04362384 | 0.04409389 | 0.1081120 | 0.05375909 | 0.07353274 | 0.08118594 |\n",
       "| 554x452 | 0.04667535 | 0.08059845 | 0.3484989 | 0.04425473 | 0.07564870 | 0.04361802 | 0.04410835 | 0.1080877 | 0.05377175 | 0.07354376 | 0.08119426 |\n",
       "| 566x452 | 0.04664370 | 0.08059012 | 0.3483407 | 0.04438912 | 0.07562706 | 0.04356843 | 0.04419545 | 0.1080428 | 0.05378446 | 0.07366592 | 0.08115221 |\n",
       "| 578x452 | 0.04669126 | 0.08049114 | 0.3483191 | 0.04424459 | 0.07571561 | 0.04358512 | 0.04417432 | 0.1080547 | 0.05382734 | 0.07371775 | 0.08117905 |\n",
       "\n"
      ],
      "text/plain": [
       "        Dendritic cells M2         Stromal cells NK cells   M4        \n",
       "578x440 0.04662988      0.08050022 0.3489978     0.04420550 0.07558710\n",
       "590x440 0.04662660      0.08048688 0.3487016     0.04419202 0.07568989\n",
       "542x452 0.04666679      0.08063758 0.3484923     0.04424773 0.07564804\n",
       "554x452 0.04667535      0.08059845 0.3484989     0.04425473 0.07564870\n",
       "566x452 0.04664370      0.08059012 0.3483407     0.04438912 0.07562706\n",
       "578x452 0.04669126      0.08049114 0.3483191     0.04424459 0.07571561\n",
       "        Monocytes  T cells    M1        M3         M5         B cells   \n",
       "578x440 0.04350186 0.04411267 0.1079657 0.05373999 0.07364373 0.08111553\n",
       "590x440 0.04355376 0.04412328 0.1080316 0.05375961 0.07374089 0.08109386\n",
       "542x452 0.04362384 0.04409389 0.1081120 0.05375909 0.07353274 0.08118594\n",
       "554x452 0.04361802 0.04410835 0.1080877 0.05377175 0.07354376 0.08119426\n",
       "566x452 0.04356843 0.04419545 0.1080428 0.05378446 0.07366592 0.08115221\n",
       "578x452 0.04358512 0.04417432 0.1080547 0.05382734 0.07371775 0.08117905"
      ]
     },
     "metadata": {},
     "output_type": "display_data"
    },
    {
     "data": {
      "text/html": [
       "<table class=\"dataframe\">\n",
       "<caption>A data.frame: 6 × 2</caption>\n",
       "<thead>\n",
       "\t<tr><th></th><th scope=col>x</th><th scope=col>y</th></tr>\n",
       "\t<tr><th></th><th scope=col>&lt;dbl&gt;</th><th scope=col>&lt;dbl&gt;</th></tr>\n",
       "</thead>\n",
       "<tbody>\n",
       "\t<tr><th scope=row>578x440</th><td>578</td><td>440</td></tr>\n",
       "\t<tr><th scope=row>590x440</th><td>590</td><td>440</td></tr>\n",
       "\t<tr><th scope=row>542x452</th><td>542</td><td>452</td></tr>\n",
       "\t<tr><th scope=row>554x452</th><td>554</td><td>452</td></tr>\n",
       "\t<tr><th scope=row>566x452</th><td>566</td><td>452</td></tr>\n",
       "\t<tr><th scope=row>578x452</th><td>578</td><td>452</td></tr>\n",
       "</tbody>\n",
       "</table>\n"
      ],
      "text/latex": [
       "A data.frame: 6 × 2\n",
       "\\begin{tabular}{r|ll}\n",
       "  & x & y\\\\\n",
       "  & <dbl> & <dbl>\\\\\n",
       "\\hline\n",
       "\t578x440 & 578 & 440\\\\\n",
       "\t590x440 & 590 & 440\\\\\n",
       "\t542x452 & 542 & 452\\\\\n",
       "\t554x452 & 554 & 452\\\\\n",
       "\t566x452 & 566 & 452\\\\\n",
       "\t578x452 & 578 & 452\\\\\n",
       "\\end{tabular}\n"
      ],
      "text/markdown": [
       "\n",
       "A data.frame: 6 × 2\n",
       "\n",
       "| <!--/--> | x &lt;dbl&gt; | y &lt;dbl&gt; |\n",
       "|---|---|---|\n",
       "| 578x440 | 578 | 440 |\n",
       "| 590x440 | 590 | 440 |\n",
       "| 542x452 | 542 | 452 |\n",
       "| 554x452 | 554 | 452 |\n",
       "| 566x452 | 566 | 452 |\n",
       "| 578x452 | 578 | 452 |\n",
       "\n"
      ],
      "text/plain": [
       "        x   y  \n",
       "578x440 578 440\n",
       "590x440 590 440\n",
       "542x452 542 452\n",
       "554x452 554 452\n",
       "566x452 566 452\n",
       "578x452 578 452"
      ]
     },
     "metadata": {},
     "output_type": "display_data"
    }
   ],
   "source": [
    "df <- as.data.frame(CARD_obj@refined_prop)\n",
    "head(df)\n",
    "\n",
    "head(location_imputation)"
   ]
  },
  {
   "cell_type": "code",
   "execution_count": 11,
   "id": "45a0920f-576c-4022-923b-82e6af663ea7",
   "metadata": {},
   "outputs": [
    {
     "data": {
      "text/html": [
       "<style>\n",
       ".list-inline {list-style: none; margin:0; padding: 0}\n",
       ".list-inline>li {display: inline-block}\n",
       ".list-inline>li:not(:last-child)::after {content: \"\\00b7\"; padding: 0 .5ex}\n",
       "</style>\n",
       "<ol class=list-inline><li>8221</li><li>11</li></ol>\n"
      ],
      "text/latex": [
       "\\begin{enumerate*}\n",
       "\\item 8221\n",
       "\\item 11\n",
       "\\end{enumerate*}\n"
      ],
      "text/markdown": [
       "1. 8221\n",
       "2. 11\n",
       "\n",
       "\n"
      ],
      "text/plain": [
       "[1] 8221   11"
      ]
     },
     "metadata": {},
     "output_type": "display_data"
    },
    {
     "data": {
      "text/html": [
       "<table class=\"dataframe\">\n",
       "<caption>A data.frame: 6 × 11</caption>\n",
       "<thead>\n",
       "\t<tr><th></th><th scope=col>Dendritic cells</th><th scope=col>M2</th><th scope=col>Stromal cells</th><th scope=col>NK cells</th><th scope=col>M4</th><th scope=col>Monocytes</th><th scope=col>T cells</th><th scope=col>M1</th><th scope=col>M3</th><th scope=col>M5</th><th scope=col>B cells</th></tr>\n",
       "\t<tr><th></th><th scope=col>&lt;dbl&gt;</th><th scope=col>&lt;dbl&gt;</th><th scope=col>&lt;dbl&gt;</th><th scope=col>&lt;dbl&gt;</th><th scope=col>&lt;dbl&gt;</th><th scope=col>&lt;dbl&gt;</th><th scope=col>&lt;dbl&gt;</th><th scope=col>&lt;dbl&gt;</th><th scope=col>&lt;dbl&gt;</th><th scope=col>&lt;dbl&gt;</th><th scope=col>&lt;dbl&gt;</th></tr>\n",
       "</thead>\n",
       "<tbody>\n",
       "\t<tr><th scope=row>578x440</th><td>0.04662988</td><td>0.08050022</td><td>0.3489978</td><td>0.04420550</td><td>0.07558710</td><td>0.04350186</td><td>0.04411267</td><td>0.1079657</td><td>0.05373999</td><td>0.07364373</td><td>0.08111553</td></tr>\n",
       "\t<tr><th scope=row>590x440</th><td>0.04662660</td><td>0.08048688</td><td>0.3487016</td><td>0.04419202</td><td>0.07568989</td><td>0.04355376</td><td>0.04412328</td><td>0.1080316</td><td>0.05375961</td><td>0.07374089</td><td>0.08109386</td></tr>\n",
       "\t<tr><th scope=row>542x452</th><td>0.04666679</td><td>0.08063758</td><td>0.3484923</td><td>0.04424773</td><td>0.07564804</td><td>0.04362384</td><td>0.04409389</td><td>0.1081120</td><td>0.05375909</td><td>0.07353274</td><td>0.08118594</td></tr>\n",
       "\t<tr><th scope=row>554x452</th><td>0.04667535</td><td>0.08059845</td><td>0.3484989</td><td>0.04425473</td><td>0.07564870</td><td>0.04361802</td><td>0.04410835</td><td>0.1080877</td><td>0.05377175</td><td>0.07354376</td><td>0.08119426</td></tr>\n",
       "\t<tr><th scope=row>566x452</th><td>0.04664370</td><td>0.08059012</td><td>0.3483407</td><td>0.04438912</td><td>0.07562706</td><td>0.04356843</td><td>0.04419545</td><td>0.1080428</td><td>0.05378446</td><td>0.07366592</td><td>0.08115221</td></tr>\n",
       "\t<tr><th scope=row>578x452</th><td>0.04669126</td><td>0.08049114</td><td>0.3483191</td><td>0.04424459</td><td>0.07571561</td><td>0.04358512</td><td>0.04417432</td><td>0.1080547</td><td>0.05382734</td><td>0.07371775</td><td>0.08117905</td></tr>\n",
       "</tbody>\n",
       "</table>\n"
      ],
      "text/latex": [
       "A data.frame: 6 × 11\n",
       "\\begin{tabular}{r|lllllllllll}\n",
       "  & Dendritic cells & M2 & Stromal cells & NK cells & M4 & Monocytes & T cells & M1 & M3 & M5 & B cells\\\\\n",
       "  & <dbl> & <dbl> & <dbl> & <dbl> & <dbl> & <dbl> & <dbl> & <dbl> & <dbl> & <dbl> & <dbl>\\\\\n",
       "\\hline\n",
       "\t578x440 & 0.04662988 & 0.08050022 & 0.3489978 & 0.04420550 & 0.07558710 & 0.04350186 & 0.04411267 & 0.1079657 & 0.05373999 & 0.07364373 & 0.08111553\\\\\n",
       "\t590x440 & 0.04662660 & 0.08048688 & 0.3487016 & 0.04419202 & 0.07568989 & 0.04355376 & 0.04412328 & 0.1080316 & 0.05375961 & 0.07374089 & 0.08109386\\\\\n",
       "\t542x452 & 0.04666679 & 0.08063758 & 0.3484923 & 0.04424773 & 0.07564804 & 0.04362384 & 0.04409389 & 0.1081120 & 0.05375909 & 0.07353274 & 0.08118594\\\\\n",
       "\t554x452 & 0.04667535 & 0.08059845 & 0.3484989 & 0.04425473 & 0.07564870 & 0.04361802 & 0.04410835 & 0.1080877 & 0.05377175 & 0.07354376 & 0.08119426\\\\\n",
       "\t566x452 & 0.04664370 & 0.08059012 & 0.3483407 & 0.04438912 & 0.07562706 & 0.04356843 & 0.04419545 & 0.1080428 & 0.05378446 & 0.07366592 & 0.08115221\\\\\n",
       "\t578x452 & 0.04669126 & 0.08049114 & 0.3483191 & 0.04424459 & 0.07571561 & 0.04358512 & 0.04417432 & 0.1080547 & 0.05382734 & 0.07371775 & 0.08117905\\\\\n",
       "\\end{tabular}\n"
      ],
      "text/markdown": [
       "\n",
       "A data.frame: 6 × 11\n",
       "\n",
       "| <!--/--> | Dendritic cells &lt;dbl&gt; | M2 &lt;dbl&gt; | Stromal cells &lt;dbl&gt; | NK cells &lt;dbl&gt; | M4 &lt;dbl&gt; | Monocytes &lt;dbl&gt; | T cells &lt;dbl&gt; | M1 &lt;dbl&gt; | M3 &lt;dbl&gt; | M5 &lt;dbl&gt; | B cells &lt;dbl&gt; |\n",
       "|---|---|---|---|---|---|---|---|---|---|---|---|\n",
       "| 578x440 | 0.04662988 | 0.08050022 | 0.3489978 | 0.04420550 | 0.07558710 | 0.04350186 | 0.04411267 | 0.1079657 | 0.05373999 | 0.07364373 | 0.08111553 |\n",
       "| 590x440 | 0.04662660 | 0.08048688 | 0.3487016 | 0.04419202 | 0.07568989 | 0.04355376 | 0.04412328 | 0.1080316 | 0.05375961 | 0.07374089 | 0.08109386 |\n",
       "| 542x452 | 0.04666679 | 0.08063758 | 0.3484923 | 0.04424773 | 0.07564804 | 0.04362384 | 0.04409389 | 0.1081120 | 0.05375909 | 0.07353274 | 0.08118594 |\n",
       "| 554x452 | 0.04667535 | 0.08059845 | 0.3484989 | 0.04425473 | 0.07564870 | 0.04361802 | 0.04410835 | 0.1080877 | 0.05377175 | 0.07354376 | 0.08119426 |\n",
       "| 566x452 | 0.04664370 | 0.08059012 | 0.3483407 | 0.04438912 | 0.07562706 | 0.04356843 | 0.04419545 | 0.1080428 | 0.05378446 | 0.07366592 | 0.08115221 |\n",
       "| 578x452 | 0.04669126 | 0.08049114 | 0.3483191 | 0.04424459 | 0.07571561 | 0.04358512 | 0.04417432 | 0.1080547 | 0.05382734 | 0.07371775 | 0.08117905 |\n",
       "\n"
      ],
      "text/plain": [
       "        Dendritic cells M2         Stromal cells NK cells   M4        \n",
       "578x440 0.04662988      0.08050022 0.3489978     0.04420550 0.07558710\n",
       "590x440 0.04662660      0.08048688 0.3487016     0.04419202 0.07568989\n",
       "542x452 0.04666679      0.08063758 0.3484923     0.04424773 0.07564804\n",
       "554x452 0.04667535      0.08059845 0.3484989     0.04425473 0.07564870\n",
       "566x452 0.04664370      0.08059012 0.3483407     0.04438912 0.07562706\n",
       "578x452 0.04669126      0.08049114 0.3483191     0.04424459 0.07571561\n",
       "        Monocytes  T cells    M1        M3         M5         B cells   \n",
       "578x440 0.04350186 0.04411267 0.1079657 0.05373999 0.07364373 0.08111553\n",
       "590x440 0.04355376 0.04412328 0.1080316 0.05375961 0.07374089 0.08109386\n",
       "542x452 0.04362384 0.04409389 0.1081120 0.05375909 0.07353274 0.08118594\n",
       "554x452 0.04361802 0.04410835 0.1080877 0.05377175 0.07354376 0.08119426\n",
       "566x452 0.04356843 0.04419545 0.1080428 0.05378446 0.07366592 0.08115221\n",
       "578x452 0.04358512 0.04417432 0.1080547 0.05382734 0.07371775 0.08117905"
      ]
     },
     "metadata": {},
     "output_type": "display_data"
    }
   ],
   "source": [
    "# save the high res file\n",
    "# head(location_imputation)\n",
    "\n",
    "props.df.refined <- as.data.frame(CARD_obj@refined_prop)\n",
    "\n",
    "outDir = \"/nfs/turbo/umms-indikar/shared/projects/spatial_transcriptomics/data/CARDOuputs/\"\n",
    "outpath = glue(\"{outDir}{key}_{subId}CARD_refined.csv\")\n",
    "\n",
    "write.csv(props.df, \n",
    "          outpath, \n",
    "          row.names=TRUE)\n",
    "\n",
    "dim(props.df.refined)\n",
    "head(props.df.refined)"
   ]
  },
  {
   "cell_type": "code",
   "execution_count": 12,
   "id": "f54fec6a-1af9-4095-adcd-6e986de764c6",
   "metadata": {},
   "outputs": [],
   "source": [
    "# pp <- CARD.visualize.gene(\n",
    "# \tspatial_expression = CARD_obj@refined_expression,\n",
    "# \tspatial_location = location_imputation,\n",
    "# \tgene.visualize = c(\"LPL\", \"RPL4\"),\n",
    "# \tcolors = NULL,\n",
    "# \tNumCols = 2)\n",
    "\n",
    "# ggsave(\"cardFigures/genes.png\",\n",
    "#        width = 20, \n",
    "#        height = 20, \n",
    "#        units = \"cm\")\n",
    "\n",
    "# print('done')"
   ]
  },
  {
   "cell_type": "code",
   "execution_count": 13,
   "id": "c57afcc3-480f-4e9d-9357-11bbeab239db",
   "metadata": {},
   "outputs": [],
   "source": [
    "# exp.df <- as.data.frame(rowSums(spt))\n",
    "# exp.df$names <- rownames(exp.df)\n",
    "# exp.df.sorted <- exp.df[order(exp.df$rowSums, decreasing = TRUE),]\n",
    "# head(exp.df.sorted, 20)"
   ]
  },
  {
   "cell_type": "code",
   "execution_count": 14,
   "id": "efe90ae8-3cc6-4732-9c58-46908c9126e7",
   "metadata": {},
   "outputs": [],
   "source": [
    "# ## select the cell type that we are interested\n",
    "# ct.visualize = unique(meta.df$cellType)\n",
    "\n",
    "# ## visualize the spatial distribution of the cell type proportion\n",
    "# p <- CARD.visualize.prop(\n",
    "# \tproportion = CARD_obj@Proportion_CARD,        \n",
    "# \tspatial_location = CARD_obj@spatial_location, \n",
    "# \tct.visualize = ct.visualize,\n",
    "#     colors = c(\"lightblue\",\"lightyellow\",\"red\"),\n",
    "#     NumCols=4\n",
    "# )\n",
    "\n",
    "# ggsave(\"test.png\", width = 20, height = 20, units = \"cm\")\n",
    "\n",
    "\n",
    "\n",
    "# # print(p2)"
   ]
  }
 ],
 "metadata": {
  "kernelspec": {
   "display_name": "R",
   "language": "R",
   "name": "ir"
  },
  "language_info": {
   "codemirror_mode": "r",
   "file_extension": ".r",
   "mimetype": "text/x-r-source",
   "name": "R",
   "pygments_lexer": "r",
   "version": "4.2.2"
  }
 },
 "nbformat": 4,
 "nbformat_minor": 5
}
