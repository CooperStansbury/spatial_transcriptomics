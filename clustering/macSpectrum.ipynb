{
 "cells": [
  {
   "cell_type": "code",
   "execution_count": 21,
   "id": "2fda9858-efbb-4a75-90fa-fda64b268dce",
   "metadata": {},
   "outputs": [
    {
     "data": {
      "text/plain": [
       "<module 'utils' from '/home/cstansbu/git_repositories/spatial_transcriptomics/clustering/utils.py'>"
      ]
     },
     "execution_count": 21,
     "metadata": {},
     "output_type": "execute_result"
    }
   ],
   "source": [
    "import os\n",
    "import pandas as pd\n",
    "import numpy as np\n",
    "import matplotlib \n",
    "import matplotlib.pyplot as plt\n",
    "import seaborn as sns\n",
    "from textwrap import wrap\n",
    "import scipy\n",
    "import scanpy as sc\n",
    "from mpl_toolkits.axes_grid1.axes_divider import make_axes_locatable\n",
    "from sklearn import metrics\n",
    "import itertools\n",
    "from sklearn.decomposition import PCA\n",
    "from sklearn.preprocessing import MinMaxScaler\n",
    "from scipy.sparse import csgraph\n",
    "import umap\n",
    "from sklearn import linear_model\n",
    "from collections import Counter\n",
    "import sklearn\n",
    "import scipy.stats as sps\n",
    "from scipy.spatial.distance import cdist\n",
    "from importlib import reload\n",
    "import mygene\n",
    "from io import StringIO\n",
    "from scipy.io import mmread\n",
    "\n",
    "import gget\n",
    "\n",
    "# locals\n",
    "import utils as ut\n",
    "reload(ut)"
   ]
  },
  {
   "cell_type": "code",
   "execution_count": 2,
   "id": "e23f6006-b060-43fd-a15a-47891a2c44f7",
   "metadata": {},
   "outputs": [
    {
     "name": "stdout",
     "output_type": "stream",
     "text": [
      "['B cells', 'Dendritic cells', 'Macrophages', 'Monocytes', 'NK cells', 'Stromal cells', 'T cells']\n",
      "\n",
      "ND...\n",
      "HFD8...\n",
      "HFD14...\n",
      "done\n"
     ]
    }
   ],
   "source": [
    "cardDir =  \"/nfs/turbo/umms-indikar/shared/projects/spatial_transcriptomics/data/CARDInputs/\"\n",
    "xyPath =  \"/nfs/turbo/umms-indikar/shared/projects/spatial_transcriptomics/data/combinedEmbedding.csv\"\n",
    "xy = pd.read_csv(xyPath)\n",
    "cTypes = sorted(list(xy['cellTypes'].unique()))\n",
    "xy['metaTypes'] = xy['cellTypes']\n",
    "print(cTypes)\n",
    "print()\n",
    "\n",
    "keys = ['ND', 'HFD8', 'HFD14']\n",
    "\n",
    "rna = {}\n",
    "labels = {}\n",
    "\n",
    "for key in keys:\n",
    "    print(f\"{key}...\")\n",
    "    labelPath = f\"{cardDir}{key}_macrophage_clusters.csv\"\n",
    "    lf = pd.read_csv(labelPath)\n",
    "    \n",
    "    lf = pd.merge(lf, xy[['x', 'y', 'cellId', 'colors', 'metaTypes']], \n",
    "                  how='left',\n",
    "                  left_on='cellId',\n",
    "                  right_on='cellId')\n",
    "    \n",
    "    labels[key] = lf\n",
    "    \n",
    "    rnaPath = f\"{cardDir}{key}_macrophage_rna.csv\"\n",
    "    rf = pd.read_csv(rnaPath)\n",
    "    rf = rf.T\n",
    "    new_header = rf.iloc[0] \n",
    "    rf = rf[1:] \n",
    "    rf.columns = new_header \n",
    "    rf.index.names = ['cellId']\n",
    "    \n",
    "    rf = ut.normalize(rf, 1e6)\n",
    "    \n",
    "    rna[key] = rf\n",
    "\n",
    "print('done')"
   ]
  },
  {
   "cell_type": "code",
   "execution_count": 39,
   "id": "7097df41-45d2-41ef-97cc-a677a4807155",
   "metadata": {},
   "outputs": [
    {
     "name": "stdout",
     "output_type": "stream",
     "text": [
      "done\n",
      "(1710, 27998)\n"
     ]
    }
   ],
   "source": [
    "# load the macspectrum data\n",
    "\n",
    "macDir = \"/nfs/turbo/umms-indikar/shared/projects/spatial_transcriptomics/data/macSpectrum/macspectrumData/GSE117176_RAW/\"\n",
    "\n",
    "msData = {}\n",
    "\n",
    "for mkey in os.listdir(macDir):\n",
    "    mtxPath = f\"{macDir}{mkey}\"\n",
    "    \n",
    "    data = sc.read_10x_mtx(mtxPath, \n",
    "                           var_names='gene_symbols', \n",
    "                           cache=True)\n",
    "    print('done')\n",
    "    \n",
    "    df = data.to_df()\n",
    "    print(df.shape)\n",
    "    # data.var_names = [x.upper() for x in data.var_names] # uppercase gene names\n",
    "    \n",
    "    # print(mkey, data.to_df().shape)\n",
    "    \n",
    "    break\n",
    "    # print(mkey, mtxPath)\n",
    "\n",
    "# for mkey, search in mkeys.items():\n",
    "    \n",
    "#     # matrix = mmread(f\"{macDir}{search}_matrix.mtx.gz\")\n",
    "#     # print(matrix.shape)\n",
    "    \n",
    "#     cellIds = pd.read_csv(f\"{macDir}{search}_barcodes.tsv.gz\",\n",
    "#                           sep=\"\\t\", compression='gzip')\n",
    "    \n",
    "#     geneIds = pd.read_csv(f\"{macDir}{search}_genes.tsv.gz\",\n",
    "#                           sep=\"\\t\", compression='gzip')\n",
    "\n",
    "#     print(geneIds.head())\n",
    "    \n",
    "#     break\n",
    "    \n",
    "    \n",
    "    # rowIndex =\n",
    "    # columns = \n",
    "    \n",
    "\n",
    "# for f in os.listdir(macDir):\n",
    "    \n",
    "#     for mkey in mkeys:\n",
    "#         if mkey in f:\n",
    "#             print(f)\n",
    "            \n",
    "            \n",
    "\n",
    "    # print(f)"
   ]
  },
  {
   "cell_type": "code",
   "execution_count": 14,
   "id": "92345a99-53bd-4a4f-ae7c-02e561b112cd",
   "metadata": {},
   "outputs": [
    {
     "name": "stdout",
     "output_type": "stream",
     "text": [
      "GSM3272970_M2_BMDM_matrix.mtx.gz\n",
      "GSM3272970_M2_BMDM_barcodes.tsv.gz\n",
      "GSM3272966_lnATM_genes.tsv.gz\n",
      "GSM3272966_lnATM_barcodes.tsv.gz\n",
      "GSM3272967_obATM_matrix.mtx.gz\n",
      "GSM3272966_lnATM_matrix.mtx.gz\n",
      "GSM3272969_M1_BMDM_genes.tsv.gz\n",
      "GSM3272969_M1_BMDM_barcodes.tsv.gz\n",
      "GSM3272968_M0_BMDM_genes.tsv.gz\n",
      "GSM3272968_M0_BMDM_barcodes.tsv.gz\n",
      "GSM3272968_M0_BMDM_matrix.mtx.gz\n",
      "GSM3272967_obATM_genes.tsv.gz\n",
      "GSM3272970_M2_BMDM_genes.tsv.gz\n",
      "GSM3272967_obATM_barcodes.tsv.gz\n",
      "GSM3272969_M1_BDMD_matrix.mtx.gz\n"
     ]
    }
   ],
   "source": [
    "\n",
    "for f in os.listdir(macDir):\n",
    "    print(f)"
   ]
  },
  {
   "cell_type": "code",
   "execution_count": 3,
   "id": "fe5dd330-84e9-4509-98a8-bdc38715a013",
   "metadata": {},
   "outputs": [
    {
     "ename": "SyntaxError",
     "evalue": "'break' outside loop (668683560.py, line 1)",
     "output_type": "error",
     "traceback": [
      "\u001b[0;36m  File \u001b[0;32m\"/tmp/ipykernel_3943480/668683560.py\"\u001b[0;36m, line \u001b[0;32m1\u001b[0m\n\u001b[0;31m    break\u001b[0m\n\u001b[0m    ^\u001b[0m\n\u001b[0;31mSyntaxError\u001b[0m\u001b[0;31m:\u001b[0m 'break' outside loop\n"
     ]
    }
   ],
   "source": [
    "break"
   ]
  },
  {
   "cell_type": "code",
   "execution_count": null,
   "id": "b0284121-ffd1-45cc-b346-8e8cc7975963",
   "metadata": {},
   "outputs": [],
   "source": []
  },
  {
   "cell_type": "code",
   "execution_count": null,
   "id": "7cdc2f3d-9fcd-4517-97c0-829c164e23e7",
   "metadata": {},
   "outputs": [],
   "source": []
  },
  {
   "cell_type": "code",
   "execution_count": null,
   "id": "9ca90001-19f4-45a4-81d2-f2d62e8f9186",
   "metadata": {},
   "outputs": [],
   "source": [
    "def getGroup(rna, labels, key, ctype):\n",
    "    rf = rna[key]\n",
    "    lf = labels[key]\n",
    "    lf = lf.drop_duplicates(subset='cellId')\n",
    "    \n",
    "    cellIds = lf[lf['cellType'] == ctype]['cellId'].to_list()\n",
    "    return rf[rf.index.isin(cellIds)]\n",
    "\n",
    "\n",
    "atm = getGroup(rna, labels, 'ND', 'Mac1')\n",
    "lam = getGroup(rna, labels, 'HFD14', 'Mac5')\n",
    "print(atm.shape, lam.shape)"
   ]
  },
  {
   "cell_type": "code",
   "execution_count": null,
   "id": "4435163f-10ef-4118-91ce-d77bd67908bb",
   "metadata": {},
   "outputs": [],
   "source": [
    "df = pd.concat([atm, lam])\n",
    "print(f\"{df.shape}\")\n",
    "X = df.to_numpy()\n",
    "\n",
    "print(f\"{X.shape=}\")\n",
    "\n",
    "y = np.array(([-1] * atm.shape[0]) + ([1] * lam.shape[0]))\n",
    "print(f\"{y.shape=}\")\n",
    "\n",
    "clf = linear_model.Lasso(alpha=0.075)\n",
    "\n",
    "# clf = sklearn.linear_model.LogisticRegression(penalty='l1',\n",
    "#                                               solver='liblinear',\n",
    "#                                               class_weight='balanced',\n",
    "#                                               C=0.1)\n",
    "\n",
    "clf.fit(X, y)\n",
    "clf.score(X, y)"
   ]
  },
  {
   "cell_type": "code",
   "execution_count": null,
   "id": "1e05d4fb-5af2-49dd-afdf-338f7b995e5a",
   "metadata": {},
   "outputs": [],
   "source": [
    "# # get genes with positive coefficients\n",
    "positiveGenes = list(atm.columns[np.argwhere(clf.coef_ > 0)].flatten())\n",
    "print(len(positiveGenes))\n",
    "\n",
    "positiveGenes[:10]"
   ]
  },
  {
   "cell_type": "code",
   "execution_count": null,
   "id": "b4c5cdd7-5582-4641-942c-68dbbc2791c7",
   "metadata": {},
   "outputs": [],
   "source": [
    "# # get genes with positive coefficients\n",
    "# positiveGenes = list(atm.columns[np.argwhere(clf.coef_ > 0)].flatten())\n",
    "# print(len(positiveGenes))\n",
    "\n",
    "\n",
    "# X = df[positiveGenes]\n",
    "# print(X.shape)\n",
    "\n",
    "# # compute the PCA \n",
    "# reducer = umap.UMAP()\n",
    "# embedding = reducer.fit_transform(X)\n",
    "# colors = list(([\"C0\"] * atm.shape[0]) + ([\"C3\"] * lam.shape[0]))\n",
    "\n",
    "# plt.scatter(\n",
    "#     embedding[:, 0],\n",
    "#     embedding[:, 1],\n",
    "#     c=colors,\n",
    "#     s=15,\n",
    "#     alpha=0.8,\n",
    "#     ec='k',\n",
    "# )"
   ]
  },
  {
   "cell_type": "code",
   "execution_count": null,
   "id": "a553a059-7e4b-4182-8b9f-1f25abf4bc59",
   "metadata": {},
   "outputs": [],
   "source": [
    "macTypes = [\n",
    "    'Mac1',\n",
    "    'Mac2',\n",
    "    'Mac3',\n",
    "    'Mac4',\n",
    "    'Mac5',\n",
    "]\n",
    "\n",
    "res = []\n",
    "\n",
    "for key in keys:\n",
    "    rf = rna[key]\n",
    "    lf = labels[key]\n",
    "    lf = lf.drop_duplicates(subset='cellId')\n",
    "    \n",
    "    # get macrophages\n",
    "    cellIds = lf[lf['cellType'].isin(macTypes)]['cellId'].to_list()\n",
    "    rf = rf[rf.index.isin(cellIds)]\n",
    "\n",
    "    X = rf.to_numpy()\n",
    "    \n",
    "    pred = pd.DataFrame(clf.predict(X), columns=['pol'])\n",
    "    pred['cellId'] = rf.index\n",
    "    pred['key'] = key\n",
    "    \n",
    "    pred = pd.merge(pred, lf[['cellId', 'cellType', 'x', 'y', 'metaTypes']], \n",
    "                   how='left', \n",
    "                   right_on='cellId',\n",
    "                   left_on='cellId')\n",
    "    \n",
    "    res.append(pred)\n",
    "\n",
    "res = pd.concat(res, ignore_index=True)\n",
    "print(f\"{res.shape=}\")\n",
    "res.head()"
   ]
  },
  {
   "cell_type": "code",
   "execution_count": null,
   "id": "875056f7-e6cb-4160-b771-b093343812d4",
   "metadata": {},
   "outputs": [],
   "source": [
    "pdf = res.copy()\n",
    "\n",
    "plt.rcParams['figure.dpi'] = 300\n",
    "plt.rcParams['figure.figsize'] = 4, 4\n",
    "plt.rcParams['figure.facecolor'] = \"w\"\n",
    "\n",
    "q = 0.05\n",
    "lb = np.percentile(pdf['pol'], q)\n",
    "up = np.percentile(pdf['pol'], 100-q)\n",
    "pdf = pdf[(pdf['pol'] > lb) & (pdf['pol'] < up)]\n",
    "\n",
    "sns.scatterplot(data=pdf, \n",
    "                x='x',\n",
    "                y='y',\n",
    "                hue='pol',\n",
    "                linewidths=0.5,\n",
    "                alpha=0.75,\n",
    "                s=5,\n",
    "                ec='k',\n",
    "                palette=plt.cm.get_cmap('RdYlGn', lut=10))"
   ]
  },
  {
   "cell_type": "code",
   "execution_count": null,
   "id": "4d20d0f8-c8cf-4469-92ea-4ab7120a450e",
   "metadata": {},
   "outputs": [],
   "source": []
  },
  {
   "cell_type": "code",
   "execution_count": null,
   "id": "296764cd-2642-4521-8099-11b31632f076",
   "metadata": {},
   "outputs": [],
   "source": []
  },
  {
   "cell_type": "code",
   "execution_count": null,
   "id": "4e3c1fcc-e383-4523-bccc-543ae91f6bbf",
   "metadata": {},
   "outputs": [],
   "source": []
  },
  {
   "cell_type": "code",
   "execution_count": null,
   "id": "821a1440-85a2-4917-ab77-51f312aabd21",
   "metadata": {},
   "outputs": [],
   "source": []
  },
  {
   "cell_type": "code",
   "execution_count": null,
   "id": "efc3f75e-ddc6-4c2f-ba8e-6a1ac86a0927",
   "metadata": {},
   "outputs": [],
   "source": []
  },
  {
   "cell_type": "code",
   "execution_count": null,
   "id": "6ca2eda8-035e-438e-9462-411d91734256",
   "metadata": {},
   "outputs": [],
   "source": []
  },
  {
   "cell_type": "code",
   "execution_count": null,
   "id": "949e8af8-5907-4fb9-9905-548700d7ae39",
   "metadata": {},
   "outputs": [],
   "source": []
  },
  {
   "cell_type": "code",
   "execution_count": null,
   "id": "4c6ad581-42e5-4b6b-ab37-0d663c771cf8",
   "metadata": {},
   "outputs": [],
   "source": []
  },
  {
   "cell_type": "code",
   "execution_count": null,
   "id": "06bbd964-6e62-479f-ae47-16d9294a7685",
   "metadata": {},
   "outputs": [],
   "source": []
  },
  {
   "cell_type": "code",
   "execution_count": null,
   "id": "06d0790f-a76e-4134-9976-4304a300af30",
   "metadata": {},
   "outputs": [],
   "source": []
  },
  {
   "cell_type": "code",
   "execution_count": null,
   "id": "942191f8-a6e9-4edf-a34c-8b168d9f9e42",
   "metadata": {},
   "outputs": [],
   "source": []
  },
  {
   "cell_type": "code",
   "execution_count": null,
   "id": "723e64f0-dee9-442a-9852-0c589f94883e",
   "metadata": {},
   "outputs": [],
   "source": []
  },
  {
   "cell_type": "code",
   "execution_count": null,
   "id": "d7e204a4-3467-443e-a694-7caf09cb2bd6",
   "metadata": {},
   "outputs": [],
   "source": []
  }
 ],
 "metadata": {
  "kernelspec": {
   "display_name": "Python 3 (ipykernel)",
   "language": "python",
   "name": "python3"
  },
  "language_info": {
   "codemirror_mode": {
    "name": "ipython",
    "version": 3
   },
   "file_extension": ".py",
   "mimetype": "text/x-python",
   "name": "python",
   "nbconvert_exporter": "python",
   "pygments_lexer": "ipython3",
   "version": "3.9.7"
  }
 },
 "nbformat": 4,
 "nbformat_minor": 5
}
