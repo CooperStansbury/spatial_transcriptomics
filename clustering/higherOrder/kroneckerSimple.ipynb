{
 "cells": [
  {
   "cell_type": "code",
   "execution_count": 43,
   "id": "b64ceee6-1451-4c09-87aa-95b11b333751",
   "metadata": {},
   "outputs": [],
   "source": [
    "import numpy as np\n",
    "import pandas\n",
    "import matplotlib.pyplot as plt"
   ]
  },
  {
   "cell_type": "code",
   "execution_count": 14,
   "id": "19499e4a-3a3d-4f5e-97db-6b0a4fa4c8f3",
   "metadata": {},
   "outputs": [
    {
     "name": "stdout",
     "output_type": "stream",
     "text": [
      "[3. 5.]\n",
      "\n",
      "[6. 0.]\n",
      "\n",
      "[18. 30.  0.  0.]\n"
     ]
    }
   ],
   "source": [
    "C = np.array([[3, 2],\n",
    "              [0, 5]])\n",
    "print(np.linalg.eig(C)[0])\n",
    "print()\n",
    "B = np.array([[6, 0],\n",
    "              [0, 0]])\n",
    "\n",
    "print(np.linalg.eig(B)[0])\n",
    "print()\n",
    "A = np.kron(B, C)\n",
    "print(np.linalg.eig(A)[0])"
   ]
  },
  {
   "cell_type": "code",
   "execution_count": 58,
   "id": "42927f06-7a00-4d82-afe8-248e149d9feb",
   "metadata": {},
   "outputs": [
    {
     "name": "stdout",
     "output_type": "stream",
     "text": [
      "B.shape=(5, 5) rank: 2\n",
      "C.shape=(5, 5) rank: 5\n"
     ]
    }
   ],
   "source": [
    "r = 3\n",
    "n = 10\n",
    "\n",
    "def makeRankR(r, n):\n",
    "    Arand = np.random.random((n, n))\n",
    "    u, s, vh = np.linalg.svd(Arand)\n",
    "    A = u[:, 0:r].dot(np.diag(s[0:r])).dot(vh[0:r, :])\n",
    "    return A\n",
    "    \n",
    "B = makeRankR(2, 5)\n",
    "C = makeRankR(5, 5)\n",
    "\n",
    "print(f\"{B.shape=} rank: {np.linalg.matrix_rank(B)}\")\n",
    "print(f\"{C.shape=} rank: {np.linalg.matrix_rank(C)}\")"
   ]
  },
  {
   "cell_type": "code",
   "execution_count": 56,
   "id": "ab504a2b-aa8b-486e-b6f1-e84c2c108628",
   "metadata": {},
   "outputs": [
    {
     "name": "stdout",
     "output_type": "stream",
     "text": [
      "A.shape=(25, 25) rank: 10\n"
     ]
    }
   ],
   "source": [
    "A = np.kron(B, C)\n",
    "print(f\"{A.shape=} rank: {np.linalg.matrix_rank(A)}\")"
   ]
  },
  {
   "cell_type": "code",
   "execution_count": null,
   "id": "7ba8bcb1-f8cd-4ce4-b84d-a43cbd0c6003",
   "metadata": {},
   "outputs": [],
   "source": []
  },
  {
   "cell_type": "code",
   "execution_count": null,
   "id": "c0d23214-02d9-4972-83ba-13ada1cf5414",
   "metadata": {},
   "outputs": [],
   "source": []
  },
  {
   "cell_type": "code",
   "execution_count": null,
   "id": "42d92b04-800e-47f8-ac71-0d4bcb5e745a",
   "metadata": {},
   "outputs": [],
   "source": []
  },
  {
   "cell_type": "code",
   "execution_count": 53,
   "id": "5cb4d933-57cb-46b8-a913-f2952ff8ccea",
   "metadata": {},
   "outputs": [
    {
     "data": {
      "text/plain": [
       "<matplotlib.image.AxesImage at 0x145717c35a30>"
      ]
     },
     "execution_count": 53,
     "metadata": {},
     "output_type": "execute_result"
    },
    {
     "data": {
      "image/png": "[encoded data removed]",
      "text/plain": [
       "<Figure size 432x288 with 1 Axes>"
      ]
     },
     "metadata": {
      "needs_background": "light"
     },
     "output_type": "display_data"
    }
   ],
   "source": [
    "plt.imshow(A)"
   ]
  },
  {
   "cell_type": "code",
   "execution_count": 46,
   "id": "39650404-e16d-47bb-90b3-20ecb95d7e4a",
   "metadata": {},
   "outputs": [
    {
     "data": {
      "text/plain": [
       "<matplotlib.image.AxesImage at 0x145717c8d040>"
      ]
     },
     "execution_count": 46,
     "metadata": {},
     "output_type": "execute_result"
    },
    {
     "data": {
      "image/png": "[encoded data removed]",
      "text/plain": [
       "<Figure size 432x288 with 1 Axes>"
      ]
     },
     "metadata": {
      "needs_background": "light"
     },
     "output_type": "display_data"
    }
   ],
   "source": [
    "plt.imshow(Arand)"
   ]
  },
  {
   "cell_type": "code",
   "execution_count": null,
   "id": "884487d4-252d-4d4b-a225-96622272e01b",
   "metadata": {},
   "outputs": [],
   "source": []
  }
 ],
 "metadata": {
  "kernelspec": {
   "display_name": "Python 3 (ipykernel)",
   "language": "python",
   "name": "python3"
  },
  "language_info": {
   "codemirror_mode": {
    "name": "ipython",
    "version": 3
   },
   "file_extension": ".py",
   "mimetype": "text/x-python",
   "name": "python",
   "nbconvert_exporter": "python",
   "pygments_lexer": "ipython3",
   "version": "3.9.7"
  }
 },
 "nbformat": 4,
 "nbformat_minor": 5
}
