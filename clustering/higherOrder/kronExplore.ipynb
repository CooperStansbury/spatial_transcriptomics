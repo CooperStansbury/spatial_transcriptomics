{
 "cells": [
  {
   "cell_type": "code",
   "execution_count": 1,
   "id": "7c44a4a1-c733-4d2c-adda-624420bb1ff0",
   "metadata": {},
   "outputs": [],
   "source": [
    "import pandas as pd\n",
    "import numpy as np\n",
    "import os\n",
    "import sys\n",
    "import matplotlib.pyplot as plt\n",
    "import seaborn as sns\n",
    "import gget\n",
    "\n",
    "from sklearn.feature_extraction.text import CountVectorizer\n",
    "\n",
    "import sys\n",
    "sys.path.append('../')\n",
    "import utils as ut"
   ]
  },
  {
   "cell_type": "code",
   "execution_count": 2,
   "id": "c58828c9-1c76-4e26-b2cf-809c2bcd0333",
   "metadata": {},
   "outputs": [
    {
     "data": {
      "text/plain": [
       "'2.0.1'"
      ]
     },
     "execution_count": 2,
     "metadata": {},
     "output_type": "execute_result"
    }
   ],
   "source": [
    "pd.__version__"
   ]
  },
  {
   "cell_type": "code",
   "execution_count": 2,
   "id": "6ebffc84-c191-4cd0-a0c0-230271073199",
   "metadata": {},
   "outputs": [
    {
     "name": "stdout",
     "output_type": "stream",
     "text": [
      "df.shape=(7482, 3)\n"
     ]
    },
    {
     "data": {
      "text/html": [
       "<div>\n",
       "<style scoped>\n",
       "    .dataframe tbody tr th:only-of-type {\n",
       "        vertical-align: middle;\n",
       "    }\n",
       "\n",
       "    .dataframe tbody tr th {\n",
       "        vertical-align: top;\n",
       "    }\n",
       "\n",
       "    .dataframe thead th {\n",
       "        text-align: right;\n",
       "    }\n",
       "</style>\n",
       "<table border=\"1\" class=\"dataframe\">\n",
       "  <thead>\n",
       "    <tr style=\"text-align: right;\">\n",
       "      <th></th>\n",
       "      <th>n1</th>\n",
       "      <th>n2</th>\n",
       "      <th>n3</th>\n",
       "    </tr>\n",
       "    <tr>\n",
       "      <th>index</th>\n",
       "      <th></th>\n",
       "      <th></th>\n",
       "      <th></th>\n",
       "    </tr>\n",
       "  </thead>\n",
       "  <tbody>\n",
       "    <tr>\n",
       "      <th>h0</th>\n",
       "      <td>[Stromal cells, ACADM]</td>\n",
       "      <td>[Stromal cells, HP]</td>\n",
       "      <td>[T cells, BC1]</td>\n",
       "    </tr>\n",
       "    <tr>\n",
       "      <th>h1</th>\n",
       "      <td>[Stromal cells, ACADM]</td>\n",
       "      <td>[Stromal cells, HP]</td>\n",
       "      <td>[T cells, ATP13A3]</td>\n",
       "    </tr>\n",
       "    <tr>\n",
       "      <th>h2</th>\n",
       "      <td>[Stromal cells, ACADM]</td>\n",
       "      <td>[Stromal cells, BC1]</td>\n",
       "      <td>[T cells, HP]</td>\n",
       "    </tr>\n",
       "    <tr>\n",
       "      <th>h3</th>\n",
       "      <td>[Stromal cells, ACADM]</td>\n",
       "      <td>[Stromal cells, ATP13A3]</td>\n",
       "      <td>[T cells, HP]</td>\n",
       "    </tr>\n",
       "    <tr>\n",
       "      <th>h4</th>\n",
       "      <td>[NK cells, TPM3]</td>\n",
       "      <td>[Stromal cells, HP]</td>\n",
       "      <td>[T cells, FTL1]</td>\n",
       "    </tr>\n",
       "  </tbody>\n",
       "</table>\n",
       "</div>"
      ],
      "text/plain": [
       "                           n1                        n2                  n3\n",
       "index                                                                      \n",
       "h0     [Stromal cells, ACADM]       [Stromal cells, HP]      [T cells, BC1]\n",
       "h1     [Stromal cells, ACADM]       [Stromal cells, HP]  [T cells, ATP13A3]\n",
       "h2     [Stromal cells, ACADM]      [Stromal cells, BC1]       [T cells, HP]\n",
       "h3     [Stromal cells, ACADM]  [Stromal cells, ATP13A3]       [T cells, HP]\n",
       "h4           [NK cells, TPM3]       [Stromal cells, HP]     [T cells, FTL1]"
      ]
     },
     "execution_count": 2,
     "metadata": {},
     "output_type": "execute_result"
    }
   ],
   "source": [
    "fpath = \"/nfs/turbo/umms-indikar/Joshua/Main/Projects/WoundHealing/SpatialData/04272023_edgeset.csv\"\n",
    "\n",
    "\n",
    "vertexPath = '/nfs/turbo/umms-indikar/Joshua/Main/Projects/WoundHealing/SpatialData/04272023_vertexLabels.txt'\n",
    "edgeMap = {i: x.strip().split(\" - \") for i, x in enumerate(open(vertexPath))}\n",
    "\n",
    "\n",
    "df = pd.read_csv(fpath, header=None, names=['n1', 'n2', 'n3'])\n",
    "index = [f\"h{i}\" for i in range(len(df))]\n",
    "df['index'] = index\n",
    "df = df.set_index('index')\n",
    "\n",
    "df['n1'] = df['n1'].map(edgeMap)\n",
    "df['n2'] = df['n2'].map(edgeMap)\n",
    "df['n3'] = df['n3'].map(edgeMap)\n",
    "\n",
    "print(f\"{df.shape=}\")\n",
    "df.head()"
   ]
  },
  {
   "cell_type": "code",
   "execution_count": 4,
   "id": "912b3d04-4d19-45da-a738-40944a574cee",
   "metadata": {},
   "outputs": [
    {
     "name": "stdout",
     "output_type": "stream",
     "text": [
      "0 n1\n",
      "1 n2\n",
      "2 n3\n",
      "hdf.shape=(7482, 6)\n"
     ]
    },
    {
     "data": {
      "text/html": [
       "<div>\n",
       "<style scoped>\n",
       "    .dataframe tbody tr th:only-of-type {\n",
       "        vertical-align: middle;\n",
       "    }\n",
       "\n",
       "    .dataframe tbody tr th {\n",
       "        vertical-align: top;\n",
       "    }\n",
       "\n",
       "    .dataframe thead th {\n",
       "        text-align: right;\n",
       "    }\n",
       "</style>\n",
       "<table border=\"1\" class=\"dataframe\">\n",
       "  <thead>\n",
       "    <tr style=\"text-align: right;\">\n",
       "      <th></th>\n",
       "      <th>c1</th>\n",
       "      <th>g1</th>\n",
       "      <th>c2</th>\n",
       "      <th>g2</th>\n",
       "      <th>c3</th>\n",
       "      <th>g3</th>\n",
       "    </tr>\n",
       "    <tr>\n",
       "      <th>index</th>\n",
       "      <th></th>\n",
       "      <th></th>\n",
       "      <th></th>\n",
       "      <th></th>\n",
       "      <th></th>\n",
       "      <th></th>\n",
       "    </tr>\n",
       "  </thead>\n",
       "  <tbody>\n",
       "    <tr>\n",
       "      <th>h0</th>\n",
       "      <td>Stromal cells</td>\n",
       "      <td>ACADM</td>\n",
       "      <td>Stromal cells</td>\n",
       "      <td>HP</td>\n",
       "      <td>T cells</td>\n",
       "      <td>BC1</td>\n",
       "    </tr>\n",
       "    <tr>\n",
       "      <th>h1</th>\n",
       "      <td>Stromal cells</td>\n",
       "      <td>ACADM</td>\n",
       "      <td>Stromal cells</td>\n",
       "      <td>HP</td>\n",
       "      <td>T cells</td>\n",
       "      <td>ATP13A3</td>\n",
       "    </tr>\n",
       "    <tr>\n",
       "      <th>h2</th>\n",
       "      <td>Stromal cells</td>\n",
       "      <td>ACADM</td>\n",
       "      <td>Stromal cells</td>\n",
       "      <td>BC1</td>\n",
       "      <td>T cells</td>\n",
       "      <td>HP</td>\n",
       "    </tr>\n",
       "    <tr>\n",
       "      <th>h3</th>\n",
       "      <td>Stromal cells</td>\n",
       "      <td>ACADM</td>\n",
       "      <td>Stromal cells</td>\n",
       "      <td>ATP13A3</td>\n",
       "      <td>T cells</td>\n",
       "      <td>HP</td>\n",
       "    </tr>\n",
       "    <tr>\n",
       "      <th>h4</th>\n",
       "      <td>NK cells</td>\n",
       "      <td>TPM3</td>\n",
       "      <td>Stromal cells</td>\n",
       "      <td>HP</td>\n",
       "      <td>T cells</td>\n",
       "      <td>FTL1</td>\n",
       "    </tr>\n",
       "  </tbody>\n",
       "</table>\n",
       "</div>"
      ],
      "text/plain": [
       "                  c1     g1             c2       g2       c3       g3\n",
       "index                                                                \n",
       "h0     Stromal cells  ACADM  Stromal cells       HP  T cells      BC1\n",
       "h1     Stromal cells  ACADM  Stromal cells       HP  T cells  ATP13A3\n",
       "h2     Stromal cells  ACADM  Stromal cells      BC1  T cells       HP\n",
       "h3     Stromal cells  ACADM  Stromal cells  ATP13A3  T cells       HP\n",
       "h4          NK cells   TPM3  Stromal cells       HP  T cells     FTL1"
      ]
     },
     "execution_count": 4,
     "metadata": {},
     "output_type": "execute_result"
    }
   ],
   "source": [
    "# get everything in it's own column\n",
    "\n",
    "hdf = []\n",
    "\n",
    "for i, c in enumerate(df.columns):\n",
    "    print(i, c)\n",
    "    \n",
    "    tdf = df[c].apply(pd.Series)\n",
    "    tdf.columns = [f'c{i+1}', f'g{i+1}']\n",
    "    hdf.append(tdf)\n",
    "    \n",
    "hdf = pd.concat(hdf, axis=1)\n",
    "print(f\"{hdf.shape=}\")\n",
    "hdf.head()"
   ]
  },
  {
   "cell_type": "code",
   "execution_count": 5,
   "id": "a9f77610-31eb-40b0-8efd-83d5c699b8d2",
   "metadata": {},
   "outputs": [
    {
     "data": {
      "text/html": [
       "<div>\n",
       "<style scoped>\n",
       "    .dataframe tbody tr th:only-of-type {\n",
       "        vertical-align: middle;\n",
       "    }\n",
       "\n",
       "    .dataframe tbody tr th {\n",
       "        vertical-align: top;\n",
       "    }\n",
       "\n",
       "    .dataframe thead th {\n",
       "        text-align: right;\n",
       "    }\n",
       "</style>\n",
       "<table border=\"1\" class=\"dataframe\">\n",
       "  <thead>\n",
       "    <tr style=\"text-align: right;\">\n",
       "      <th></th>\n",
       "      <th>c1</th>\n",
       "      <th>g1</th>\n",
       "      <th>c2</th>\n",
       "      <th>g2</th>\n",
       "      <th>c3</th>\n",
       "      <th>g3</th>\n",
       "      <th>cellCount</th>\n",
       "      <th>geneCount</th>\n",
       "    </tr>\n",
       "    <tr>\n",
       "      <th>index</th>\n",
       "      <th></th>\n",
       "      <th></th>\n",
       "      <th></th>\n",
       "      <th></th>\n",
       "      <th></th>\n",
       "      <th></th>\n",
       "      <th></th>\n",
       "      <th></th>\n",
       "    </tr>\n",
       "  </thead>\n",
       "  <tbody>\n",
       "    <tr>\n",
       "      <th>h0</th>\n",
       "      <td>Stromal cells</td>\n",
       "      <td>ACADM</td>\n",
       "      <td>Stromal cells</td>\n",
       "      <td>HP</td>\n",
       "      <td>T cells</td>\n",
       "      <td>BC1</td>\n",
       "      <td>2</td>\n",
       "      <td>3</td>\n",
       "    </tr>\n",
       "    <tr>\n",
       "      <th>h1</th>\n",
       "      <td>Stromal cells</td>\n",
       "      <td>ACADM</td>\n",
       "      <td>Stromal cells</td>\n",
       "      <td>HP</td>\n",
       "      <td>T cells</td>\n",
       "      <td>ATP13A3</td>\n",
       "      <td>2</td>\n",
       "      <td>3</td>\n",
       "    </tr>\n",
       "    <tr>\n",
       "      <th>h2</th>\n",
       "      <td>Stromal cells</td>\n",
       "      <td>ACADM</td>\n",
       "      <td>Stromal cells</td>\n",
       "      <td>BC1</td>\n",
       "      <td>T cells</td>\n",
       "      <td>HP</td>\n",
       "      <td>2</td>\n",
       "      <td>3</td>\n",
       "    </tr>\n",
       "    <tr>\n",
       "      <th>h3</th>\n",
       "      <td>Stromal cells</td>\n",
       "      <td>ACADM</td>\n",
       "      <td>Stromal cells</td>\n",
       "      <td>ATP13A3</td>\n",
       "      <td>T cells</td>\n",
       "      <td>HP</td>\n",
       "      <td>2</td>\n",
       "      <td>3</td>\n",
       "    </tr>\n",
       "    <tr>\n",
       "      <th>h4</th>\n",
       "      <td>NK cells</td>\n",
       "      <td>TPM3</td>\n",
       "      <td>Stromal cells</td>\n",
       "      <td>HP</td>\n",
       "      <td>T cells</td>\n",
       "      <td>FTL1</td>\n",
       "      <td>3</td>\n",
       "      <td>3</td>\n",
       "    </tr>\n",
       "  </tbody>\n",
       "</table>\n",
       "</div>"
      ],
      "text/plain": [
       "                  c1     g1             c2       g2       c3       g3   \n",
       "index                                                                   \n",
       "h0     Stromal cells  ACADM  Stromal cells       HP  T cells      BC1  \\\n",
       "h1     Stromal cells  ACADM  Stromal cells       HP  T cells  ATP13A3   \n",
       "h2     Stromal cells  ACADM  Stromal cells      BC1  T cells       HP   \n",
       "h3     Stromal cells  ACADM  Stromal cells  ATP13A3  T cells       HP   \n",
       "h4          NK cells   TPM3  Stromal cells       HP  T cells     FTL1   \n",
       "\n",
       "       cellCount  geneCount  \n",
       "index                        \n",
       "h0             2          3  \n",
       "h1             2          3  \n",
       "h2             2          3  \n",
       "h3             2          3  \n",
       "h4             3          3  "
      ]
     },
     "execution_count": 5,
     "metadata": {},
     "output_type": "execute_result"
    }
   ],
   "source": [
    "cellCols = ['c1', 'c2', 'c3']\n",
    "geneCols = ['g1', 'g2', 'g3']\n",
    "\n",
    "hdf['cellCount'] = hdf[cellCols].apply(lambda x: len(set(x)), axis=1)\n",
    "hdf['geneCount'] = hdf[geneCols].apply(lambda x: len(set(x)), axis=1)\n",
    "\n",
    "hdf.head()"
   ]
  },
  {
   "cell_type": "code",
   "execution_count": 6,
   "id": "0cb91b12-a484-47cf-83d1-8948e61d4572",
   "metadata": {},
   "outputs": [
    {
     "data": {
      "text/plain": [
       "count    7482.000000\n",
       "mean        2.990377\n",
       "std         0.097631\n",
       "min         2.000000\n",
       "25%         3.000000\n",
       "50%         3.000000\n",
       "75%         3.000000\n",
       "max         3.000000\n",
       "Name: cellCount, dtype: float64"
      ]
     },
     "execution_count": 6,
     "metadata": {},
     "output_type": "execute_result"
    }
   ],
   "source": [
    "hdf['cellCount'].describe()"
   ]
  },
  {
   "cell_type": "code",
   "execution_count": 7,
   "id": "2725e918-3d93-4a2c-8fd7-9fe0fc5db17a",
   "metadata": {},
   "outputs": [
    {
     "ename": "SyntaxError",
     "evalue": "'break' outside loop (668683560.py, line 1)",
     "output_type": "error",
     "traceback": [
      "\u001b[0;36m  File \u001b[0;32m\"/tmp/ipykernel_3940342/668683560.py\"\u001b[0;36m, line \u001b[0;32m1\u001b[0m\n\u001b[0;31m    break\u001b[0m\n\u001b[0m    ^\u001b[0m\n\u001b[0;31mSyntaxError\u001b[0m\u001b[0;31m:\u001b[0m 'break' outside loop\n"
     ]
    }
   ],
   "source": [
    "break"
   ]
  },
  {
   "cell_type": "code",
   "execution_count": null,
   "id": "6f591d17-dade-46eb-b791-d352ac271e77",
   "metadata": {},
   "outputs": [],
   "source": [
    "# any homogenous cell type hyperedges?\n",
    "pdf = hdf[hdf['cellCount'] == 2]\n",
    "print(f\"{pdf.shape=}\")\n",
    "pdf.head()"
   ]
  },
  {
   "cell_type": "code",
   "execution_count": null,
   "id": "c943273f-db56-451a-ac48-2cc5f80c4c8a",
   "metadata": {},
   "outputs": [],
   "source": [
    "# extract the hyperedges as \"sentences\"\n",
    "\n",
    "cols = cellCols + geneCols\n",
    "hdf = hdf[cols].astype(str)\n",
    "docs = hdf[cols].apply(lambda x: \" \".join(x[:6]), axis=1).to_list()\n",
    "\n",
    "count_model = CountVectorizer(ngram_range=(1,1)) # default unigram model\n",
    "X = count_model.fit_transform(docs)\n",
    "\n",
    "X[X > 0] = 1 # binarize\n",
    "Xc = (X.T * X) # this is co-occurrence matrix in sparse csr format\n",
    "Xc.setdiag(0) # sometimes you want to fill same word cooccurence to 0\n",
    "X = Xc.todense()\n",
    "print(f\"{X.shape=}\")\n",
    "\n",
    "indexMap = {v: k for k, v in count_model.vocabulary_.items()}\n",
    "\n",
    "# build the cooccurance matrix\n",
    "counts = pd.DataFrame(X)\n",
    "counts.columns = [indexMap[c] for c in counts.columns]\n",
    "counts.index = counts.index.map(indexMap)\n",
    "counts"
   ]
  },
  {
   "cell_type": "code",
   "execution_count": null,
   "id": "384bb19e-37b8-4311-8942-69b3648d123e",
   "metadata": {},
   "outputs": [],
   "source": [
    "plt.rcParams['figure.dpi'] = 300\n",
    "plt.rcParams['figure.figsize'] = 10, 10\n",
    "sns.heatmap(data=np.sqrt(counts),\n",
    "            square=True,\n",
    "            lw=0.05)"
   ]
  },
  {
   "cell_type": "code",
   "execution_count": null,
   "id": "784e7416-ac19-4796-8f78-5319966376eb",
   "metadata": {},
   "outputs": [],
   "source": [
    "db = 'ontology'\n",
    "db = 'KEGG_2019_Mouse'\n",
    "\n",
    "\n",
    "ef = gget.enrichr(counts.index.to_list(), database=db)\n",
    "ef.head()"
   ]
  },
  {
   "cell_type": "code",
   "execution_count": null,
   "id": "d4b679ac-2c23-422f-9b32-5efb31b9d962",
   "metadata": {},
   "outputs": [],
   "source": [
    "# load the incidence matrices directly\n",
    "\n",
    "gPath = \"/nfs/turbo/umms-indikar/shared/projects/spatial_transcriptomics/data/kronecker_stuff/B.csv\"\n",
    "\n",
    "G = pd.read_csv(gPath)\n",
    "G = G.set_index('gene')\n",
    "print(f\"{G.shape=}\")\n",
    "\n",
    "cPath = \"/nfs/turbo/umms-indikar/shared/projects/spatial_transcriptomics/data/kronecker_stuff/A.csv\"\n",
    "\n",
    "C = pd.read_csv(cPath)\n",
    "C = C.rename(columns={'Unnamed: 0' : 'cell'})\n",
    "C = C.set_index('cell')\n",
    "print(f\"{C.shape=}\")"
   ]
  },
  {
   "cell_type": "code",
   "execution_count": null,
   "id": "ff9a6481-bda9-44d0-bf85-64c913573d17",
   "metadata": {},
   "outputs": [],
   "source": [
    "G.tail()"
   ]
  },
  {
   "cell_type": "code",
   "execution_count": null,
   "id": "d2025771-31ea-4126-9a1d-c3e043c6b62d",
   "metadata": {},
   "outputs": [],
   "source": [
    "kid = \"04110\"\n",
    "kid = f\"mmu{kid}\"\n",
    "pathname = ut.getPathname(kid)\n",
    "print(f\"{pathname=}\")\n",
    "genes = ut.parseKEGG(kid)\n",
    "genes = [x.upper() for x in genes]\n",
    "genes = [x for x in genes if x in G.index]\n",
    "\n",
    "print(len(genes))\n"
   ]
  },
  {
   "cell_type": "code",
   "execution_count": null,
   "id": "bd03d382-3965-4cff-bb9a-251aa5f5fa69",
   "metadata": {},
   "outputs": [],
   "source": [
    "# Ghat = G[G.index.isin(genes)]\n",
    "# print(f\"{Ghat.shape=}\")\n",
    "\n",
    "# K = np.kron(C, Ghat)\n",
    "# print(f\"{K.shape=}\")"
   ]
  },
  {
   "cell_type": "code",
   "execution_count": null,
   "id": "b5e10a42-b0fc-4e10-a6db-af0630cda665",
   "metadata": {},
   "outputs": [],
   "source": []
  },
  {
   "cell_type": "code",
   "execution_count": null,
   "id": "9a9f30f4-3fc1-4428-8404-c44eadb1094f",
   "metadata": {},
   "outputs": [],
   "source": []
  },
  {
   "cell_type": "code",
   "execution_count": null,
   "id": "45276a40-dbfb-4389-bf31-f948397e2ef9",
   "metadata": {},
   "outputs": [],
   "source": [
    "break"
   ]
  },
  {
   "cell_type": "code",
   "execution_count": null,
   "id": "7441c6a2-9714-4007-8b8e-0a41b6c9a699",
   "metadata": {},
   "outputs": [],
   "source": []
  },
  {
   "cell_type": "code",
   "execution_count": null,
   "id": "e7cbd3ce-9c1b-4433-a151-cf99d35f1c10",
   "metadata": {},
   "outputs": [],
   "source": []
  },
  {
   "cell_type": "code",
   "execution_count": null,
   "id": "e066ed35-21bc-47bf-b850-023b4171e509",
   "metadata": {},
   "outputs": [],
   "source": [
    "A = np.random.random(size=(10, 2))\n",
    "B = np.random.random(size=(9, 3))\n",
    "\n",
    "print(f\"{A.shape=} {B.shape=}\")\n",
    "\n",
    "C = np.kron(A, B)\n",
    "print(f\"{C.shape=}\")"
   ]
  },
  {
   "cell_type": "code",
   "execution_count": null,
   "id": "c77725a2-faa2-4bd4-b8e1-50a66087932f",
   "metadata": {},
   "outputs": [],
   "source": [
    "3394 ** 2"
   ]
  },
  {
   "cell_type": "code",
   "execution_count": null,
   "id": "e0cc1e1c-e971-431c-a35d-81e9154a63f7",
   "metadata": {},
   "outputs": [],
   "source": [
    "# count_model.vocabulary_"
   ]
  },
  {
   "cell_type": "code",
   "execution_count": null,
   "id": "7a720e1f-75f0-4a5b-9948-110b9e4e33cc",
   "metadata": {},
   "outputs": [],
   "source": [
    "\n",
    "# ideas:\n",
    "#    1. TF - IDF\n"
   ]
  },
  {
   "cell_type": "code",
   "execution_count": null,
   "id": "24d028b1-569d-4602-bb55-d0034da24c88",
   "metadata": {},
   "outputs": [],
   "source": []
  }
 ],
 "metadata": {
  "kernelspec": {
   "display_name": "Python 3 (ipykernel)",
   "language": "python",
   "name": "python3"
  },
  "language_info": {
   "codemirror_mode": {
    "name": "ipython",
    "version": 3
   },
   "file_extension": ".py",
   "mimetype": "text/x-python",
   "name": "python",
   "nbconvert_exporter": "python",
   "pygments_lexer": "ipython3",
   "version": "3.9.7"
  }
 },
 "nbformat": 4,
 "nbformat_minor": 5
}
