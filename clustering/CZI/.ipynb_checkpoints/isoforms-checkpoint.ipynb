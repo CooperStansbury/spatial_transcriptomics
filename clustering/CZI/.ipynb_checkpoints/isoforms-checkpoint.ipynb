{
 "cells": [
  {
   "cell_type": "code",
   "execution_count": 1,
   "id": "028dee7a-d4f1-447c-bf2c-18668dce9119",
   "metadata": {},
   "outputs": [],
   "source": [
    "import pandas as pd\n",
    "import numpy as np\n",
    "import os\n",
    "import matplotlib.pyplot as plt\n",
    "import seaborn as sns\n",
    "import pyranges as pr\n",
    "from collections import Counter"
   ]
  },
  {
   "cell_type": "code",
   "execution_count": 2,
   "id": "33411b9b-29ce-4599-958a-c849ebfe619d",
   "metadata": {},
   "outputs": [
    {
     "name": "stdout",
     "output_type": "stream",
     "text": [
      "gf.shape=(1901238, 26)\n"
     ]
    },
    {
     "data": {
      "text/html": [
       "<div>\n",
       "<style scoped>\n",
       "    .dataframe tbody tr th:only-of-type {\n",
       "        vertical-align: middle;\n",
       "    }\n",
       "\n",
       "    .dataframe tbody tr th {\n",
       "        vertical-align: top;\n",
       "    }\n",
       "\n",
       "    .dataframe thead th {\n",
       "        text-align: right;\n",
       "    }\n",
       "</style>\n",
       "<table border=\"1\" class=\"dataframe\">\n",
       "  <thead>\n",
       "    <tr style=\"text-align: right;\">\n",
       "      <th></th>\n",
       "      <th>Chromosome</th>\n",
       "      <th>Source</th>\n",
       "      <th>Feature</th>\n",
       "      <th>Start</th>\n",
       "      <th>End</th>\n",
       "      <th>Score</th>\n",
       "      <th>Strand</th>\n",
       "      <th>Frame</th>\n",
       "      <th>gene_id</th>\n",
       "      <th>gene_version</th>\n",
       "      <th>...</th>\n",
       "      <th>transcript_source</th>\n",
       "      <th>transcript_biotype</th>\n",
       "      <th>tag</th>\n",
       "      <th>transcript_support_level</th>\n",
       "      <th>exon_number</th>\n",
       "      <th>exon_id</th>\n",
       "      <th>exon_version</th>\n",
       "      <th>ccds_id</th>\n",
       "      <th>protein_id</th>\n",
       "      <th>protein_version</th>\n",
       "    </tr>\n",
       "  </thead>\n",
       "  <tbody>\n",
       "    <tr>\n",
       "      <th>0</th>\n",
       "      <td>1</td>\n",
       "      <td>havana</td>\n",
       "      <td>gene</td>\n",
       "      <td>108344806</td>\n",
       "      <td>108347562</td>\n",
       "      <td>.</td>\n",
       "      <td>+</td>\n",
       "      <td>.</td>\n",
       "      <td>ENSMUSG00000104478</td>\n",
       "      <td>2</td>\n",
       "      <td>...</td>\n",
       "      <td>NaN</td>\n",
       "      <td>NaN</td>\n",
       "      <td>NaN</td>\n",
       "      <td>NaN</td>\n",
       "      <td>NaN</td>\n",
       "      <td>NaN</td>\n",
       "      <td>NaN</td>\n",
       "      <td>NaN</td>\n",
       "      <td>NaN</td>\n",
       "      <td>NaN</td>\n",
       "    </tr>\n",
       "    <tr>\n",
       "      <th>1</th>\n",
       "      <td>1</td>\n",
       "      <td>havana</td>\n",
       "      <td>transcript</td>\n",
       "      <td>108344806</td>\n",
       "      <td>108347562</td>\n",
       "      <td>.</td>\n",
       "      <td>+</td>\n",
       "      <td>.</td>\n",
       "      <td>ENSMUSG00000104478</td>\n",
       "      <td>2</td>\n",
       "      <td>...</td>\n",
       "      <td>havana</td>\n",
       "      <td>TEC</td>\n",
       "      <td>Ensembl_canonical</td>\n",
       "      <td>NA (assigned to previous version 1)</td>\n",
       "      <td>NaN</td>\n",
       "      <td>NaN</td>\n",
       "      <td>NaN</td>\n",
       "      <td>NaN</td>\n",
       "      <td>NaN</td>\n",
       "      <td>NaN</td>\n",
       "    </tr>\n",
       "    <tr>\n",
       "      <th>2</th>\n",
       "      <td>1</td>\n",
       "      <td>havana</td>\n",
       "      <td>exon</td>\n",
       "      <td>108344806</td>\n",
       "      <td>108347562</td>\n",
       "      <td>.</td>\n",
       "      <td>+</td>\n",
       "      <td>.</td>\n",
       "      <td>ENSMUSG00000104478</td>\n",
       "      <td>2</td>\n",
       "      <td>...</td>\n",
       "      <td>havana</td>\n",
       "      <td>TEC</td>\n",
       "      <td>Ensembl_canonical</td>\n",
       "      <td>NA (assigned to previous version 1)</td>\n",
       "      <td>1</td>\n",
       "      <td>ENSMUSE00001337335</td>\n",
       "      <td>2</td>\n",
       "      <td>NaN</td>\n",
       "      <td>NaN</td>\n",
       "      <td>NaN</td>\n",
       "    </tr>\n",
       "    <tr>\n",
       "      <th>3</th>\n",
       "      <td>1</td>\n",
       "      <td>havana</td>\n",
       "      <td>gene</td>\n",
       "      <td>6980783</td>\n",
       "      <td>6981446</td>\n",
       "      <td>.</td>\n",
       "      <td>+</td>\n",
       "      <td>.</td>\n",
       "      <td>ENSMUSG00000104385</td>\n",
       "      <td>2</td>\n",
       "      <td>...</td>\n",
       "      <td>NaN</td>\n",
       "      <td>NaN</td>\n",
       "      <td>NaN</td>\n",
       "      <td>NaN</td>\n",
       "      <td>NaN</td>\n",
       "      <td>NaN</td>\n",
       "      <td>NaN</td>\n",
       "      <td>NaN</td>\n",
       "      <td>NaN</td>\n",
       "      <td>NaN</td>\n",
       "    </tr>\n",
       "    <tr>\n",
       "      <th>4</th>\n",
       "      <td>1</td>\n",
       "      <td>havana</td>\n",
       "      <td>transcript</td>\n",
       "      <td>6980783</td>\n",
       "      <td>6981446</td>\n",
       "      <td>.</td>\n",
       "      <td>+</td>\n",
       "      <td>.</td>\n",
       "      <td>ENSMUSG00000104385</td>\n",
       "      <td>2</td>\n",
       "      <td>...</td>\n",
       "      <td>havana</td>\n",
       "      <td>processed_pseudogene</td>\n",
       "      <td>Ensembl_canonical</td>\n",
       "      <td>NA (assigned to previous version 1)</td>\n",
       "      <td>NaN</td>\n",
       "      <td>NaN</td>\n",
       "      <td>NaN</td>\n",
       "      <td>NaN</td>\n",
       "      <td>NaN</td>\n",
       "      <td>NaN</td>\n",
       "    </tr>\n",
       "  </tbody>\n",
       "</table>\n",
       "<p>5 rows × 26 columns</p>\n",
       "</div>"
      ],
      "text/plain": [
       "  Chromosome  Source     Feature      Start        End Score Strand Frame   \n",
       "0          1  havana        gene  108344806  108347562     .      +     .  \\\n",
       "1          1  havana  transcript  108344806  108347562     .      +     .   \n",
       "2          1  havana        exon  108344806  108347562     .      +     .   \n",
       "3          1  havana        gene    6980783    6981446     .      +     .   \n",
       "4          1  havana  transcript    6980783    6981446     .      +     .   \n",
       "\n",
       "              gene_id gene_version  ... transcript_source   \n",
       "0  ENSMUSG00000104478            2  ...               NaN  \\\n",
       "1  ENSMUSG00000104478            2  ...            havana   \n",
       "2  ENSMUSG00000104478            2  ...            havana   \n",
       "3  ENSMUSG00000104385            2  ...               NaN   \n",
       "4  ENSMUSG00000104385            2  ...            havana   \n",
       "\n",
       "     transcript_biotype                tag   \n",
       "0                   NaN                NaN  \\\n",
       "1                   TEC  Ensembl_canonical   \n",
       "2                   TEC  Ensembl_canonical   \n",
       "3                   NaN                NaN   \n",
       "4  processed_pseudogene  Ensembl_canonical   \n",
       "\n",
       "              transcript_support_level exon_number             exon_id   \n",
       "0                                  NaN         NaN                 NaN  \\\n",
       "1  NA (assigned to previous version 1)         NaN                 NaN   \n",
       "2  NA (assigned to previous version 1)           1  ENSMUSE00001337335   \n",
       "3                                  NaN         NaN                 NaN   \n",
       "4  NA (assigned to previous version 1)         NaN                 NaN   \n",
       "\n",
       "  exon_version ccds_id protein_id protein_version  \n",
       "0          NaN     NaN        NaN             NaN  \n",
       "1          NaN     NaN        NaN             NaN  \n",
       "2            2     NaN        NaN             NaN  \n",
       "3          NaN     NaN        NaN             NaN  \n",
       "4          NaN     NaN        NaN             NaN  \n",
       "\n",
       "[5 rows x 26 columns]"
      ]
     },
     "execution_count": 2,
     "metadata": {},
     "output_type": "execute_result"
    }
   ],
   "source": [
    "gtfPath = \"/nfs/turbo/umms-indikar/shared/projects/chan_zuckerberg_prelim/data/GTF/Mus_musculus.GRCm39.109.gtf.gz\"\n",
    "\n",
    "gr = pr.read_gtf(gtfPath)\n",
    "gf = gr.as_df()\n",
    "print(f\"{gf.shape=}\")\n",
    "gf.head()"
   ]
  },
  {
   "cell_type": "code",
   "execution_count": 26,
   "id": "aff4c9c3-6eaa-4f09-9618-566e034d7f37",
   "metadata": {},
   "outputs": [
    {
     "name": "stdout",
     "output_type": "stream",
     "text": [
      "kdf.shape=(287, 26)\n",
      "gx.shape=(13, 6)\n"
     ]
    },
    {
     "data": {
      "text/html": [
       "<div>\n",
       "<style scoped>\n",
       "    .dataframe tbody tr th:only-of-type {\n",
       "        vertical-align: middle;\n",
       "    }\n",
       "\n",
       "    .dataframe tbody tr th {\n",
       "        vertical-align: top;\n",
       "    }\n",
       "\n",
       "    .dataframe thead th {\n",
       "        text-align: right;\n",
       "    }\n",
       "</style>\n",
       "<table border=\"1\" class=\"dataframe\">\n",
       "  <thead>\n",
       "    <tr style=\"text-align: right;\">\n",
       "      <th></th>\n",
       "      <th>gene_name</th>\n",
       "      <th>transcript_id</th>\n",
       "      <th>transcript_name</th>\n",
       "      <th>transcript_biotype</th>\n",
       "      <th>protein_id</th>\n",
       "      <th>exon_number</th>\n",
       "    </tr>\n",
       "  </thead>\n",
       "  <tbody>\n",
       "    <tr>\n",
       "      <th>0</th>\n",
       "      <td>Ctsb</td>\n",
       "      <td>ENSMUST00000006235</td>\n",
       "      <td>Ctsb-201</td>\n",
       "      <td>protein_coding</td>\n",
       "      <td>ENSMUSP00000006235</td>\n",
       "      <td>9</td>\n",
       "    </tr>\n",
       "    <tr>\n",
       "      <th>1</th>\n",
       "      <td>Ctsl</td>\n",
       "      <td>ENSMUST00000021933</td>\n",
       "      <td>Ctsl-201</td>\n",
       "      <td>protein_coding</td>\n",
       "      <td>ENSMUSP00000021933</td>\n",
       "      <td>7</td>\n",
       "    </tr>\n",
       "    <tr>\n",
       "      <th>2</th>\n",
       "      <td>Ctsl</td>\n",
       "      <td>ENSMUST00000220737</td>\n",
       "      <td>Ctsl-203</td>\n",
       "      <td>protein_coding</td>\n",
       "      <td>ENSMUSP00000152551</td>\n",
       "      <td>4</td>\n",
       "    </tr>\n",
       "    <tr>\n",
       "      <th>3</th>\n",
       "      <td>Ctsl</td>\n",
       "      <td>ENSMUST00000222462</td>\n",
       "      <td>Ctsl-204</td>\n",
       "      <td>protein_coding</td>\n",
       "      <td>ENSMUSP00000152497</td>\n",
       "      <td>5</td>\n",
       "    </tr>\n",
       "    <tr>\n",
       "      <th>4</th>\n",
       "      <td>Ctsl</td>\n",
       "      <td>ENSMUST00000222517</td>\n",
       "      <td>Ctsl-205</td>\n",
       "      <td>protein_coding</td>\n",
       "      <td>ENSMUSP00000152169</td>\n",
       "      <td>7</td>\n",
       "    </tr>\n",
       "  </tbody>\n",
       "</table>\n",
       "</div>"
      ],
      "text/plain": [
       "  gene_name       transcript_id transcript_name transcript_biotype   \n",
       "0      Ctsb  ENSMUST00000006235        Ctsb-201     protein_coding  \\\n",
       "1      Ctsl  ENSMUST00000021933        Ctsl-201     protein_coding   \n",
       "2      Ctsl  ENSMUST00000220737        Ctsl-203     protein_coding   \n",
       "3      Ctsl  ENSMUST00000222462        Ctsl-204     protein_coding   \n",
       "4      Ctsl  ENSMUST00000222517        Ctsl-205     protein_coding   \n",
       "\n",
       "           protein_id  exon_number  \n",
       "0  ENSMUSP00000006235            9  \n",
       "1  ENSMUSP00000021933            7  \n",
       "2  ENSMUSP00000152551            4  \n",
       "3  ENSMUSP00000152497            5  \n",
       "4  ENSMUSP00000152169            7  "
      ]
     },
     "execution_count": 26,
     "metadata": {},
     "output_type": "execute_result"
    }
   ],
   "source": [
    "# query\n",
    "\n",
    "query = ['Lamp2', \n",
    "         'Gpnmb',\n",
    "         'Ctsl', \n",
    "         'Ctsb']\n",
    "\n",
    "kdf = gf[gf['gene_name'].isin(query)]\n",
    "print(f\"{kdf.shape=}\")\n",
    "\n",
    "gx = kdf.groupby(['gene_name',\n",
    "                  'transcript_id', \n",
    "                  'transcript_name', \n",
    "                  'transcript_biotype', \n",
    "                  'protein_id'])['exon_number'].nunique().reset_index()\n",
    "print(f\"{gx.shape=}\")\n",
    "\n",
    "gx.to_csv(\"./lysosome_isoforms.csv\", index=False)\n",
    "gx.head()"
   ]
  },
  {
   "cell_type": "code",
   "execution_count": 47,
   "id": "d3f2cba7-e7e9-46ad-a5cb-a6b6f0b6810f",
   "metadata": {},
   "outputs": [
    {
     "name": "stdout",
     "output_type": "stream",
     "text": [
      "len(han)=482\n",
      "len(li)=458\n"
     ]
    },
    {
     "data": {
      "text/plain": [
       "140"
      ]
     },
     "execution_count": 47,
     "metadata": {},
     "output_type": "execute_result"
    }
   ],
   "source": [
    "# compairison of splicing factor lists \n",
    "\n",
    "han = [x.strip() for x in open(\"Han2017_splicing_factors.txt\")]\n",
    "print(f\"{len(han)=}\")\n",
    "\n",
    "li = [x.split(\",\") for x in open(\"Li2017_splicing_factors_all.txt\")]\n",
    "li = [item.strip() for sublist in li for item in sublist]\n",
    "print(f\"{len(li)=}\")\n",
    "\n",
    "len([x for x in li if not x in han])"
   ]
  },
  {
   "cell_type": "code",
   "execution_count": 48,
   "id": "7afd05a5-65f4-40e9-b83d-33771b64e4da",
   "metadata": {},
   "outputs": [
    {
     "data": {
      "text/plain": [
       "271"
      ]
     },
     "execution_count": 48,
     "metadata": {},
     "output_type": "execute_result"
    }
   ],
   "source": [
    "len([x for x in han if not x in li])"
   ]
  },
  {
   "cell_type": "code",
   "execution_count": 49,
   "id": "b1c51828-9ca1-4cb5-87c5-6b36c213938e",
   "metadata": {},
   "outputs": [
    {
     "data": {
      "text/plain": [
       "570"
      ]
     },
     "execution_count": 49,
     "metadata": {},
     "output_type": "execute_result"
    }
   ],
   "source": [
    "allsf = list(set(han + li))\n",
    "len(allsf)"
   ]
  },
  {
   "cell_type": "code",
   "execution_count": 41,
   "id": "a531092b-b168-4b1c-9b5f-2385b703ff8a",
   "metadata": {},
   "outputs": [
    {
     "data": {
      "text/plain": [
       "['Hspa5', 'Hspa8']"
      ]
     },
     "execution_count": 41,
     "metadata": {},
     "output_type": "execute_result"
    }
   ],
   "source": [
    "[x for x in han if \"Hspa\" in x]"
   ]
  },
  {
   "cell_type": "code",
   "execution_count": null,
   "id": "f735abd4-e64c-49c4-b3e8-c07ff0e51df1",
   "metadata": {},
   "outputs": [],
   "source": []
  },
  {
   "cell_type": "code",
   "execution_count": null,
   "id": "228354e7-2753-4658-bc92-522a73bb63bf",
   "metadata": {},
   "outputs": [],
   "source": []
  },
  {
   "cell_type": "code",
   "execution_count": null,
   "id": "95a6bd4d-910c-41ec-9b78-f52fb21f8bb5",
   "metadata": {},
   "outputs": [],
   "source": []
  },
  {
   "cell_type": "code",
   "execution_count": null,
   "id": "01897824-b068-40ff-ad8f-132d994e3be6",
   "metadata": {},
   "outputs": [],
   "source": []
  },
  {
   "cell_type": "code",
   "execution_count": null,
   "id": "1f95ea1a-5562-45fb-a2d6-f660fb6d515b",
   "metadata": {},
   "outputs": [],
   "source": []
  },
  {
   "cell_type": "code",
   "execution_count": 22,
   "id": "477f43de-3fc9-4bfd-a232-f72c602e78c7",
   "metadata": {},
   "outputs": [
    {
     "name": "stdout",
     "output_type": "stream",
     "text": [
      "/home/cstansbu/git_repositories/spatial_transcriptomics/clustering\n"
     ]
    }
   ],
   "source": [
    "!pwd"
   ]
  },
  {
   "cell_type": "code",
   "execution_count": null,
   "id": "65ec61e6-2561-4ac8-aac5-f874fa94b00c",
   "metadata": {},
   "outputs": [],
   "source": []
  },
  {
   "cell_type": "code",
   "execution_count": null,
   "id": "0d1eee33-8028-48c7-ae53-087f1c4721ac",
   "metadata": {},
   "outputs": [],
   "source": [
    "\"\"\" filter out the genes and the protein_coding genes \"\"\"\n",
    "\n",
    "kdf = gf[gf['Feature'] == 'gene']\n",
    "kdf = kdf[kdf['gene_biotype'] == 'protein_coding']\n",
    "print(f\"{kdf.shape=}\")\n",
    "kdf.head()"
   ]
  }
 ],
 "metadata": {
  "kernelspec": {
   "display_name": "Python 3 (ipykernel)",
   "language": "python",
   "name": "python3"
  },
  "language_info": {
   "codemirror_mode": {
    "name": "ipython",
    "version": 3
   },
   "file_extension": ".py",
   "mimetype": "text/x-python",
   "name": "python",
   "nbconvert_exporter": "python",
   "pygments_lexer": "ipython3",
   "version": "3.9.7"
  }
 },
 "nbformat": 4,
 "nbformat_minor": 5
}
