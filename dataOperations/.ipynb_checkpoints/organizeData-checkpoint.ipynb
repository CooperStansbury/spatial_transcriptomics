{
 "cells": [
  {
   "cell_type": "code",
   "execution_count": 2,
   "id": "b25b46bf-ab87-4eff-8e34-2a8b92357371",
   "metadata": {},
   "outputs": [],
   "source": [
    "import pandas as pd\n",
    "import numpy as np\n",
    "import os\n",
    "import sys\n",
    "from scipy.io import mmread"
   ]
  },
  {
   "cell_type": "code",
   "execution_count": null,
   "id": "9a79c530-fdfb-4d04-ace4-fe531ef59fb8",
   "metadata": {},
   "outputs": [
    {
     "name": "stdout",
     "output_type": "stream",
     "text": [
      "working HFD14...\n",
      "(31061, 7146)\n",
      "done HFD14\n",
      "\n",
      "working ND...\n",
      "(31061, 1414)\n",
      "done ND\n",
      "\n",
      "working HFD8...\n"
     ]
    }
   ],
   "source": [
    "def loadscData(directory):\n",
    "    \"\"\"A fucntion to load filtered CellRanger outputs \"\"\"\n",
    "    barcodesPath = f\"{directory}/barcodes.tsv.gz\" \n",
    "    featuresPath = f\"{directory}/features.tsv.gz\" \n",
    "    matrixPath = f\"{directory}/matrix.mtx.gz\"\n",
    "    \n",
    "    # load the UMIs\n",
    "    barcodes = pd.read_csv(barcodesPath, \n",
    "                           header=None,\n",
    "                           sep=\"\\t\", \n",
    "                           compression='gzip')[0].to_list()\n",
    "    \n",
    "    # note that the first column is ensemble IDS, we grab gene names\n",
    "    features = pd.read_csv(featuresPath, \n",
    "                           header=None,\n",
    "                           sep=\"\\t\", \n",
    "                           compression='gzip')[1].to_list()\n",
    "    \n",
    "    # load the whole matrix, which is huge\n",
    "    mat = mmread(matrixPath).todense()\n",
    "    df = pd.DataFrame(mat)\n",
    "    del mat\n",
    "    df.index = features\n",
    "    df.columns = barcodes\n",
    "    return df\n",
    "\n",
    "\n",
    "dataDir = \"/nfs/turbo/umms-indikar/shared/projects/spatial_transcriptomics/data/scRNAseq/\"\n",
    "newDir = \"/nfs/turbo/umms-indikar/shared/projects/spatial_transcriptomics/data/scRNAseq/all/\"\n",
    "for subd in os.listdir(dataDir):\n",
    "    if not subd == \"all\":\n",
    "        print(f\"working {subd}...\")\n",
    "        subdPath = f\"{dataDir}{subd}\"\n",
    "        fileName = f\"{newDir}{subd}.pq\"\n",
    "        df = loadscData(subdPath)\n",
    "        print(df.shape)\n",
    "        df.to_parquet(fileName)\n",
    "        print(f\"done {subd}\\n\")"
   ]
  },
  {
   "cell_type": "code",
   "execution_count": null,
   "id": "65bb2a9c-3f13-40df-8d1a-69a7c470e677",
   "metadata": {},
   "outputs": [],
   "source": []
  }
 ],
 "metadata": {
  "kernelspec": {
   "display_name": "Python 3 (ipykernel)",
   "language": "python",
   "name": "python3"
  },
  "language_info": {
   "codemirror_mode": {
    "name": "ipython",
    "version": 3
   },
   "file_extension": ".py",
   "mimetype": "text/x-python",
   "name": "python",
   "nbconvert_exporter": "python",
   "pygments_lexer": "ipython3",
   "version": "3.9.7"
  }
 },
 "nbformat": 4,
 "nbformat_minor": 5
}
